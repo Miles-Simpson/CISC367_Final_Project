{
 "cells": [
  {
   "cell_type": "markdown",
   "source": "\n\n## Identifying Trends in Gun Violence Incidents in the USA from 2014 to 2018\n\nBy Miles Simpson\n\n### Background:\n\nEver since the implementation of the 2nd amendment of the United States constitution, firearms have been intertwined with American history and culture. With almost double the rate of civilian per capita gun ownership than the next runner up, guns are an important and pervasive issue that is common to state and local governments across the country. In the wake of recent mass shootings, there is more motivation than ever to start to think about how to mitigate the issue of gun violence in a country filled with guns.  \n\nWhile the many tragedies that have occurred over the past few decades may feel fresh in our collective memories, it is important to remember that the motivation to gain a better understanding of gun violence has been consistent for a long time, but has been stifled by a condition in CDC funding called the Dickey Amendment. The Dickey Amendment,  maintained by NRA lobbyists and their supporters in congress, all but barred the CDC from performing any studies that would produce results advocating against gun ownership until it was removed in 2018(6). This has resulted in an environment where there is a lack of quality research on gun violence issues. \n\nThat is what makes this data set, which was collected by a non-profit organization called the Gun Violence Archive in an attempt to provide accurate information to the public, useful. The end goal of this analysis would be to identify trends that would aid policy makers and activists in being better informed as to what places, times, and people to think about when making decisions regarding gun policy. It could also indicate areas of interest for further research in the future, or even simply provide insights on keeping yourself safe.\n\n### Research Questions:\n\nThere are a few angles to approach finding trends in data like this. There is location, data and time, and demographic data included in this set. However, because the demographic data is much less complete than the time or location data, I decided to focus mainly on those two. Within finding trends over time, it is worth investigating various different scales such as individual days of the week, days of the year, or months in order to determine if there is a difference in gun violence risk between them.  \n\nLocation data also has some intricacy to it. While the total number of incidents for a state can be a useful metric, it is worth investigating the incident rate per 100,000 people as well, as that compensates better for differences in state populations. \n\n\n",
   "metadata": {
    "tags": [],
    "cell_id": "00000-f5bfc9cf-9d14-4279-9b66-299731c37e76",
    "deepnote_cell_type": "markdown"
   }
  },
  {
   "cell_type": "markdown",
   "source": "#### Importing Files",
   "metadata": {
    "tags": [],
    "cell_id": "00002-dbd794b4-b810-4327-93bf-783fa3eee137",
    "deepnote_cell_type": "markdown"
   }
  },
  {
   "cell_type": "code",
   "source": "\nimport pandas as pd\nimport numpy as np\nimport scipy.stats as st\nimport matplotlib.pyplot as plt\nimport scipy\nimport geopandas as gpd\nimport datetime\nimport calendar\nimport shapely\nimport plotly.graph_objects as go\nimport seaborn as sns\nimport string\nfrom sklearn.naive_bayes import GaussianNB\nfrom sklearn import metrics\nfrom sklearn import datasets\nfrom sklearn.model_selection import train_test_split\nfrom sklearn.linear_model import LinearRegression\nimport warnings\nwarnings.filterwarnings('ignore')",
   "metadata": {
    "tags": [],
    "cell_id": "00001-f6ba4249-aaaa-4d5d-a6a8-3e1fbbe56f50",
    "deepnote_to_be_reexecuted": false,
    "source_hash": "b8eb78db",
    "execution_start": 1622031690445,
    "execution_millis": 3429,
    "deepnote_cell_type": "code"
   },
   "outputs": [],
   "execution_count": 1
  },
  {
   "cell_type": "markdown",
   "source": "#### Cleaning Data",
   "metadata": {
    "tags": [],
    "cell_id": "00004-1ec87c68-856a-45b7-909f-09018b48b84d",
    "deepnote_cell_type": "markdown"
   }
  },
  {
   "cell_type": "code",
   "metadata": {
    "tags": [],
    "cell_id": "00000-99f66567-6ad0-42dd-8eed-367433cc8a71",
    "deepnote_to_be_reexecuted": false,
    "source_hash": "fb37e0b5",
    "execution_start": 1622031693897,
    "execution_millis": 11295,
    "deepnote_cell_type": "code"
   },
   "source": "#init clean\n#Data can be found here:https://www.kaggle.com/jameslko/gun-violence-data\nmdf=pd.read_csv(\"/work/CISC367_Final_Project/data/gun-violence-data_01-2013_03-2018.csv\")\n\n#Removing unused columns, mostly descriptions of individual incidents\nmdf=mdf.drop(['n_killed','n_injured','incident_url','source_url','incident_url_fields_missing',\n'congressional_district','gun_stolen','gun_type','incident_characteristics','latitude',\n'location_description','longitude','n_guns_involved','notes','participant_age','participant_age_group',\n'participant_name','participant_relationship','participant_status','participant_type','sources',\n'state_house_district','state_senate_district','address'],axis=1)\n\n#Introducing day of the week column\ndef mfindDay(date):\n    day_name = datetime.datetime.strptime(date, '%Y-%m-%d').weekday()\n    return (calendar.day_name[day_name])\n\n#Categorizing day of the week to allow for sorting\nfrom pandas.api.types import CategoricalDtype\nmdf['dotw']=mdf['date'].apply(mfindDay)\ncats = [ 'Monday', 'Tuesday', 'Wednesday', 'Thursday', 'Friday', 'Saturday', 'Sunday']\ncat_type = CategoricalDtype(categories=cats, ordered=True)\nmdf['dotw'] = mdf['dotw'].astype(cat_type)\n\n#Introducing month column\ndef mfindMonth(date):\n    month_num=int(date[5:7])\n    months=[ 'January', 'February', 'March', 'April', 'May', 'June', 'July','August','September','October','November','December']\n    month_name=months[month_num-1]\n    return month_name\n\n#Categorizing month to allow for sorting\nmdf['month']=mdf['date'].apply(mfindMonth)\nmcats = [ 'January', 'February', 'March', 'April', 'May', 'June', 'July','August','September','October','November','December']\ncat_type = CategoricalDtype(categories=mcats, ordered=True)\nmdf['month'] = mdf['month'].astype(cat_type)\n\n#Separating day of the year and year into individual columns\ndef mstrpyear(string):\n    string=string[0:4]\n    return string\ndef mrmyear(string):\n    return string[5:]\n\nmdf['year']=mdf['date'].apply(mstrpyear)\nmdf['m/d']=mdf['date'].apply(mrmyear)\n\n\n#removing 2013 and 2018 due to incomplete data\nmdf=mdf[mdf.year!='2013']\nmdf=mdf[mdf.year!='2018']\n\n#Adding state codes for plotly\n\ndef abbrev(state):\n    us_state_abbrev = {\n    'Alabama': 'AL',\n    'Alaska': 'AK',    'American Samoa': 'AS',    'Arizona': 'AZ','Arkansas': 'AR','California': 'CA',\n    'Colorado': 'CO',    'Connecticut': 'CT',    'Delaware': 'DE',    'District of Columbia': 'DC',\n    'Florida': 'FL',    'Georgia': 'GA',    'Guam': 'GU',    'Hawaii': 'HI',\n    'Idaho': 'ID',    'Illinois': 'IL',    'Indiana': 'IN',    'Iowa': 'IA',\n    'Kansas': 'KS',    'Kentucky': 'KY',    'Louisiana': 'LA',    'Maine': 'ME',\n    'Maryland': 'MD',    'Massachusetts': 'MA',    'Michigan': 'MI',    'Minnesota': 'MN',\n    'Mississippi': 'MS',    'Missouri': 'MO',    'Montana': 'MT',    'Nebraska': 'NE',\n    'Nevada': 'NV',    'New Hampshire': 'NH',    'New Jersey': 'NJ',    'New Mexico': 'NM',\n    'New York': 'NY',    'North Carolina': 'NC',    'North Dakota': 'ND',    'Northern Mariana Islands':'MP',\n    'Ohio': 'OH',    'Oklahoma': 'OK',    'Oregon': 'OR',    'Pennsylvania': 'PA',\n    'Puerto Rico': 'PR',    'Rhode Island': 'RI',    'South Carolina': 'SC',    'South Dakota': 'SD',\n    'Tennessee': 'TN',    'Texas': 'TX',    'Utah': 'UT',    'Vermont': 'VT',\n    'Virgin Islands': 'VI',    'Virginia': 'VA',    'Washington': 'WA',    'West Virginia': 'WV',\n    'Wisconsin': 'WI',    'Wyoming': 'WY'\n    \n}\n    return us_state_abbrev[state]\n\nmdf['state_code']=mdf['state'].apply(abbrev)\n\ndef rev_abbrev(abbreviated):\n    us_state_abbrev = {\n    'Alabama': 'AL',\n    'Alaska': 'AK',    'American Samoa': 'AS',    'Arizona': 'AZ','Arkansas': 'AR','California': 'CA',\n    'Colorado': 'CO',    'Connecticut': 'CT',    'Delaware': 'DE',    'District of Columbia': 'DC',\n    'Florida': 'FL',    'Georgia': 'GA',    'Guam': 'GU',    'Hawaii': 'HI',\n    'Idaho': 'ID',    'Illinois': 'IL',    'Indiana': 'IN',    'Iowa': 'IA',\n    'Kansas': 'KS',    'Kentucky': 'KY',    'Louisiana': 'LA',    'Maine': 'ME',\n    'Maryland': 'MD',    'Massachusetts': 'MA',    'Michigan': 'MI',    'Minnesota': 'MN',\n    'Mississippi': 'MS',    'Missouri': 'MO',    'Montana': 'MT',    'Nebraska': 'NE',\n    'Nevada': 'NV',    'New Hampshire': 'NH',    'New Jersey': 'NJ',    'New Mexico': 'NM',\n    'New York': 'NY',    'North Carolina': 'NC',    'North Dakota': 'ND',    'Northern Mariana Islands':'MP',\n    'Ohio': 'OH',    'Oklahoma': 'OK',    'Oregon': 'OR',    'Pennsylvania': 'PA',\n    'Puerto Rico': 'PR',    'Rhode Island': 'RI',    'South Carolina': 'SC',    'South Dakota': 'SD',\n    'Tennessee': 'TN',    'Texas': 'TX',    'Utah': 'UT',    'Vermont': 'VT',\n    'Virgin Islands': 'VI',    'Virginia': 'VA',    'Washington': 'WA',    'West Virginia': 'WV',\n    'Wisconsin': 'WI',    'Wyoming': 'WY'\n    \n}\n    abbrev_us_state = dict(map(reversed, us_state_abbrev.items()))\n    return abbrev_us_state[abbreviated]\n\ncensus=pd.read_csv(\"/work/CISC367_Final_Project/data/nst-est2019-01.csv\",thousands=',')\n\n#Using average estimated population from 2014 through 2017\ncensus=census.iloc[:,[0,7,8,9,10]]\ncen=census.iloc[:,1:4]\ncensus['mean']=cen.mean(axis=1)\ncensus=census.iloc[:,[0,5]]\ncensus['Geographic Area']=census['Geographic Area'].apply(abbrev)",
   "execution_count": 2,
   "outputs": []
  },
  {
   "cell_type": "markdown",
   "source": "#### Displaying Data Sets",
   "metadata": {
    "tags": [],
    "cell_id": "00006-563160d2-df01-4856-95ba-c5148fed735e",
    "deepnote_to_be_reexecuted": false,
    "source_hash": "6aa78a58",
    "execution_start": 1622028151542,
    "execution_millis": 0,
    "deepnote_cell_type": "markdown"
   },
   "outputs": [],
   "execution_count": 187
  },
  {
   "cell_type": "code",
   "source": "mdf.head()",
   "metadata": {
    "tags": [],
    "cell_id": "00003-08c52dfe-e313-4f1b-bf23-b26fa06e8295",
    "deepnote_to_be_reexecuted": false,
    "source_hash": "59c2c986",
    "execution_start": 1622031705195,
    "execution_millis": 114,
    "deepnote_cell_type": "code"
   },
   "outputs": [
    {
     "output_type": "execute_result",
     "execution_count": 3,
     "data": {
      "application/vnd.deepnote.dataframe.v2+json": {
       "row_count": 5,
       "column_count": 10,
       "columns": [
        {
         "name": "incident_id",
         "dtype": "int64",
         "stats": {
          "unique_count": 5,
          "nan_count": 0,
          "min": "92142",
          "max": "95289",
          "histogram": [
           {
            "bin_start": 92142,
            "bin_end": 92456.7,
            "count": 3
           },
           {
            "bin_start": 92456.7,
            "bin_end": 92771.4,
            "count": 0
           },
           {
            "bin_start": 92771.4,
            "bin_end": 93086.1,
            "count": 0
           },
           {
            "bin_start": 93086.1,
            "bin_end": 93400.8,
            "count": 0
           },
           {
            "bin_start": 93400.8,
            "bin_end": 93715.5,
            "count": 0
           },
           {
            "bin_start": 93715.5,
            "bin_end": 94030.2,
            "count": 0
           },
           {
            "bin_start": 94030.2,
            "bin_end": 94344.9,
            "count": 0
           },
           {
            "bin_start": 94344.9,
            "bin_end": 94659.6,
            "count": 0
           },
           {
            "bin_start": 94659.6,
            "bin_end": 94974.3,
            "count": 0
           },
           {
            "bin_start": 94974.3,
            "bin_end": 95289,
            "count": 2
           }
          ]
         }
        },
        {
         "name": "date",
         "dtype": "object",
         "stats": {
          "unique_count": 1,
          "nan_count": 0,
          "categories": [
           {
            "name": "2014-01-01",
            "count": 5
           }
          ]
         }
        },
        {
         "name": "state",
         "dtype": "object",
         "stats": {
          "unique_count": 4,
          "nan_count": 0,
          "categories": [
           {
            "name": "New York",
            "count": 2
           },
           {
            "name": "Michigan",
            "count": 1
           },
           {
            "name": "2 others",
            "count": 2
           }
          ]
         }
        },
        {
         "name": "city_or_county",
         "dtype": "object",
         "stats": {
          "unique_count": 5,
          "nan_count": 0,
          "categories": [
           {
            "name": "Muskegon",
            "count": 1
           },
           {
            "name": "Newark",
            "count": 1
           },
           {
            "name": "3 others",
            "count": 3
           }
          ]
         }
        },
        {
         "name": "participant_gender",
         "dtype": "object",
         "stats": {
          "unique_count": 2,
          "nan_count": 1,
          "categories": [
           {
            "name": "0::Female",
            "count": 2
           },
           {
            "name": "0::Male||1::Male",
            "count": 2
           },
           {
            "name": "Missing",
            "count": 1
           }
          ]
         }
        },
        {
         "name": "dotw",
         "dtype": "category",
         "stats": {
          "unique_count": 1,
          "nan_count": 0,
          "categories": [
           {
            "name": "Wednesday",
            "count": 5
           }
          ]
         }
        },
        {
         "name": "month",
         "dtype": "category",
         "stats": {
          "unique_count": 1,
          "nan_count": 0,
          "categories": [
           {
            "name": "January",
            "count": 5
           }
          ]
         }
        },
        {
         "name": "year",
         "dtype": "object",
         "stats": {
          "unique_count": 1,
          "nan_count": 0,
          "categories": [
           {
            "name": "2014",
            "count": 5
           }
          ]
         }
        },
        {
         "name": "m/d",
         "dtype": "object",
         "stats": {
          "unique_count": 1,
          "nan_count": 0,
          "categories": [
           {
            "name": "01-01",
            "count": 5
           }
          ]
         }
        },
        {
         "name": "state_code",
         "dtype": "object",
         "stats": {
          "unique_count": 4,
          "nan_count": 0,
          "categories": [
           {
            "name": "NY",
            "count": 2
           },
           {
            "name": "MI",
            "count": 1
           },
           {
            "name": "2 others",
            "count": 2
           }
          ]
         }
        },
        {
         "name": "_deepnote_index_column",
         "dtype": "int64"
        }
       ],
       "rows_top": [
        {
         "incident_id": 95289,
         "date": "2014-01-01",
         "state": "Michigan",
         "city_or_county": "Muskegon",
         "participant_gender": "0::Female",
         "dotw": "Wednesday",
         "month": "January",
         "year": "2014",
         "m/d": "01-01",
         "state_code": "MI",
         "_deepnote_index_column": 278
        },
        {
         "incident_id": 92401,
         "date": "2014-01-01",
         "state": "New Jersey",
         "city_or_county": "Newark",
         "participant_gender": "nan",
         "dotw": "Wednesday",
         "month": "January",
         "year": "2014",
         "m/d": "01-01",
         "state_code": "NJ",
         "_deepnote_index_column": 279
        },
        {
         "incident_id": 92383,
         "date": "2014-01-01",
         "state": "New York",
         "city_or_county": "Queens",
         "participant_gender": "0::Male||1::Male",
         "dotw": "Wednesday",
         "month": "January",
         "year": "2014",
         "m/d": "01-01",
         "state_code": "NY",
         "_deepnote_index_column": 280
        },
        {
         "incident_id": 92142,
         "date": "2014-01-01",
         "state": "New York",
         "city_or_county": "Brooklyn",
         "participant_gender": "0::Male||1::Male",
         "dotw": "Wednesday",
         "month": "January",
         "year": "2014",
         "m/d": "01-01",
         "state_code": "NY",
         "_deepnote_index_column": 281
        },
        {
         "incident_id": 95261,
         "date": "2014-01-01",
         "state": "Missouri",
         "city_or_county": "Springfield",
         "participant_gender": "0::Female",
         "dotw": "Wednesday",
         "month": "January",
         "year": "2014",
         "m/d": "01-01",
         "state_code": "MO",
         "_deepnote_index_column": 282
        }
       ],
       "rows_bottom": null
      },
      "text/plain": "     incident_id        date       state city_or_county participant_gender  \\\n278        95289  2014-01-01    Michigan       Muskegon          0::Female   \n279        92401  2014-01-01  New Jersey         Newark                NaN   \n280        92383  2014-01-01    New York         Queens   0::Male||1::Male   \n281        92142  2014-01-01    New York       Brooklyn   0::Male||1::Male   \n282        95261  2014-01-01    Missouri    Springfield          0::Female   \n\n          dotw    month  year    m/d state_code  \n278  Wednesday  January  2014  01-01         MI  \n279  Wednesday  January  2014  01-01         NJ  \n280  Wednesday  January  2014  01-01         NY  \n281  Wednesday  January  2014  01-01         NY  \n282  Wednesday  January  2014  01-01         MO  ",
      "text/html": "<div>\n<style scoped>\n    .dataframe tbody tr th:only-of-type {\n        vertical-align: middle;\n    }\n\n    .dataframe tbody tr th {\n        vertical-align: top;\n    }\n\n    .dataframe thead th {\n        text-align: right;\n    }\n</style>\n<table border=\"1\" class=\"dataframe\">\n  <thead>\n    <tr style=\"text-align: right;\">\n      <th></th>\n      <th>incident_id</th>\n      <th>date</th>\n      <th>state</th>\n      <th>city_or_county</th>\n      <th>participant_gender</th>\n      <th>dotw</th>\n      <th>month</th>\n      <th>year</th>\n      <th>m/d</th>\n      <th>state_code</th>\n    </tr>\n  </thead>\n  <tbody>\n    <tr>\n      <th>278</th>\n      <td>95289</td>\n      <td>2014-01-01</td>\n      <td>Michigan</td>\n      <td>Muskegon</td>\n      <td>0::Female</td>\n      <td>Wednesday</td>\n      <td>January</td>\n      <td>2014</td>\n      <td>01-01</td>\n      <td>MI</td>\n    </tr>\n    <tr>\n      <th>279</th>\n      <td>92401</td>\n      <td>2014-01-01</td>\n      <td>New Jersey</td>\n      <td>Newark</td>\n      <td>NaN</td>\n      <td>Wednesday</td>\n      <td>January</td>\n      <td>2014</td>\n      <td>01-01</td>\n      <td>NJ</td>\n    </tr>\n    <tr>\n      <th>280</th>\n      <td>92383</td>\n      <td>2014-01-01</td>\n      <td>New York</td>\n      <td>Queens</td>\n      <td>0::Male||1::Male</td>\n      <td>Wednesday</td>\n      <td>January</td>\n      <td>2014</td>\n      <td>01-01</td>\n      <td>NY</td>\n    </tr>\n    <tr>\n      <th>281</th>\n      <td>92142</td>\n      <td>2014-01-01</td>\n      <td>New York</td>\n      <td>Brooklyn</td>\n      <td>0::Male||1::Male</td>\n      <td>Wednesday</td>\n      <td>January</td>\n      <td>2014</td>\n      <td>01-01</td>\n      <td>NY</td>\n    </tr>\n    <tr>\n      <th>282</th>\n      <td>95261</td>\n      <td>2014-01-01</td>\n      <td>Missouri</td>\n      <td>Springfield</td>\n      <td>0::Female</td>\n      <td>Wednesday</td>\n      <td>January</td>\n      <td>2014</td>\n      <td>01-01</td>\n      <td>MO</td>\n    </tr>\n  </tbody>\n</table>\n</div>"
     },
     "metadata": {}
    }
   ],
   "execution_count": 3
  },
  {
   "cell_type": "code",
   "source": "census.head()",
   "metadata": {
    "tags": [],
    "cell_id": "00004-da17770a-4393-450f-89bc-ab4f250a0287",
    "deepnote_to_be_reexecuted": false,
    "source_hash": "bdce431e",
    "execution_start": 1622031705293,
    "execution_millis": 30,
    "deepnote_cell_type": "code"
   },
   "outputs": [
    {
     "output_type": "execute_result",
     "execution_count": 4,
     "data": {
      "application/vnd.deepnote.dataframe.v2+json": {
       "row_count": 5,
       "column_count": 2,
       "columns": [
        {
         "name": "Geographic Area",
         "dtype": "object",
         "stats": {
          "unique_count": 5,
          "nan_count": 0,
          "categories": [
           {
            "name": "AL",
            "count": 1
           },
           {
            "name": "AK",
            "count": 1
           },
           {
            "name": "3 others",
            "count": 3
           }
          ]
         }
        },
        {
         "name": "mean",
         "dtype": "float64",
         "stats": {
          "unique_count": 5,
          "nan_count": 0,
          "min": "738412.3333333334",
          "max": "38894044.666666664",
          "histogram": [
           {
            "bin_start": 738412.3333333334,
            "bin_end": 4553975.566666666,
            "count": 2
           },
           {
            "bin_start": 4553975.566666666,
            "bin_end": 8369538.799999999,
            "count": 2
           },
           {
            "bin_start": 8369538.799999999,
            "bin_end": 12185102.033333333,
            "count": 0
           },
           {
            "bin_start": 12185102.033333333,
            "bin_end": 16000665.266666666,
            "count": 0
           },
           {
            "bin_start": 16000665.266666666,
            "bin_end": 19816228.499999996,
            "count": 0
           },
           {
            "bin_start": 19816228.499999996,
            "bin_end": 23631791.73333333,
            "count": 0
           },
           {
            "bin_start": 23631791.73333333,
            "bin_end": 27447354.96666666,
            "count": 0
           },
           {
            "bin_start": 27447354.96666666,
            "bin_end": 31262918.199999996,
            "count": 0
           },
           {
            "bin_start": 31262918.199999996,
            "bin_end": 35078481.43333333,
            "count": 0
           },
           {
            "bin_start": 35078481.43333333,
            "bin_end": 38894044.666666664,
            "count": 1
           }
          ]
         }
        },
        {
         "name": "_deepnote_index_column",
         "dtype": "int64"
        }
       ],
       "rows_top": [
        {
         "Geographic Area": "AL",
         "mean": 4852557,
         "_deepnote_index_column": 0
        },
        {
         "Geographic Area": "AK",
         "mean": 738412.3333333334,
         "_deepnote_index_column": 1
        },
        {
         "Geographic Area": "AZ",
         "mean": 6833720.333333333,
         "_deepnote_index_column": 2
        },
        {
         "Geographic Area": "AR",
         "mean": 2978452.6666666665,
         "_deepnote_index_column": 3
        },
        {
         "Geographic Area": "CA",
         "mean": 38894044.666666664,
         "_deepnote_index_column": 4
        }
       ],
       "rows_bottom": null
      },
      "text/plain": "  Geographic Area          mean\n0              AL  4.852557e+06\n1              AK  7.384123e+05\n2              AZ  6.833720e+06\n3              AR  2.978453e+06\n4              CA  3.889404e+07",
      "text/html": "<div>\n<style scoped>\n    .dataframe tbody tr th:only-of-type {\n        vertical-align: middle;\n    }\n\n    .dataframe tbody tr th {\n        vertical-align: top;\n    }\n\n    .dataframe thead th {\n        text-align: right;\n    }\n</style>\n<table border=\"1\" class=\"dataframe\">\n  <thead>\n    <tr style=\"text-align: right;\">\n      <th></th>\n      <th>Geographic Area</th>\n      <th>mean</th>\n    </tr>\n  </thead>\n  <tbody>\n    <tr>\n      <th>0</th>\n      <td>AL</td>\n      <td>4.852557e+06</td>\n    </tr>\n    <tr>\n      <th>1</th>\n      <td>AK</td>\n      <td>7.384123e+05</td>\n    </tr>\n    <tr>\n      <th>2</th>\n      <td>AZ</td>\n      <td>6.833720e+06</td>\n    </tr>\n    <tr>\n      <th>3</th>\n      <td>AR</td>\n      <td>2.978453e+06</td>\n    </tr>\n    <tr>\n      <th>4</th>\n      <td>CA</td>\n      <td>3.889404e+07</td>\n    </tr>\n  </tbody>\n</table>\n</div>"
     },
     "metadata": {}
    }
   ],
   "execution_count": 4
  },
  {
   "cell_type": "markdown",
   "source": "#### Days of the Week  \nAre there any significant trends between the weekdays and the weekend?",
   "metadata": {
    "tags": [],
    "cell_id": "00009-906c5f60-4f28-4f7b-9bbe-f63c2e5c1327",
    "deepnote_cell_type": "markdown"
   }
  },
  {
   "cell_type": "code",
   "source": "\ndf=mdf\nagg=df.groupby('date')['incident_id'].count().reset_index()\nagg['dotw']=agg['date'].apply(mfindDay)\n\ncat_type = CategoricalDtype(categories=cats, ordered=True)\nagg['dotw'] = agg['dotw'].astype(cat_type)\nagg.groupby('dotw').mean().plot.bar(rot=30)\nplt.xlabel('Day of the Week')\nplt.ylabel('Average Number of Incidents')\nplt.legend('')",
   "metadata": {
    "tags": [],
    "cell_id": "00001-01864458-308e-4dc6-be5b-833807cd48c9",
    "deepnote_to_be_reexecuted": false,
    "source_hash": "5822ab19",
    "execution_start": 1622031705311,
    "execution_millis": 584,
    "deepnote_cell_type": "code"
   },
   "outputs": [
    {
     "output_type": "execute_result",
     "execution_count": 5,
     "data": {
      "text/plain": "<matplotlib.legend.Legend at 0x7fde56fa5ed0>"
     },
     "metadata": {}
    },
    {
     "data": {
      "text/plain": "<Figure size 432x288 with 1 Axes>",
      "image/png": "[encoded data removed]"
     },
     "metadata": {
      "needs_background": "light",
      "image/png": {
       "width": 389,
       "height": 290
      }
     },
     "output_type": "display_data"
    }
   ],
   "execution_count": 5
  },
  {
   "cell_type": "markdown",
   "source": "There is a slight jump in incidents on the weekend, most likely due to people being less restricted by the standard 9 to 5 workday. It is worth investigating to see if this difference is significant or not.",
   "metadata": {
    "tags": [],
    "cell_id": "00003-2eacf8c6-9444-4dd3-80e9-919f52650d5b",
    "deepnote_cell_type": "markdown"
   }
  },
  {
   "cell_type": "markdown",
   "source": "#### Weekend vs Weekday t test",
   "metadata": {
    "tags": [],
    "cell_id": "00012-3e530bc5-0246-4a0a-ab22-b1607d5cce3f",
    "deepnote_cell_type": "markdown"
   }
  },
  {
   "cell_type": "code",
   "source": "\nweekday_means=agg.set_index('dotw').loc[['Monday','Tuesday','Wednesday','Thursday','Friday']]['incident_id'].to_list()\nweekend_means=agg.set_index('dotw').loc[['Saturday','Sunday']]['incident_id'].to_list()\n\nst.ttest_ind(weekday_means,weekend_means)",
   "metadata": {
    "tags": [],
    "cell_id": "00002-ac2ba737-2a50-47d5-b1e7-1ca92fb0327c",
    "deepnote_to_be_reexecuted": false,
    "source_hash": "3ea3c682",
    "execution_start": 1622031705890,
    "execution_millis": 32,
    "deepnote_cell_type": "code"
   },
   "outputs": [
    {
     "output_type": "execute_result",
     "execution_count": 6,
     "data": {
      "text/plain": "Ttest_indResult(statistic=-10.00288732852679, pvalue=7.919599978256679e-23)"
     },
     "metadata": {}
    }
   ],
   "execution_count": 6
  },
  {
   "cell_type": "markdown",
   "source": "This P value is less than 0.05, which means that the difference between weekends and weekdays, while relatively small in magnitude, is statistically significant. This would indicate that it is significantly more dangerous to be out on a weekend than a weekday. ",
   "metadata": {
    "tags": [],
    "cell_id": "00005-7084162f-9282-4a07-804b-c8ef5a2bd457",
    "deepnote_cell_type": "markdown"
   }
  },
  {
   "cell_type": "markdown",
   "source": "#### Day of the Year",
   "metadata": {
    "tags": [],
    "cell_id": "00015-830dbfc2-34f3-4565-9a94-21da66752a7b",
    "deepnote_cell_type": "markdown"
   }
  },
  {
   "cell_type": "code",
   "source": "\ndf.groupby('m/d')['incident_id'].count().reset_index().sort_values('incident_id').tail().plot.bar(x='m/d',rot=0)\nplt.xlabel('Day of the Year')\nplt.ylabel('Number of Incidents')\nplt.legend('')",
   "metadata": {
    "tags": [],
    "cell_id": "00002-ea322b5f-6c8e-4520-9af2-f7a26db5044e",
    "deepnote_to_be_reexecuted": false,
    "source_hash": "4066d7f5",
    "execution_start": 1622031705917,
    "execution_millis": 307,
    "deepnote_cell_type": "code"
   },
   "outputs": [
    {
     "output_type": "execute_result",
     "execution_count": 7,
     "data": {
      "text/plain": "<matplotlib.legend.Legend at 0x7fde69b7f310>"
     },
     "metadata": {}
    },
    {
     "data": {
      "text/plain": "<Figure size 432x288 with 1 Axes>",
      "image/png": "[encoded data removed]"
     },
     "metadata": {
      "needs_background": "light",
      "image/png": {
       "width": 395,
       "height": 262
      }
     },
     "output_type": "display_data"
    }
   ],
   "execution_count": 7
  },
  {
   "cell_type": "markdown",
   "source": "The most active days of the year for gun incidents are New Year's day and July 4th. This is most likely due to the large numbers of people who go out in public at once, increasing the number of potential conflicts and victims. The spike from New Year's day is large enough that it offsets some of the next trend to investigate, that of differences between months.",
   "metadata": {
    "tags": [],
    "cell_id": "00007-7011a7be-74f1-4c14-a293-487824721302",
    "deepnote_cell_type": "markdown"
   }
  },
  {
   "cell_type": "markdown",
   "source": "#### Month of the Year",
   "metadata": {
    "tags": [],
    "cell_id": "00018-f8fcbcb3-644e-4e6a-809e-50628a9022c7",
    "deepnote_cell_type": "markdown"
   }
  },
  {
   "cell_type": "code",
   "source": "\ndf=mdf\ndf.groupby('month')['incident_id'].count().reset_index().plot.bar(x='month',rot=45)\nplt.xlabel('Month')\nplt.ylabel('Number of Incidents')\nplt.legend('')",
   "metadata": {
    "tags": [],
    "cell_id": "00003-7cf0d95b-dac4-4c13-9562-5ca1d75f8fa3",
    "deepnote_to_be_reexecuted": false,
    "source_hash": "3275d08b",
    "execution_start": 1622031706230,
    "execution_millis": 403,
    "deepnote_cell_type": "code"
   },
   "outputs": [
    {
     "output_type": "execute_result",
     "execution_count": 8,
     "data": {
      "text/plain": "<matplotlib.legend.Legend at 0x7fde5da15cd0>"
     },
     "metadata": {}
    },
    {
     "data": {
      "text/plain": "<Figure size 432x288 with 1 Axes>",
      "image/png": "[encoded data removed]"
     },
     "metadata": {
      "needs_background": "light",
      "image/png": {
       "width": 409,
       "height": 298
      }
     },
     "output_type": "display_data"
    }
   ],
   "execution_count": 8
  },
  {
   "cell_type": "markdown",
   "source": "This plot shows total incidences over months of the year, and connects to the previous plot with a spike on New Year's day. That spike somewhat counteracts the otherwise present trend that warmer months result in higher incident rates. Apart from the straightforward reason that people can't commit crimes if they stay home out of the cold, there is also a somewhat subtler influence at work when looking at rates of violent crime. The fact that heat increases aggression in humans. Multiple studies (3) have been conducted that showed that, while adjusting for everything else, warmer environments induce a slight but noticeable rise in aggression across entire societies. This ties the issue of gun violence to another major issue, climate change. As the world continues to warm, that minor influence will continue to act to increase violent crimes alongside it, as well as create other crises that result in disenfranchised people who are at more risk of resorting to criminal acts.",
   "metadata": {
    "tags": [],
    "cell_id": "00006-81f98829-2119-44d5-a256-9ec95901a935",
    "deepnote_cell_type": "markdown"
   }
  },
  {
   "cell_type": "markdown",
   "source": "#### Year Comparison",
   "metadata": {
    "tags": [],
    "cell_id": "00021-ba9a4dc8-b581-4377-ad09-b885841ba4b8",
    "deepnote_cell_type": "markdown"
   }
  },
  {
   "cell_type": "code",
   "source": "\ndf.groupby('year').count().plot.bar(y='incident_id',rot=0)\nplt.xlabel('Year')\nplt.ylabel('Number of Incidents')\nplt.legend('')",
   "metadata": {
    "tags": [],
    "cell_id": "00004-32df5aac-eb94-495a-8686-f7736875020d",
    "deepnote_to_be_reexecuted": false,
    "source_hash": "d80a411f",
    "execution_start": 1622031706635,
    "execution_millis": 467,
    "deepnote_cell_type": "code"
   },
   "outputs": [
    {
     "output_type": "execute_result",
     "execution_count": 9,
     "data": {
      "text/plain": "<matplotlib.legend.Legend at 0x7fde5da421d0>"
     },
     "metadata": {}
    },
    {
     "data": {
      "text/plain": "<Figure size 432x288 with 1 Axes>",
      "image/png": "[encoded data removed]"
     },
     "metadata": {
      "needs_background": "light",
      "image/png": {
       "width": 401,
       "height": 262
      }
     },
     "output_type": "display_data"
    }
   ],
   "execution_count": 9
  },
  {
   "cell_type": "markdown",
   "source": "This plot of total gun violence incidents over multiple years shows a slow but steady increase, but is that increase statistically significant in the data?",
   "metadata": {
    "tags": [],
    "cell_id": "00012-ca06612f-3ca3-4c7e-bac0-bd06ddb9432b",
    "deepnote_cell_type": "markdown"
   }
  },
  {
   "cell_type": "markdown",
   "source": "#### Significance of Trend Over Years",
   "metadata": {
    "tags": [],
    "cell_id": "00024-6e0421e7-b67e-49e4-bb51-f9b1ba3fc72b",
    "deepnote_cell_type": "markdown"
   }
  },
  {
   "cell_type": "code",
   "source": "\nx=[[2014],[2015],[2016],[2017]]\ny=df.groupby('year').count().reset_index()['incident_id'].to_list()\n\nmodel=LinearRegression(fit_intercept=True);\nmodel.fit(x, y)\nxfit=np.linspace(2014,2017,4)\nyfit=model.predict(xfit[:, np.newaxis])\n\nfrom sklearn.feature_selection import f_regression\n\nfreg=f_regression(x,y)\n\np=freg[1]\n\nprint(p.round(3))",
   "metadata": {
    "tags": [],
    "cell_id": "00008-1b472443-5d7c-442f-9a2b-86009224a213",
    "deepnote_to_be_reexecuted": false,
    "source_hash": "5c92471a",
    "execution_start": 1622031707097,
    "execution_millis": 387,
    "deepnote_cell_type": "code"
   },
   "outputs": [
    {
     "name": "stdout",
     "text": "[0.017]\n",
     "output_type": "stream"
    }
   ],
   "execution_count": 10
  },
  {
   "cell_type": "markdown",
   "source": "Because the P value is less than 0.05, it is possible to reject the null hypothesis, that gun violence is not significantly increasing over time. In addition to this analysis, the Gun Violence Archive is still tracking total incidents, and they have continued to rise since 2018 (4). There has been an additional spike on top of the steady incline in recent times due to people feeling insecure from the COVID-19 pandemic as well (5). ",
   "metadata": {
    "tags": [],
    "cell_id": "00013-399f218f-af28-4d00-b80d-25249ac54d3f",
    "deepnote_cell_type": "markdown"
   }
  },
  {
   "cell_type": "markdown",
   "source": "#### Total Incidents by State",
   "metadata": {
    "tags": [],
    "cell_id": "00027-706d48bc-e972-48a6-b1ca-5c7f3897dc2f",
    "deepnote_cell_type": "markdown"
   }
  },
  {
   "cell_type": "code",
   "source": "#state top #\ndf=mdf\ndf.groupby('state')['incident_id'].count().reset_index().sort_values('incident_id').plot.barh(x='state',y='incident_id',figsize=(5,10))\nplt.xlabel('Number of Incidents')\nplt.ylabel('State')\nplt.legend('')",
   "metadata": {
    "tags": [],
    "cell_id": "00009-4a53f89f-a2b3-4d0c-83b9-4944680e72ee",
    "deepnote_to_be_reexecuted": false,
    "source_hash": "5a37e302",
    "execution_start": 1622031707476,
    "execution_millis": 1733,
    "deepnote_cell_type": "code"
   },
   "outputs": [
    {
     "output_type": "execute_result",
     "execution_count": 11,
     "data": {
      "text/plain": "<matplotlib.legend.Legend at 0x7fde5d881950>"
     },
     "metadata": {}
    },
    {
     "data": {
      "text/plain": "<Figure size 360x720 with 1 Axes>",
      "image/png": "[encoded data removed]"
     },
     "metadata": {
      "needs_background": "light",
      "image/png": {
       "width": 413,
       "height": 589
      }
     },
     "output_type": "display_data"
    }
   ],
   "execution_count": 11
  },
  {
   "cell_type": "code",
   "source": "#state # map\ndf=df.groupby('state_code')['incident_id'].count().reset_index()\nfig = go.Figure(data=go.Choropleth(\n    locations=df['state_code'], # Spatial coordinates\n    z = df['incident_id'].astype(float), # Data to be color-coded\n    locationmode = 'USA-states', # set of locations match entries in `locations`\n    colorscale = 'Reds',\n    colorbar_title = \"# Incidents\",\n))\n\nfig.update_layout(\n    title_text = 'Total Gun Violence Incidents 2014-2017 by State',\n    geo_scope='usa', # limite map scope to USA\n)\n\nfig.show()\n#Doesn't work with html versions of .ipynb, image below is a screen capture",
   "metadata": {
    "tags": [],
    "cell_id": "00010-28aa653c-65cd-44ce-a527-3f8a638906ce",
    "deepnote_to_be_reexecuted": false,
    "source_hash": "2569d608",
    "execution_start": 1622031709212,
    "execution_millis": 737,
    "deepnote_cell_type": "code"
   },
   "outputs": [
    {
     "data": {
      "text/html": "<html>\n<head><meta charset=\"utf-8\" /></head>\n<body>\n    <div>            <script src=\"https://cdnjs.cloudflare.com/ajax/libs/mathjax/2.7.5/MathJax.js?config=TeX-AMS-MML_SVG\"></script><script type=\"text/javascript\">if (window.MathJax) {MathJax.Hub.Config({SVG: {font: \"STIX-Web\"}});}</script>                <script type=\"text/javascript\">window.PlotlyConfig = {MathJaxConfig: 'local'};</script>\n        <script src=\"https://cdn.plot.ly/plotly-latest.min.js\"></script>                <div id=\"aa229f90-eafa-43a1-bef4-8965b51e23d2\" class=\"plotly-graph-div\" style=\"height:525px; width:100%;\"></div>            <script type=\"text/javascript\">                                    window.PLOTLYENV=window.PLOTLYENV || {};                                    if (document.getElementById(\"aa229f90-eafa-43a1-bef4-8965b51e23d2\")) {                    Plotly.newPlot(                        \"aa229f90-eafa-43a1-bef4-8965b51e23d2\",                        [{\"colorbar\": {\"title\": {\"text\": \"# Incidents\"}}, \"colorscale\": [[0.0, \"rgb(255,245,240)\"], [0.125, \"rgb(254,224,210)\"], [0.25, \"rgb(252,187,161)\"], [0.375, \"rgb(252,146,114)\"], [0.5, \"rgb(251,106,74)\"], [0.625, \"rgb(239,59,44)\"], [0.75, \"rgb(203,24,29)\"], [0.875, \"rgb(165,15,21)\"], [1.0, \"rgb(103,0,13)\"]], \"locationmode\": \"USA-states\", \"locations\": [\"AK\", \"AL\", \"AR\", \"AZ\", \"CA\", \"CO\", \"CT\", \"DC\", \"DE\", \"FL\", \"GA\", \"HI\", \"IA\", \"ID\", \"IL\", \"IN\", \"KS\", \"KY\", \"LA\", \"MA\", \"MD\", \"ME\", \"MI\", \"MN\", \"MO\", \"MS\", \"MT\", \"NC\", \"ND\", \"NE\", \"NH\", \"NJ\", \"NM\", \"NV\", \"NY\", \"OH\", \"OK\", \"OR\", \"PA\", \"RI\", \"SC\", \"SD\", \"TN\", \"TX\", \"UT\", \"VA\", \"VT\", \"WA\", \"WI\", \"WV\", \"WY\"], \"type\": \"choropleth\", \"z\": [1288.0, 5122.0, 2650.0, 2177.0, 15171.0, 2965.0, 2903.0, 3015.0, 1576.0, 14197.0, 8501.0, 270.0, 2401.0, 610.0, 16695.0, 5517.0, 1992.0, 3942.0, 7655.0, 5611.0, 5422.0, 849.0, 5391.0, 2087.0, 6256.0, 3326.0, 597.0, 8263.0, 542.0, 1541.0, 917.0, 5149.0, 1562.0, 1840.0, 9359.0, 9643.0, 3246.0, 2147.0, 8413.0, 843.0, 6567.0, 518.0, 7241.0, 12890.0, 1015.0, 5650.0, 452.0, 3230.0, 4410.0, 1493.0, 480.0]}],                        {\"geo\": {\"scope\": \"usa\"}, \"template\": {\"data\": {\"bar\": [{\"error_x\": {\"color\": \"#2a3f5f\"}, \"error_y\": {\"color\": \"#2a3f5f\"}, \"marker\": {\"line\": {\"color\": \"#E5ECF6\", \"width\": 0.5}}, \"type\": \"bar\"}], \"barpolar\": [{\"marker\": {\"line\": {\"color\": \"#E5ECF6\", \"width\": 0.5}}, \"type\": \"barpolar\"}], \"carpet\": [{\"aaxis\": {\"endlinecolor\": \"#2a3f5f\", \"gridcolor\": \"white\", \"linecolor\": \"white\", \"minorgridcolor\": \"white\", \"startlinecolor\": \"#2a3f5f\"}, \"baxis\": {\"endlinecolor\": \"#2a3f5f\", \"gridcolor\": \"white\", \"linecolor\": \"white\", \"minorgridcolor\": \"white\", \"startlinecolor\": \"#2a3f5f\"}, \"type\": \"carpet\"}], \"choropleth\": [{\"colorbar\": {\"outlinewidth\": 0, \"ticks\": \"\"}, \"type\": \"choropleth\"}], \"contour\": [{\"colorbar\": {\"outlinewidth\": 0, \"ticks\": \"\"}, \"colorscale\": [[0.0, \"#0d0887\"], [0.1111111111111111, \"#46039f\"], [0.2222222222222222, \"#7201a8\"], [0.3333333333333333, \"#9c179e\"], [0.4444444444444444, \"#bd3786\"], [0.5555555555555556, \"#d8576b\"], [0.6666666666666666, \"#ed7953\"], [0.7777777777777778, \"#fb9f3a\"], [0.8888888888888888, \"#fdca26\"], [1.0, \"#f0f921\"]], \"type\": \"contour\"}], \"contourcarpet\": [{\"colorbar\": {\"outlinewidth\": 0, \"ticks\": \"\"}, \"type\": \"contourcarpet\"}], \"heatmap\": [{\"colorbar\": {\"outlinewidth\": 0, \"ticks\": \"\"}, \"colorscale\": [[0.0, \"#0d0887\"], [0.1111111111111111, \"#46039f\"], [0.2222222222222222, \"#7201a8\"], [0.3333333333333333, \"#9c179e\"], [0.4444444444444444, \"#bd3786\"], [0.5555555555555556, \"#d8576b\"], [0.6666666666666666, \"#ed7953\"], [0.7777777777777778, \"#fb9f3a\"], [0.8888888888888888, \"#fdca26\"], [1.0, \"#f0f921\"]], \"type\": \"heatmap\"}], \"heatmapgl\": [{\"colorbar\": {\"outlinewidth\": 0, \"ticks\": \"\"}, \"colorscale\": [[0.0, \"#0d0887\"], [0.1111111111111111, \"#46039f\"], [0.2222222222222222, \"#7201a8\"], [0.3333333333333333, \"#9c179e\"], [0.4444444444444444, \"#bd3786\"], [0.5555555555555556, \"#d8576b\"], [0.6666666666666666, \"#ed7953\"], [0.7777777777777778, \"#fb9f3a\"], [0.8888888888888888, \"#fdca26\"], [1.0, \"#f0f921\"]], \"type\": \"heatmapgl\"}], \"histogram\": [{\"marker\": {\"colorbar\": {\"outlinewidth\": 0, \"ticks\": \"\"}}, \"type\": \"histogram\"}], \"histogram2d\": [{\"colorbar\": {\"outlinewidth\": 0, \"ticks\": \"\"}, \"colorscale\": [[0.0, \"#0d0887\"], [0.1111111111111111, \"#46039f\"], [0.2222222222222222, \"#7201a8\"], [0.3333333333333333, \"#9c179e\"], [0.4444444444444444, \"#bd3786\"], [0.5555555555555556, \"#d8576b\"], [0.6666666666666666, \"#ed7953\"], [0.7777777777777778, \"#fb9f3a\"], [0.8888888888888888, \"#fdca26\"], [1.0, \"#f0f921\"]], \"type\": \"histogram2d\"}], \"histogram2dcontour\": [{\"colorbar\": {\"outlinewidth\": 0, \"ticks\": \"\"}, \"colorscale\": [[0.0, \"#0d0887\"], [0.1111111111111111, \"#46039f\"], [0.2222222222222222, \"#7201a8\"], [0.3333333333333333, \"#9c179e\"], [0.4444444444444444, \"#bd3786\"], [0.5555555555555556, \"#d8576b\"], [0.6666666666666666, \"#ed7953\"], [0.7777777777777778, \"#fb9f3a\"], [0.8888888888888888, \"#fdca26\"], [1.0, \"#f0f921\"]], \"type\": \"histogram2dcontour\"}], \"mesh3d\": [{\"colorbar\": {\"outlinewidth\": 0, \"ticks\": \"\"}, \"type\": \"mesh3d\"}], \"parcoords\": [{\"line\": {\"colorbar\": {\"outlinewidth\": 0, \"ticks\": \"\"}}, \"type\": \"parcoords\"}], \"pie\": [{\"automargin\": true, \"type\": \"pie\"}], \"scatter\": [{\"marker\": {\"colorbar\": {\"outlinewidth\": 0, \"ticks\": \"\"}}, \"type\": \"scatter\"}], \"scatter3d\": [{\"line\": {\"colorbar\": {\"outlinewidth\": 0, \"ticks\": \"\"}}, \"marker\": {\"colorbar\": {\"outlinewidth\": 0, \"ticks\": \"\"}}, \"type\": \"scatter3d\"}], \"scattercarpet\": [{\"marker\": {\"colorbar\": {\"outlinewidth\": 0, \"ticks\": \"\"}}, \"type\": \"scattercarpet\"}], \"scattergeo\": [{\"marker\": {\"colorbar\": {\"outlinewidth\": 0, \"ticks\": \"\"}}, \"type\": \"scattergeo\"}], \"scattergl\": [{\"marker\": {\"colorbar\": {\"outlinewidth\": 0, \"ticks\": \"\"}}, \"type\": \"scattergl\"}], \"scattermapbox\": [{\"marker\": {\"colorbar\": {\"outlinewidth\": 0, \"ticks\": \"\"}}, \"type\": \"scattermapbox\"}], \"scatterpolar\": [{\"marker\": {\"colorbar\": {\"outlinewidth\": 0, \"ticks\": \"\"}}, \"type\": \"scatterpolar\"}], \"scatterpolargl\": [{\"marker\": {\"colorbar\": {\"outlinewidth\": 0, \"ticks\": \"\"}}, \"type\": \"scatterpolargl\"}], \"scatterternary\": [{\"marker\": {\"colorbar\": {\"outlinewidth\": 0, \"ticks\": \"\"}}, \"type\": \"scatterternary\"}], \"surface\": [{\"colorbar\": {\"outlinewidth\": 0, \"ticks\": \"\"}, \"colorscale\": [[0.0, \"#0d0887\"], [0.1111111111111111, \"#46039f\"], [0.2222222222222222, \"#7201a8\"], [0.3333333333333333, \"#9c179e\"], [0.4444444444444444, \"#bd3786\"], [0.5555555555555556, \"#d8576b\"], [0.6666666666666666, \"#ed7953\"], [0.7777777777777778, \"#fb9f3a\"], [0.8888888888888888, \"#fdca26\"], [1.0, \"#f0f921\"]], \"type\": \"surface\"}], \"table\": [{\"cells\": {\"fill\": {\"color\": \"#EBF0F8\"}, \"line\": {\"color\": \"white\"}}, \"header\": {\"fill\": {\"color\": \"#C8D4E3\"}, \"line\": {\"color\": \"white\"}}, \"type\": \"table\"}]}, \"layout\": {\"annotationdefaults\": {\"arrowcolor\": \"#2a3f5f\", \"arrowhead\": 0, \"arrowwidth\": 1}, \"autotypenumbers\": \"strict\", \"coloraxis\": {\"colorbar\": {\"outlinewidth\": 0, \"ticks\": \"\"}}, \"colorscale\": {\"diverging\": [[0, \"#8e0152\"], [0.1, \"#c51b7d\"], [0.2, \"#de77ae\"], [0.3, \"#f1b6da\"], [0.4, \"#fde0ef\"], [0.5, \"#f7f7f7\"], [0.6, \"#e6f5d0\"], [0.7, \"#b8e186\"], [0.8, \"#7fbc41\"], [0.9, \"#4d9221\"], [1, \"#276419\"]], \"sequential\": [[0.0, \"#0d0887\"], [0.1111111111111111, \"#46039f\"], [0.2222222222222222, \"#7201a8\"], [0.3333333333333333, \"#9c179e\"], [0.4444444444444444, \"#bd3786\"], [0.5555555555555556, \"#d8576b\"], [0.6666666666666666, \"#ed7953\"], [0.7777777777777778, \"#fb9f3a\"], [0.8888888888888888, \"#fdca26\"], [1.0, \"#f0f921\"]], \"sequentialminus\": [[0.0, \"#0d0887\"], [0.1111111111111111, \"#46039f\"], [0.2222222222222222, \"#7201a8\"], [0.3333333333333333, \"#9c179e\"], [0.4444444444444444, \"#bd3786\"], [0.5555555555555556, \"#d8576b\"], [0.6666666666666666, \"#ed7953\"], [0.7777777777777778, \"#fb9f3a\"], [0.8888888888888888, \"#fdca26\"], [1.0, \"#f0f921\"]]}, \"colorway\": [\"#636efa\", \"#EF553B\", \"#00cc96\", \"#ab63fa\", \"#FFA15A\", \"#19d3f3\", \"#FF6692\", \"#B6E880\", \"#FF97FF\", \"#FECB52\"], \"font\": {\"color\": \"#2a3f5f\"}, \"geo\": {\"bgcolor\": \"white\", \"lakecolor\": \"white\", \"landcolor\": \"#E5ECF6\", \"showlakes\": true, \"showland\": true, \"subunitcolor\": \"white\"}, \"hoverlabel\": {\"align\": \"left\"}, \"hovermode\": \"closest\", \"mapbox\": {\"style\": \"light\"}, \"paper_bgcolor\": \"white\", \"plot_bgcolor\": \"#E5ECF6\", \"polar\": {\"angularaxis\": {\"gridcolor\": \"white\", \"linecolor\": \"white\", \"ticks\": \"\"}, \"bgcolor\": \"#E5ECF6\", \"radialaxis\": {\"gridcolor\": \"white\", \"linecolor\": \"white\", \"ticks\": \"\"}}, \"scene\": {\"xaxis\": {\"backgroundcolor\": \"#E5ECF6\", \"gridcolor\": \"white\", \"gridwidth\": 2, \"linecolor\": \"white\", \"showbackground\": true, \"ticks\": \"\", \"zerolinecolor\": \"white\"}, \"yaxis\": {\"backgroundcolor\": \"#E5ECF6\", \"gridcolor\": \"white\", \"gridwidth\": 2, \"linecolor\": \"white\", \"showbackground\": true, \"ticks\": \"\", \"zerolinecolor\": \"white\"}, \"zaxis\": {\"backgroundcolor\": \"#E5ECF6\", \"gridcolor\": \"white\", \"gridwidth\": 2, \"linecolor\": \"white\", \"showbackground\": true, \"ticks\": \"\", \"zerolinecolor\": \"white\"}}, \"shapedefaults\": {\"line\": {\"color\": \"#2a3f5f\"}}, \"ternary\": {\"aaxis\": {\"gridcolor\": \"white\", \"linecolor\": \"white\", \"ticks\": \"\"}, \"baxis\": {\"gridcolor\": \"white\", \"linecolor\": \"white\", \"ticks\": \"\"}, \"bgcolor\": \"#E5ECF6\", \"caxis\": {\"gridcolor\": \"white\", \"linecolor\": \"white\", \"ticks\": \"\"}}, \"title\": {\"x\": 0.05}, \"xaxis\": {\"automargin\": true, \"gridcolor\": \"white\", \"linecolor\": \"white\", \"ticks\": \"\", \"title\": {\"standoff\": 15}, \"zerolinecolor\": \"white\", \"zerolinewidth\": 2}, \"yaxis\": {\"automargin\": true, \"gridcolor\": \"white\", \"linecolor\": \"white\", \"ticks\": \"\", \"title\": {\"standoff\": 15}, \"zerolinecolor\": \"white\", \"zerolinewidth\": 2}}}, \"title\": {\"text\": \"Total Gun Violence Incidents 2014-2017 by State\"}},                        {\"responsive\": true}                    ).then(function(){\n                            \nvar gd = document.getElementById('aa229f90-eafa-43a1-bef4-8965b51e23d2');\nvar x = new MutationObserver(function (mutations, observer) {{\n        var display = window.getComputedStyle(gd).display;\n        if (!display || display === 'none') {{\n            console.log([gd, 'removed!']);\n            Plotly.purge(gd);\n            observer.disconnect();\n        }}\n}});\n\n// Listen for the removal of the full notebook cells\nvar notebookContainer = gd.closest('#notebook-container');\nif (notebookContainer) {{\n    x.observe(notebookContainer, {childList: true});\n}}\n\n// Listen for the clearing of the current output cell\nvar outputEl = gd.closest('.output');\nif (outputEl) {{\n    x.observe(outputEl, {childList: true});\n}}\n\n                        })                };                            </script>        </div>\n</body>\n</html>"
     },
     "metadata": {},
     "output_type": "display_data"
    }
   ],
   "execution_count": 12
  },
  {
   "cell_type": "markdown",
   "source": "![Total Gun Violence Map](data/image-20210526-055051.png)",
   "metadata": {
    "tags": [],
    "cell_id": "00022-1905cee9-084e-4111-8c9a-e8f7655fbd65",
    "deepnote_cell_type": "markdown"
   }
  },
  {
   "cell_type": "markdown",
   "source": "The map and ranking above show some interesting trends of the total gun violence incidents between states. Some states are expected to have high numbers, such as very populous states such as California or New York, while others have medium populations but high gun ownership, such as Texas and Louisiana. One outlier that was somewhat unexpected was Illinois, which I suspect is due to Chicago, but further exploration is required.",
   "metadata": {
    "tags": [],
    "cell_id": "00022-08073355-a9ec-4279-ba90-dec0bc595111",
    "deepnote_cell_type": "markdown"
   }
  },
  {
   "cell_type": "markdown",
   "source": "#### Number of Incidents per 100,000 People by State",
   "metadata": {
    "tags": [],
    "cell_id": "00032-c137c69d-7daa-407e-a7e4-84f9a6f6f6d0",
    "deepnote_cell_type": "markdown"
   }
  },
  {
   "cell_type": "code",
   "source": "#state top rate\ndf=mdf\ndf=df.groupby('state_code')['incident_id'].count().reset_index()\n#Joining main dataframe and census data to calculate incident rate per 100,000 people\ndf=df.set_index('state_code').join(census.set_index('Geographic Area')).reset_index()\n\n\ndef incident_rate(row):\n    return 100000*row['incident_id']/row['mean']\n\ndf['incident_rate']=df.apply(incident_rate,axis=1)\n\n#Adding back in full state names\ndf['state']=df['state_code'].apply(rev_abbrev)\n\ndf.sort_values('incident_rate').plot.barh(x='state',y='incident_rate',figsize=(5,10))\n\nplt.xlabel('Incident Rate per 100,000 People')\nplt.ylabel('State')\nplt.legend('')",
   "metadata": {
    "tags": [],
    "cell_id": "00011-64ba0c1e-e160-4989-afd6-98d6e13620d0",
    "deepnote_to_be_reexecuted": false,
    "source_hash": "e59e4950",
    "execution_start": 1622031710002,
    "execution_millis": 1749,
    "deepnote_cell_type": "code"
   },
   "outputs": [
    {
     "output_type": "execute_result",
     "execution_count": 13,
     "data": {
      "text/plain": "<matplotlib.legend.Legend at 0x7fde5c69cc90>"
     },
     "metadata": {}
    },
    {
     "data": {
      "text/plain": "<Figure size 360x720 with 1 Axes>",
      "image/png": "[encoded data removed]"
     },
     "metadata": {
      "needs_background": "light",
      "image/png": {
       "width": 413,
       "height": 589
      }
     },
     "output_type": "display_data"
    }
   ],
   "execution_count": 13
  },
  {
   "cell_type": "markdown",
   "source": "With the incident numbers now adjusted for population, Alaska, Washington DC, and Delaware shoot towards the top. It's likely that these spikes are due to the proportion of the state population that lives in an urban area, which would increase the rates of gun violence. Washington DC especially, as the entire district is essentially just the inner city and capitol hill areas, with wealthier areas that would result in lower gun violence rates all lying on the outside of its borders. Alaska has a very low polulation and a very high gun ownership rate, and Delaware has a low overall population, and has a high amount of people living in the urban area of Wilmington.",
   "metadata": {
    "tags": [],
    "cell_id": "00019-25208007-58f2-4236-bf37-afbddfaf69fe",
    "deepnote_cell_type": "markdown"
   }
  },
  {
   "cell_type": "code",
   "source": "\n#Exclude DC due to not being plotted and throwing off y axis\ndf=df[df.state_code!='DC']\n\nfig = go.Figure(data=go.Choropleth(\n    locations=df['state_code'], # Spatial coordinates\n    z = df['incident_rate'].astype(float), # Data to be color-coded\n    locationmode = 'USA-states', # set of locations match entries in `locations`\n    colorscale = 'Reds',\n    colorbar_title = \"# Incidents per 100,000 People\",\n))\n\nfig.update_layout(\n    title_text = 'Gun Violence Incident Rate per 100,000 People from 2014-2017 by State',\n    geo_scope='usa', # limit map scope to USA\n)\n\nfig.show()\n#Doesn't work with html versions of .ipynb, image below is a screen capture",
   "metadata": {
    "tags": [],
    "cell_id": "00012-da1a9779-ce34-4927-953b-c29099f8e49b",
    "deepnote_to_be_reexecuted": false,
    "source_hash": "b85d4154",
    "execution_start": 1622031711756,
    "execution_millis": 129,
    "deepnote_cell_type": "code"
   },
   "outputs": [
    {
     "data": {
      "text/html": "<html>\n<head><meta charset=\"utf-8\" /></head>\n<body>\n    <div>            <script src=\"https://cdnjs.cloudflare.com/ajax/libs/mathjax/2.7.5/MathJax.js?config=TeX-AMS-MML_SVG\"></script><script type=\"text/javascript\">if (window.MathJax) {MathJax.Hub.Config({SVG: {font: \"STIX-Web\"}});}</script>                <script type=\"text/javascript\">window.PlotlyConfig = {MathJaxConfig: 'local'};</script>\n        <script src=\"https://cdn.plot.ly/plotly-latest.min.js\"></script>                <div id=\"bd4b6971-36d2-41e3-9cf0-eb3fb17eb327\" class=\"plotly-graph-div\" style=\"height:525px; width:100%;\"></div>            <script type=\"text/javascript\">                                    window.PLOTLYENV=window.PLOTLYENV || {};                                    if (document.getElementById(\"bd4b6971-36d2-41e3-9cf0-eb3fb17eb327\")) {                    Plotly.newPlot(                        \"bd4b6971-36d2-41e3-9cf0-eb3fb17eb327\",                        [{\"colorbar\": {\"title\": {\"text\": \"# Incidents per 100,000 People\"}}, \"colorscale\": [[0.0, \"rgb(255,245,240)\"], [0.125, \"rgb(254,224,210)\"], [0.25, \"rgb(252,187,161)\"], [0.375, \"rgb(252,146,114)\"], [0.5, \"rgb(251,106,74)\"], [0.625, \"rgb(239,59,44)\"], [0.75, \"rgb(203,24,29)\"], [0.875, \"rgb(165,15,21)\"], [1.0, \"rgb(103,0,13)\"]], \"locationmode\": \"USA-states\", \"locations\": [\"AK\", \"AL\", \"AR\", \"AZ\", \"CA\", \"CO\", \"CT\", \"DE\", \"FL\", \"GA\", \"HI\", \"IA\", \"ID\", \"IL\", \"IN\", \"KS\", \"KY\", \"LA\", \"MA\", \"MD\", \"ME\", \"MI\", \"MN\", \"MO\", \"MS\", \"MT\", \"NC\", \"ND\", \"NE\", \"NH\", \"NJ\", \"NM\", \"NV\", \"NY\", \"OH\", \"OK\", \"OR\", \"PA\", \"RI\", \"SC\", \"SD\", \"TN\", \"TX\", \"UT\", \"VA\", \"VT\", \"WA\", \"WI\", \"WV\", \"WY\"], \"type\": \"choropleth\", \"z\": [174.4282891627397, 105.55259835175558, 88.972372455586, 31.856732406520784, 39.00597155687948, 54.43716772749274, 80.94026396619189, 167.50157652710564, 70.2029045419504, 83.4860593863056, 18.995583878518318, 76.94131000618371, 36.861339524964094, 129.87523860701654, 83.4376450933311, 68.52951665819987, 89.06121749982886, 164.19080422822242, 82.59393127682475, 90.63773391623215, 63.83311462492594, 54.2497226129468, 38.04724822866998, 103.03556906646908, 111.27620017537879, 57.901146481495076, 82.30265217466224, 72.39856075579468, 81.4451322659787, 68.56932630574592, 58.0642229323346, 74.73101380131597, 64.17015320624078, 47.63727222840685, 82.99909478224637, 83.13116814401344, 53.36808017093694, 65.80296591245241, 79.81012196842246, 134.2622354563386, 60.55851788288357, 109.83192121224347, 46.958790497964635, 33.982167676162106, 67.57589939634987, 72.35523217438679, 45.042358642877915, 76.53994109259348, 81.1036616700727, 82.1749424632738]}],                        {\"geo\": {\"scope\": \"usa\"}, \"template\": {\"data\": {\"bar\": [{\"error_x\": {\"color\": \"#2a3f5f\"}, \"error_y\": {\"color\": \"#2a3f5f\"}, \"marker\": {\"line\": {\"color\": \"#E5ECF6\", \"width\": 0.5}}, \"type\": \"bar\"}], \"barpolar\": [{\"marker\": {\"line\": {\"color\": \"#E5ECF6\", \"width\": 0.5}}, \"type\": \"barpolar\"}], \"carpet\": [{\"aaxis\": {\"endlinecolor\": \"#2a3f5f\", \"gridcolor\": \"white\", \"linecolor\": \"white\", \"minorgridcolor\": \"white\", \"startlinecolor\": \"#2a3f5f\"}, \"baxis\": {\"endlinecolor\": \"#2a3f5f\", \"gridcolor\": \"white\", \"linecolor\": \"white\", \"minorgridcolor\": \"white\", \"startlinecolor\": \"#2a3f5f\"}, \"type\": \"carpet\"}], \"choropleth\": [{\"colorbar\": {\"outlinewidth\": 0, \"ticks\": \"\"}, \"type\": \"choropleth\"}], \"contour\": [{\"colorbar\": {\"outlinewidth\": 0, \"ticks\": \"\"}, \"colorscale\": [[0.0, \"#0d0887\"], [0.1111111111111111, \"#46039f\"], [0.2222222222222222, \"#7201a8\"], [0.3333333333333333, \"#9c179e\"], [0.4444444444444444, \"#bd3786\"], [0.5555555555555556, \"#d8576b\"], [0.6666666666666666, \"#ed7953\"], [0.7777777777777778, \"#fb9f3a\"], [0.8888888888888888, \"#fdca26\"], [1.0, \"#f0f921\"]], \"type\": \"contour\"}], \"contourcarpet\": [{\"colorbar\": {\"outlinewidth\": 0, \"ticks\": \"\"}, \"type\": \"contourcarpet\"}], \"heatmap\": [{\"colorbar\": {\"outlinewidth\": 0, \"ticks\": \"\"}, \"colorscale\": [[0.0, \"#0d0887\"], [0.1111111111111111, \"#46039f\"], [0.2222222222222222, \"#7201a8\"], [0.3333333333333333, \"#9c179e\"], [0.4444444444444444, \"#bd3786\"], [0.5555555555555556, \"#d8576b\"], [0.6666666666666666, \"#ed7953\"], [0.7777777777777778, \"#fb9f3a\"], [0.8888888888888888, \"#fdca26\"], [1.0, \"#f0f921\"]], \"type\": \"heatmap\"}], \"heatmapgl\": [{\"colorbar\": {\"outlinewidth\": 0, \"ticks\": \"\"}, \"colorscale\": [[0.0, \"#0d0887\"], [0.1111111111111111, \"#46039f\"], [0.2222222222222222, \"#7201a8\"], [0.3333333333333333, \"#9c179e\"], [0.4444444444444444, \"#bd3786\"], [0.5555555555555556, \"#d8576b\"], [0.6666666666666666, \"#ed7953\"], [0.7777777777777778, \"#fb9f3a\"], [0.8888888888888888, \"#fdca26\"], [1.0, \"#f0f921\"]], \"type\": \"heatmapgl\"}], \"histogram\": [{\"marker\": {\"colorbar\": {\"outlinewidth\": 0, \"ticks\": \"\"}}, \"type\": \"histogram\"}], \"histogram2d\": [{\"colorbar\": {\"outlinewidth\": 0, \"ticks\": \"\"}, \"colorscale\": [[0.0, \"#0d0887\"], [0.1111111111111111, \"#46039f\"], [0.2222222222222222, \"#7201a8\"], [0.3333333333333333, \"#9c179e\"], [0.4444444444444444, \"#bd3786\"], [0.5555555555555556, \"#d8576b\"], [0.6666666666666666, \"#ed7953\"], [0.7777777777777778, \"#fb9f3a\"], [0.8888888888888888, \"#fdca26\"], [1.0, \"#f0f921\"]], \"type\": \"histogram2d\"}], \"histogram2dcontour\": [{\"colorbar\": {\"outlinewidth\": 0, \"ticks\": \"\"}, \"colorscale\": [[0.0, \"#0d0887\"], [0.1111111111111111, \"#46039f\"], [0.2222222222222222, \"#7201a8\"], [0.3333333333333333, \"#9c179e\"], [0.4444444444444444, \"#bd3786\"], [0.5555555555555556, \"#d8576b\"], [0.6666666666666666, \"#ed7953\"], [0.7777777777777778, \"#fb9f3a\"], [0.8888888888888888, \"#fdca26\"], [1.0, \"#f0f921\"]], \"type\": \"histogram2dcontour\"}], \"mesh3d\": [{\"colorbar\": {\"outlinewidth\": 0, \"ticks\": \"\"}, \"type\": \"mesh3d\"}], \"parcoords\": [{\"line\": {\"colorbar\": {\"outlinewidth\": 0, \"ticks\": \"\"}}, \"type\": \"parcoords\"}], \"pie\": [{\"automargin\": true, \"type\": \"pie\"}], \"scatter\": [{\"marker\": {\"colorbar\": {\"outlinewidth\": 0, \"ticks\": \"\"}}, \"type\": \"scatter\"}], \"scatter3d\": [{\"line\": {\"colorbar\": {\"outlinewidth\": 0, \"ticks\": \"\"}}, \"marker\": {\"colorbar\": {\"outlinewidth\": 0, \"ticks\": \"\"}}, \"type\": \"scatter3d\"}], \"scattercarpet\": [{\"marker\": {\"colorbar\": {\"outlinewidth\": 0, \"ticks\": \"\"}}, \"type\": \"scattercarpet\"}], \"scattergeo\": [{\"marker\": {\"colorbar\": {\"outlinewidth\": 0, \"ticks\": \"\"}}, \"type\": \"scattergeo\"}], \"scattergl\": [{\"marker\": {\"colorbar\": {\"outlinewidth\": 0, \"ticks\": \"\"}}, \"type\": \"scattergl\"}], \"scattermapbox\": [{\"marker\": {\"colorbar\": {\"outlinewidth\": 0, \"ticks\": \"\"}}, \"type\": \"scattermapbox\"}], \"scatterpolar\": [{\"marker\": {\"colorbar\": {\"outlinewidth\": 0, \"ticks\": \"\"}}, \"type\": \"scatterpolar\"}], \"scatterpolargl\": [{\"marker\": {\"colorbar\": {\"outlinewidth\": 0, \"ticks\": \"\"}}, \"type\": \"scatterpolargl\"}], \"scatterternary\": [{\"marker\": {\"colorbar\": {\"outlinewidth\": 0, \"ticks\": \"\"}}, \"type\": \"scatterternary\"}], \"surface\": [{\"colorbar\": {\"outlinewidth\": 0, \"ticks\": \"\"}, \"colorscale\": [[0.0, \"#0d0887\"], [0.1111111111111111, \"#46039f\"], [0.2222222222222222, \"#7201a8\"], [0.3333333333333333, \"#9c179e\"], [0.4444444444444444, \"#bd3786\"], [0.5555555555555556, \"#d8576b\"], [0.6666666666666666, \"#ed7953\"], [0.7777777777777778, \"#fb9f3a\"], [0.8888888888888888, \"#fdca26\"], [1.0, \"#f0f921\"]], \"type\": \"surface\"}], \"table\": [{\"cells\": {\"fill\": {\"color\": \"#EBF0F8\"}, \"line\": {\"color\": \"white\"}}, \"header\": {\"fill\": {\"color\": \"#C8D4E3\"}, \"line\": {\"color\": \"white\"}}, \"type\": \"table\"}]}, \"layout\": {\"annotationdefaults\": {\"arrowcolor\": \"#2a3f5f\", \"arrowhead\": 0, \"arrowwidth\": 1}, \"autotypenumbers\": \"strict\", \"coloraxis\": {\"colorbar\": {\"outlinewidth\": 0, \"ticks\": \"\"}}, \"colorscale\": {\"diverging\": [[0, \"#8e0152\"], [0.1, \"#c51b7d\"], [0.2, \"#de77ae\"], [0.3, \"#f1b6da\"], [0.4, \"#fde0ef\"], [0.5, \"#f7f7f7\"], [0.6, \"#e6f5d0\"], [0.7, \"#b8e186\"], [0.8, \"#7fbc41\"], [0.9, \"#4d9221\"], [1, \"#276419\"]], \"sequential\": [[0.0, \"#0d0887\"], [0.1111111111111111, \"#46039f\"], [0.2222222222222222, \"#7201a8\"], [0.3333333333333333, \"#9c179e\"], [0.4444444444444444, \"#bd3786\"], [0.5555555555555556, \"#d8576b\"], [0.6666666666666666, \"#ed7953\"], [0.7777777777777778, \"#fb9f3a\"], [0.8888888888888888, \"#fdca26\"], [1.0, \"#f0f921\"]], \"sequentialminus\": [[0.0, \"#0d0887\"], [0.1111111111111111, \"#46039f\"], [0.2222222222222222, \"#7201a8\"], [0.3333333333333333, \"#9c179e\"], [0.4444444444444444, \"#bd3786\"], [0.5555555555555556, \"#d8576b\"], [0.6666666666666666, \"#ed7953\"], [0.7777777777777778, \"#fb9f3a\"], [0.8888888888888888, \"#fdca26\"], [1.0, \"#f0f921\"]]}, \"colorway\": [\"#636efa\", \"#EF553B\", \"#00cc96\", \"#ab63fa\", \"#FFA15A\", \"#19d3f3\", \"#FF6692\", \"#B6E880\", \"#FF97FF\", \"#FECB52\"], \"font\": {\"color\": \"#2a3f5f\"}, \"geo\": {\"bgcolor\": \"white\", \"lakecolor\": \"white\", \"landcolor\": \"#E5ECF6\", \"showlakes\": true, \"showland\": true, \"subunitcolor\": \"white\"}, \"hoverlabel\": {\"align\": \"left\"}, \"hovermode\": \"closest\", \"mapbox\": {\"style\": \"light\"}, \"paper_bgcolor\": \"white\", \"plot_bgcolor\": \"#E5ECF6\", \"polar\": {\"angularaxis\": {\"gridcolor\": \"white\", \"linecolor\": \"white\", \"ticks\": \"\"}, \"bgcolor\": \"#E5ECF6\", \"radialaxis\": {\"gridcolor\": \"white\", \"linecolor\": \"white\", \"ticks\": \"\"}}, \"scene\": {\"xaxis\": {\"backgroundcolor\": \"#E5ECF6\", \"gridcolor\": \"white\", \"gridwidth\": 2, \"linecolor\": \"white\", \"showbackground\": true, \"ticks\": \"\", \"zerolinecolor\": \"white\"}, \"yaxis\": {\"backgroundcolor\": \"#E5ECF6\", \"gridcolor\": \"white\", \"gridwidth\": 2, \"linecolor\": \"white\", \"showbackground\": true, \"ticks\": \"\", \"zerolinecolor\": \"white\"}, \"zaxis\": {\"backgroundcolor\": \"#E5ECF6\", \"gridcolor\": \"white\", \"gridwidth\": 2, \"linecolor\": \"white\", \"showbackground\": true, \"ticks\": \"\", \"zerolinecolor\": \"white\"}}, \"shapedefaults\": {\"line\": {\"color\": \"#2a3f5f\"}}, \"ternary\": {\"aaxis\": {\"gridcolor\": \"white\", \"linecolor\": \"white\", \"ticks\": \"\"}, \"baxis\": {\"gridcolor\": \"white\", \"linecolor\": \"white\", \"ticks\": \"\"}, \"bgcolor\": \"#E5ECF6\", \"caxis\": {\"gridcolor\": \"white\", \"linecolor\": \"white\", \"ticks\": \"\"}}, \"title\": {\"x\": 0.05}, \"xaxis\": {\"automargin\": true, \"gridcolor\": \"white\", \"linecolor\": \"white\", \"ticks\": \"\", \"title\": {\"standoff\": 15}, \"zerolinecolor\": \"white\", \"zerolinewidth\": 2}, \"yaxis\": {\"automargin\": true, \"gridcolor\": \"white\", \"linecolor\": \"white\", \"ticks\": \"\", \"title\": {\"standoff\": 15}, \"zerolinecolor\": \"white\", \"zerolinewidth\": 2}}}, \"title\": {\"text\": \"Gun Violence Incident Rate per 100,000 People from 2014-2017 by State\"}},                        {\"responsive\": true}                    ).then(function(){\n                            \nvar gd = document.getElementById('bd4b6971-36d2-41e3-9cf0-eb3fb17eb327');\nvar x = new MutationObserver(function (mutations, observer) {{\n        var display = window.getComputedStyle(gd).display;\n        if (!display || display === 'none') {{\n            console.log([gd, 'removed!']);\n            Plotly.purge(gd);\n            observer.disconnect();\n        }}\n}});\n\n// Listen for the removal of the full notebook cells\nvar notebookContainer = gd.closest('#notebook-container');\nif (notebookContainer) {{\n    x.observe(notebookContainer, {childList: true});\n}}\n\n// Listen for the clearing of the current output cell\nvar outputEl = gd.closest('.output');\nif (outputEl) {{\n    x.observe(outputEl, {childList: true});\n}}\n\n                        })                };                            </script>        </div>\n</body>\n</html>"
     },
     "metadata": {},
     "output_type": "display_data"
    }
   ],
   "execution_count": 14
  },
  {
   "cell_type": "markdown",
   "source": "",
   "metadata": {
    "tags": [],
    "cell_id": "00026-7683cd67-6fc3-4b7b-9e43-e571ee9e05e5",
    "deepnote_cell_type": "markdown"
   }
  },
  {
   "cell_type": "markdown",
   "source": "![Gun Violence Rate State Map](data/image-20210526-055528.png)",
   "metadata": {
    "tags": [],
    "cell_id": "00027-2cb1083e-76f2-4ac0-b290-097cc5abf796",
    "deepnote_cell_type": "markdown"
   }
  },
  {
   "cell_type": "markdown",
   "source": "Here is a visualization of the gun violence incident rates across the US as a map. One pattern present here is a clustering of high incident rates in the southeast, which fits expectations as that region has a stronger culture of gun ownership than further north or the west coast.",
   "metadata": {
    "tags": [],
    "cell_id": "00021-83658795-aeb2-4cac-8e55-896f12822211",
    "deepnote_cell_type": "markdown"
   }
  },
  {
   "cell_type": "markdown",
   "source": "#### Total Number of Incidents by City or County",
   "metadata": {
    "tags": [],
    "cell_id": "00039-93e0d130-3994-47da-aece-8c6357f31146",
    "deepnote_cell_type": "markdown"
   }
  },
  {
   "cell_type": "code",
   "source": "\ndf=mdf\ndf.groupby('city_or_county')['incident_id'].count().reset_index().sort_values('incident_id').tail(10).plot.barh(x='city_or_county',y='incident_id',figsize=(5,10))\nplt.xlabel('Number of Incidents')\nplt.ylabel('City or County')\nplt.legend('')",
   "metadata": {
    "tags": [],
    "cell_id": "00013-ff7e6e34-6ce7-4673-b4fe-ac7458a64275",
    "deepnote_to_be_reexecuted": false,
    "source_hash": "b4ddbf38",
    "execution_start": 1622031711855,
    "execution_millis": 559,
    "deepnote_cell_type": "code"
   },
   "outputs": [
    {
     "output_type": "execute_result",
     "execution_count": 15,
     "data": {
      "text/plain": "<matplotlib.legend.Legend at 0x7fde5c15f590>"
     },
     "metadata": {}
    },
    {
     "data": {
      "text/plain": "<Figure size 360x720 with 1 Axes>",
      "image/png": "[encoded data removed]"
     },
     "metadata": {
      "needs_background": "light",
      "image/png": {
       "width": 377,
       "height": 589
      }
     },
     "output_type": "display_data"
    }
   ],
   "execution_count": 15
  },
  {
   "cell_type": "markdown",
   "source": "The ranking of cities confirms my suspicions from earlier, that Illinois has so many incidents mainly due to Chicago. In addition, Louisiana's high spot is supported by the presence of New Orleans high on this chart as well.  \n",
   "metadata": {
    "tags": [],
    "cell_id": "00023-c4346c25-ec15-40ee-a384-fcf027bbbe35",
    "deepnote_cell_type": "markdown"
   }
  },
  {
   "cell_type": "markdown",
   "source": "#### Male vs Female Participants in Gun Violence",
   "metadata": {
    "tags": [],
    "cell_id": "00042-46b57ca6-ba10-4cfc-9a23-2b36ec523ee7",
    "deepnote_cell_type": "markdown"
   }
  },
  {
   "cell_type": "code",
   "source": "\ndf=df.dropna(subset=['participant_gender'])\n\ndef count_male(string):\n    t=string.count('Male')\n    return t\n\ndef count_female(string):\n    t=string.count('Female')\n    return t\n\n\ndf['male_participants']=df['participant_gender'].apply(count_male)\ndf['female_participants']=df['participant_gender'].apply(count_female)\n\nnum_female=df['female_participants'].sum()\nnum_male=df['male_participants'].sum()\nmpercent=num_male/(num_female+num_male)*100\nfpercent=num_female/(num_female+num_male)*100\nplt.pie([mpercent,fpercent],labels=['Male','Female'],shadow=True)",
   "metadata": {
    "tags": [],
    "cell_id": "00014-9c46fb25-6b11-4b22-b2ef-6757639129e7",
    "deepnote_to_be_reexecuted": false,
    "source_hash": "634e4c8e",
    "execution_start": 1622031712421,
    "execution_millis": 640,
    "deepnote_cell_type": "code"
   },
   "outputs": [
    {
     "output_type": "execute_result",
     "execution_count": 16,
     "data": {
      "text/plain": "([<matplotlib.patches.Wedge at 0x7fde5bfef310>,\n  <matplotlib.patches.Wedge at 0x7fde5bfefdd0>],\n [Text(-1.019817466479084, 0.41227701253427024, 'Male'),\n  Text(1.0198174857791624, -0.4122769647931693, 'Female')])"
     },
     "metadata": {}
    },
    {
     "data": {
      "text/plain": "<Figure size 432x288 with 1 Axes>",
      "image/png": "[encoded data removed]"
     },
     "metadata": {
      "image/png": {
       "width": 251,
       "height": 231
      }
     },
     "output_type": "display_data"
    }
   ],
   "execution_count": 16
  },
  {
   "cell_type": "markdown",
   "source": "While I was expecting some level of gender imbalance in gun violence incidents, I didn't expect it to be this drastic. Roughly 88 percent of participants in incidents are male. This imbalance is most likely stemming from a variety of factors, such as cultural influences of what masculinity looks like and biological differences in risk taking behavior.",
   "metadata": {
    "tags": [],
    "cell_id": "00025-9c1f7bd3-8551-4559-81cd-83ee88bd689b",
    "deepnote_cell_type": "markdown"
   }
  },
  {
   "cell_type": "markdown",
   "source": "### Ethical Concerns:  \nThere are a few key ethical concerns when it comes to analyzing data sets such as this one. One major risk is the creation of harmful stereotypes of places or people. For example, in this analysis it was shown that a significant proportion of Illinois' gun violence incidents happen in Chicago. This could foster resentment in people who live outside of the urban areas, furthering an already existing rural urban divide in the United States. Additionally, the highly imbalanced gender ratio of gun violence could result in women feeling less safe altogether.  \n\nAnother concern is that gun control is a very politically charged and tense issue, and a report like one the CDC might produce that takes a side could reduce trust in the institution with people who are at the most risk, especially now, when people need to get vaccinated for COVID-19.  \n\n### Conclusion:\n\nThe analysis of this dataset has produced a number of useful trends, many of which merit further study. The overall rise in national gun violence incidents over the years presents an issue that could take a lot of analysis to determine the causes of. There is also plenty of room for study on individual states and cities, in order to find ways to make the US a safer place. More detailed demographics studies on smaller scales could allow local and state governments to create programs or laws that address some of the root causes of gun violence, such as mental health and economic inequality.",
   "metadata": {
    "tags": [],
    "cell_id": "00015-3aaf1217-e707-4925-ae28-5d91a6822153",
    "deepnote_cell_type": "markdown"
   }
  },
  {
   "cell_type": "markdown",
   "source": "Sources:  \n1: https://www.gq.com/story/inside-federal-bureau-of-way-too-many-guns  \n2: https://www.census.gov/data/tables/time-series/demo/popest/2010s-state-total.html  \n3: https://www.psychologicalscience.org/observer/global-warming-and-violent-behavior  \n4: https://www.gunviolencearchive.org/  \n5: https://www.nbcnews.com/politics/meet-the-press/blog/meet-press-blog-latest-news-analysis-data-driving-political-discussion-n988541/ncrd1223551#blogHeader  \n6: https://www.ncbi.nlm.nih.gov/pmc/articles/PMC5993413/\n\n\n\n",
   "metadata": {
    "tags": [],
    "cell_id": "00001-196cba02-5d7e-4514-a9f6-511ed5f78dc3",
    "deepnote_cell_type": "markdown"
   }
  },
  {
   "cell_type": "code",
   "source": "!jupyter nbconvert --to html Final-GunViolenceStats.ipynb",
   "metadata": {
    "tags": [],
    "cell_id": "00046-f49c7f46-315b-437e-b361-d4efbdb5ff37",
    "deepnote_to_be_reexecuted": false,
    "source_hash": "95c9a10e",
    "execution_start": 1622031713072,
    "execution_millis": 4874,
    "deepnote_cell_type": "code"
   },
   "outputs": [
    {
     "name": "stdout",
     "text": "[NbConvertApp] Converting notebook Final-GunViolenceStats.ipynb to html\n[NbConvertApp] ERROR | Notebook JSON is invalid: Additional properties are not allowed ('execution_count', 'outputs' were unexpected)\n\nFailed validating 'additionalProperties' in markdown_cell:\n\nOn instance['cells'][5]:\n{'cell_type': 'markdown',\n 'execution_count': 187,\n 'metadata': {'cell_id': '00006-563160d2-df01-4856-95ba-c5148fed735e',\n              'deepnote_cell_type': 'markdown',\n              'deepnote_to_be_reexecuted': False,\n              'execution_millis': 0,\n              'execution_start': 1622028151542,\n              'source_hash': '6aa78a58',\n              'tags': []},\n 'outputs': ['...0 outputs...'],\n 'source': '#### Displaying Data Sets'}\n[NbConvertApp] Writing 840460 bytes to Final-GunViolenceStats.html\n",
     "output_type": "stream"
    }
   ],
   "execution_count": 17
  },
  {
   "cell_type": "markdown",
   "source": "<a style='text-decoration:none;line-height:16px;display:flex;color:#5B5B62;padding:10px;justify-content:end;' href='https://deepnote.com?utm_source=created-in-deepnote-cell&projectId=8fad058d-ad55-449d-a4e6-d77086f48415' target=\"_blank\">\n<img alt='Created in deepnote.com' style='display:inline;max-height:16px;margin:0px;margin-right:7.5px;' src='data:image/svg+xml;base64,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' > </img>\nCreated in <span style='font-weight:600;margin-left:4px;'>Deepnote</span></a>",
   "metadata": {
    "tags": [],
    "created_in_deepnote_cell": true,
    "deepnote_cell_type": "markdown"
   }
  }
 ],
 "nbformat": 4,
 "nbformat_minor": 2,
 "metadata": {
  "orig_nbformat": 2,
  "deepnote": {
   "is_reactive": false
  },
  "deepnote_notebook_id": "c7679f64-f442-4dd6-b21d-0557fecabc51",
  "deepnote_execution_queue": []
 }
}