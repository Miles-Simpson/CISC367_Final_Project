{
 "cells": [
  {
   "cell_type": "markdown",
   "source": "## Identifying Trends in Gun Violence Incidents in the USA from 2014 to 2018\n\nBy Miles Simpson\n\n### Background\n\nOutline:  \nAmerica's history with gun violence/guns in general  \nActions to reduce/mitigate gun violence  \nThis dataset in particular  \n\nEthical Concerns:  \nEmphasizing certain dates as risk periods could create   \nDemographic analysis creates risks of stereotyping groups of people/locations  \n\n\n\n\nGun violence is a hot button issue in modern day America, especially in the wake of such highly publicised mass shootings such as the Pulse shooting in 2016. This has resulted in difficulty maintaining objectivity when approaching the implementation of measures to reduce incidents, either by restricting the types of guns or by creating more robust methods of tracking.  \n\nI plan to explore this topic using a dataset from Kaggle to identify trends in number of gun violence incidences by time, location, and demographics. \n\n",
   "metadata": {
    "tags": [],
    "cell_id": "00001-c7fde6f9-347d-4c2a-baea-c606f05ce139",
    "deepnote_cell_type": "markdown"
   }
  },
  {
   "cell_type": "code",
   "metadata": {
    "tags": [],
    "cell_id": "00000-9ccfa8cb-74f8-440d-ae2e-99f248ca7057",
    "deepnote_to_be_reexecuted": false,
    "source_hash": "ad334754",
    "execution_start": 1622029956998,
    "execution_millis": 5197,
    "deepnote_cell_type": "code"
   },
   "source": "# Start writing code here...\nimport pandas as pd\nimport numpy as np\nimport scipy.stats as st\nimport matplotlib.pyplot as plt\nimport scipy\nimport geopandas as gpd\nimport datetime\nimport calendar\nimport shapely\nimport plotly.graph_objects as go\nimport seaborn as sns\nimport string\n#import warnings\n#warnings.filterwarnings('ignore')\n\ndf=pd.read_csv(\"/work/CISC367_Final_Project/data/gun-violence-data_01-2013_03-2018.csv\")",
   "execution_count": 1,
   "outputs": []
  },
  {
   "cell_type": "code",
   "metadata": {
    "tags": [],
    "cell_id": "00002-c6fa7f90-bb1b-4901-80ae-0e393d6a50e0",
    "deepnote_to_be_reexecuted": false,
    "source_hash": "8878dc44",
    "execution_start": 1622029962199,
    "execution_millis": 168,
    "deepnote_cell_type": "code"
   },
   "source": "\ndf.info",
   "execution_count": 2,
   "outputs": [
    {
     "output_type": "execute_result",
     "execution_count": 2,
     "data": {
      "text/plain": "<bound method DataFrame.info of         incident_id        date           state city_or_county  \\\n0            461105  2013-01-01    Pennsylvania     Mckeesport   \n1            460726  2013-01-01      California      Hawthorne   \n2            478855  2013-01-01            Ohio         Lorain   \n3            478925  2013-01-05        Colorado         Aurora   \n4            478959  2013-01-07  North Carolina     Greensboro   \n...             ...         ...             ...            ...   \n239672      1083142  2018-03-31       Louisiana          Rayne   \n239673      1083139  2018-03-31       Louisiana   Natchitoches   \n239674      1083151  2018-03-31       Louisiana         Gretna   \n239675      1082514  2018-03-31           Texas        Houston   \n239676      1081940  2018-03-31           Maine   Norridgewock   \n\n                                          address  n_killed  n_injured  \\\n0       1506 Versailles Avenue and Coursin Street         0          4   \n1                    13500 block of Cerise Avenue         1          3   \n2                           1776 East 28th Street         1          3   \n3                16000 block of East Ithaca Place         4          0   \n4                       307 Mourning Dove Terrace         2          2   \n...                                           ...       ...        ...   \n239672         North Riceland Road and Highway 90         0          0   \n239673                             247 Keyser Ave         1          0   \n239674                  1300 block of Cook Street         0          1   \n239675                     12630 Ashford Point Dr         1          0   \n239676                           434 Skowhegan Rd         2          0   \n\n                                             incident_url  \\\n0       http://www.gunviolencearchive.org/incident/461105   \n1       http://www.gunviolencearchive.org/incident/460726   \n2       http://www.gunviolencearchive.org/incident/478855   \n3       http://www.gunviolencearchive.org/incident/478925   \n4       http://www.gunviolencearchive.org/incident/478959   \n...                                                   ...   \n239672  http://www.gunviolencearchive.org/incident/108...   \n239673  http://www.gunviolencearchive.org/incident/108...   \n239674  http://www.gunviolencearchive.org/incident/108...   \n239675  http://www.gunviolencearchive.org/incident/108...   \n239676  http://www.gunviolencearchive.org/incident/108...   \n\n                                               source_url  \\\n0       http://www.post-gazette.com/local/south/2013/0...   \n1       http://www.dailybulletin.com/article/zz/201301...   \n2       http://chronicle.northcoastnow.com/2013/02/14/...   \n3       http://www.dailydemocrat.com/20130106/aurora-s...   \n4       http://www.journalnow.com/news/local/article_d...   \n...                                                   ...   \n239672  http://www.klfy.com/news/local/rayne-woman-cha...   \n239673  http://www.ksla.com/story/37854648/man-wanted-...   \n239674  http://www.nola.com/crime/index.ssf/2018/04/sh...   \n239675  https://www.chron.com/news/houston-texas/houst...   \n239676  https://www.centralmaine.com/2018/03/31/police...   \n\n        incident_url_fields_missing  ...                    participant_age  \\\n0                             False  ...                              0::20   \n1                             False  ...                              0::20   \n2                             False  ...  0::25||1::31||2::33||3::34||4::33   \n3                             False  ...         0::29||1::33||2::56||3::33   \n4                             False  ...         0::18||1::46||2::14||3::47   \n...                             ...  ...                                ...   \n239672                        False  ...                              0::25   \n239673                        False  ...                              1::21   \n239674                        False  ...                              0::21   \n239675                        False  ...                              0::42   \n239676                        False  ...                       0::58||1::62   \n\n                                    participant_age_group  \\\n0       0::Adult 18+||1::Adult 18+||2::Adult 18+||3::A...   \n1       0::Adult 18+||1::Adult 18+||2::Adult 18+||3::A...   \n2       0::Adult 18+||1::Adult 18+||2::Adult 18+||3::A...   \n3       0::Adult 18+||1::Adult 18+||2::Adult 18+||3::A...   \n4       0::Adult 18+||1::Adult 18+||2::Teen 12-17||3::...   \n...                                                   ...   \n239672                                       0::Adult 18+   \n239673                         0::Adult 18+||1::Adult 18+   \n239674                                       0::Adult 18+   \n239675                                       0::Adult 18+   \n239676                         0::Adult 18+||1::Adult 18+   \n\n                                 participant_gender  \\\n0              0::Male||1::Male||3::Male||4::Female   \n1                                           0::Male   \n2       0::Male||1::Male||2::Male||3::Male||4::Male   \n3              0::Female||1::Male||2::Male||3::Male   \n4            0::Female||1::Male||2::Male||3::Female   \n...                                             ...   \n239672                                    0::Female   \n239673                             0::Male||1::Male   \n239674                                      0::Male   \n239675                                      0::Male   \n239676                           0::Female||1::Male   \n\n                                         participant_name  \\\n0                                          0::Julian Sims   \n1                                       0::Bernard Gillis   \n2       0::Damien Bell||1::Desmen Noble||2::Herman Sea...   \n3       0::Stacie Philbrook||1::Christopher Ratliffe||...   \n4       0::Danielle Imani Jameison||1::Maurice Eugene ...   \n...                                                   ...   \n239672                                   0::Jhkeya Tezeno   \n239673     0::Jamal Haskett||1::Jaquarious Tyjuan Ardison   \n239674                                                NaN   \n239675                                     0::Leroy Ellis   \n239676           0::Marie Lancaster Hale||1::William Hale   \n\n                         participant_relationship  \\\n0                                             NaN   \n1                                             NaN   \n2                                             NaN   \n3                                             NaN   \n4                                       3::Family   \n...                                           ...   \n239672                                        NaN   \n239673                                        NaN   \n239674                                        NaN   \n239675                                        NaN   \n239676  1::Significant others - current or former   \n\n                                       participant_status  \\\n0       0::Arrested||1::Injured||2::Injured||3::Injure...   \n1           0::Killed||1::Injured||2::Injured||3::Injured   \n2       0::Injured, Unharmed, Arrested||1::Unharmed, A...   \n3              0::Killed||1::Killed||2::Killed||3::Killed   \n4            0::Injured||1::Injured||2::Killed||3::Killed   \n...                                                   ...   \n239672                              0::Unharmed, Arrested   \n239673                   0::Killed||1::Unharmed, Arrested   \n239674                                         0::Injured   \n239675                                          0::Killed   \n239676                               0::Killed||1::Killed   \n\n                                         participant_type  \\\n0       0::Victim||1::Victim||2::Victim||3::Victim||4:...   \n1       0::Victim||1::Victim||2::Victim||3::Victim||4:...   \n2       0::Subject-Suspect||1::Subject-Suspect||2::Vic...   \n3       0::Victim||1::Victim||2::Victim||3::Subject-Su...   \n4       0::Victim||1::Victim||2::Victim||3::Subject-Su...   \n...                                                   ...   \n239672                                 0::Subject-Suspect   \n239673                      0::Victim||1::Subject-Suspect   \n239674                                          0::Victim   \n239675                                          0::Victim   \n239676                      0::Victim||1::Subject-Suspect   \n\n                                                  sources  \\\n0       http://pittsburgh.cbslocal.com/2013/01/01/4-pe...   \n1       http://losangeles.cbslocal.com/2013/01/01/man-...   \n2       http://www.morningjournal.com/general-news/201...   \n3       http://denver.cbslocal.com/2013/01/06/officer-...   \n4       http://myfox8.com/2013/01/08/update-mother-sho...   \n...                                                   ...   \n239672  http://www.klfy.com/news/local/rayne-woman-cha...   \n239673  http://www.ksla.com/story/37854648/man-wanted-...   \n239674  http://www.nola.com/crime/index.ssf/2018/04/sh...   \n239675  http://www.khou.com/article/news/hpd-investiga...   \n239676  https://www.centralmaine.com/2018/03/31/police...   \n\n       state_house_district state_senate_district  \n0                       NaN                   NaN  \n1                      62.0                  35.0  \n2                      56.0                  13.0  \n3                      40.0                  28.0  \n4                      62.0                  27.0  \n...                     ...                   ...  \n239672                  NaN                   NaN  \n239673                 23.0                  31.0  \n239674                 85.0                   7.0  \n239675                149.0                  17.0  \n239676                111.0                   3.0  \n\n[239677 rows x 29 columns]>"
     },
     "metadata": {}
    }
   ]
  },
  {
   "cell_type": "code",
   "metadata": {
    "tags": [],
    "cell_id": "00003-1c79e0ee-3490-49a5-a958-295161fb0e10",
    "deepnote_to_be_reexecuted": false,
    "source_hash": "5cdbc3ff",
    "execution_start": 1622029962391,
    "execution_millis": 285,
    "deepnote_cell_type": "code"
   },
   "source": "df.groupby('date')['incident_id'].count().plot()",
   "execution_count": 3,
   "outputs": [
    {
     "output_type": "execute_result",
     "execution_count": 3,
     "data": {
      "text/plain": "<AxesSubplot:xlabel='date'>"
     },
     "metadata": {}
    },
    {
     "data": {
      "text/plain": "<Figure size 432x288 with 1 Axes>",
      "image/png": "[encoded data removed]"
     },
     "metadata": {
      "needs_background": "light",
      "image/png": {
       "width": 375,
       "height": 262
      }
     },
     "output_type": "display_data"
    }
   ]
  },
  {
   "cell_type": "markdown",
   "source": "Variance within years? spikes on certain days?",
   "metadata": {
    "tags": [],
    "cell_id": "00004-71ffcb56-f9ac-4d4d-baa5-7199dcec0953",
    "deepnote_cell_type": "markdown"
   }
  },
  {
   "cell_type": "code",
   "metadata": {
    "tags": [],
    "cell_id": "00005-663c0f53-24f0-41ee-958b-c8129d344a8f",
    "deepnote_to_be_reexecuted": false,
    "source_hash": "6180ffed",
    "execution_start": 1622029962690,
    "execution_millis": 8264,
    "deepnote_cell_type": "code"
   },
   "source": "\ndef findDay(date):\n    day_name = datetime.datetime.strptime(date, '%Y-%m-%d').weekday()\n    return (calendar.day_name[day_name])\n  \n# from here: https://www.geeksforgeeks.org/python-program-to-find-day-of-the-week-for-a-given-date/\ndotw_df=df['date'].apply(findDay)\n#that makes it just the column\ndotw_df=df\ndotw_df['date']=df['date'].apply(findDay)\n#This actually modifies the original df but I'll just reread it from the csv later\n\n",
   "execution_count": 4,
   "outputs": []
  },
  {
   "cell_type": "code",
   "metadata": {
    "tags": [],
    "cell_id": "00006-a9753fa7-6279-4b46-b566-f0aa43bbdf2e",
    "deepnote_to_be_reexecuted": false,
    "source_hash": "46a643f5",
    "execution_start": 1622029970998,
    "execution_millis": 359,
    "deepnote_cell_type": "code"
   },
   "source": "df.groupby('date')['incident_id'].count().plot.bar()\n#works but out of order\n#solution from here: https://stackoverflow.com/questions/47741400/pandas-dataframe-group-and-sort-by-weekday\n\n\n\nfrom pandas.api.types import CategoricalDtype\ncats = [ 'Monday', 'Tuesday', 'Wednesday', 'Thursday', 'Friday', 'Saturday', 'Sunday']\ncat_type = CategoricalDtype(categories=cats, ordered=True)\ndf['date'] = df['date'].astype(cat_type)\ndf.groupby('date')['incident_id'].count().plot.bar()",
   "execution_count": 5,
   "outputs": [
    {
     "output_type": "execute_result",
     "execution_count": 5,
     "data": {
      "text/plain": "<AxesSubplot:xlabel='date'>"
     },
     "metadata": {}
    },
    {
     "data": {
      "text/plain": "<Figure size 432x288 with 1 Axes>",
      "image/png": "[encoded data removed]"
     },
     "metadata": {
      "needs_background": "light",
      "image/png": {
       "width": 387,
       "height": 310
      }
     },
     "output_type": "display_data"
    }
   ]
  },
  {
   "cell_type": "code",
   "metadata": {
    "tags": [],
    "cell_id": "00007-2b99c330-8428-48f3-97f7-5b1b2eeb61dd",
    "deepnote_to_be_reexecuted": false,
    "source_hash": "f2750e0",
    "execution_start": 1622029971357,
    "execution_millis": 3841,
    "deepnote_cell_type": "code"
   },
   "source": "# average number instead of total? reset df\ndf=pd.read_csv(\"/work/CISC367_Final_Project/data/gun-violence-data_01-2013_03-2018.csv\")\ntemp=df.groupby('date')['incident_id'].count().reset_index()\ntemp\n#somewhat works, skipping to after next one to do better one-shot cleaning",
   "execution_count": 6,
   "outputs": [
    {
     "output_type": "execute_result",
     "execution_count": 6,
     "data": {
      "application/vnd.deepnote.dataframe.v2+json": {
       "row_count": 1725,
       "column_count": 2,
       "columns": [
        {
         "name": "date",
         "dtype": "object",
         "stats": {
          "unique_count": 1725,
          "nan_count": 0,
          "categories": [
           {
            "name": "2013-01-01",
            "count": 1
           },
           {
            "name": "2013-01-05",
            "count": 1
           },
           {
            "name": "1723 others",
            "count": 1723
           }
          ]
         }
        },
        {
         "name": "incident_id",
         "dtype": "int64",
         "stats": {
          "unique_count": 146,
          "nan_count": 0,
          "min": "1",
          "max": "342",
          "histogram": [
           {
            "bin_start": 1,
            "bin_end": 35.1,
            "count": 177
           },
           {
            "bin_start": 35.1,
            "bin_end": 69.2,
            "count": 0
           },
           {
            "bin_start": 69.2,
            "bin_end": 103.30000000000001,
            "count": 37
           },
           {
            "bin_start": 103.30000000000001,
            "bin_end": 137.4,
            "count": 355
           },
           {
            "bin_start": 137.4,
            "bin_end": 171.5,
            "count": 773
           },
           {
            "bin_start": 171.5,
            "bin_end": 205.60000000000002,
            "count": 344
           },
           {
            "bin_start": 205.60000000000002,
            "bin_end": 239.70000000000002,
            "count": 35
           },
           {
            "bin_start": 239.70000000000002,
            "bin_end": 273.8,
            "count": 3
           },
           {
            "bin_start": 273.8,
            "bin_end": 307.90000000000003,
            "count": 0
           },
           {
            "bin_start": 307.90000000000003,
            "bin_end": 342,
            "count": 1
           }
          ]
         }
        },
        {
         "name": "_deepnote_index_column",
         "dtype": "int64"
        }
       ],
       "rows_top": [
        {
         "date": "2013-01-01",
         "incident_id": 3,
         "_deepnote_index_column": 0
        },
        {
         "date": "2013-01-05",
         "incident_id": 1,
         "_deepnote_index_column": 1
        },
        {
         "date": "2013-01-07",
         "incident_id": 2,
         "_deepnote_index_column": 2
        },
        {
         "date": "2013-01-19",
         "incident_id": 1,
         "_deepnote_index_column": 3
        },
        {
         "date": "2013-01-21",
         "incident_id": 2,
         "_deepnote_index_column": 4
        },
        {
         "date": "2013-01-23",
         "incident_id": 2,
         "_deepnote_index_column": 5
        },
        {
         "date": "2013-01-25",
         "incident_id": 1,
         "_deepnote_index_column": 6
        },
        {
         "date": "2013-01-26",
         "incident_id": 3,
         "_deepnote_index_column": 7
        },
        {
         "date": "2013-02-02",
         "incident_id": 1,
         "_deepnote_index_column": 8
        },
        {
         "date": "2013-02-03",
         "incident_id": 1,
         "_deepnote_index_column": 9
        },
        {
         "date": "2013-02-07",
         "incident_id": 1,
         "_deepnote_index_column": 10
        },
        {
         "date": "2013-02-09",
         "incident_id": 1,
         "_deepnote_index_column": 11
        },
        {
         "date": "2013-02-11",
         "incident_id": 2,
         "_deepnote_index_column": 12
        },
        {
         "date": "2013-02-12",
         "incident_id": 1,
         "_deepnote_index_column": 13
        },
        {
         "date": "2013-02-19",
         "incident_id": 1,
         "_deepnote_index_column": 14
        },
        {
         "date": "2013-02-21",
         "incident_id": 1,
         "_deepnote_index_column": 15
        },
        {
         "date": "2013-02-22",
         "incident_id": 1,
         "_deepnote_index_column": 16
        },
        {
         "date": "2013-02-23",
         "incident_id": 1,
         "_deepnote_index_column": 17
        },
        {
         "date": "2013-02-24",
         "incident_id": 1,
         "_deepnote_index_column": 18
        },
        {
         "date": "2013-03-02",
         "incident_id": 1,
         "_deepnote_index_column": 19
        },
        {
         "date": "2013-03-03",
         "incident_id": 2,
         "_deepnote_index_column": 20
        },
        {
         "date": "2013-03-04",
         "incident_id": 1,
         "_deepnote_index_column": 21
        },
        {
         "date": "2013-03-05",
         "incident_id": 1,
         "_deepnote_index_column": 22
        },
        {
         "date": "2013-03-07",
         "incident_id": 1,
         "_deepnote_index_column": 23
        },
        {
         "date": "2013-03-10",
         "incident_id": 1,
         "_deepnote_index_column": 24
        },
        {
         "date": "2013-03-11",
         "incident_id": 1,
         "_deepnote_index_column": 25
        },
        {
         "date": "2013-03-13",
         "incident_id": 2,
         "_deepnote_index_column": 26
        },
        {
         "date": "2013-03-14",
         "incident_id": 1,
         "_deepnote_index_column": 27
        },
        {
         "date": "2013-03-16",
         "incident_id": 1,
         "_deepnote_index_column": 28
        },
        {
         "date": "2013-03-17",
         "incident_id": 2,
         "_deepnote_index_column": 29
        },
        {
         "date": "2013-03-21",
         "incident_id": 2,
         "_deepnote_index_column": 30
        },
        {
         "date": "2013-03-22",
         "incident_id": 1,
         "_deepnote_index_column": 31
        },
        {
         "date": "2013-03-30",
         "incident_id": 1,
         "_deepnote_index_column": 32
        },
        {
         "date": "2013-03-31",
         "incident_id": 1,
         "_deepnote_index_column": 33
        },
        {
         "date": "2013-04-06",
         "incident_id": 1,
         "_deepnote_index_column": 34
        },
        {
         "date": "2013-04-07",
         "incident_id": 2,
         "_deepnote_index_column": 35
        },
        {
         "date": "2013-04-09",
         "incident_id": 1,
         "_deepnote_index_column": 36
        },
        {
         "date": "2013-04-10",
         "incident_id": 1,
         "_deepnote_index_column": 37
        },
        {
         "date": "2013-04-14",
         "incident_id": 2,
         "_deepnote_index_column": 38
        },
        {
         "date": "2013-04-18",
         "incident_id": 1,
         "_deepnote_index_column": 39
        },
        {
         "date": "2013-04-21",
         "incident_id": 1,
         "_deepnote_index_column": 40
        },
        {
         "date": "2013-04-22",
         "incident_id": 2,
         "_deepnote_index_column": 41
        },
        {
         "date": "2013-04-24",
         "incident_id": 1,
         "_deepnote_index_column": 42
        },
        {
         "date": "2013-04-25",
         "incident_id": 1,
         "_deepnote_index_column": 43
        },
        {
         "date": "2013-04-27",
         "incident_id": 1,
         "_deepnote_index_column": 44
        },
        {
         "date": "2013-04-28",
         "incident_id": 3,
         "_deepnote_index_column": 45
        },
        {
         "date": "2013-05-02",
         "incident_id": 2,
         "_deepnote_index_column": 46
        },
        {
         "date": "2013-05-04",
         "incident_id": 1,
         "_deepnote_index_column": 47
        },
        {
         "date": "2013-05-05",
         "incident_id": 1,
         "_deepnote_index_column": 48
        },
        {
         "date": "2013-05-06",
         "incident_id": 1,
         "_deepnote_index_column": 49
        },
        {
         "date": "2013-05-10",
         "incident_id": 1,
         "_deepnote_index_column": 50
        },
        {
         "date": "2013-05-11",
         "incident_id": 3,
         "_deepnote_index_column": 51
        },
        {
         "date": "2013-05-12",
         "incident_id": 2,
         "_deepnote_index_column": 52
        },
        {
         "date": "2013-05-13",
         "incident_id": 1,
         "_deepnote_index_column": 53
        },
        {
         "date": "2013-05-14",
         "incident_id": 1,
         "_deepnote_index_column": 54
        },
        {
         "date": "2013-05-15",
         "incident_id": 1,
         "_deepnote_index_column": 55
        },
        {
         "date": "2013-05-16",
         "incident_id": 1,
         "_deepnote_index_column": 56
        },
        {
         "date": "2013-05-18",
         "incident_id": 2,
         "_deepnote_index_column": 57
        },
        {
         "date": "2013-05-19",
         "incident_id": 2,
         "_deepnote_index_column": 58
        },
        {
         "date": "2013-05-20",
         "incident_id": 1,
         "_deepnote_index_column": 59
        },
        {
         "date": "2013-05-23",
         "incident_id": 1,
         "_deepnote_index_column": 60
        },
        {
         "date": "2013-05-24",
         "incident_id": 1,
         "_deepnote_index_column": 61
        },
        {
         "date": "2013-05-25",
         "incident_id": 2,
         "_deepnote_index_column": 62
        },
        {
         "date": "2013-05-28",
         "incident_id": 1,
         "_deepnote_index_column": 63
        },
        {
         "date": "2013-05-29",
         "incident_id": 1,
         "_deepnote_index_column": 64
        },
        {
         "date": "2013-05-31",
         "incident_id": 1,
         "_deepnote_index_column": 65
        },
        {
         "date": "2013-06-01",
         "incident_id": 2,
         "_deepnote_index_column": 66
        },
        {
         "date": "2013-06-02",
         "incident_id": 3,
         "_deepnote_index_column": 67
        },
        {
         "date": "2013-06-07",
         "incident_id": 1,
         "_deepnote_index_column": 68
        },
        {
         "date": "2013-06-09",
         "incident_id": 1,
         "_deepnote_index_column": 69
        },
        {
         "date": "2013-06-10",
         "incident_id": 2,
         "_deepnote_index_column": 70
        },
        {
         "date": "2013-06-14",
         "incident_id": 1,
         "_deepnote_index_column": 71
        },
        {
         "date": "2013-06-15",
         "incident_id": 3,
         "_deepnote_index_column": 72
        },
        {
         "date": "2013-06-16",
         "incident_id": 1,
         "_deepnote_index_column": 73
        },
        {
         "date": "2013-06-21",
         "incident_id": 3,
         "_deepnote_index_column": 74
        },
        {
         "date": "2013-06-22",
         "incident_id": 2,
         "_deepnote_index_column": 75
        },
        {
         "date": "2013-06-23",
         "incident_id": 5,
         "_deepnote_index_column": 76
        },
        {
         "date": "2013-06-24",
         "incident_id": 1,
         "_deepnote_index_column": 77
        },
        {
         "date": "2013-06-25",
         "incident_id": 1,
         "_deepnote_index_column": 78
        },
        {
         "date": "2013-06-27",
         "incident_id": 1,
         "_deepnote_index_column": 79
        },
        {
         "date": "2013-06-28",
         "incident_id": 1,
         "_deepnote_index_column": 80
        },
        {
         "date": "2013-06-29",
         "incident_id": 1,
         "_deepnote_index_column": 81
        },
        {
         "date": "2013-06-30",
         "incident_id": 2,
         "_deepnote_index_column": 82
        },
        {
         "date": "2013-07-01",
         "incident_id": 2,
         "_deepnote_index_column": 83
        },
        {
         "date": "2013-07-02",
         "incident_id": 1,
         "_deepnote_index_column": 84
        },
        {
         "date": "2013-07-04",
         "incident_id": 2,
         "_deepnote_index_column": 85
        },
        {
         "date": "2013-07-06",
         "incident_id": 2,
         "_deepnote_index_column": 86
        },
        {
         "date": "2013-07-07",
         "incident_id": 4,
         "_deepnote_index_column": 87
        },
        {
         "date": "2013-07-09",
         "incident_id": 2,
         "_deepnote_index_column": 88
        },
        {
         "date": "2013-07-11",
         "incident_id": 1,
         "_deepnote_index_column": 89
        },
        {
         "date": "2013-07-12",
         "incident_id": 2,
         "_deepnote_index_column": 90
        },
        {
         "date": "2013-07-13",
         "incident_id": 4,
         "_deepnote_index_column": 91
        },
        {
         "date": "2013-07-14",
         "incident_id": 2,
         "_deepnote_index_column": 92
        },
        {
         "date": "2013-07-17",
         "incident_id": 1,
         "_deepnote_index_column": 93
        },
        {
         "date": "2013-07-19",
         "incident_id": 2,
         "_deepnote_index_column": 94
        },
        {
         "date": "2013-07-20",
         "incident_id": 1,
         "_deepnote_index_column": 95
        },
        {
         "date": "2013-07-21",
         "incident_id": 1,
         "_deepnote_index_column": 96
        },
        {
         "date": "2013-07-24",
         "incident_id": 1,
         "_deepnote_index_column": 97
        },
        {
         "date": "2013-07-25",
         "incident_id": 1,
         "_deepnote_index_column": 98
        },
        {
         "date": "2013-07-26",
         "incident_id": 2,
         "_deepnote_index_column": 99
        },
        {
         "date": "2013-07-28",
         "incident_id": 1,
         "_deepnote_index_column": 100
        },
        {
         "date": "2013-07-29",
         "incident_id": 1,
         "_deepnote_index_column": 101
        },
        {
         "date": "2013-07-30",
         "incident_id": 1,
         "_deepnote_index_column": 102
        },
        {
         "date": "2013-08-02",
         "incident_id": 2,
         "_deepnote_index_column": 103
        },
        {
         "date": "2013-08-03",
         "incident_id": 1,
         "_deepnote_index_column": 104
        },
        {
         "date": "2013-08-04",
         "incident_id": 2,
         "_deepnote_index_column": 105
        },
        {
         "date": "2013-08-05",
         "incident_id": 1,
         "_deepnote_index_column": 106
        },
        {
         "date": "2013-08-06",
         "incident_id": 2,
         "_deepnote_index_column": 107
        },
        {
         "date": "2013-08-07",
         "incident_id": 1,
         "_deepnote_index_column": 108
        },
        {
         "date": "2013-08-09",
         "incident_id": 1,
         "_deepnote_index_column": 109
        },
        {
         "date": "2013-08-10",
         "incident_id": 1,
         "_deepnote_index_column": 110
        },
        {
         "date": "2013-08-11",
         "incident_id": 2,
         "_deepnote_index_column": 111
        },
        {
         "date": "2013-08-13",
         "incident_id": 1,
         "_deepnote_index_column": 112
        },
        {
         "date": "2013-08-14",
         "incident_id": 1,
         "_deepnote_index_column": 113
        },
        {
         "date": "2013-08-17",
         "incident_id": 2,
         "_deepnote_index_column": 114
        },
        {
         "date": "2013-08-18",
         "incident_id": 4,
         "_deepnote_index_column": 115
        },
        {
         "date": "2013-08-19",
         "incident_id": 1,
         "_deepnote_index_column": 116
        },
        {
         "date": "2013-08-20",
         "incident_id": 1,
         "_deepnote_index_column": 117
        },
        {
         "date": "2013-08-23",
         "incident_id": 1,
         "_deepnote_index_column": 118
        },
        {
         "date": "2013-08-25",
         "incident_id": 4,
         "_deepnote_index_column": 119
        },
        {
         "date": "2013-09-05",
         "incident_id": 1,
         "_deepnote_index_column": 120
        },
        {
         "date": "2013-09-07",
         "incident_id": 2,
         "_deepnote_index_column": 121
        },
        {
         "date": "2013-09-10",
         "incident_id": 1,
         "_deepnote_index_column": 122
        },
        {
         "date": "2013-09-11",
         "incident_id": 1,
         "_deepnote_index_column": 123
        },
        {
         "date": "2013-09-12",
         "incident_id": 2,
         "_deepnote_index_column": 124
        },
        {
         "date": "2013-09-14",
         "incident_id": 1,
         "_deepnote_index_column": 125
        },
        {
         "date": "2013-09-15",
         "incident_id": 3,
         "_deepnote_index_column": 126
        },
        {
         "date": "2013-09-16",
         "incident_id": 1,
         "_deepnote_index_column": 127
        },
        {
         "date": "2013-09-17",
         "incident_id": 4,
         "_deepnote_index_column": 128
        },
        {
         "date": "2013-09-18",
         "incident_id": 1,
         "_deepnote_index_column": 129
        },
        {
         "date": "2013-09-19",
         "incident_id": 1,
         "_deepnote_index_column": 130
        },
        {
         "date": "2013-09-20",
         "incident_id": 2,
         "_deepnote_index_column": 131
        },
        {
         "date": "2013-09-21",
         "incident_id": 1,
         "_deepnote_index_column": 132
        },
        {
         "date": "2013-09-22",
         "incident_id": 3,
         "_deepnote_index_column": 133
        },
        {
         "date": "2013-09-24",
         "incident_id": 1,
         "_deepnote_index_column": 134
        },
        {
         "date": "2013-09-25",
         "incident_id": 1,
         "_deepnote_index_column": 135
        },
        {
         "date": "2013-09-27",
         "incident_id": 1,
         "_deepnote_index_column": 136
        },
        {
         "date": "2013-09-29",
         "incident_id": 1,
         "_deepnote_index_column": 137
        },
        {
         "date": "2013-10-02",
         "incident_id": 1,
         "_deepnote_index_column": 138
        },
        {
         "date": "2013-10-05",
         "incident_id": 3,
         "_deepnote_index_column": 139
        },
        {
         "date": "2013-10-06",
         "incident_id": 2,
         "_deepnote_index_column": 140
        },
        {
         "date": "2013-10-07",
         "incident_id": 1,
         "_deepnote_index_column": 141
        },
        {
         "date": "2013-10-09",
         "incident_id": 1,
         "_deepnote_index_column": 142
        },
        {
         "date": "2013-10-12",
         "incident_id": 1,
         "_deepnote_index_column": 143
        },
        {
         "date": "2013-10-13",
         "incident_id": 2,
         "_deepnote_index_column": 144
        },
        {
         "date": "2013-10-20",
         "incident_id": 2,
         "_deepnote_index_column": 145
        },
        {
         "date": "2013-10-21",
         "incident_id": 1,
         "_deepnote_index_column": 146
        },
        {
         "date": "2013-10-26",
         "incident_id": 3,
         "_deepnote_index_column": 147
        },
        {
         "date": "2013-10-27",
         "incident_id": 4,
         "_deepnote_index_column": 148
        },
        {
         "date": "2013-10-29",
         "incident_id": 1,
         "_deepnote_index_column": 149
        },
        {
         "date": "2013-11-02",
         "incident_id": 1,
         "_deepnote_index_column": 150
        },
        {
         "date": "2013-11-03",
         "incident_id": 2,
         "_deepnote_index_column": 151
        },
        {
         "date": "2013-11-05",
         "incident_id": 2,
         "_deepnote_index_column": 152
        },
        {
         "date": "2013-11-07",
         "incident_id": 1,
         "_deepnote_index_column": 153
        },
        {
         "date": "2013-11-09",
         "incident_id": 1,
         "_deepnote_index_column": 154
        },
        {
         "date": "2013-11-10",
         "incident_id": 2,
         "_deepnote_index_column": 155
        },
        {
         "date": "2013-11-11",
         "incident_id": 1,
         "_deepnote_index_column": 156
        },
        {
         "date": "2013-11-15",
         "incident_id": 1,
         "_deepnote_index_column": 157
        },
        {
         "date": "2013-11-20",
         "incident_id": 1,
         "_deepnote_index_column": 158
        },
        {
         "date": "2013-11-21",
         "incident_id": 1,
         "_deepnote_index_column": 159
        },
        {
         "date": "2013-11-22",
         "incident_id": 2,
         "_deepnote_index_column": 160
        },
        {
         "date": "2013-11-23",
         "incident_id": 1,
         "_deepnote_index_column": 161
        },
        {
         "date": "2013-11-25",
         "incident_id": 2,
         "_deepnote_index_column": 162
        },
        {
         "date": "2013-11-28",
         "incident_id": 1,
         "_deepnote_index_column": 163
        },
        {
         "date": "2013-11-29",
         "incident_id": 2,
         "_deepnote_index_column": 164
        },
        {
         "date": "2013-11-30",
         "incident_id": 2,
         "_deepnote_index_column": 165
        },
        {
         "date": "2013-12-01",
         "incident_id": 3,
         "_deepnote_index_column": 166
        },
        {
         "date": "2013-12-07",
         "incident_id": 2,
         "_deepnote_index_column": 167
        },
        {
         "date": "2013-12-14",
         "incident_id": 1,
         "_deepnote_index_column": 168
        },
        {
         "date": "2013-12-15",
         "incident_id": 2,
         "_deepnote_index_column": 169
        },
        {
         "date": "2013-12-21",
         "incident_id": 2,
         "_deepnote_index_column": 170
        },
        {
         "date": "2013-12-22",
         "incident_id": 1,
         "_deepnote_index_column": 171
        },
        {
         "date": "2013-12-25",
         "incident_id": 3,
         "_deepnote_index_column": 172
        },
        {
         "date": "2013-12-26",
         "incident_id": 2,
         "_deepnote_index_column": 173
        },
        {
         "date": "2013-12-28",
         "incident_id": 1,
         "_deepnote_index_column": 174
        },
        {
         "date": "2013-12-29",
         "incident_id": 2,
         "_deepnote_index_column": 175
        },
        {
         "date": "2013-12-31",
         "incident_id": 3,
         "_deepnote_index_column": 176
        },
        {
         "date": "2014-01-01",
         "incident_id": 216,
         "_deepnote_index_column": 177
        },
        {
         "date": "2014-01-02",
         "incident_id": 119,
         "_deepnote_index_column": 178
        },
        {
         "date": "2014-01-03",
         "incident_id": 124,
         "_deepnote_index_column": 179
        },
        {
         "date": "2014-01-04",
         "incident_id": 140,
         "_deepnote_index_column": 180
        },
        {
         "date": "2014-01-05",
         "incident_id": 130,
         "_deepnote_index_column": 181
        },
        {
         "date": "2014-01-06",
         "incident_id": 100,
         "_deepnote_index_column": 182
        },
        {
         "date": "2014-01-07",
         "incident_id": 115,
         "_deepnote_index_column": 183
        },
        {
         "date": "2014-01-08",
         "incident_id": 149,
         "_deepnote_index_column": 184
        },
        {
         "date": "2014-01-09",
         "incident_id": 134,
         "_deepnote_index_column": 185
        },
        {
         "date": "2014-01-10",
         "incident_id": 129,
         "_deepnote_index_column": 186
        },
        {
         "date": "2014-01-11",
         "incident_id": 143,
         "_deepnote_index_column": 187
        },
        {
         "date": "2014-01-12",
         "incident_id": 147,
         "_deepnote_index_column": 188
        },
        {
         "date": "2014-01-13",
         "incident_id": 162,
         "_deepnote_index_column": 189
        },
        {
         "date": "2014-01-14",
         "incident_id": 158,
         "_deepnote_index_column": 190
        },
        {
         "date": "2014-01-15",
         "incident_id": 181,
         "_deepnote_index_column": 191
        },
        {
         "date": "2014-01-16",
         "incident_id": 158,
         "_deepnote_index_column": 192
        },
        {
         "date": "2014-01-17",
         "incident_id": 152,
         "_deepnote_index_column": 193
        },
        {
         "date": "2014-01-18",
         "incident_id": 147,
         "_deepnote_index_column": 194
        },
        {
         "date": "2014-01-19",
         "incident_id": 139,
         "_deepnote_index_column": 195
        },
        {
         "date": "2014-01-20",
         "incident_id": 172,
         "_deepnote_index_column": 196
        },
        {
         "date": "2014-01-21",
         "incident_id": 125,
         "_deepnote_index_column": 197
        },
        {
         "date": "2014-01-22",
         "incident_id": 134,
         "_deepnote_index_column": 198
        },
        {
         "date": "2014-01-23",
         "incident_id": 117,
         "_deepnote_index_column": 199
        },
        {
         "date": "2014-01-24",
         "incident_id": 115,
         "_deepnote_index_column": 200
        },
        {
         "date": "2014-01-25",
         "incident_id": 162,
         "_deepnote_index_column": 201
        },
        {
         "date": "2014-01-26",
         "incident_id": 152,
         "_deepnote_index_column": 202
        },
        {
         "date": "2014-01-27",
         "incident_id": 151,
         "_deepnote_index_column": 203
        },
        {
         "date": "2014-01-28",
         "incident_id": 124,
         "_deepnote_index_column": 204
        },
        {
         "date": "2014-01-29",
         "incident_id": 120,
         "_deepnote_index_column": 205
        },
        {
         "date": "2014-01-30",
         "incident_id": 132,
         "_deepnote_index_column": 206
        },
        {
         "date": "2014-01-31",
         "incident_id": 148,
         "_deepnote_index_column": 207
        },
        {
         "date": "2014-02-01",
         "incident_id": 149,
         "_deepnote_index_column": 208
        },
        {
         "date": "2014-02-02",
         "incident_id": 138,
         "_deepnote_index_column": 209
        },
        {
         "date": "2014-02-03",
         "incident_id": 143,
         "_deepnote_index_column": 210
        },
        {
         "date": "2014-02-04",
         "incident_id": 113,
         "_deepnote_index_column": 211
        },
        {
         "date": "2014-02-05",
         "incident_id": 104,
         "_deepnote_index_column": 212
        },
        {
         "date": "2014-02-06",
         "incident_id": 141,
         "_deepnote_index_column": 213
        },
        {
         "date": "2014-02-07",
         "incident_id": 98,
         "_deepnote_index_column": 214
        },
        {
         "date": "2014-02-08",
         "incident_id": 99,
         "_deepnote_index_column": 215
        },
        {
         "date": "2014-02-09",
         "incident_id": 111,
         "_deepnote_index_column": 216
        },
        {
         "date": "2014-02-10",
         "incident_id": 115,
         "_deepnote_index_column": 217
        },
        {
         "date": "2014-02-11",
         "incident_id": 82,
         "_deepnote_index_column": 218
        },
        {
         "date": "2014-02-12",
         "incident_id": 117,
         "_deepnote_index_column": 219
        },
        {
         "date": "2014-02-13",
         "incident_id": 103,
         "_deepnote_index_column": 220
        },
        {
         "date": "2014-02-14",
         "incident_id": 101,
         "_deepnote_index_column": 221
        },
        {
         "date": "2014-02-15",
         "incident_id": 85,
         "_deepnote_index_column": 222
        },
        {
         "date": "2014-02-16",
         "incident_id": 112,
         "_deepnote_index_column": 223
        },
        {
         "date": "2014-02-17",
         "incident_id": 90,
         "_deepnote_index_column": 224
        },
        {
         "date": "2014-02-18",
         "incident_id": 101,
         "_deepnote_index_column": 225
        },
        {
         "date": "2014-02-19",
         "incident_id": 118,
         "_deepnote_index_column": 226
        },
        {
         "date": "2014-02-20",
         "incident_id": 99,
         "_deepnote_index_column": 227
        },
        {
         "date": "2014-02-21",
         "incident_id": 110,
         "_deepnote_index_column": 228
        },
        {
         "date": "2014-02-22",
         "incident_id": 105,
         "_deepnote_index_column": 229
        },
        {
         "date": "2014-02-23",
         "incident_id": 126,
         "_deepnote_index_column": 230
        },
        {
         "date": "2014-02-24",
         "incident_id": 123,
         "_deepnote_index_column": 231
        },
        {
         "date": "2014-02-25",
         "incident_id": 104,
         "_deepnote_index_column": 232
        },
        {
         "date": "2014-02-26",
         "incident_id": 80,
         "_deepnote_index_column": 233
        },
        {
         "date": "2014-02-27",
         "incident_id": 101,
         "_deepnote_index_column": 234
        },
        {
         "date": "2014-02-28",
         "incident_id": 77,
         "_deepnote_index_column": 235
        },
        {
         "date": "2014-03-01",
         "incident_id": 128,
         "_deepnote_index_column": 236
        },
        {
         "date": "2014-03-02",
         "incident_id": 87,
         "_deepnote_index_column": 237
        },
        {
         "date": "2014-03-03",
         "incident_id": 85,
         "_deepnote_index_column": 238
        },
        {
         "date": "2014-03-04",
         "incident_id": 92,
         "_deepnote_index_column": 239
        },
        {
         "date": "2014-03-05",
         "incident_id": 110,
         "_deepnote_index_column": 240
        },
        {
         "date": "2014-03-06",
         "incident_id": 96,
         "_deepnote_index_column": 241
        },
        {
         "date": "2014-03-07",
         "incident_id": 118,
         "_deepnote_index_column": 242
        },
        {
         "date": "2014-03-08",
         "incident_id": 122,
         "_deepnote_index_column": 243
        },
        {
         "date": "2014-03-09",
         "incident_id": 117,
         "_deepnote_index_column": 244
        },
        {
         "date": "2014-03-10",
         "incident_id": 112,
         "_deepnote_index_column": 245
        },
        {
         "date": "2014-03-11",
         "incident_id": 123,
         "_deepnote_index_column": 246
        },
        {
         "date": "2014-03-12",
         "incident_id": 102,
         "_deepnote_index_column": 247
        },
        {
         "date": "2014-03-13",
         "incident_id": 97,
         "_deepnote_index_column": 248
        },
        {
         "date": "2014-03-14",
         "incident_id": 119,
         "_deepnote_index_column": 249
        }
       ],
       "rows_bottom": [
        {
         "date": "2017-07-25",
         "incident_id": 201,
         "_deepnote_index_column": 1475
        },
        {
         "date": "2017-07-26",
         "incident_id": 168,
         "_deepnote_index_column": 1476
        },
        {
         "date": "2017-07-27",
         "incident_id": 155,
         "_deepnote_index_column": 1477
        },
        {
         "date": "2017-07-28",
         "incident_id": 161,
         "_deepnote_index_column": 1478
        },
        {
         "date": "2017-07-29",
         "incident_id": 166,
         "_deepnote_index_column": 1479
        },
        {
         "date": "2017-07-30",
         "incident_id": 205,
         "_deepnote_index_column": 1480
        },
        {
         "date": "2017-07-31",
         "incident_id": 171,
         "_deepnote_index_column": 1481
        },
        {
         "date": "2017-08-01",
         "incident_id": 176,
         "_deepnote_index_column": 1482
        },
        {
         "date": "2017-08-02",
         "incident_id": 166,
         "_deepnote_index_column": 1483
        },
        {
         "date": "2017-08-03",
         "incident_id": 195,
         "_deepnote_index_column": 1484
        },
        {
         "date": "2017-08-04",
         "incident_id": 158,
         "_deepnote_index_column": 1485
        },
        {
         "date": "2017-08-05",
         "incident_id": 193,
         "_deepnote_index_column": 1486
        },
        {
         "date": "2017-08-06",
         "incident_id": 196,
         "_deepnote_index_column": 1487
        },
        {
         "date": "2017-08-07",
         "incident_id": 167,
         "_deepnote_index_column": 1488
        },
        {
         "date": "2017-08-08",
         "incident_id": 183,
         "_deepnote_index_column": 1489
        },
        {
         "date": "2017-08-09",
         "incident_id": 156,
         "_deepnote_index_column": 1490
        },
        {
         "date": "2017-08-10",
         "incident_id": 151,
         "_deepnote_index_column": 1491
        },
        {
         "date": "2017-08-11",
         "incident_id": 165,
         "_deepnote_index_column": 1492
        },
        {
         "date": "2017-08-12",
         "incident_id": 160,
         "_deepnote_index_column": 1493
        },
        {
         "date": "2017-08-13",
         "incident_id": 192,
         "_deepnote_index_column": 1494
        },
        {
         "date": "2017-08-14",
         "incident_id": 170,
         "_deepnote_index_column": 1495
        },
        {
         "date": "2017-08-15",
         "incident_id": 202,
         "_deepnote_index_column": 1496
        },
        {
         "date": "2017-08-16",
         "incident_id": 133,
         "_deepnote_index_column": 1497
        },
        {
         "date": "2017-08-17",
         "incident_id": 148,
         "_deepnote_index_column": 1498
        },
        {
         "date": "2017-08-18",
         "incident_id": 156,
         "_deepnote_index_column": 1499
        },
        {
         "date": "2017-08-19",
         "incident_id": 170,
         "_deepnote_index_column": 1500
        },
        {
         "date": "2017-08-20",
         "incident_id": 191,
         "_deepnote_index_column": 1501
        },
        {
         "date": "2017-08-21",
         "incident_id": 161,
         "_deepnote_index_column": 1502
        },
        {
         "date": "2017-08-22",
         "incident_id": 148,
         "_deepnote_index_column": 1503
        },
        {
         "date": "2017-08-23",
         "incident_id": 187,
         "_deepnote_index_column": 1504
        },
        {
         "date": "2017-08-24",
         "incident_id": 150,
         "_deepnote_index_column": 1505
        },
        {
         "date": "2017-08-25",
         "incident_id": 158,
         "_deepnote_index_column": 1506
        },
        {
         "date": "2017-08-26",
         "incident_id": 150,
         "_deepnote_index_column": 1507
        },
        {
         "date": "2017-08-27",
         "incident_id": 180,
         "_deepnote_index_column": 1508
        },
        {
         "date": "2017-08-28",
         "incident_id": 160,
         "_deepnote_index_column": 1509
        },
        {
         "date": "2017-08-29",
         "incident_id": 170,
         "_deepnote_index_column": 1510
        },
        {
         "date": "2017-08-30",
         "incident_id": 152,
         "_deepnote_index_column": 1511
        },
        {
         "date": "2017-08-31",
         "incident_id": 158,
         "_deepnote_index_column": 1512
        },
        {
         "date": "2017-09-01",
         "incident_id": 162,
         "_deepnote_index_column": 1513
        },
        {
         "date": "2017-09-02",
         "incident_id": 143,
         "_deepnote_index_column": 1514
        },
        {
         "date": "2017-09-03",
         "incident_id": 206,
         "_deepnote_index_column": 1515
        },
        {
         "date": "2017-09-04",
         "incident_id": 172,
         "_deepnote_index_column": 1516
        },
        {
         "date": "2017-09-05",
         "incident_id": 142,
         "_deepnote_index_column": 1517
        },
        {
         "date": "2017-09-06",
         "incident_id": 130,
         "_deepnote_index_column": 1518
        },
        {
         "date": "2017-09-07",
         "incident_id": 133,
         "_deepnote_index_column": 1519
        },
        {
         "date": "2017-09-08",
         "incident_id": 129,
         "_deepnote_index_column": 1520
        },
        {
         "date": "2017-09-09",
         "incident_id": 160,
         "_deepnote_index_column": 1521
        },
        {
         "date": "2017-09-10",
         "incident_id": 126,
         "_deepnote_index_column": 1522
        },
        {
         "date": "2017-09-11",
         "incident_id": 135,
         "_deepnote_index_column": 1523
        },
        {
         "date": "2017-09-12",
         "incident_id": 166,
         "_deepnote_index_column": 1524
        },
        {
         "date": "2017-09-13",
         "incident_id": 140,
         "_deepnote_index_column": 1525
        },
        {
         "date": "2017-09-14",
         "incident_id": 158,
         "_deepnote_index_column": 1526
        },
        {
         "date": "2017-09-15",
         "incident_id": 160,
         "_deepnote_index_column": 1527
        },
        {
         "date": "2017-09-16",
         "incident_id": 153,
         "_deepnote_index_column": 1528
        },
        {
         "date": "2017-09-17",
         "incident_id": 194,
         "_deepnote_index_column": 1529
        },
        {
         "date": "2017-09-18",
         "incident_id": 159,
         "_deepnote_index_column": 1530
        },
        {
         "date": "2017-09-19",
         "incident_id": 170,
         "_deepnote_index_column": 1531
        },
        {
         "date": "2017-09-20",
         "incident_id": 173,
         "_deepnote_index_column": 1532
        },
        {
         "date": "2017-09-21",
         "incident_id": 162,
         "_deepnote_index_column": 1533
        },
        {
         "date": "2017-09-22",
         "incident_id": 162,
         "_deepnote_index_column": 1534
        },
        {
         "date": "2017-09-23",
         "incident_id": 188,
         "_deepnote_index_column": 1535
        },
        {
         "date": "2017-09-24",
         "incident_id": 206,
         "_deepnote_index_column": 1536
        },
        {
         "date": "2017-09-25",
         "incident_id": 162,
         "_deepnote_index_column": 1537
        },
        {
         "date": "2017-09-26",
         "incident_id": 149,
         "_deepnote_index_column": 1538
        },
        {
         "date": "2017-09-27",
         "incident_id": 164,
         "_deepnote_index_column": 1539
        },
        {
         "date": "2017-09-28",
         "incident_id": 143,
         "_deepnote_index_column": 1540
        },
        {
         "date": "2017-09-29",
         "incident_id": 181,
         "_deepnote_index_column": 1541
        },
        {
         "date": "2017-09-30",
         "incident_id": 162,
         "_deepnote_index_column": 1542
        },
        {
         "date": "2017-10-01",
         "incident_id": 170,
         "_deepnote_index_column": 1543
        },
        {
         "date": "2017-10-02",
         "incident_id": 164,
         "_deepnote_index_column": 1544
        },
        {
         "date": "2017-10-03",
         "incident_id": 170,
         "_deepnote_index_column": 1545
        },
        {
         "date": "2017-10-04",
         "incident_id": 172,
         "_deepnote_index_column": 1546
        },
        {
         "date": "2017-10-05",
         "incident_id": 165,
         "_deepnote_index_column": 1547
        },
        {
         "date": "2017-10-06",
         "incident_id": 163,
         "_deepnote_index_column": 1548
        },
        {
         "date": "2017-10-07",
         "incident_id": 175,
         "_deepnote_index_column": 1549
        },
        {
         "date": "2017-10-08",
         "incident_id": 179,
         "_deepnote_index_column": 1550
        },
        {
         "date": "2017-10-09",
         "incident_id": 160,
         "_deepnote_index_column": 1551
        },
        {
         "date": "2017-10-10",
         "incident_id": 162,
         "_deepnote_index_column": 1552
        },
        {
         "date": "2017-10-11",
         "incident_id": 133,
         "_deepnote_index_column": 1553
        },
        {
         "date": "2017-10-12",
         "incident_id": 146,
         "_deepnote_index_column": 1554
        },
        {
         "date": "2017-10-13",
         "incident_id": 167,
         "_deepnote_index_column": 1555
        },
        {
         "date": "2017-10-14",
         "incident_id": 197,
         "_deepnote_index_column": 1556
        },
        {
         "date": "2017-10-15",
         "incident_id": 168,
         "_deepnote_index_column": 1557
        },
        {
         "date": "2017-10-16",
         "incident_id": 154,
         "_deepnote_index_column": 1558
        },
        {
         "date": "2017-10-17",
         "incident_id": 138,
         "_deepnote_index_column": 1559
        },
        {
         "date": "2017-10-18",
         "incident_id": 174,
         "_deepnote_index_column": 1560
        },
        {
         "date": "2017-10-19",
         "incident_id": 157,
         "_deepnote_index_column": 1561
        },
        {
         "date": "2017-10-20",
         "incident_id": 175,
         "_deepnote_index_column": 1562
        },
        {
         "date": "2017-10-21",
         "incident_id": 220,
         "_deepnote_index_column": 1563
        },
        {
         "date": "2017-10-22",
         "incident_id": 167,
         "_deepnote_index_column": 1564
        },
        {
         "date": "2017-10-23",
         "incident_id": 168,
         "_deepnote_index_column": 1565
        },
        {
         "date": "2017-10-24",
         "incident_id": 144,
         "_deepnote_index_column": 1566
        },
        {
         "date": "2017-10-25",
         "incident_id": 174,
         "_deepnote_index_column": 1567
        },
        {
         "date": "2017-10-26",
         "incident_id": 181,
         "_deepnote_index_column": 1568
        },
        {
         "date": "2017-10-27",
         "incident_id": 158,
         "_deepnote_index_column": 1569
        },
        {
         "date": "2017-10-28",
         "incident_id": 178,
         "_deepnote_index_column": 1570
        },
        {
         "date": "2017-10-29",
         "incident_id": 191,
         "_deepnote_index_column": 1571
        },
        {
         "date": "2017-10-30",
         "incident_id": 145,
         "_deepnote_index_column": 1572
        },
        {
         "date": "2017-10-31",
         "incident_id": 185,
         "_deepnote_index_column": 1573
        },
        {
         "date": "2017-11-01",
         "incident_id": 182,
         "_deepnote_index_column": 1574
        },
        {
         "date": "2017-11-02",
         "incident_id": 142,
         "_deepnote_index_column": 1575
        },
        {
         "date": "2017-11-03",
         "incident_id": 167,
         "_deepnote_index_column": 1576
        },
        {
         "date": "2017-11-04",
         "incident_id": 186,
         "_deepnote_index_column": 1577
        },
        {
         "date": "2017-11-05",
         "incident_id": 199,
         "_deepnote_index_column": 1578
        },
        {
         "date": "2017-11-06",
         "incident_id": 130,
         "_deepnote_index_column": 1579
        },
        {
         "date": "2017-11-07",
         "incident_id": 160,
         "_deepnote_index_column": 1580
        },
        {
         "date": "2017-11-08",
         "incident_id": 144,
         "_deepnote_index_column": 1581
        },
        {
         "date": "2017-11-09",
         "incident_id": 137,
         "_deepnote_index_column": 1582
        },
        {
         "date": "2017-11-10",
         "incident_id": 146,
         "_deepnote_index_column": 1583
        },
        {
         "date": "2017-11-11",
         "incident_id": 164,
         "_deepnote_index_column": 1584
        },
        {
         "date": "2017-11-12",
         "incident_id": 171,
         "_deepnote_index_column": 1585
        },
        {
         "date": "2017-11-13",
         "incident_id": 175,
         "_deepnote_index_column": 1586
        },
        {
         "date": "2017-11-14",
         "incident_id": 156,
         "_deepnote_index_column": 1587
        },
        {
         "date": "2017-11-15",
         "incident_id": 142,
         "_deepnote_index_column": 1588
        },
        {
         "date": "2017-11-16",
         "incident_id": 151,
         "_deepnote_index_column": 1589
        },
        {
         "date": "2017-11-17",
         "incident_id": 141,
         "_deepnote_index_column": 1590
        },
        {
         "date": "2017-11-18",
         "incident_id": 187,
         "_deepnote_index_column": 1591
        },
        {
         "date": "2017-11-19",
         "incident_id": 175,
         "_deepnote_index_column": 1592
        },
        {
         "date": "2017-11-20",
         "incident_id": 129,
         "_deepnote_index_column": 1593
        },
        {
         "date": "2017-11-21",
         "incident_id": 154,
         "_deepnote_index_column": 1594
        },
        {
         "date": "2017-11-22",
         "incident_id": 142,
         "_deepnote_index_column": 1595
        },
        {
         "date": "2017-11-23",
         "incident_id": 133,
         "_deepnote_index_column": 1596
        },
        {
         "date": "2017-11-24",
         "incident_id": 170,
         "_deepnote_index_column": 1597
        },
        {
         "date": "2017-11-25",
         "incident_id": 180,
         "_deepnote_index_column": 1598
        },
        {
         "date": "2017-11-26",
         "incident_id": 185,
         "_deepnote_index_column": 1599
        },
        {
         "date": "2017-11-27",
         "incident_id": 181,
         "_deepnote_index_column": 1600
        },
        {
         "date": "2017-11-28",
         "incident_id": 158,
         "_deepnote_index_column": 1601
        },
        {
         "date": "2017-11-29",
         "incident_id": 172,
         "_deepnote_index_column": 1602
        },
        {
         "date": "2017-11-30",
         "incident_id": 143,
         "_deepnote_index_column": 1603
        },
        {
         "date": "2017-12-01",
         "incident_id": 161,
         "_deepnote_index_column": 1604
        },
        {
         "date": "2017-12-02",
         "incident_id": 168,
         "_deepnote_index_column": 1605
        },
        {
         "date": "2017-12-03",
         "incident_id": 154,
         "_deepnote_index_column": 1606
        },
        {
         "date": "2017-12-04",
         "incident_id": 138,
         "_deepnote_index_column": 1607
        },
        {
         "date": "2017-12-05",
         "incident_id": 151,
         "_deepnote_index_column": 1608
        },
        {
         "date": "2017-12-06",
         "incident_id": 146,
         "_deepnote_index_column": 1609
        },
        {
         "date": "2017-12-07",
         "incident_id": 155,
         "_deepnote_index_column": 1610
        },
        {
         "date": "2017-12-08",
         "incident_id": 131,
         "_deepnote_index_column": 1611
        },
        {
         "date": "2017-12-09",
         "incident_id": 141,
         "_deepnote_index_column": 1612
        },
        {
         "date": "2017-12-10",
         "incident_id": 154,
         "_deepnote_index_column": 1613
        },
        {
         "date": "2017-12-11",
         "incident_id": 174,
         "_deepnote_index_column": 1614
        },
        {
         "date": "2017-12-12",
         "incident_id": 151,
         "_deepnote_index_column": 1615
        },
        {
         "date": "2017-12-13",
         "incident_id": 168,
         "_deepnote_index_column": 1616
        },
        {
         "date": "2017-12-14",
         "incident_id": 118,
         "_deepnote_index_column": 1617
        },
        {
         "date": "2017-12-15",
         "incident_id": 130,
         "_deepnote_index_column": 1618
        },
        {
         "date": "2017-12-16",
         "incident_id": 164,
         "_deepnote_index_column": 1619
        },
        {
         "date": "2017-12-17",
         "incident_id": 170,
         "_deepnote_index_column": 1620
        },
        {
         "date": "2017-12-18",
         "incident_id": 153,
         "_deepnote_index_column": 1621
        },
        {
         "date": "2017-12-19",
         "incident_id": 186,
         "_deepnote_index_column": 1622
        },
        {
         "date": "2017-12-20",
         "incident_id": 159,
         "_deepnote_index_column": 1623
        },
        {
         "date": "2017-12-21",
         "incident_id": 151,
         "_deepnote_index_column": 1624
        },
        {
         "date": "2017-12-22",
         "incident_id": 169,
         "_deepnote_index_column": 1625
        },
        {
         "date": "2017-12-23",
         "incident_id": 157,
         "_deepnote_index_column": 1626
        },
        {
         "date": "2017-12-24",
         "incident_id": 133,
         "_deepnote_index_column": 1627
        },
        {
         "date": "2017-12-25",
         "incident_id": 119,
         "_deepnote_index_column": 1628
        },
        {
         "date": "2017-12-26",
         "incident_id": 151,
         "_deepnote_index_column": 1629
        },
        {
         "date": "2017-12-27",
         "incident_id": 135,
         "_deepnote_index_column": 1630
        },
        {
         "date": "2017-12-28",
         "incident_id": 119,
         "_deepnote_index_column": 1631
        },
        {
         "date": "2017-12-29",
         "incident_id": 119,
         "_deepnote_index_column": 1632
        },
        {
         "date": "2017-12-30",
         "incident_id": 145,
         "_deepnote_index_column": 1633
        },
        {
         "date": "2017-12-31",
         "incident_id": 152,
         "_deepnote_index_column": 1634
        },
        {
         "date": "2018-01-01",
         "incident_id": 242,
         "_deepnote_index_column": 1635
        },
        {
         "date": "2018-01-02",
         "incident_id": 109,
         "_deepnote_index_column": 1636
        },
        {
         "date": "2018-01-03",
         "incident_id": 134,
         "_deepnote_index_column": 1637
        },
        {
         "date": "2018-01-04",
         "incident_id": 126,
         "_deepnote_index_column": 1638
        },
        {
         "date": "2018-01-05",
         "incident_id": 137,
         "_deepnote_index_column": 1639
        },
        {
         "date": "2018-01-06",
         "incident_id": 150,
         "_deepnote_index_column": 1640
        },
        {
         "date": "2018-01-07",
         "incident_id": 154,
         "_deepnote_index_column": 1641
        },
        {
         "date": "2018-01-08",
         "incident_id": 133,
         "_deepnote_index_column": 1642
        },
        {
         "date": "2018-01-09",
         "incident_id": 162,
         "_deepnote_index_column": 1643
        },
        {
         "date": "2018-01-10",
         "incident_id": 149,
         "_deepnote_index_column": 1644
        },
        {
         "date": "2018-01-11",
         "incident_id": 193,
         "_deepnote_index_column": 1645
        },
        {
         "date": "2018-01-12",
         "incident_id": 172,
         "_deepnote_index_column": 1646
        },
        {
         "date": "2018-01-13",
         "incident_id": 153,
         "_deepnote_index_column": 1647
        },
        {
         "date": "2018-01-14",
         "incident_id": 152,
         "_deepnote_index_column": 1648
        },
        {
         "date": "2018-01-15",
         "incident_id": 155,
         "_deepnote_index_column": 1649
        },
        {
         "date": "2018-01-16",
         "incident_id": 133,
         "_deepnote_index_column": 1650
        },
        {
         "date": "2018-01-17",
         "incident_id": 143,
         "_deepnote_index_column": 1651
        },
        {
         "date": "2018-01-18",
         "incident_id": 149,
         "_deepnote_index_column": 1652
        },
        {
         "date": "2018-01-19",
         "incident_id": 149,
         "_deepnote_index_column": 1653
        },
        {
         "date": "2018-01-20",
         "incident_id": 190,
         "_deepnote_index_column": 1654
        },
        {
         "date": "2018-01-21",
         "incident_id": 191,
         "_deepnote_index_column": 1655
        },
        {
         "date": "2018-01-22",
         "incident_id": 145,
         "_deepnote_index_column": 1656
        },
        {
         "date": "2018-01-23",
         "incident_id": 168,
         "_deepnote_index_column": 1657
        },
        {
         "date": "2018-01-24",
         "incident_id": 186,
         "_deepnote_index_column": 1658
        },
        {
         "date": "2018-01-25",
         "incident_id": 176,
         "_deepnote_index_column": 1659
        },
        {
         "date": "2018-01-26",
         "incident_id": 187,
         "_deepnote_index_column": 1660
        },
        {
         "date": "2018-01-27",
         "incident_id": 172,
         "_deepnote_index_column": 1661
        },
        {
         "date": "2018-01-28",
         "incident_id": 188,
         "_deepnote_index_column": 1662
        },
        {
         "date": "2018-01-29",
         "incident_id": 146,
         "_deepnote_index_column": 1663
        },
        {
         "date": "2018-01-30",
         "incident_id": 137,
         "_deepnote_index_column": 1664
        },
        {
         "date": "2018-01-31",
         "incident_id": 145,
         "_deepnote_index_column": 1665
        },
        {
         "date": "2018-02-01",
         "incident_id": 158,
         "_deepnote_index_column": 1666
        },
        {
         "date": "2018-02-02",
         "incident_id": 137,
         "_deepnote_index_column": 1667
        },
        {
         "date": "2018-02-03",
         "incident_id": 153,
         "_deepnote_index_column": 1668
        },
        {
         "date": "2018-02-04",
         "incident_id": 122,
         "_deepnote_index_column": 1669
        },
        {
         "date": "2018-02-05",
         "incident_id": 146,
         "_deepnote_index_column": 1670
        },
        {
         "date": "2018-02-06",
         "incident_id": 159,
         "_deepnote_index_column": 1671
        },
        {
         "date": "2018-02-07",
         "incident_id": 126,
         "_deepnote_index_column": 1672
        },
        {
         "date": "2018-02-08",
         "incident_id": 149,
         "_deepnote_index_column": 1673
        },
        {
         "date": "2018-02-09",
         "incident_id": 129,
         "_deepnote_index_column": 1674
        },
        {
         "date": "2018-02-10",
         "incident_id": 148,
         "_deepnote_index_column": 1675
        },
        {
         "date": "2018-02-11",
         "incident_id": 133,
         "_deepnote_index_column": 1676
        },
        {
         "date": "2018-02-12",
         "incident_id": 117,
         "_deepnote_index_column": 1677
        },
        {
         "date": "2018-02-13",
         "incident_id": 137,
         "_deepnote_index_column": 1678
        },
        {
         "date": "2018-02-14",
         "incident_id": 141,
         "_deepnote_index_column": 1679
        },
        {
         "date": "2018-02-15",
         "incident_id": 147,
         "_deepnote_index_column": 1680
        },
        {
         "date": "2018-02-16",
         "incident_id": 153,
         "_deepnote_index_column": 1681
        },
        {
         "date": "2018-02-17",
         "incident_id": 141,
         "_deepnote_index_column": 1682
        },
        {
         "date": "2018-02-18",
         "incident_id": 162,
         "_deepnote_index_column": 1683
        },
        {
         "date": "2018-02-19",
         "incident_id": 165,
         "_deepnote_index_column": 1684
        },
        {
         "date": "2018-02-20",
         "incident_id": 165,
         "_deepnote_index_column": 1685
        },
        {
         "date": "2018-02-21",
         "incident_id": 154,
         "_deepnote_index_column": 1686
        },
        {
         "date": "2018-02-22",
         "incident_id": 136,
         "_deepnote_index_column": 1687
        },
        {
         "date": "2018-02-23",
         "incident_id": 170,
         "_deepnote_index_column": 1688
        },
        {
         "date": "2018-02-24",
         "incident_id": 166,
         "_deepnote_index_column": 1689
        },
        {
         "date": "2018-02-25",
         "incident_id": 155,
         "_deepnote_index_column": 1690
        },
        {
         "date": "2018-02-26",
         "incident_id": 143,
         "_deepnote_index_column": 1691
        },
        {
         "date": "2018-02-27",
         "incident_id": 150,
         "_deepnote_index_column": 1692
        },
        {
         "date": "2018-02-28",
         "incident_id": 162,
         "_deepnote_index_column": 1693
        },
        {
         "date": "2018-03-01",
         "incident_id": 160,
         "_deepnote_index_column": 1694
        },
        {
         "date": "2018-03-02",
         "incident_id": 141,
         "_deepnote_index_column": 1695
        },
        {
         "date": "2018-03-03",
         "incident_id": 124,
         "_deepnote_index_column": 1696
        },
        {
         "date": "2018-03-04",
         "incident_id": 157,
         "_deepnote_index_column": 1697
        },
        {
         "date": "2018-03-05",
         "incident_id": 191,
         "_deepnote_index_column": 1698
        },
        {
         "date": "2018-03-06",
         "incident_id": 145,
         "_deepnote_index_column": 1699
        },
        {
         "date": "2018-03-07",
         "incident_id": 151,
         "_deepnote_index_column": 1700
        },
        {
         "date": "2018-03-08",
         "incident_id": 135,
         "_deepnote_index_column": 1701
        },
        {
         "date": "2018-03-09",
         "incident_id": 137,
         "_deepnote_index_column": 1702
        },
        {
         "date": "2018-03-10",
         "incident_id": 157,
         "_deepnote_index_column": 1703
        },
        {
         "date": "2018-03-11",
         "incident_id": 145,
         "_deepnote_index_column": 1704
        },
        {
         "date": "2018-03-12",
         "incident_id": 175,
         "_deepnote_index_column": 1705
        },
        {
         "date": "2018-03-13",
         "incident_id": 146,
         "_deepnote_index_column": 1706
        },
        {
         "date": "2018-03-14",
         "incident_id": 180,
         "_deepnote_index_column": 1707
        },
        {
         "date": "2018-03-15",
         "incident_id": 165,
         "_deepnote_index_column": 1708
        },
        {
         "date": "2018-03-16",
         "incident_id": 125,
         "_deepnote_index_column": 1709
        },
        {
         "date": "2018-03-17",
         "incident_id": 178,
         "_deepnote_index_column": 1710
        },
        {
         "date": "2018-03-18",
         "incident_id": 198,
         "_deepnote_index_column": 1711
        },
        {
         "date": "2018-03-19",
         "incident_id": 154,
         "_deepnote_index_column": 1712
        },
        {
         "date": "2018-03-20",
         "incident_id": 150,
         "_deepnote_index_column": 1713
        },
        {
         "date": "2018-03-21",
         "incident_id": 151,
         "_deepnote_index_column": 1714
        },
        {
         "date": "2018-03-22",
         "incident_id": 169,
         "_deepnote_index_column": 1715
        },
        {
         "date": "2018-03-23",
         "incident_id": 127,
         "_deepnote_index_column": 1716
        },
        {
         "date": "2018-03-24",
         "incident_id": 185,
         "_deepnote_index_column": 1717
        },
        {
         "date": "2018-03-25",
         "incident_id": 172,
         "_deepnote_index_column": 1718
        },
        {
         "date": "2018-03-26",
         "incident_id": 147,
         "_deepnote_index_column": 1719
        },
        {
         "date": "2018-03-27",
         "incident_id": 135,
         "_deepnote_index_column": 1720
        },
        {
         "date": "2018-03-28",
         "incident_id": 175,
         "_deepnote_index_column": 1721
        },
        {
         "date": "2018-03-29",
         "incident_id": 131,
         "_deepnote_index_column": 1722
        },
        {
         "date": "2018-03-30",
         "incident_id": 114,
         "_deepnote_index_column": 1723
        },
        {
         "date": "2018-03-31",
         "incident_id": 132,
         "_deepnote_index_column": 1724
        }
       ]
      },
      "text/plain": "            date  incident_id\n0     2013-01-01            3\n1     2013-01-05            1\n2     2013-01-07            2\n3     2013-01-19            1\n4     2013-01-21            2\n...          ...          ...\n1720  2018-03-27          135\n1721  2018-03-28          175\n1722  2018-03-29          131\n1723  2018-03-30          114\n1724  2018-03-31          132\n\n[1725 rows x 2 columns]",
      "text/html": "<div>\n<style scoped>\n    .dataframe tbody tr th:only-of-type {\n        vertical-align: middle;\n    }\n\n    .dataframe tbody tr th {\n        vertical-align: top;\n    }\n\n    .dataframe thead th {\n        text-align: right;\n    }\n</style>\n<table border=\"1\" class=\"dataframe\">\n  <thead>\n    <tr style=\"text-align: right;\">\n      <th></th>\n      <th>date</th>\n      <th>incident_id</th>\n    </tr>\n  </thead>\n  <tbody>\n    <tr>\n      <th>0</th>\n      <td>2013-01-01</td>\n      <td>3</td>\n    </tr>\n    <tr>\n      <th>1</th>\n      <td>2013-01-05</td>\n      <td>1</td>\n    </tr>\n    <tr>\n      <th>2</th>\n      <td>2013-01-07</td>\n      <td>2</td>\n    </tr>\n    <tr>\n      <th>3</th>\n      <td>2013-01-19</td>\n      <td>1</td>\n    </tr>\n    <tr>\n      <th>4</th>\n      <td>2013-01-21</td>\n      <td>2</td>\n    </tr>\n    <tr>\n      <th>...</th>\n      <td>...</td>\n      <td>...</td>\n    </tr>\n    <tr>\n      <th>1720</th>\n      <td>2018-03-27</td>\n      <td>135</td>\n    </tr>\n    <tr>\n      <th>1721</th>\n      <td>2018-03-28</td>\n      <td>175</td>\n    </tr>\n    <tr>\n      <th>1722</th>\n      <td>2018-03-29</td>\n      <td>131</td>\n    </tr>\n    <tr>\n      <th>1723</th>\n      <td>2018-03-30</td>\n      <td>114</td>\n    </tr>\n    <tr>\n      <th>1724</th>\n      <td>2018-03-31</td>\n      <td>132</td>\n    </tr>\n  </tbody>\n</table>\n<p>1725 rows × 2 columns</p>\n</div>"
     },
     "metadata": {}
    }
   ]
  },
  {
   "cell_type": "markdown",
   "source": "Not much trend in total incidents by day of the week, try average?",
   "metadata": {
    "tags": [],
    "cell_id": "00007-b6e17388-e65a-40b5-9e33-aa6833f73915",
    "deepnote_cell_type": "markdown"
   }
  },
  {
   "cell_type": "code",
   "metadata": {
    "tags": [],
    "cell_id": "00008-7130c463-d0b1-4509-b592-9b1f0b800755",
    "deepnote_to_be_reexecuted": false,
    "source_hash": "cc7967a3",
    "execution_start": 1622029975115,
    "execution_millis": 3528,
    "deepnote_cell_type": "code"
   },
   "source": "# new instance of df\ndf=pd.read_csv(\"/work/CISC367_Final_Project/data/gun-violence-data_01-2013_03-2018.csv\")\ndef strpyear(string):\n    string=string[0:4]\n    return string\ndef rmyear(string):\n    return string[5:]",
   "execution_count": 7,
   "outputs": []
  },
  {
   "cell_type": "code",
   "metadata": {
    "tags": [],
    "cell_id": "00009-0b0d6700-2bc6-4661-aba8-7a9d7bf29b44",
    "deepnote_to_be_reexecuted": false,
    "source_hash": "94d08024",
    "execution_start": 1622029978647,
    "execution_millis": 998,
    "deepnote_cell_type": "code"
   },
   "source": "df['year']=df['date'].apply(strpyear)\ndf['date']=df['date'].apply(rmyear)\n\ndf.groupby('year').count().plot.bar(y='incident_id')\n\n",
   "execution_count": 8,
   "outputs": [
    {
     "output_type": "execute_result",
     "execution_count": 8,
     "data": {
      "text/plain": "<AxesSubplot:xlabel='year'>"
     },
     "metadata": {}
    },
    {
     "data": {
      "text/plain": "<Figure size 432x288 with 1 Axes>",
      "image/png": "[encoded data removed]"
     },
     "metadata": {
      "needs_background": "light",
      "image/png": {
       "width": 387,
       "height": 278
      }
     },
     "output_type": "display_data"
    }
   ]
  },
  {
   "cell_type": "markdown",
   "source": "Most likely want to exclude 2013 and 2018 from final data due to incompleteness  \nCheck for nonzero slope of linear plot of incidents over years?",
   "metadata": {
    "tags": [],
    "cell_id": "00010-040bd315-3db3-4d7a-9865-d2169f56dfb9",
    "deepnote_cell_type": "markdown"
   }
  },
  {
   "cell_type": "code",
   "metadata": {
    "tags": [],
    "cell_id": "00011-447e3ef1-7045-47bd-a05a-e1004679cf94",
    "deepnote_to_be_reexecuted": false,
    "source_hash": "63c395d4",
    "execution_start": 1622029979693,
    "execution_millis": 9641,
    "deepnote_cell_type": "code"
   },
   "source": "#Permanent spot for cleaning data to not have to constantly reread the data, master copy\nmdf=pd.read_csv(\"/work/CISC367_Final_Project/data/gun-violence-data_01-2013_03-2018.csv\")\n\n\ndef mfindDay(date):\n    day_name = datetime.datetime.strptime(date, '%Y-%m-%d').weekday()\n    return (calendar.day_name[day_name])\nfrom pandas.api.types import CategoricalDtype\nmdf['dotw']=mdf['date'].apply(mfindDay)\ncats = [ 'Monday', 'Tuesday', 'Wednesday', 'Thursday', 'Friday', 'Saturday', 'Sunday']\ncat_type = CategoricalDtype(categories=cats, ordered=True)\nmdf['dotw'] = mdf['dotw'].astype(cat_type)\n\ndef mstrpyear(string):\n    string=string[0:4]\n    return string\ndef mrmyear(string):\n    return string[5:]\n\nmdf['year']=mdf['date'].apply(mstrpyear)\nmdf['m/d']=mdf['date'].apply(mrmyear)\n#removing 2013 and 2018 due to incompleteness of data\nmdf=mdf[mdf.year!='2013']\nmdf=mdf[mdf.year!='2018']\n\n#Adding state codes for plotly\n\ndef abbrev(state):\n    us_state_abbrev = {\n    'Alabama': 'AL',\n    'Alaska': 'AK',\n    'American Samoa': 'AS',\n    'Arizona': 'AZ',\n    'Arkansas': 'AR',\n    'California': 'CA',\n    'Colorado': 'CO',\n    'Connecticut': 'CT',\n    'Delaware': 'DE',\n    'District of Columbia': 'DC',\n    'Florida': 'FL',\n    'Georgia': 'GA',\n    'Guam': 'GU',\n    'Hawaii': 'HI',\n    'Idaho': 'ID',\n    'Illinois': 'IL',\n    'Indiana': 'IN',\n    'Iowa': 'IA',\n    'Kansas': 'KS',\n    'Kentucky': 'KY',\n    'Louisiana': 'LA',\n    'Maine': 'ME',\n    'Maryland': 'MD',\n    'Massachusetts': 'MA',\n    'Michigan': 'MI',\n    'Minnesota': 'MN',\n    'Mississippi': 'MS',\n    'Missouri': 'MO',\n    'Montana': 'MT',\n    'Nebraska': 'NE',\n    'Nevada': 'NV',\n    'New Hampshire': 'NH',\n    'New Jersey': 'NJ',\n    'New Mexico': 'NM',\n    'New York': 'NY',\n    'North Carolina': 'NC',\n    'North Dakota': 'ND',\n    'Northern Mariana Islands':'MP',\n    'Ohio': 'OH',\n    'Oklahoma': 'OK',\n    'Oregon': 'OR',\n    'Pennsylvania': 'PA',\n    'Puerto Rico': 'PR',\n    'Rhode Island': 'RI',\n    'South Carolina': 'SC',\n    'South Dakota': 'SD',\n    'Tennessee': 'TN',\n    'Texas': 'TX',\n    'Utah': 'UT',\n    'Vermont': 'VT',\n    'Virgin Islands': 'VI',\n    'Virginia': 'VA',\n    'Washington': 'WA',\n    'West Virginia': 'WV',\n    'Wisconsin': 'WI',\n    'Wyoming': 'WY'\n    \n}\n    return us_state_abbrev[state]\n\nmdf['state_code']=mdf['state'].apply(abbrev)\n\n\nmdf",
   "execution_count": 9,
   "outputs": [
    {
     "output_type": "execute_result",
     "execution_count": 9,
     "data": {
      "application/vnd.deepnote.dataframe.v2+json": {
       "row_count": 225597,
       "column_count": 33,
       "columns": [
        {
         "name": "incident_id",
         "dtype": "int64"
        },
        {
         "name": "date",
         "dtype": "object"
        },
        {
         "name": "state",
         "dtype": "object"
        },
        {
         "name": "city_or_county",
         "dtype": "object"
        },
        {
         "name": "address",
         "dtype": "object"
        },
        {
         "name": "n_killed",
         "dtype": "int64"
        },
        {
         "name": "n_injured",
         "dtype": "int64"
        },
        {
         "name": "incident_url",
         "dtype": "object"
        },
        {
         "name": "source_url",
         "dtype": "object"
        },
        {
         "name": "incident_url_fields_missing",
         "dtype": "bool"
        },
        {
         "name": "congressional_district",
         "dtype": "float64"
        },
        {
         "name": "gun_stolen",
         "dtype": "object"
        },
        {
         "name": "gun_type",
         "dtype": "object"
        },
        {
         "name": "incident_characteristics",
         "dtype": "object"
        },
        {
         "name": "latitude",
         "dtype": "float64"
        },
        {
         "name": "location_description",
         "dtype": "object"
        },
        {
         "name": "longitude",
         "dtype": "float64"
        },
        {
         "name": "n_guns_involved",
         "dtype": "float64"
        },
        {
         "name": "notes",
         "dtype": "object"
        },
        {
         "name": "participant_age",
         "dtype": "object"
        },
        {
         "name": "participant_age_group",
         "dtype": "object"
        },
        {
         "name": "participant_gender",
         "dtype": "object"
        },
        {
         "name": "participant_name",
         "dtype": "object"
        },
        {
         "name": "participant_relationship",
         "dtype": "object"
        },
        {
         "name": "participant_status",
         "dtype": "object"
        },
        {
         "name": "participant_type",
         "dtype": "object"
        },
        {
         "name": "sources",
         "dtype": "object"
        },
        {
         "name": "state_house_district",
         "dtype": "float64"
        },
        {
         "name": "state_senate_district",
         "dtype": "float64"
        },
        {
         "name": "dotw",
         "dtype": "category"
        },
        {
         "name": "year",
         "dtype": "object"
        },
        {
         "name": "m/d",
         "dtype": "object"
        },
        {
         "name": "state_code",
         "dtype": "object"
        },
        {
         "name": "_deepnote_index_column",
         "dtype": "int64"
        }
       ],
       "rows_top": [
        {
         "incident_id": 95289,
         "date": "2014-01-01",
         "state": "Michigan",
         "city_or_county": "Muskegon",
         "address": "300 block of Monroe Avenue ",
         "n_killed": 0,
         "n_injured": 0,
         "incident_url": "http://www.gunviolencearchive.org/incident/95289",
         "source_url": "http://www.mlive.com/news/muskegon/index.ssf/2014/01/police_celebratory_gunfire_in.html",
         "incident_url_fields_missing": false,
         "congressional_district": 2,
         "gun_stolen": "nan",
         "gun_type": "nan",
         "incident_characteristics": "Shots Fired - No Injuries",
         "latitude": 43.2301,
         "location_description": "nan",
         "longitude": -86.2514,
         "n_guns_involved": "nan",
         "notes": "bullets entered home",
         "participant_age": "nan",
         "participant_age_group": "0::Adult 18+",
         "participant_gender": "0::Female",
         "participant_name": "nan",
         "participant_relationship": "nan",
         "participant_status": "0::Unharmed",
         "participant_type": "0::Victim",
         "sources": "http://www.mlive.com/news/muskegon/index.ssf/2014/01/police_celebratory_gunfire_in.html",
         "state_house_district": "92.0",
         "state_senate_district": "34.0",
         "dotw": "Wednesday",
         "year": "2014",
         "m/d": "01-01",
         "state_code": "MI",
         "_deepnote_index_column": 278
        },
        {
         "incident_id": 92401,
         "date": "2014-01-01",
         "state": "New Jersey",
         "city_or_county": "Newark",
         "address": "Central Avenue",
         "n_killed": 0,
         "n_injured": 0,
         "incident_url": "http://www.gunviolencearchive.org/incident/92401",
         "source_url": "http://www.nj.com/essex/index.ssf/2014/01/newark_police_open_fire_after_suspect_threatened_officers_with_gun.html#incart_river_d",
         "incident_url_fields_missing": false,
         "congressional_district": 10,
         "gun_stolen": "nan",
         "gun_type": "nan",
         "incident_characteristics": "Officer Involved Incident",
         "latitude": 40.7417,
         "location_description": "nan",
         "longitude": -74.1695,
         "n_guns_involved": "nan",
         "notes": "Multiple detectives shot at once from vehicle with unknown number of perpetrators, detectives returned fire.",
         "participant_age": "nan",
         "participant_age_group": "nan",
         "participant_gender": "nan",
         "participant_name": "nan",
         "participant_relationship": "nan",
         "participant_status": "nan",
         "participant_type": "nan",
         "sources": "http://www.nj.com/essex/index.ssf/2014/01/newark_police_open_fire_after_suspect_threatened_officers_with_gun.html#incart_river_d",
         "state_house_district": "29.0",
         "state_senate_district": "29.0",
         "dotw": "Wednesday",
         "year": "2014",
         "m/d": "01-01",
         "state_code": "NJ",
         "_deepnote_index_column": 279
        },
        {
         "incident_id": 92383,
         "date": "2014-01-01",
         "state": "New York",
         "city_or_county": "Queens",
         "address": "113th Avenue",
         "n_killed": 1,
         "n_injured": 0,
         "incident_url": "http://www.gunviolencearchive.org/incident/92383",
         "source_url": "http://www.timesledger.com/stories/2014/2/firstmurderupdate_web_2014_01_02_q.html",
         "incident_url_fields_missing": false,
         "congressional_district": 5,
         "gun_stolen": "nan",
         "gun_type": "nan",
         "incident_characteristics": "Shot - Dead (murder, accidental, suicide)",
         "latitude": 40.7034,
         "location_description": "nan",
         "longitude": -73.7474,
         "n_guns_involved": "nan",
         "notes": "Perpetrator is being sought by police.",
         "participant_age": "0::22||1::26",
         "participant_age_group": "0::Adult 18+||1::Adult 18+",
         "participant_gender": "0::Male||1::Male",
         "participant_name": "0::Julio Mora||1::Sheldon Smith",
         "participant_relationship": "nan",
         "participant_status": "0::Killed||1::Unharmed",
         "participant_type": "0::Victim||1::Subject-Suspect",
         "sources": "http://www.timesledger.com/stories/2014/2/firstmurderupdate_web_2014_01_02_q.html",
         "state_house_district": "33.0",
         "state_senate_district": "14.0",
         "dotw": "Wednesday",
         "year": "2014",
         "m/d": "01-01",
         "state_code": "NY",
         "_deepnote_index_column": 280
        },
        {
         "incident_id": 92142,
         "date": "2014-01-01",
         "state": "New York",
         "city_or_county": "Brooklyn",
         "address": "St. Johns Place",
         "n_killed": 0,
         "n_injured": 1,
         "incident_url": "http://www.gunviolencearchive.org/incident/92142",
         "source_url": "http://www.nydailynews.com/new-york/nyc-crime/2-die-spate-nyc-holiday-violence-article-1.1563394",
         "incident_url_fields_missing": false,
         "congressional_district": 9,
         "gun_stolen": "nan",
         "gun_type": "nan",
         "incident_characteristics": "Shot - Wounded/Injured",
         "latitude": 40.6715,
         "location_description": "nan",
         "longitude": -73.9476,
         "n_guns_involved": "nan",
         "notes": "nan",
         "participant_age": "0::34",
         "participant_age_group": "0::Adult 18+||1::Adult 18+",
         "participant_gender": "0::Male||1::Male",
         "participant_name": "nan",
         "participant_relationship": "nan",
         "participant_status": "0::Injured",
         "participant_type": "0::Victim||1::Subject-Suspect",
         "sources": "http://www.nydailynews.com/new-york/nyc-crime/2-die-spate-nyc-holiday-violence-article-1.1563394",
         "state_house_district": "43.0",
         "state_senate_district": "20.0",
         "dotw": "Wednesday",
         "year": "2014",
         "m/d": "01-01",
         "state_code": "NY",
         "_deepnote_index_column": 281
        },
        {
         "incident_id": 95261,
         "date": "2014-01-01",
         "state": "Missouri",
         "city_or_county": "Springfield",
         "address": "Beverly Hills and Temple",
         "n_killed": 0,
         "n_injured": 1,
         "incident_url": "http://www.gunviolencearchive.org/incident/95261",
         "source_url": "http://www.ozarksfirst.com/story/deputies-6-year-old-child-shot-rushed-to-hospital/d/story/uzJ0SAO98UyiZK6kmlUNYw",
         "incident_url_fields_missing": false,
         "congressional_district": 7,
         "gun_stolen": "nan",
         "gun_type": "nan",
         "incident_characteristics": "Shot - Wounded/Injured",
         "latitude": 37.2646,
         "location_description": "nan",
         "longitude": -93.3007,
         "n_guns_involved": "nan",
         "notes": "nan",
         "participant_age": "0::6||1::12",
         "participant_age_group": "0::Child 0-11||1::Teen 12-17",
         "participant_gender": "0::Female",
         "participant_name": "nan",
         "participant_relationship": "nan",
         "participant_status": "0::Injured||1::Unharmed",
         "participant_type": "0::Victim||1::Subject-Suspect",
         "sources": "http://www.ozarksfirst.com/story/deputies-6-year-old-child-shot-rushed-to-hospital/d/story/uzJ0SAO98UyiZK6kmlUNYw",
         "state_house_district": "131.0",
         "state_senate_district": "30.0",
         "dotw": "Wednesday",
         "year": "2014",
         "m/d": "01-01",
         "state_code": "MO",
         "_deepnote_index_column": 282
        },
        {
         "incident_id": 92272,
         "date": "2014-01-01",
         "state": "Georgia",
         "city_or_county": "Columbus",
         "address": "1327 23rd Street",
         "n_killed": 0,
         "n_injured": 1,
         "incident_url": "http://www.gunviolencearchive.org/incident/92272",
         "source_url": "http://www.ledger-enquirer.com/2014/08/25/3264788/attempted-murder-suspect-in-new.html",
         "incident_url_fields_missing": false,
         "congressional_district": 2,
         "gun_stolen": "nan",
         "gun_type": "nan",
         "incident_characteristics": "Shot - Wounded/Injured",
         "latitude": 32.4848,
         "location_description": "nan",
         "longitude": -84.9727,
         "n_guns_involved": "nan",
         "notes": "nan",
         "participant_age": "0::27||1::25",
         "participant_age_group": "0::Adult 18+||1::Adult 18+",
         "participant_gender": "0::Male||1::Male",
         "participant_name": "1::Jakevious Corderro Luckey",
         "participant_relationship": "nan",
         "participant_status": "0::Injured||1::Unharmed",
         "participant_type": "0::Victim||1::Subject-Suspect",
         "sources": "http://www.ledger-enquirer.com/2014/01/02/2881510/police-investigating-shooting.html||http://www.ledger-enquirer.com/2014/08/25/3264788/attempted-murder-suspect-in-new.html",
         "state_house_district": "135.0",
         "state_senate_district": "15.0",
         "dotw": "Wednesday",
         "year": "2014",
         "m/d": "01-01",
         "state_code": "GA",
         "_deepnote_index_column": 283
        },
        {
         "incident_id": 92428,
         "date": "2014-01-01",
         "state": "New York",
         "city_or_county": "Syracuse",
         "address": "200 block of Ballard Avenue",
         "n_killed": 0,
         "n_injured": 1,
         "incident_url": "http://www.gunviolencearchive.org/incident/92428",
         "source_url": "http://www.syracuse.com/news/index.ssf/2014/01/syracuse_police_investigate_shooting_on_south_side.html#incart_river_default",
         "incident_url_fields_missing": false,
         "congressional_district": 24,
         "gun_stolen": "nan",
         "gun_type": "nan",
         "incident_characteristics": "Shot - Wounded/Injured",
         "latitude": 43.0308,
         "location_description": "nan",
         "longitude": -76.1562,
         "n_guns_involved": "nan",
         "notes": "nan",
         "participant_age": "0::20",
         "participant_age_group": "0::Adult 18+",
         "participant_gender": "0::Male",
         "participant_name": "0::Shaquille Breland",
         "participant_relationship": "nan",
         "participant_status": "0::Injured",
         "participant_type": "0::Victim",
         "sources": "http://www.syracuse.com/news/index.ssf/2014/01/syracuse_police_investigate_shooting_on_south_side.html#incart_river_default",
         "state_house_district": "128.0",
         "state_senate_district": "53.0",
         "dotw": "Wednesday",
         "year": "2014",
         "m/d": "01-01",
         "state_code": "NY",
         "_deepnote_index_column": 284
        },
        {
         "incident_id": 94205,
         "date": "2014-01-01",
         "state": "Kentucky",
         "city_or_county": "Lexington",
         "address": "Kenton and Fourth streets",
         "n_killed": 0,
         "n_injured": 0,
         "incident_url": "http://www.gunviolencearchive.org/incident/94205",
         "source_url": "http://www.lex18.com/news/police-searching-for-suspect-who-fired-shots-at-home/",
         "incident_url_fields_missing": false,
         "congressional_district": 6,
         "gun_stolen": "nan",
         "gun_type": "nan",
         "incident_characteristics": "Shots Fired - No Injuries||Drive-by (car to street, car to car)",
         "latitude": 38.053,
         "location_description": "nan",
         "longitude": -84.4928,
         "n_guns_involved": "nan",
         "notes": "nan",
         "participant_age": "nan",
         "participant_age_group": "nan",
         "participant_gender": "nan",
         "participant_name": "nan",
         "participant_relationship": "nan",
         "participant_status": "nan",
         "participant_type": "nan",
         "sources": "http://www.lex18.com/news/police-searching-for-suspect-who-fired-shots-at-home/",
         "state_house_district": "nan",
         "state_senate_district": "nan",
         "dotw": "Wednesday",
         "year": "2014",
         "m/d": "01-01",
         "state_code": "KY",
         "_deepnote_index_column": 285
        },
        {
         "incident_id": 92218,
         "date": "2014-01-01",
         "state": "Georgia",
         "city_or_county": "Bibb County",
         "address": "nan",
         "n_killed": 0,
         "n_injured": 1,
         "incident_url": "http://www.gunviolencearchive.org/incident/92218",
         "source_url": "http://www.macon.com/2014/01/01/2858327/haddock-man-shot-in-bibb.html",
         "incident_url_fields_missing": false,
         "congressional_district": 2,
         "gun_stolen": "nan",
         "gun_type": "nan",
         "incident_characteristics": "Shot - Wounded/Injured",
         "latitude": 32.7866,
         "location_description": "nan",
         "longitude": -83.7199,
         "n_guns_involved": "nan",
         "notes": "nan",
         "participant_age": "0::24||1::35",
         "participant_age_group": "0::Adult 18+||1::Adult 18+",
         "participant_gender": "0::Male||1::Male",
         "participant_name": "0::Bryan Collins||1::Savalles Emory",
         "participant_relationship": "nan",
         "participant_status": "0::Injured||1::Unharmed",
         "participant_type": "0::Victim||1::Subject-Suspect",
         "sources": "http://www.macon.com/2014/01/01/2858327/haddock-man-shot-in-bibb.html",
         "state_house_district": "142.0",
         "state_senate_district": "26.0",
         "dotw": "Wednesday",
         "year": "2014",
         "m/d": "01-01",
         "state_code": "GA",
         "_deepnote_index_column": 286
        },
        {
         "incident_id": 104905,
         "date": "2014-01-01",
         "state": "Virginia",
         "city_or_county": "Prince William County",
         "address": "10100 block of Shiloh Ct",
         "n_killed": 0,
         "n_injured": 1,
         "incident_url": "http://www.gunviolencearchive.org/incident/104905",
         "source_url": "http://potomaclocal.com/2014/01/02/north-carolina-man-wanted-new-years-shooting-near-manassas/",
         "incident_url_fields_missing": false,
         "congressional_district": 1,
         "gun_stolen": "nan",
         "gun_type": "nan",
         "incident_characteristics": "Shot - Wounded/Injured",
         "latitude": 38.7765,
         "location_description": "nan",
         "longitude": -77.4996,
         "n_guns_involved": "nan",
         "notes": "nan",
         "participant_age": "0::31||1::25",
         "participant_age_group": "0::Adult 18+||1::Adult 18+",
         "participant_gender": "0::Male||1::Male",
         "participant_name": "1::David Jamar Moore",
         "participant_relationship": "nan",
         "participant_status": "0::Injured||1::Unharmed",
         "participant_type": "0::Victim||1::Subject-Suspect",
         "sources": "http://potomaclocal.com/2014/01/02/north-carolina-man-wanted-new-years-shooting-near-manassas/",
         "state_house_district": "50.0",
         "state_senate_district": "29.0",
         "dotw": "Wednesday",
         "year": "2014",
         "m/d": "01-01",
         "state_code": "VA",
         "_deepnote_index_column": 287
        },
        {
         "incident_id": 92423,
         "date": "2014-01-01",
         "state": "Pennsylvania",
         "city_or_county": "Philadelphia",
         "address": "34th Street and Haverford Avenue",
         "n_killed": 0,
         "n_injured": 1,
         "incident_url": "http://www.gunviolencearchive.org/incident/92423",
         "source_url": "http://www.philly.com/philly/blogs/dncrime/Man-18-hospitalized-after-shooting-in-Mantua.html",
         "incident_url_fields_missing": false,
         "congressional_district": 2,
         "gun_stolen": "nan",
         "gun_type": "nan",
         "incident_characteristics": "Shot - Wounded/Injured",
         "latitude": 39.9641,
         "location_description": "nan",
         "longitude": -75.1916,
         "n_guns_involved": "nan",
         "notes": "nan",
         "participant_age": "0::18",
         "participant_age_group": "0::Adult 18+",
         "participant_gender": "0::Male",
         "participant_name": "nan",
         "participant_relationship": "nan",
         "participant_status": "0::Injured",
         "participant_type": "0::Victim||1::Subject-Suspect",
         "sources": "http://www.philly.com/philly/blogs/dncrime/Man-18-hospitalized-after-shooting-in-Mantua.html",
         "state_house_district": "nan",
         "state_senate_district": "nan",
         "dotw": "Wednesday",
         "year": "2014",
         "m/d": "01-01",
         "state_code": "PA",
         "_deepnote_index_column": 288
        },
        {
         "incident_id": 94154,
         "date": "2014-01-01",
         "state": "Virginia",
         "city_or_county": "Hampton",
         "address": "West Queen Street and Stewart Street",
         "n_killed": 0,
         "n_injured": 0,
         "incident_url": "http://www.gunviolencearchive.org/incident/94154",
         "source_url": "http://www.dailypress.com/news/crime/dp-hampton-man-arrested-in-new-years-day-robbery-20140107,0,517155.story",
         "incident_url_fields_missing": false,
         "congressional_district": 3,
         "gun_stolen": "nan",
         "gun_type": "nan",
         "incident_characteristics": "Armed robbery with injury/death and/or evidence of DGU found",
         "latitude": 37.0258,
         "location_description": "nan",
         "longitude": -76.3534,
         "n_guns_involved": "nan",
         "notes": "nan",
         "participant_age": "0::19||1::19",
         "participant_age_group": "0::Adult 18+||1::Adult 18+",
         "participant_gender": "0::Male||1::Male",
         "participant_name": "1::Michael Davonta Tucker Jr.",
         "participant_relationship": "nan",
         "participant_status": "0::Unharmed||1::Unharmed",
         "participant_type": "0::Victim||1::Subject-Suspect",
         "sources": "http://www.dailypress.com/news/crime/dp-hampton-man-arrested-in-new-years-day-robbery-20140107,0,517155.story",
         "state_house_district": "92.0",
         "state_senate_district": "2.0",
         "dotw": "Wednesday",
         "year": "2014",
         "m/d": "01-01",
         "state_code": "VA",
         "_deepnote_index_column": 289
        },
        {
         "incident_id": 92215,
         "date": "2014-01-01",
         "state": "South Carolina",
         "city_or_county": "North Charleston",
         "address": "Niagara Street",
         "n_killed": 1,
         "n_injured": 0,
         "incident_url": "http://www.gunviolencearchive.org/incident/92215",
         "source_url": "/www.thestate.com/2014/01/03/3188515/cops-name-sc-women-shot-to-death.html",
         "incident_url_fields_missing": false,
         "congressional_district": 6,
         "gun_stolen": "nan",
         "gun_type": "nan",
         "incident_characteristics": "Shot - Dead (murder, accidental, suicide)",
         "latitude": 32.8548,
         "location_description": "nan",
         "longitude": -79.9977,
         "n_guns_involved": "nan",
         "notes": "nan",
         "participant_age": "0::52",
         "participant_age_group": "0::Adult 18+",
         "participant_gender": "0::Female",
         "participant_name": "0::Janet Royal",
         "participant_relationship": "nan",
         "participant_status": "0::Killed",
         "participant_type": "0::Victim",
         "sources": "http://www.postandcourier.com/article/20140101/PC16/140109957/1180/new-year-begins-in-north-charleston-with-two-shootings-at-lea",
         "state_house_district": "109.0",
         "state_senate_district": "42.0",
         "dotw": "Wednesday",
         "year": "2014",
         "m/d": "01-01",
         "state_code": "SC",
         "_deepnote_index_column": 290
        },
        {
         "incident_id": 104022,
         "date": "2014-01-01",
         "state": "Maryland",
         "city_or_county": "Baltimore",
         "address": "2100 block of Tucker Lane",
         "n_killed": 0,
         "n_injured": 0,
         "incident_url": "http://www.gunviolencearchive.org/incident/104022",
         "source_url": "http://www.wbaltv.com/news/maryland/baltimore-city/mta-seeks-help-in-armed-robbery-case/-/10131532/24290890/-/36axx8z/-/index.ht",
         "incident_url_fields_missing": false,
         "congressional_district": 7,
         "gun_stolen": "nan",
         "gun_type": "nan",
         "incident_characteristics": "Armed robbery with injury/death and/or evidence of DGU found",
         "latitude": 39.3106,
         "location_description": "nan",
         "longitude": -76.7022,
         "n_guns_involved": "nan",
         "notes": "nan",
         "participant_age": "nan",
         "participant_age_group": "0::Adult 18+||1::Adult 18+||2::Adult 18+",
         "participant_gender": "1::Male||2::Male",
         "participant_name": "nan",
         "participant_relationship": "nan",
         "participant_status": "0::Unharmed||1::Unharmed||2::Unharmed",
         "participant_type": "0::Victim||1::Subject-Suspect||2::Subject-Suspect",
         "sources": "http://www.wbaltv.com/news/maryland/baltimore-city/mta-seeks-help-in-armed-robbery-case/-/10131532/24290890/-/36axx8z/-/index.ht",
         "state_house_district": "41.0",
         "state_senate_district": "41.0",
         "dotw": "Wednesday",
         "year": "2014",
         "m/d": "01-01",
         "state_code": "MD",
         "_deepnote_index_column": 291
        },
        {
         "incident_id": 92357,
         "date": "2014-01-01",
         "state": "Delaware",
         "city_or_county": "Wilmington",
         "address": "1400 block of West 3rd",
         "n_killed": 1,
         "n_injured": 0,
         "incident_url": "http://www.gunviolencearchive.org/incident/92357",
         "source_url": "http://abclocal.go.com/wpvi/story",
         "incident_url_fields_missing": false,
         "congressional_district": 1,
         "gun_stolen": "nan",
         "gun_type": "nan",
         "incident_characteristics": "Shot - Dead (murder, accidental, suicide)",
         "latitude": 39.7457,
         "location_description": "nan",
         "longitude": -75.5668,
         "n_guns_involved": "nan",
         "notes": "\"Investigators believe Whitt was shot two blocks away, in the 1400 block of West 3rd, and was able to drive to the 1200 block before he expired.\"",
         "participant_age": "0::28",
         "participant_age_group": "0::Adult 18+",
         "participant_gender": "0::Male",
         "participant_name": "0::Allen Whitt",
         "participant_relationship": "nan",
         "participant_status": "0::Killed",
         "participant_type": "0::Victim",
         "sources": "http://abclocal.go.com/wpvi/story",
         "state_house_district": "3.0",
         "state_senate_district": "3.0",
         "dotw": "Wednesday",
         "year": "2014",
         "m/d": "01-01",
         "state_code": "DE",
         "_deepnote_index_column": 292
        }
       ],
       "rows_bottom": [
        {
         "incident_id": 1018083,
         "date": "2017-12-31",
         "state": "Texas",
         "city_or_county": "Houston",
         "address": "1200 Louisiana St",
         "n_killed": 0,
         "n_injured": 0,
         "incident_url": "http://www.gunviolencearchive.org/incident/1018083",
         "source_url": "https://www.click2houston.com/news/intoxicated-man-found-with-small-arsenal-on-top-floor-of-hyatt-regency-downtown-police-say",
         "incident_url_fields_missing": false,
         "congressional_district": "18.0",
         "gun_stolen": "0::Unknown||1::Unknown||2::Unknown",
         "gun_type": "0::Handgun||1::Shotgun||2::223 Rem [AR-15]",
         "incident_characteristics": "Non-Shooting Incident||Under the influence of alcohol or drugs (only applies to the subject/suspect/perpetrator )||ATF/LE Confiscation/Raid/Arrest||Possession (gun(s) found during commission of other crimes)||Assault weapon (AR-15, AK-47, and ALL variants defined by law enforcement)",
         "latitude": 29.7571,
         "location_description": "Hyatt Regency Hotel",
         "longitude": -95.3688,
         "n_guns_involved": 3,
         "notes": "3 guns, ammo found in hotel room of guest arrested for unruly public intoxication at hotel bar",
         "participant_age": "0::49",
         "participant_age_group": "0::Adult 18+",
         "participant_gender": "0::Male",
         "participant_name": "0::Russell Lawrence Ziemba",
         "participant_relationship": "nan",
         "participant_status": "0::Unharmed, Arrested",
         "participant_type": "0::Subject-Suspect",
         "sources": "http://www.wcvb.com/article/arsenal-found-in-mans-houston-hotel-room/14523583||https://www.click2houston.com/news/intoxicated-man-found-with-small-arsenal-on-top-floor-of-hyatt-regency-downtown-police-say",
         "state_house_district": "147.0",
         "state_senate_district": "13.0",
         "dotw": "Sunday",
         "year": "2017",
         "m/d": "12-31",
         "state_code": "TX",
         "_deepnote_index_column": 225860
        },
        {
         "incident_id": 1021938,
         "date": "2017-12-31",
         "state": "Alabama",
         "city_or_county": "Selma",
         "address": "1700 block of Water Avenue",
         "n_killed": 0,
         "n_injured": 2,
         "incident_url": "http://www.gunviolencearchive.org/incident/1021938",
         "source_url": "http://www.selmatimesjournal.com/2018/01/02/four-people-injured-in-three-shootings-over-holiday-weekend/",
         "incident_url_fields_missing": false,
         "congressional_district": "nan",
         "gun_stolen": "0::Unknown",
         "gun_type": "0::Unknown",
         "incident_characteristics": "Shot - Wounded/Injured||Drive-by (car to street, car to car)",
         "latitude": 32.4087,
         "location_description": "nan",
         "longitude": -87.0142,
         "n_guns_involved": 1,
         "notes": "nan",
         "participant_age": "0::31||1::25",
         "participant_age_group": "0::Adult 18+||1::Adult 18+",
         "participant_gender": "0::Male||1::Female",
         "participant_name": "nan",
         "participant_relationship": "nan",
         "participant_status": "0::Injured||1::Injured",
         "participant_type": "0::Victim||1::Victim",
         "sources": "http://www.selmatimesjournal.com/2018/01/02/four-people-injured-in-three-shootings-over-holiday-weekend/",
         "state_house_district": "nan",
         "state_senate_district": "nan",
         "dotw": "Sunday",
         "year": "2017",
         "m/d": "12-31",
         "state_code": "AL",
         "_deepnote_index_column": 225861
        },
        {
         "incident_id": 1021943,
         "date": "2017-12-31",
         "state": "Alabama",
         "city_or_county": "Selma",
         "address": "300 block of Gaines Avenue",
         "n_killed": 0,
         "n_injured": 1,
         "incident_url": "http://www.gunviolencearchive.org/incident/1021943",
         "source_url": "http://www.selmatimesjournal.com/2018/01/02/four-people-injured-in-three-shootings-over-holiday-weekend/",
         "incident_url_fields_missing": false,
         "congressional_district": "7.0",
         "gun_stolen": "0::Unknown",
         "gun_type": "0::Unknown",
         "incident_characteristics": "Shot - Wounded/Injured||Drive-by (car to street, car to car)",
         "latitude": 32.3752,
         "location_description": "nan",
         "longitude": -87.0035,
         "n_guns_involved": 1,
         "notes": "nan",
         "participant_age": "0::16",
         "participant_age_group": "0::Teen 12-17",
         "participant_gender": "0::Male",
         "participant_name": "nan",
         "participant_relationship": "nan",
         "participant_status": "0::Injured",
         "participant_type": "0::Victim",
         "sources": "http://www.selmatimesjournal.com/2018/01/02/four-people-injured-in-three-shootings-over-holiday-weekend/",
         "state_house_district": "67.0",
         "state_senate_district": "23.0",
         "dotw": "Sunday",
         "year": "2017",
         "m/d": "12-31",
         "state_code": "AL",
         "_deepnote_index_column": 225862
        },
        {
         "incident_id": 1019342,
         "date": "2017-12-31",
         "state": "Georgia",
         "city_or_county": "Cartersville",
         "address": "2 Cain Dr",
         "n_killed": 0,
         "n_injured": 0,
         "incident_url": "http://www.gunviolencearchive.org/incident/1019342",
         "source_url": "http://www.daily-tribune.com/newsx/item/9729-more-information-released-by-cpd-on-sunday-arrests",
         "incident_url_fields_missing": false,
         "congressional_district": "11.0",
         "gun_stolen": "0::Stolen||1::Unknown",
         "gun_type": "0::Unknown||1::Unknown",
         "incident_characteristics": "Non-Shooting Incident||House party||Drug involvement||ATF/LE Confiscation/Raid/Arrest||Possession (gun(s) found during commission of other crimes)||Stolen/Illegally owned gun{s} recovered during arrest/warrant",
         "latitude": 34.1945,
         "location_description": "nan",
         "longitude": -84.7806,
         "n_guns_involved": 2,
         "notes": "60+ arrested; unclear how many on gun charges",
         "participant_age": "nan",
         "participant_age_group": "nan",
         "participant_gender": "nan",
         "participant_name": "nan",
         "participant_relationship": "nan",
         "participant_status": "nan",
         "participant_type": "nan",
         "sources": "http://www.daily-tribune.com/newsx/item/9729-more-information-released-by-cpd-on-sunday-arrests",
         "state_house_district": "15.0",
         "state_senate_district": "14.0",
         "dotw": "Sunday",
         "year": "2017",
         "m/d": "12-31",
         "state_code": "GA",
         "_deepnote_index_column": 225863
        },
        {
         "incident_id": 1018580,
         "date": "2017-12-31",
         "state": "Illinois",
         "city_or_county": "Rockford",
         "address": "1100 Greenwood Ave",
         "n_killed": 0,
         "n_injured": 0,
         "incident_url": "http://www.gunviolencearchive.org/incident/1018580",
         "source_url": "http://www.rrstar.com/news/20180101/rockford-traffic-stop-leads-to-gun-arrest",
         "incident_url_fields_missing": false,
         "congressional_district": "17.0",
         "gun_stolen": "0::Unknown",
         "gun_type": "0::Handgun",
         "incident_characteristics": "Non-Shooting Incident||Officer Involved Incident||Officer Involved Incident - Weapon involved but no shots fired||Possession (gun(s) found during commission of other crimes)",
         "latitude": 42.2726,
         "location_description": "nan",
         "longitude": -89.0796,
         "n_guns_involved": 1,
         "notes": "Traffic stop finds man w/ suspended license, expired tags, w/ gun;",
         "participant_age": "0::22",
         "participant_age_group": "0::Adult 18+",
         "participant_gender": "0::Male",
         "participant_name": "0::Jared E Mayes",
         "participant_relationship": "nan",
         "participant_status": "0::Unharmed, Arrested",
         "participant_type": "0::Subject-Suspect",
         "sources": "http://www.rrstar.com/news/20180101/rockford-traffic-stop-leads-to-gun-arrest",
         "state_house_district": "67.0",
         "state_senate_district": "34.0",
         "dotw": "Sunday",
         "year": "2017",
         "m/d": "12-31",
         "state_code": "IL",
         "_deepnote_index_column": 225864
        },
        {
         "incident_id": 1020867,
         "date": "2017-12-31",
         "state": "Kansas",
         "city_or_county": "Topeka",
         "address": "300 block of SE 36th St",
         "n_killed": 0,
         "n_injured": 0,
         "incident_url": "http://www.gunviolencearchive.org/incident/1020867",
         "source_url": "http://cjonline.com/news/local/crime-courts/2018-01-02/police-calls-update-jan-2-2018",
         "incident_url_fields_missing": false,
         "congressional_district": "nan",
         "gun_stolen": "0::Unknown",
         "gun_type": "0::Unknown",
         "incident_characteristics": "Non-Shooting Incident||Possession (gun(s) found during commission of other crimes)",
         "latitude": 39.0024,
         "location_description": "nan",
         "longitude": -95.6143,
         "n_guns_involved": 1,
         "notes": "nan",
         "participant_age": "nan",
         "participant_age_group": "nan",
         "participant_gender": "nan",
         "participant_name": "nan",
         "participant_relationship": "nan",
         "participant_status": "nan",
         "participant_type": "nan",
         "sources": "http://cjonline.com/news/local/crime-courts/2018-01-02/police-calls-update-jan-2-2018",
         "state_house_district": "nan",
         "state_senate_district": "nan",
         "dotw": "Sunday",
         "year": "2017",
         "m/d": "12-31",
         "state_code": "KS",
         "_deepnote_index_column": 225865
        },
        {
         "incident_id": 1020146,
         "date": "2017-12-31",
         "state": "Georgia",
         "city_or_county": "Snellville",
         "address": "1500 block of Scenic Hwy N",
         "n_killed": 0,
         "n_injured": 1,
         "incident_url": "http://www.gunviolencearchive.org/incident/1020146",
         "source_url": "http://www.wsbtv.com/news/local/gwinnett-county/man-shoots-cell-phone-thief-during-craigslist-sale-police-say/675408831",
         "incident_url_fields_missing": false,
         "congressional_district": "7.0",
         "gun_stolen": "0::Unknown",
         "gun_type": "0::Unknown",
         "incident_characteristics": "Shot - Wounded/Injured||Defensive Use||Defensive Use - Victim stops crime||Defensive Use - Crime occurs, victim shoots subject/suspect/perpetrator||Defensive Use - Stand Your Ground/Castle Doctrine established||Shootout (where VENN diagram of shooters and victims overlap)||Armed robbery with injury/death and/or evidence of DGU found",
         "latitude": 33.887,
         "location_description": "nan",
         "longitude": -84.0097,
         "n_guns_involved": 1,
         "notes": "33.886971, -84.009702 ;",
         "participant_age": "nan",
         "participant_age_group": "nan",
         "participant_gender": "0::Male||1::Male||2::Male",
         "participant_name": "1::Jaylen Holmes||2::Rayquan Smith",
         "participant_relationship": "nan",
         "participant_status": "0::Unharmed||1::Injured, Arrested||2::Unharmed, Arrested",
         "participant_type": "0::Victim||1::Subject-Suspect||2::Subject-Suspect",
         "sources": "http://www.wsbtv.com/news/local/gwinnett-county/man-shoots-cell-phone-thief-during-craigslist-sale-police-say/675408831",
         "state_house_district": "106.0",
         "state_senate_district": "9.0",
         "dotw": "Sunday",
         "year": "2017",
         "m/d": "12-31",
         "state_code": "GA",
         "_deepnote_index_column": 225866
        },
        {
         "incident_id": 1020202,
         "date": "2017-12-31",
         "state": "Ohio",
         "city_or_county": "South Webster",
         "address": "500 block of Jackson Fork Rd",
         "n_killed": 0,
         "n_injured": 1,
         "incident_url": "http://www.gunviolencearchive.org/incident/1020202",
         "source_url": "http://www.wsaz.com/content/news/Investigation-underway-after-Scioto-County-shooting-467899303.html",
         "incident_url_fields_missing": false,
         "congressional_district": "6.0",
         "gun_stolen": "0::Unknown",
         "gun_type": "0::Unknown",
         "incident_characteristics": "Shot - Wounded/Injured",
         "latitude": 38.829,
         "location_description": "nan",
         "longitude": -82.696,
         "n_guns_involved": 1,
         "notes": "shot in abdomen;\r\r\r\r\n38.828962, -82.695790 ;",
         "participant_age": "nan",
         "participant_age_group": "0::Adult 18+",
         "participant_gender": "0::Male",
         "participant_name": "nan",
         "participant_relationship": "nan",
         "participant_status": "0::Injured",
         "participant_type": "0::Victim",
         "sources": "http://www.wsaz.com/content/news/Investigation-underway-after-Scioto-County-shooting-467899303.html",
         "state_house_district": "90.0",
         "state_senate_district": "14.0",
         "dotw": "Sunday",
         "year": "2017",
         "m/d": "12-31",
         "state_code": "OH",
         "_deepnote_index_column": 225867
        },
        {
         "incident_id": 1020900,
         "date": "2017-12-31",
         "state": "Florida",
         "city_or_county": "Fort Pierce",
         "address": "601 N 25th St",
         "n_killed": 0,
         "n_injured": 1,
         "incident_url": "http://www.gunviolencearchive.org/incident/1020900",
         "source_url": "http://www.tcpalm.com/story/news/crime/st-lucie-county/2018/01/04/police-teen-shot-neck-store-clerk-during-nye-armed-robbery-fort-pierce/1004941001/",
         "incident_url_fields_missing": false,
         "congressional_district": "18.0",
         "gun_stolen": "0::Unknown||1::Unknown",
         "gun_type": "0::Unknown||1::Unknown",
         "incident_characteristics": "Shot - Wounded/Injured||Institution/Group/Business||Defensive Use||Defensive Use - Victim stops crime||Defensive Use - Crime occurs, victim shoots subject/suspect/perpetrator||Defensive Use - Stand Your Ground/Castle Doctrine established||Armed robbery with injury/death and/or evidence of DGU found",
         "latitude": 27.4549,
         "location_description": "Three O's Food Mart",
         "longitude": -80.35,
         "n_guns_involved": 2,
         "notes": "nan",
         "participant_age": "1::15||2::17",
         "participant_age_group": "1::Teen 12-17||2::Teen 12-17",
         "participant_gender": "0::Male||1::Male||2::Male",
         "participant_name": "1::Delroy Scott||2::James Collins",
         "participant_relationship": "nan",
         "participant_status": "0::Unharmed||1::Injured, Arrested||2::Unharmed, Arrested",
         "participant_type": "0::Victim||1::Subject-Suspect||2::Subject-Suspect",
         "sources": "http://www.tcpalm.com/story/news/crime/st-lucie-county/2018/01/04/police-teen-shot-neck-store-clerk-during-nye-armed-robbery-fort-pierce/1004941001/",
         "state_house_district": "84.0",
         "state_senate_district": "25.0",
         "dotw": "Sunday",
         "year": "2017",
         "m/d": "12-31",
         "state_code": "FL",
         "_deepnote_index_column": 225868
        },
        {
         "incident_id": 1018012,
         "date": "2017-12-31",
         "state": "Alabama",
         "city_or_county": "Mobile",
         "address": "Rose Lane",
         "n_killed": 0,
         "n_injured": 1,
         "incident_url": "http://www.gunviolencearchive.org/incident/1018012",
         "source_url": "http://www.wmcactionnews5.com/story/37168194/shooting-reported-in-west-mobile",
         "incident_url_fields_missing": false,
         "congressional_district": "1.0",
         "gun_stolen": "0::Unknown",
         "gun_type": "0::Unknown",
         "incident_characteristics": "Shot - Wounded/Injured",
         "latitude": 30.6577,
         "location_description": "nan",
         "longitude": -88.1559,
         "n_guns_involved": 1,
         "notes": "nan",
         "participant_age": "nan",
         "participant_age_group": "0::Adult 18+",
         "participant_gender": "nan",
         "participant_name": "nan",
         "participant_relationship": "nan",
         "participant_status": "0::Injured",
         "participant_type": "0::Victim",
         "sources": "http://www.wmcactionnews5.com/story/37168194/shooting-reported-in-west-mobile",
         "state_house_district": "103.0",
         "state_senate_district": "35.0",
         "dotw": "Sunday",
         "year": "2017",
         "m/d": "12-31",
         "state_code": "AL",
         "_deepnote_index_column": 225869
        },
        {
         "incident_id": 1018014,
         "date": "2017-12-31",
         "state": "South Carolina",
         "city_or_county": "Florence",
         "address": "200 Block of E Liberty St",
         "n_killed": 0,
         "n_injured": 0,
         "incident_url": "http://www.gunviolencearchive.org/incident/1018014",
         "source_url": "http://www.wmbfnews.com/story/37168117/florence-man-arrested-after-shooting-police-chase-manhunt",
         "incident_url_fields_missing": false,
         "congressional_district": "7.0",
         "gun_stolen": "0::Unknown",
         "gun_type": "0::Unknown",
         "incident_characteristics": "Shots Fired - No Injuries",
         "latitude": 34.2093,
         "location_description": "nan",
         "longitude": -79.7614,
         "n_guns_involved": 1,
         "notes": "nan",
         "participant_age": "nan",
         "participant_age_group": "0::Adult 18+",
         "participant_gender": "0::Male",
         "participant_name": "0::Kevin Austin",
         "participant_relationship": "nan",
         "participant_status": "0::Unharmed, Arrested",
         "participant_type": "0::Subject-Suspect",
         "sources": "http://www.wmbfnews.com/story/37168117/florence-man-arrested-after-shooting-police-chase-manhunt",
         "state_house_district": "59.0",
         "state_senate_district": "30.0",
         "dotw": "Sunday",
         "year": "2017",
         "m/d": "12-31",
         "state_code": "SC",
         "_deepnote_index_column": 225870
        },
        {
         "incident_id": 1019711,
         "date": "2017-12-31",
         "state": "Florida",
         "city_or_county": "Cape Coral",
         "address": "5703 Cape Harbour Dr",
         "n_killed": 0,
         "n_injured": 0,
         "incident_url": "http://www.gunviolencearchive.org/incident/1019711",
         "source_url": "http://www.nbc-2.com/story/37178796/shots-fired-into-cars-at-new-years-eve-celebration-in-cape-coral",
         "incident_url_fields_missing": false,
         "congressional_district": "19.0",
         "gun_stolen": "0::Unknown",
         "gun_type": "0::Unknown",
         "incident_characteristics": "Institution/Group/Business||Shots Fired - No Injuries||ATF/LE Confiscation/Raid/Arrest||Concealed Carry License - Perpetrator",
         "latitude": 26.5446,
         "location_description": "Cape Harbour",
         "longitude": -82.0081,
         "n_guns_involved": 1,
         "notes": "nan",
         "participant_age": "nan",
         "participant_age_group": "0::Adult 18+",
         "participant_gender": "0::Male",
         "participant_name": "0::John Brinley",
         "participant_relationship": "nan",
         "participant_status": "0::Unharmed, Arrested",
         "participant_type": "0::Subject-Suspect",
         "sources": "http://www.nbc-2.com/story/37178796/shots-fired-into-cars-at-new-years-eve-celebration-in-cape-coral",
         "state_house_district": "77.0",
         "state_senate_district": "27.0",
         "dotw": "Sunday",
         "year": "2017",
         "m/d": "12-31",
         "state_code": "FL",
         "_deepnote_index_column": 225871
        },
        {
         "incident_id": 1020965,
         "date": "2017-12-31",
         "state": "Florida",
         "city_or_county": "Saint Petersburg",
         "address": "170 Beach Dr NE",
         "n_killed": 0,
         "n_injured": 1,
         "incident_url": "http://www.gunviolencearchive.org/incident/1020965",
         "source_url": "http://www.baynews9.com/content/news/baynews9/news/article.html/content/news/articles/bn9/2018/1/4/orlando_man_hurt_by_.html",
         "incident_url_fields_missing": false,
         "congressional_district": "13.0",
         "gun_stolen": "0::Unknown",
         "gun_type": "0::Unknown",
         "incident_characteristics": "Shot - Wounded/Injured||Institution/Group/Business",
         "latitude": 27.773,
         "location_description": "Cassis American Brasserie",
         "longitude": -82.633,
         "n_guns_involved": 1,
         "notes": "possible celebratory gunfire",
         "participant_age": "nan",
         "participant_age_group": "nan",
         "participant_gender": "0::Male",
         "participant_name": "0::James Higginbotham",
         "participant_relationship": "nan",
         "participant_status": "0::Injured",
         "participant_type": "0::Victim",
         "sources": "http://www.baynews9.com/content/news/baynews9/news/article.html/content/news/articles/bn9/2018/1/4/orlando_man_hurt_by_.html",
         "state_house_district": "68.0",
         "state_senate_district": "19.0",
         "dotw": "Sunday",
         "year": "2017",
         "m/d": "12-31",
         "state_code": "FL",
         "_deepnote_index_column": 225872
        },
        {
         "incident_id": 1018101,
         "date": "2017-12-31",
         "state": "Illinois",
         "city_or_county": "Chicago",
         "address": "1900 S Sawyer Ave",
         "n_killed": 0,
         "n_injured": 1,
         "incident_url": "http://www.gunviolencearchive.org/incident/1018101",
         "source_url": "https://chicago.suntimes.com/news/man-wounded-in-lawndale-drive-by-shooting-4/amp/",
         "incident_url_fields_missing": false,
         "congressional_district": "nan",
         "gun_stolen": "0::Unknown",
         "gun_type": "0::Unknown",
         "incident_characteristics": "Shot - Wounded/Injured||Drive-by (car to street, car to car)",
         "latitude": 41.8553,
         "location_description": "nan",
         "longitude": -87.7069,
         "n_guns_involved": 1,
         "notes": "Leg, good;",
         "participant_age": "0::26",
         "participant_age_group": "0::Adult 18+",
         "participant_gender": "0::Male||1::Male",
         "participant_name": "nan",
         "participant_relationship": "nan",
         "participant_status": "0::Injured||1::Unharmed",
         "participant_type": "0::Victim||1::Subject-Suspect",
         "sources": "https://chicago.suntimes.com/news/man-wounded-in-lawndale-drive-by-shooting-4/amp/",
         "state_house_district": "nan",
         "state_senate_district": "nan",
         "dotw": "Sunday",
         "year": "2017",
         "m/d": "12-31",
         "state_code": "IL",
         "_deepnote_index_column": 225873
        },
        {
         "incident_id": 1019212,
         "date": "2017-12-31",
         "state": "Kentucky",
         "city_or_county": "Robards",
         "address": "11000 block of US 41",
         "n_killed": 0,
         "n_injured": 1,
         "incident_url": "http://www.gunviolencearchive.org/incident/1019212",
         "source_url": "http://www.14news.com/story/37398184/suspect-arrested-in-connection-to-new-years-eve-party-shooting",
         "incident_url_fields_missing": false,
         "congressional_district": "1.0",
         "gun_stolen": "0::Unknown||1::Unknown",
         "gun_type": "0::Handgun||1::Handgun",
         "incident_characteristics": "Shot - Wounded/Injured",
         "latitude": 37.752,
         "location_description": "nan",
         "longitude": -87.5396,
         "n_guns_involved": 2,
         "notes": "Henderson County, resident shot at New Year’s Eve party in home during argument, handguns;\r\r\r\r\n37.753650, -87.539949 ;",
         "participant_age": "0::37",
         "participant_age_group": "0::Adult 18+||1::Adult 18+",
         "participant_gender": "0::Male||1::Male||2::Male",
         "participant_name": "0::Reginald Brown II||1::Maurice Thompson",
         "participant_relationship": "nan",
         "participant_status": "0::Injured||1::Unharmed||2::Unharmed",
         "participant_type": "0::Victim||1::Subject-Suspect||2::Subject-Suspect",
         "sources": "http://www.14news.com/story/37168754/man-shot-at-henderson-co-new-years-eve-party||http://www.surfky.com/index.php/henderson/news-henderson/125593-update-man-shot-at-new-year-s-eve-party-in-robards-id-d||http://www.14news.com/story/37398184/suspect-arrested-in-connection-to-new-years-eve-party-shooting",
         "state_house_district": "11.0",
         "state_senate_district": "4.0",
         "dotw": "Sunday",
         "year": "2017",
         "m/d": "12-31",
         "state_code": "KY",
         "_deepnote_index_column": 225874
        }
       ]
      },
      "text/plain": "        incident_id        date           state    city_or_county  \\\n278           95289  2014-01-01        Michigan          Muskegon   \n279           92401  2014-01-01      New Jersey            Newark   \n280           92383  2014-01-01        New York            Queens   \n281           92142  2014-01-01        New York          Brooklyn   \n282           95261  2014-01-01        Missouri       Springfield   \n...             ...         ...             ...               ...   \n225870      1018014  2017-12-31  South Carolina          Florence   \n225871      1019711  2017-12-31         Florida        Cape Coral   \n225872      1020965  2017-12-31         Florida  Saint Petersburg   \n225873      1018101  2017-12-31        Illinois           Chicago   \n225874      1019212  2017-12-31        Kentucky           Robards   \n\n                            address  n_killed  n_injured  \\\n278     300 block of Monroe Avenue          0          0   \n279                  Central Avenue         0          0   \n280                    113th Avenue         1          0   \n281                 St. Johns Place         0          1   \n282        Beverly Hills and Temple         0          1   \n...                             ...       ...        ...   \n225870    200 Block of E Liberty St         0          0   \n225871         5703 Cape Harbour Dr         0          0   \n225872              170 Beach Dr NE         0          1   \n225873            1900 S Sawyer Ave         0          1   \n225874         11000 block of US 41         0          1   \n\n                                             incident_url  \\\n278      http://www.gunviolencearchive.org/incident/95289   \n279      http://www.gunviolencearchive.org/incident/92401   \n280      http://www.gunviolencearchive.org/incident/92383   \n281      http://www.gunviolencearchive.org/incident/92142   \n282      http://www.gunviolencearchive.org/incident/95261   \n...                                                   ...   \n225870  http://www.gunviolencearchive.org/incident/101...   \n225871  http://www.gunviolencearchive.org/incident/101...   \n225872  http://www.gunviolencearchive.org/incident/102...   \n225873  http://www.gunviolencearchive.org/incident/101...   \n225874  http://www.gunviolencearchive.org/incident/101...   \n\n                                               source_url  \\\n278     http://www.mlive.com/news/muskegon/index.ssf/2...   \n279     http://www.nj.com/essex/index.ssf/2014/01/newa...   \n280     http://www.timesledger.com/stories/2014/2/firs...   \n281     http://www.nydailynews.com/new-york/nyc-crime/...   \n282     http://www.ozarksfirst.com/story/deputies-6-ye...   \n...                                                   ...   \n225870  http://www.wmbfnews.com/story/37168117/florenc...   \n225871  http://www.nbc-2.com/story/37178796/shots-fire...   \n225872  http://www.baynews9.com/content/news/baynews9/...   \n225873  https://chicago.suntimes.com/news/man-wounded-...   \n225874  http://www.14news.com/story/37398184/suspect-a...   \n\n        incident_url_fields_missing  ...  participant_relationship  \\\n278                           False  ...                       NaN   \n279                           False  ...                       NaN   \n280                           False  ...                       NaN   \n281                           False  ...                       NaN   \n282                           False  ...                       NaN   \n...                             ...  ...                       ...   \n225870                        False  ...                       NaN   \n225871                        False  ...                       NaN   \n225872                        False  ...                       NaN   \n225873                        False  ...                       NaN   \n225874                        False  ...                       NaN   \n\n                          participant_status  \\\n278                              0::Unharmed   \n279                                      NaN   \n280                   0::Killed||1::Unharmed   \n281                               0::Injured   \n282                  0::Injured||1::Unharmed   \n...                                      ...   \n225870                 0::Unharmed, Arrested   \n225871                 0::Unharmed, Arrested   \n225872                            0::Injured   \n225873               0::Injured||1::Unharmed   \n225874  0::Injured||1::Unharmed||2::Unharmed   \n\n                                         participant_type  \\\n278                                             0::Victim   \n279                                                   NaN   \n280                         0::Victim||1::Subject-Suspect   \n281                         0::Victim||1::Subject-Suspect   \n282                         0::Victim||1::Subject-Suspect   \n...                                                   ...   \n225870                                 0::Subject-Suspect   \n225871                                 0::Subject-Suspect   \n225872                                          0::Victim   \n225873                      0::Victim||1::Subject-Suspect   \n225874  0::Victim||1::Subject-Suspect||2::Subject-Suspect   \n\n                                                  sources  \\\n278     http://www.mlive.com/news/muskegon/index.ssf/2...   \n279     http://www.nj.com/essex/index.ssf/2014/01/newa...   \n280     http://www.timesledger.com/stories/2014/2/firs...   \n281     http://www.nydailynews.com/new-york/nyc-crime/...   \n282     http://www.ozarksfirst.com/story/deputies-6-ye...   \n...                                                   ...   \n225870  http://www.wmbfnews.com/story/37168117/florenc...   \n225871  http://www.nbc-2.com/story/37178796/shots-fire...   \n225872  http://www.baynews9.com/content/news/baynews9/...   \n225873  https://chicago.suntimes.com/news/man-wounded-...   \n225874  http://www.14news.com/story/37168754/man-shot-...   \n\n        state_house_district state_senate_district       dotw  year    m/d  \\\n278                     92.0                  34.0  Wednesday  2014  01-01   \n279                     29.0                  29.0  Wednesday  2014  01-01   \n280                     33.0                  14.0  Wednesday  2014  01-01   \n281                     43.0                  20.0  Wednesday  2014  01-01   \n282                    131.0                  30.0  Wednesday  2014  01-01   \n...                      ...                   ...        ...   ...    ...   \n225870                  59.0                  30.0     Sunday  2017  12-31   \n225871                  77.0                  27.0     Sunday  2017  12-31   \n225872                  68.0                  19.0     Sunday  2017  12-31   \n225873                   NaN                   NaN     Sunday  2017  12-31   \n225874                  11.0                   4.0     Sunday  2017  12-31   \n\n       state_code  \n278            MI  \n279            NJ  \n280            NY  \n281            NY  \n282            MO  \n...           ...  \n225870         SC  \n225871         FL  \n225872         FL  \n225873         IL  \n225874         KY  \n\n[225597 rows x 33 columns]",
      "text/html": "<div>\n<style scoped>\n    .dataframe tbody tr th:only-of-type {\n        vertical-align: middle;\n    }\n\n    .dataframe tbody tr th {\n        vertical-align: top;\n    }\n\n    .dataframe thead th {\n        text-align: right;\n    }\n</style>\n<table border=\"1\" class=\"dataframe\">\n  <thead>\n    <tr style=\"text-align: right;\">\n      <th></th>\n      <th>incident_id</th>\n      <th>date</th>\n      <th>state</th>\n      <th>city_or_county</th>\n      <th>address</th>\n      <th>n_killed</th>\n      <th>n_injured</th>\n      <th>incident_url</th>\n      <th>source_url</th>\n      <th>incident_url_fields_missing</th>\n      <th>...</th>\n      <th>participant_relationship</th>\n      <th>participant_status</th>\n      <th>participant_type</th>\n      <th>sources</th>\n      <th>state_house_district</th>\n      <th>state_senate_district</th>\n      <th>dotw</th>\n      <th>year</th>\n      <th>m/d</th>\n      <th>state_code</th>\n    </tr>\n  </thead>\n  <tbody>\n    <tr>\n      <th>278</th>\n      <td>95289</td>\n      <td>2014-01-01</td>\n      <td>Michigan</td>\n      <td>Muskegon</td>\n      <td>300 block of Monroe Avenue</td>\n      <td>0</td>\n      <td>0</td>\n      <td>http://www.gunviolencearchive.org/incident/95289</td>\n      <td>http://www.mlive.com/news/muskegon/index.ssf/2...</td>\n      <td>False</td>\n      <td>...</td>\n      <td>NaN</td>\n      <td>0::Unharmed</td>\n      <td>0::Victim</td>\n      <td>http://www.mlive.com/news/muskegon/index.ssf/2...</td>\n      <td>92.0</td>\n      <td>34.0</td>\n      <td>Wednesday</td>\n      <td>2014</td>\n      <td>01-01</td>\n      <td>MI</td>\n    </tr>\n    <tr>\n      <th>279</th>\n      <td>92401</td>\n      <td>2014-01-01</td>\n      <td>New Jersey</td>\n      <td>Newark</td>\n      <td>Central Avenue</td>\n      <td>0</td>\n      <td>0</td>\n      <td>http://www.gunviolencearchive.org/incident/92401</td>\n      <td>http://www.nj.com/essex/index.ssf/2014/01/newa...</td>\n      <td>False</td>\n      <td>...</td>\n      <td>NaN</td>\n      <td>NaN</td>\n      <td>NaN</td>\n      <td>http://www.nj.com/essex/index.ssf/2014/01/newa...</td>\n      <td>29.0</td>\n      <td>29.0</td>\n      <td>Wednesday</td>\n      <td>2014</td>\n      <td>01-01</td>\n      <td>NJ</td>\n    </tr>\n    <tr>\n      <th>280</th>\n      <td>92383</td>\n      <td>2014-01-01</td>\n      <td>New York</td>\n      <td>Queens</td>\n      <td>113th Avenue</td>\n      <td>1</td>\n      <td>0</td>\n      <td>http://www.gunviolencearchive.org/incident/92383</td>\n      <td>http://www.timesledger.com/stories/2014/2/firs...</td>\n      <td>False</td>\n      <td>...</td>\n      <td>NaN</td>\n      <td>0::Killed||1::Unharmed</td>\n      <td>0::Victim||1::Subject-Suspect</td>\n      <td>http://www.timesledger.com/stories/2014/2/firs...</td>\n      <td>33.0</td>\n      <td>14.0</td>\n      <td>Wednesday</td>\n      <td>2014</td>\n      <td>01-01</td>\n      <td>NY</td>\n    </tr>\n    <tr>\n      <th>281</th>\n      <td>92142</td>\n      <td>2014-01-01</td>\n      <td>New York</td>\n      <td>Brooklyn</td>\n      <td>St. Johns Place</td>\n      <td>0</td>\n      <td>1</td>\n      <td>http://www.gunviolencearchive.org/incident/92142</td>\n      <td>http://www.nydailynews.com/new-york/nyc-crime/...</td>\n      <td>False</td>\n      <td>...</td>\n      <td>NaN</td>\n      <td>0::Injured</td>\n      <td>0::Victim||1::Subject-Suspect</td>\n      <td>http://www.nydailynews.com/new-york/nyc-crime/...</td>\n      <td>43.0</td>\n      <td>20.0</td>\n      <td>Wednesday</td>\n      <td>2014</td>\n      <td>01-01</td>\n      <td>NY</td>\n    </tr>\n    <tr>\n      <th>282</th>\n      <td>95261</td>\n      <td>2014-01-01</td>\n      <td>Missouri</td>\n      <td>Springfield</td>\n      <td>Beverly Hills and Temple</td>\n      <td>0</td>\n      <td>1</td>\n      <td>http://www.gunviolencearchive.org/incident/95261</td>\n      <td>http://www.ozarksfirst.com/story/deputies-6-ye...</td>\n      <td>False</td>\n      <td>...</td>\n      <td>NaN</td>\n      <td>0::Injured||1::Unharmed</td>\n      <td>0::Victim||1::Subject-Suspect</td>\n      <td>http://www.ozarksfirst.com/story/deputies-6-ye...</td>\n      <td>131.0</td>\n      <td>30.0</td>\n      <td>Wednesday</td>\n      <td>2014</td>\n      <td>01-01</td>\n      <td>MO</td>\n    </tr>\n    <tr>\n      <th>...</th>\n      <td>...</td>\n      <td>...</td>\n      <td>...</td>\n      <td>...</td>\n      <td>...</td>\n      <td>...</td>\n      <td>...</td>\n      <td>...</td>\n      <td>...</td>\n      <td>...</td>\n      <td>...</td>\n      <td>...</td>\n      <td>...</td>\n      <td>...</td>\n      <td>...</td>\n      <td>...</td>\n      <td>...</td>\n      <td>...</td>\n      <td>...</td>\n      <td>...</td>\n      <td>...</td>\n    </tr>\n    <tr>\n      <th>225870</th>\n      <td>1018014</td>\n      <td>2017-12-31</td>\n      <td>South Carolina</td>\n      <td>Florence</td>\n      <td>200 Block of E Liberty St</td>\n      <td>0</td>\n      <td>0</td>\n      <td>http://www.gunviolencearchive.org/incident/101...</td>\n      <td>http://www.wmbfnews.com/story/37168117/florenc...</td>\n      <td>False</td>\n      <td>...</td>\n      <td>NaN</td>\n      <td>0::Unharmed, Arrested</td>\n      <td>0::Subject-Suspect</td>\n      <td>http://www.wmbfnews.com/story/37168117/florenc...</td>\n      <td>59.0</td>\n      <td>30.0</td>\n      <td>Sunday</td>\n      <td>2017</td>\n      <td>12-31</td>\n      <td>SC</td>\n    </tr>\n    <tr>\n      <th>225871</th>\n      <td>1019711</td>\n      <td>2017-12-31</td>\n      <td>Florida</td>\n      <td>Cape Coral</td>\n      <td>5703 Cape Harbour Dr</td>\n      <td>0</td>\n      <td>0</td>\n      <td>http://www.gunviolencearchive.org/incident/101...</td>\n      <td>http://www.nbc-2.com/story/37178796/shots-fire...</td>\n      <td>False</td>\n      <td>...</td>\n      <td>NaN</td>\n      <td>0::Unharmed, Arrested</td>\n      <td>0::Subject-Suspect</td>\n      <td>http://www.nbc-2.com/story/37178796/shots-fire...</td>\n      <td>77.0</td>\n      <td>27.0</td>\n      <td>Sunday</td>\n      <td>2017</td>\n      <td>12-31</td>\n      <td>FL</td>\n    </tr>\n    <tr>\n      <th>225872</th>\n      <td>1020965</td>\n      <td>2017-12-31</td>\n      <td>Florida</td>\n      <td>Saint Petersburg</td>\n      <td>170 Beach Dr NE</td>\n      <td>0</td>\n      <td>1</td>\n      <td>http://www.gunviolencearchive.org/incident/102...</td>\n      <td>http://www.baynews9.com/content/news/baynews9/...</td>\n      <td>False</td>\n      <td>...</td>\n      <td>NaN</td>\n      <td>0::Injured</td>\n      <td>0::Victim</td>\n      <td>http://www.baynews9.com/content/news/baynews9/...</td>\n      <td>68.0</td>\n      <td>19.0</td>\n      <td>Sunday</td>\n      <td>2017</td>\n      <td>12-31</td>\n      <td>FL</td>\n    </tr>\n    <tr>\n      <th>225873</th>\n      <td>1018101</td>\n      <td>2017-12-31</td>\n      <td>Illinois</td>\n      <td>Chicago</td>\n      <td>1900 S Sawyer Ave</td>\n      <td>0</td>\n      <td>1</td>\n      <td>http://www.gunviolencearchive.org/incident/101...</td>\n      <td>https://chicago.suntimes.com/news/man-wounded-...</td>\n      <td>False</td>\n      <td>...</td>\n      <td>NaN</td>\n      <td>0::Injured||1::Unharmed</td>\n      <td>0::Victim||1::Subject-Suspect</td>\n      <td>https://chicago.suntimes.com/news/man-wounded-...</td>\n      <td>NaN</td>\n      <td>NaN</td>\n      <td>Sunday</td>\n      <td>2017</td>\n      <td>12-31</td>\n      <td>IL</td>\n    </tr>\n    <tr>\n      <th>225874</th>\n      <td>1019212</td>\n      <td>2017-12-31</td>\n      <td>Kentucky</td>\n      <td>Robards</td>\n      <td>11000 block of US 41</td>\n      <td>0</td>\n      <td>1</td>\n      <td>http://www.gunviolencearchive.org/incident/101...</td>\n      <td>http://www.14news.com/story/37398184/suspect-a...</td>\n      <td>False</td>\n      <td>...</td>\n      <td>NaN</td>\n      <td>0::Injured||1::Unharmed||2::Unharmed</td>\n      <td>0::Victim||1::Subject-Suspect||2::Subject-Suspect</td>\n      <td>http://www.14news.com/story/37168754/man-shot-...</td>\n      <td>11.0</td>\n      <td>4.0</td>\n      <td>Sunday</td>\n      <td>2017</td>\n      <td>12-31</td>\n      <td>KY</td>\n    </tr>\n  </tbody>\n</table>\n<p>225597 rows × 33 columns</p>\n</div>"
     },
     "metadata": {}
    }
   ]
  },
  {
   "cell_type": "code",
   "metadata": {
    "tags": [],
    "cell_id": "00013-e998be9c-40ea-44b1-b630-a3043150d1d1",
    "deepnote_to_be_reexecuted": false,
    "source_hash": "3cb16b2e",
    "execution_start": 1622029989329,
    "execution_millis": 371,
    "deepnote_cell_type": "code"
   },
   "source": "#aggregating data to find average incidence rates\ndf=mdf\nagg=df.groupby('date')['incident_id'].count().reset_index()\nagg['dotw']=agg['date'].apply(mfindDay)\n\ncat_type = CategoricalDtype(categories=cats, ordered=True)\nagg['dotw'] = agg['dotw'].astype(cat_type)\nagg.groupby('dotw').mean().plot.bar()\n",
   "execution_count": 10,
   "outputs": [
    {
     "output_type": "execute_result",
     "execution_count": 10,
     "data": {
      "text/plain": "<AxesSubplot:xlabel='dotw'>"
     },
     "metadata": {}
    },
    {
     "data": {
      "text/plain": "<Figure size 432x288 with 1 Axes>",
      "image/png": "[encoded data removed]"
     },
     "metadata": {
      "needs_background": "light",
      "image/png": {
       "width": 375,
       "height": 310
      }
     },
     "output_type": "display_data"
    }
   ]
  },
  {
   "cell_type": "markdown",
   "source": "Slight spike on weekends, I suspect that many of the incident rate trends have to do with when people are off of a standard work week  \nStatistically significant difference between weekend and weekdays?",
   "metadata": {
    "tags": [],
    "cell_id": "00014-9d3b0a2a-a72a-441b-828b-74c91a543314",
    "deepnote_cell_type": "markdown"
   }
  },
  {
   "cell_type": "code",
   "metadata": {
    "tags": [],
    "cell_id": "00015-a915fc79-2837-4b6f-aedb-9e619d2abec9",
    "deepnote_to_be_reexecuted": false,
    "source_hash": "e3599c6e",
    "execution_start": 1622029989697,
    "execution_millis": 457,
    "deepnote_cell_type": "code"
   },
   "source": "#will baltimore stats show the riots in may 2016?\ndf=mdf\ndf=df[df.city_or_county == 'Baltimore']\ndf=df[df.year=='2016']\ndf.groupby('date')['incident_id'].count().plot(rot=45)\n\n\n",
   "execution_count": 11,
   "outputs": [
    {
     "output_type": "execute_result",
     "execution_count": 11,
     "data": {
      "text/plain": "<AxesSubplot:xlabel='date'>"
     },
     "metadata": {}
    },
    {
     "data": {
      "text/plain": "<Figure size 432x288 with 1 Axes>",
      "image/png": "[encoded data removed]"
     },
     "metadata": {
      "needs_background": "light",
      "image/png": {
       "width": 362,
       "height": 300
      }
     },
     "output_type": "display_data"
    }
   ]
  },
  {
   "cell_type": "markdown",
   "source": "Maybe? not obvious enough to really look into though  \nMoving on to broader charting of incidents over states",
   "metadata": {
    "tags": [],
    "cell_id": "00016-422b10dd-041d-4738-99dd-ee082b466f9a",
    "deepnote_cell_type": "markdown"
   }
  },
  {
   "cell_type": "code",
   "metadata": {
    "tags": [],
    "cell_id": "00017-18d12c0e-eddc-4d7b-abea-9b9190dfcdc1",
    "deepnote_to_be_reexecuted": false,
    "source_hash": "bb42858f",
    "execution_start": 1622029990150,
    "execution_millis": 25,
    "deepnote_cell_type": "code"
   },
   "source": "df=mdf\nagg=df.groupby('state_code')['incident_id'].count().reset_index()\n#state pop data from here: https://www.census.gov/data/tables/time-series/demo/popest/2010s-state-total.html\ncensus=pd.read_csv(\"/work/CISC367_Final_Project/data/nst-est2019-01.csv\",thousands=',')\n\n#Using average estimated population over 2014 through 2017\ncensus=census.iloc[:,[0,7,8,9,10]]\ncen=census.iloc[:,1:4]\ncensus['mean']=cen.mean(axis=1)\ncensus=census.iloc[:,[0,5]]\ncensus['Geographic Area']=census['Geographic Area'].apply(abbrev)",
   "execution_count": 12,
   "outputs": []
  },
  {
   "cell_type": "code",
   "metadata": {
    "tags": [],
    "cell_id": "00018-ba4bd9ba-8bf7-41e0-af11-c19e0fb5e404",
    "deepnote_to_be_reexecuted": false,
    "source_hash": "36009bd3",
    "execution_start": 1622029990186,
    "execution_millis": 31,
    "deepnote_cell_type": "code"
   },
   "source": "agg",
   "execution_count": 13,
   "outputs": [
    {
     "output_type": "execute_result",
     "execution_count": 13,
     "data": {
      "application/vnd.deepnote.dataframe.v2+json": {
       "row_count": 51,
       "column_count": 2,
       "columns": [
        {
         "name": "state_code",
         "dtype": "object",
         "stats": {
          "unique_count": 51,
          "nan_count": 0,
          "categories": [
           {
            "name": "AK",
            "count": 1
           },
           {
            "name": "AL",
            "count": 1
           },
           {
            "name": "49 others",
            "count": 49
           }
          ]
         }
        },
        {
         "name": "incident_id",
         "dtype": "int64",
         "stats": {
          "unique_count": 51,
          "nan_count": 0,
          "min": "270",
          "max": "16695",
          "histogram": [
           {
            "bin_start": 270,
            "bin_end": 1912.5,
            "count": 17
           },
           {
            "bin_start": 1912.5,
            "bin_end": 3555,
            "count": 12
           },
           {
            "bin_start": 3555,
            "bin_end": 5197.5,
            "count": 4
           },
           {
            "bin_start": 5197.5,
            "bin_end": 6840,
            "count": 7
           },
           {
            "bin_start": 6840,
            "bin_end": 8482.5,
            "count": 4
           },
           {
            "bin_start": 8482.5,
            "bin_end": 10125,
            "count": 3
           },
           {
            "bin_start": 10125,
            "bin_end": 11767.5,
            "count": 0
           },
           {
            "bin_start": 11767.5,
            "bin_end": 13410,
            "count": 1
           },
           {
            "bin_start": 13410,
            "bin_end": 15052.5,
            "count": 1
           },
           {
            "bin_start": 15052.5,
            "bin_end": 16695,
            "count": 2
           }
          ]
         }
        },
        {
         "name": "_deepnote_index_column",
         "dtype": "int64"
        }
       ],
       "rows_top": [
        {
         "state_code": "AK",
         "incident_id": 1288,
         "_deepnote_index_column": 0
        },
        {
         "state_code": "AL",
         "incident_id": 5122,
         "_deepnote_index_column": 1
        },
        {
         "state_code": "AR",
         "incident_id": 2650,
         "_deepnote_index_column": 2
        },
        {
         "state_code": "AZ",
         "incident_id": 2177,
         "_deepnote_index_column": 3
        },
        {
         "state_code": "CA",
         "incident_id": 15171,
         "_deepnote_index_column": 4
        },
        {
         "state_code": "CO",
         "incident_id": 2965,
         "_deepnote_index_column": 5
        },
        {
         "state_code": "CT",
         "incident_id": 2903,
         "_deepnote_index_column": 6
        },
        {
         "state_code": "DC",
         "incident_id": 3015,
         "_deepnote_index_column": 7
        },
        {
         "state_code": "DE",
         "incident_id": 1576,
         "_deepnote_index_column": 8
        },
        {
         "state_code": "FL",
         "incident_id": 14197,
         "_deepnote_index_column": 9
        },
        {
         "state_code": "GA",
         "incident_id": 8501,
         "_deepnote_index_column": 10
        },
        {
         "state_code": "HI",
         "incident_id": 270,
         "_deepnote_index_column": 11
        },
        {
         "state_code": "IA",
         "incident_id": 2401,
         "_deepnote_index_column": 12
        },
        {
         "state_code": "ID",
         "incident_id": 610,
         "_deepnote_index_column": 13
        },
        {
         "state_code": "IL",
         "incident_id": 16695,
         "_deepnote_index_column": 14
        },
        {
         "state_code": "IN",
         "incident_id": 5517,
         "_deepnote_index_column": 15
        },
        {
         "state_code": "KS",
         "incident_id": 1992,
         "_deepnote_index_column": 16
        },
        {
         "state_code": "KY",
         "incident_id": 3942,
         "_deepnote_index_column": 17
        },
        {
         "state_code": "LA",
         "incident_id": 7655,
         "_deepnote_index_column": 18
        },
        {
         "state_code": "MA",
         "incident_id": 5611,
         "_deepnote_index_column": 19
        },
        {
         "state_code": "MD",
         "incident_id": 5422,
         "_deepnote_index_column": 20
        },
        {
         "state_code": "ME",
         "incident_id": 849,
         "_deepnote_index_column": 21
        },
        {
         "state_code": "MI",
         "incident_id": 5391,
         "_deepnote_index_column": 22
        },
        {
         "state_code": "MN",
         "incident_id": 2087,
         "_deepnote_index_column": 23
        },
        {
         "state_code": "MO",
         "incident_id": 6256,
         "_deepnote_index_column": 24
        },
        {
         "state_code": "MS",
         "incident_id": 3326,
         "_deepnote_index_column": 25
        },
        {
         "state_code": "MT",
         "incident_id": 597,
         "_deepnote_index_column": 26
        },
        {
         "state_code": "NC",
         "incident_id": 8263,
         "_deepnote_index_column": 27
        },
        {
         "state_code": "ND",
         "incident_id": 542,
         "_deepnote_index_column": 28
        },
        {
         "state_code": "NE",
         "incident_id": 1541,
         "_deepnote_index_column": 29
        },
        {
         "state_code": "NH",
         "incident_id": 917,
         "_deepnote_index_column": 30
        },
        {
         "state_code": "NJ",
         "incident_id": 5149,
         "_deepnote_index_column": 31
        },
        {
         "state_code": "NM",
         "incident_id": 1562,
         "_deepnote_index_column": 32
        },
        {
         "state_code": "NV",
         "incident_id": 1840,
         "_deepnote_index_column": 33
        },
        {
         "state_code": "NY",
         "incident_id": 9359,
         "_deepnote_index_column": 34
        },
        {
         "state_code": "OH",
         "incident_id": 9643,
         "_deepnote_index_column": 35
        },
        {
         "state_code": "OK",
         "incident_id": 3246,
         "_deepnote_index_column": 36
        },
        {
         "state_code": "OR",
         "incident_id": 2147,
         "_deepnote_index_column": 37
        },
        {
         "state_code": "PA",
         "incident_id": 8413,
         "_deepnote_index_column": 38
        },
        {
         "state_code": "RI",
         "incident_id": 843,
         "_deepnote_index_column": 39
        },
        {
         "state_code": "SC",
         "incident_id": 6567,
         "_deepnote_index_column": 40
        },
        {
         "state_code": "SD",
         "incident_id": 518,
         "_deepnote_index_column": 41
        },
        {
         "state_code": "TN",
         "incident_id": 7241,
         "_deepnote_index_column": 42
        },
        {
         "state_code": "TX",
         "incident_id": 12890,
         "_deepnote_index_column": 43
        },
        {
         "state_code": "UT",
         "incident_id": 1015,
         "_deepnote_index_column": 44
        },
        {
         "state_code": "VA",
         "incident_id": 5650,
         "_deepnote_index_column": 45
        },
        {
         "state_code": "VT",
         "incident_id": 452,
         "_deepnote_index_column": 46
        },
        {
         "state_code": "WA",
         "incident_id": 3230,
         "_deepnote_index_column": 47
        },
        {
         "state_code": "WI",
         "incident_id": 4410,
         "_deepnote_index_column": 48
        },
        {
         "state_code": "WV",
         "incident_id": 1493,
         "_deepnote_index_column": 49
        },
        {
         "state_code": "WY",
         "incident_id": 480,
         "_deepnote_index_column": 50
        }
       ],
       "rows_bottom": null
      },
      "text/plain": "   state_code  incident_id\n0          AK         1288\n1          AL         5122\n2          AR         2650\n3          AZ         2177\n4          CA        15171\n5          CO         2965\n6          CT         2903\n7          DC         3015\n8          DE         1576\n9          FL        14197\n10         GA         8501\n11         HI          270\n12         IA         2401\n13         ID          610\n14         IL        16695\n15         IN         5517\n16         KS         1992\n17         KY         3942\n18         LA         7655\n19         MA         5611\n20         MD         5422\n21         ME          849\n22         MI         5391\n23         MN         2087\n24         MO         6256\n25         MS         3326\n26         MT          597\n27         NC         8263\n28         ND          542\n29         NE         1541\n30         NH          917\n31         NJ         5149\n32         NM         1562\n33         NV         1840\n34         NY         9359\n35         OH         9643\n36         OK         3246\n37         OR         2147\n38         PA         8413\n39         RI          843\n40         SC         6567\n41         SD          518\n42         TN         7241\n43         TX        12890\n44         UT         1015\n45         VA         5650\n46         VT          452\n47         WA         3230\n48         WI         4410\n49         WV         1493\n50         WY          480",
      "text/html": "<div>\n<style scoped>\n    .dataframe tbody tr th:only-of-type {\n        vertical-align: middle;\n    }\n\n    .dataframe tbody tr th {\n        vertical-align: top;\n    }\n\n    .dataframe thead th {\n        text-align: right;\n    }\n</style>\n<table border=\"1\" class=\"dataframe\">\n  <thead>\n    <tr style=\"text-align: right;\">\n      <th></th>\n      <th>state_code</th>\n      <th>incident_id</th>\n    </tr>\n  </thead>\n  <tbody>\n    <tr>\n      <th>0</th>\n      <td>AK</td>\n      <td>1288</td>\n    </tr>\n    <tr>\n      <th>1</th>\n      <td>AL</td>\n      <td>5122</td>\n    </tr>\n    <tr>\n      <th>2</th>\n      <td>AR</td>\n      <td>2650</td>\n    </tr>\n    <tr>\n      <th>3</th>\n      <td>AZ</td>\n      <td>2177</td>\n    </tr>\n    <tr>\n      <th>4</th>\n      <td>CA</td>\n      <td>15171</td>\n    </tr>\n    <tr>\n      <th>5</th>\n      <td>CO</td>\n      <td>2965</td>\n    </tr>\n    <tr>\n      <th>6</th>\n      <td>CT</td>\n      <td>2903</td>\n    </tr>\n    <tr>\n      <th>7</th>\n      <td>DC</td>\n      <td>3015</td>\n    </tr>\n    <tr>\n      <th>8</th>\n      <td>DE</td>\n      <td>1576</td>\n    </tr>\n    <tr>\n      <th>9</th>\n      <td>FL</td>\n      <td>14197</td>\n    </tr>\n    <tr>\n      <th>10</th>\n      <td>GA</td>\n      <td>8501</td>\n    </tr>\n    <tr>\n      <th>11</th>\n      <td>HI</td>\n      <td>270</td>\n    </tr>\n    <tr>\n      <th>12</th>\n      <td>IA</td>\n      <td>2401</td>\n    </tr>\n    <tr>\n      <th>13</th>\n      <td>ID</td>\n      <td>610</td>\n    </tr>\n    <tr>\n      <th>14</th>\n      <td>IL</td>\n      <td>16695</td>\n    </tr>\n    <tr>\n      <th>15</th>\n      <td>IN</td>\n      <td>5517</td>\n    </tr>\n    <tr>\n      <th>16</th>\n      <td>KS</td>\n      <td>1992</td>\n    </tr>\n    <tr>\n      <th>17</th>\n      <td>KY</td>\n      <td>3942</td>\n    </tr>\n    <tr>\n      <th>18</th>\n      <td>LA</td>\n      <td>7655</td>\n    </tr>\n    <tr>\n      <th>19</th>\n      <td>MA</td>\n      <td>5611</td>\n    </tr>\n    <tr>\n      <th>20</th>\n      <td>MD</td>\n      <td>5422</td>\n    </tr>\n    <tr>\n      <th>21</th>\n      <td>ME</td>\n      <td>849</td>\n    </tr>\n    <tr>\n      <th>22</th>\n      <td>MI</td>\n      <td>5391</td>\n    </tr>\n    <tr>\n      <th>23</th>\n      <td>MN</td>\n      <td>2087</td>\n    </tr>\n    <tr>\n      <th>24</th>\n      <td>MO</td>\n      <td>6256</td>\n    </tr>\n    <tr>\n      <th>25</th>\n      <td>MS</td>\n      <td>3326</td>\n    </tr>\n    <tr>\n      <th>26</th>\n      <td>MT</td>\n      <td>597</td>\n    </tr>\n    <tr>\n      <th>27</th>\n      <td>NC</td>\n      <td>8263</td>\n    </tr>\n    <tr>\n      <th>28</th>\n      <td>ND</td>\n      <td>542</td>\n    </tr>\n    <tr>\n      <th>29</th>\n      <td>NE</td>\n      <td>1541</td>\n    </tr>\n    <tr>\n      <th>30</th>\n      <td>NH</td>\n      <td>917</td>\n    </tr>\n    <tr>\n      <th>31</th>\n      <td>NJ</td>\n      <td>5149</td>\n    </tr>\n    <tr>\n      <th>32</th>\n      <td>NM</td>\n      <td>1562</td>\n    </tr>\n    <tr>\n      <th>33</th>\n      <td>NV</td>\n      <td>1840</td>\n    </tr>\n    <tr>\n      <th>34</th>\n      <td>NY</td>\n      <td>9359</td>\n    </tr>\n    <tr>\n      <th>35</th>\n      <td>OH</td>\n      <td>9643</td>\n    </tr>\n    <tr>\n      <th>36</th>\n      <td>OK</td>\n      <td>3246</td>\n    </tr>\n    <tr>\n      <th>37</th>\n      <td>OR</td>\n      <td>2147</td>\n    </tr>\n    <tr>\n      <th>38</th>\n      <td>PA</td>\n      <td>8413</td>\n    </tr>\n    <tr>\n      <th>39</th>\n      <td>RI</td>\n      <td>843</td>\n    </tr>\n    <tr>\n      <th>40</th>\n      <td>SC</td>\n      <td>6567</td>\n    </tr>\n    <tr>\n      <th>41</th>\n      <td>SD</td>\n      <td>518</td>\n    </tr>\n    <tr>\n      <th>42</th>\n      <td>TN</td>\n      <td>7241</td>\n    </tr>\n    <tr>\n      <th>43</th>\n      <td>TX</td>\n      <td>12890</td>\n    </tr>\n    <tr>\n      <th>44</th>\n      <td>UT</td>\n      <td>1015</td>\n    </tr>\n    <tr>\n      <th>45</th>\n      <td>VA</td>\n      <td>5650</td>\n    </tr>\n    <tr>\n      <th>46</th>\n      <td>VT</td>\n      <td>452</td>\n    </tr>\n    <tr>\n      <th>47</th>\n      <td>WA</td>\n      <td>3230</td>\n    </tr>\n    <tr>\n      <th>48</th>\n      <td>WI</td>\n      <td>4410</td>\n    </tr>\n    <tr>\n      <th>49</th>\n      <td>WV</td>\n      <td>1493</td>\n    </tr>\n    <tr>\n      <th>50</th>\n      <td>WY</td>\n      <td>480</td>\n    </tr>\n  </tbody>\n</table>\n</div>"
     },
     "metadata": {}
    }
   ]
  },
  {
   "cell_type": "code",
   "metadata": {
    "tags": [],
    "cell_id": "00018-dbd43142-aeff-4fb7-946b-f1cda9aceb43",
    "deepnote_to_be_reexecuted": false,
    "source_hash": "3b7d6f4f",
    "execution_start": 1622029990207,
    "execution_millis": 1112,
    "deepnote_cell_type": "code"
   },
   "source": "agg.sort_values('incident_id').plot.barh(x='state_code',y='incident_id',figsize=(5,10))\n#need to format this pretty heavily",
   "execution_count": 14,
   "outputs": [
    {
     "output_type": "execute_result",
     "execution_count": 14,
     "data": {
      "text/plain": "<AxesSubplot:ylabel='state_code'>"
     },
     "metadata": {}
    },
    {
     "data": {
      "text/plain": "<Figure size 360x720 with 1 Axes>",
      "image/png": "[encoded data removed]"
     },
     "metadata": {
      "needs_background": "light",
      "image/png": {
       "width": 332,
       "height": 575
      }
     },
     "output_type": "display_data"
    }
   ]
  },
  {
   "cell_type": "markdown",
   "source": "Illinois? check city rankings to see if it's Chicago's influence",
   "metadata": {
    "tags": [],
    "cell_id": "00020-801eca52-81a1-424a-aa07-1485c3316664",
    "deepnote_cell_type": "markdown"
   }
  },
  {
   "cell_type": "code",
   "metadata": {
    "tags": [],
    "cell_id": "00020-def99e5f-9358-4354-b210-4be808256293",
    "deepnote_to_be_reexecuted": false,
    "source_hash": "d7c7329c",
    "execution_start": 1622029991321,
    "execution_millis": 34,
    "deepnote_cell_type": "code"
   },
   "source": "agg=agg.set_index('state_code').join(census.set_index('Geographic Area')).reset_index()\n\ndef incident_rate(row):\n    return 100000*row['incident_id']/row['mean']\n\nagg",
   "execution_count": 15,
   "outputs": [
    {
     "output_type": "execute_result",
     "execution_count": 15,
     "data": {
      "application/vnd.deepnote.dataframe.v2+json": {
       "row_count": 51,
       "column_count": 3,
       "columns": [
        {
         "name": "state_code",
         "dtype": "object",
         "stats": {
          "unique_count": 51,
          "nan_count": 0,
          "categories": [
           {
            "name": "AK",
            "count": 1
           },
           {
            "name": "AL",
            "count": 1
           },
           {
            "name": "49 others",
            "count": 49
           }
          ]
         }
        },
        {
         "name": "incident_id",
         "dtype": "int64",
         "stats": {
          "unique_count": 51,
          "nan_count": 0,
          "min": "270",
          "max": "16695",
          "histogram": [
           {
            "bin_start": 270,
            "bin_end": 1912.5,
            "count": 17
           },
           {
            "bin_start": 1912.5,
            "bin_end": 3555,
            "count": 12
           },
           {
            "bin_start": 3555,
            "bin_end": 5197.5,
            "count": 4
           },
           {
            "bin_start": 5197.5,
            "bin_end": 6840,
            "count": 7
           },
           {
            "bin_start": 6840,
            "bin_end": 8482.5,
            "count": 4
           },
           {
            "bin_start": 8482.5,
            "bin_end": 10125,
            "count": 3
           },
           {
            "bin_start": 10125,
            "bin_end": 11767.5,
            "count": 0
           },
           {
            "bin_start": 11767.5,
            "bin_end": 13410,
            "count": 1
           },
           {
            "bin_start": 13410,
            "bin_end": 15052.5,
            "count": 1
           },
           {
            "bin_start": 15052.5,
            "bin_end": 16695,
            "count": 2
           }
          ]
         }
        },
        {
         "name": "mean",
         "dtype": "float64",
         "stats": {
          "unique_count": 51,
          "nan_count": 0,
          "min": "584119.6666666666",
          "max": "38894044.666666664",
          "histogram": [
           {
            "bin_start": 584119.6666666666,
            "bin_end": 4415112.166666667,
            "count": 25
           },
           {
            "bin_start": 4415112.166666667,
            "bin_end": 8246104.666666667,
            "count": 14
           },
           {
            "bin_start": 8246104.666666667,
            "bin_end": 12077097.166666666,
            "count": 6
           },
           {
            "bin_start": 12077097.166666666,
            "bin_end": 15908089.666666666,
            "count": 2
           },
           {
            "bin_start": 15908089.666666666,
            "bin_end": 19739082.166666668,
            "count": 1
           },
           {
            "bin_start": 19739082.166666668,
            "bin_end": 23570074.666666668,
            "count": 1
           },
           {
            "bin_start": 23570074.666666668,
            "bin_end": 27401067.166666668,
            "count": 0
           },
           {
            "bin_start": 27401067.166666668,
            "bin_end": 31232059.666666668,
            "count": 1
           },
           {
            "bin_start": 31232059.666666668,
            "bin_end": 35063052.166666664,
            "count": 0
           },
           {
            "bin_start": 35063052.166666664,
            "bin_end": 38894044.666666664,
            "count": 1
           }
          ]
         }
        },
        {
         "name": "_deepnote_index_column",
         "dtype": "int64"
        }
       ],
       "rows_top": [
        {
         "state_code": "AK",
         "incident_id": 1288,
         "mean": 738412.3333333334,
         "_deepnote_index_column": 0
        },
        {
         "state_code": "AL",
         "incident_id": 5122,
         "mean": 4852557,
         "_deepnote_index_column": 1
        },
        {
         "state_code": "AR",
         "incident_id": 2650,
         "mean": 2978452.6666666665,
         "_deepnote_index_column": 2
        },
        {
         "state_code": "AZ",
         "incident_id": 2177,
         "mean": 6833720.333333333,
         "_deepnote_index_column": 3
        },
        {
         "state_code": "CA",
         "incident_id": 15171,
         "mean": 38894044.666666664,
         "_deepnote_index_column": 4
        },
        {
         "state_code": "CO",
         "incident_id": 2965,
         "mean": 5446646.333333333,
         "_deepnote_index_column": 5
        },
        {
         "state_code": "CT",
         "incident_id": 2903,
         "mean": 3586595.6666666665,
         "_deepnote_index_column": 6
        },
        {
         "state_code": "DC",
         "incident_id": 3015,
         "mean": 674514.3333333334,
         "_deepnote_index_column": 7
        },
        {
         "state_code": "DE",
         "incident_id": 1576,
         "mean": 940886.6666666666,
         "_deepnote_index_column": 8
        },
        {
         "state_code": "FL",
         "incident_id": 14197,
         "mean": 20222810,
         "_deepnote_index_column": 9
        },
        {
         "state_code": "GA",
         "incident_id": 8501,
         "mean": 10182538.333333334,
         "_deepnote_index_column": 10
        },
        {
         "state_code": "HI",
         "incident_id": 270,
         "mean": 1421383,
         "_deepnote_index_column": 11
        },
        {
         "state_code": "IA",
         "incident_id": 2401,
         "mean": 3120560.3333333335,
         "_deepnote_index_column": 12
        },
        {
         "state_code": "ID",
         "incident_id": 610,
         "mean": 1654850.3333333333,
         "_deepnote_index_column": 13
        },
        {
         "state_code": "IL",
         "incident_id": 16695,
         "mean": 12854644.333333334,
         "_deepnote_index_column": 14
        },
        {
         "state_code": "IN",
         "incident_id": 5517,
         "mean": 6612123.333333333,
         "_deepnote_index_column": 15
        },
        {
         "state_code": "KS",
         "incident_id": 1992,
         "mean": 2906776.6666666665,
         "_deepnote_index_column": 16
        },
        {
         "state_code": "KY",
         "incident_id": 3942,
         "mean": 4426169,
         "_deepnote_index_column": 17
        },
        {
         "state_code": "LA",
         "incident_id": 7655,
         "mean": 4662258.666666667,
         "_deepnote_index_column": 18
        },
        {
         "state_code": "MA",
         "incident_id": 5611,
         "mean": 6793477.333333333,
         "_deepnote_index_column": 19
        },
        {
         "state_code": "MD",
         "incident_id": 5422,
         "mean": 5982056,
         "_deepnote_index_column": 20
        },
        {
         "state_code": "ME",
         "incident_id": 849,
         "mean": 1330030.6666666667,
         "_deepnote_index_column": 21
        },
        {
         "state_code": "MI",
         "incident_id": 5391,
         "mean": 9937378,
         "_deepnote_index_column": 22
        },
        {
         "state_code": "MN",
         "incident_id": 2087,
         "mean": 5485285,
         "_deepnote_index_column": 23
        },
        {
         "state_code": "MO",
         "incident_id": 6256,
         "mean": 6071689.666666667,
         "_deepnote_index_column": 24
        },
        {
         "state_code": "MS",
         "incident_id": 3326,
         "mean": 2988959,
         "_deepnote_index_column": 25
        },
        {
         "state_code": "MT",
         "incident_id": 597,
         "mean": 1031067.6666666666,
         "_deepnote_index_column": 26
        },
        {
         "state_code": "NC",
         "incident_id": 8263,
         "mean": 10039773.666666666,
         "_deepnote_index_column": 27
        },
        {
         "state_code": "ND",
         "incident_id": 542,
         "mean": 748633.6666666666,
         "_deepnote_index_column": 28
        },
        {
         "state_code": "NE",
         "incident_id": 1541,
         "mean": 1892071.3333333333,
         "_deepnote_index_column": 29
        },
        {
         "state_code": "NH",
         "incident_id": 917,
         "mean": 1337332.6666666667,
         "_deepnote_index_column": 30
        },
        {
         "state_code": "NJ",
         "incident_id": 5149,
         "mean": 8867767,
         "_deepnote_index_column": 31
        },
        {
         "state_code": "NM",
         "incident_id": 1562,
         "mean": 2090163,
         "_deepnote_index_column": 32
        },
        {
         "state_code": "NV",
         "incident_id": 1840,
         "mean": 2867376.6666666665,
         "_deepnote_index_column": 33
        },
        {
         "state_code": "NY",
         "incident_id": 9359,
         "mean": 19646381,
         "_deepnote_index_column": 34
        },
        {
         "state_code": "OH",
         "incident_id": 9643,
         "mean": 11618199,
         "_deepnote_index_column": 35
        },
        {
         "state_code": "OK",
         "incident_id": 3246,
         "mean": 3904672.6666666665,
         "_deepnote_index_column": 36
        },
        {
         "state_code": "OR",
         "incident_id": 2147,
         "mean": 4023004,
         "_deepnote_index_column": 37
        },
        {
         "state_code": "PA",
         "incident_id": 8413,
         "mean": 12785138,
         "_deepnote_index_column": 38
        },
        {
         "state_code": "RI",
         "incident_id": 843,
         "mean": 1056257,
         "_deepnote_index_column": 39
        },
        {
         "state_code": "SC",
         "incident_id": 6567,
         "mean": 4891174.333333333,
         "_deepnote_index_column": 40
        },
        {
         "state_code": "SD",
         "incident_id": 518,
         "mean": 855371,
         "_deepnote_index_column": 41
        },
        {
         "state_code": "TN",
         "incident_id": 7241,
         "mean": 6592801,
         "_deepnote_index_column": 42
        },
        {
         "state_code": "TX",
         "incident_id": 12890,
         "mean": 27449599.666666668,
         "_deepnote_index_column": 43
        },
        {
         "state_code": "UT",
         "incident_id": 1015,
         "mean": 2986860.6666666665,
         "_deepnote_index_column": 44
        },
        {
         "state_code": "VA",
         "incident_id": 5650,
         "mean": 8360969,
         "_deepnote_index_column": 45
        },
        {
         "state_code": "VT",
         "incident_id": 452,
         "mean": 624695.6666666666,
         "_deepnote_index_column": 46
        },
        {
         "state_code": "WA",
         "incident_id": 3230,
         "mean": 7171027.666666667,
         "_deepnote_index_column": 47
        },
        {
         "state_code": "WI",
         "incident_id": 4410,
         "mean": 5761697.666666667,
         "_deepnote_index_column": 48
        },
        {
         "state_code": "WV",
         "incident_id": 1493,
         "mean": 1840854,
         "_deepnote_index_column": 49
        },
        {
         "state_code": "WY",
         "incident_id": 480,
         "mean": 584119.6666666666,
         "_deepnote_index_column": 50
        }
       ],
       "rows_bottom": null
      },
      "text/plain": "   state_code  incident_id          mean\n0          AK         1288  7.384123e+05\n1          AL         5122  4.852557e+06\n2          AR         2650  2.978453e+06\n3          AZ         2177  6.833720e+06\n4          CA        15171  3.889404e+07\n5          CO         2965  5.446646e+06\n6          CT         2903  3.586596e+06\n7          DC         3015  6.745143e+05\n8          DE         1576  9.408867e+05\n9          FL        14197  2.022281e+07\n10         GA         8501  1.018254e+07\n11         HI          270  1.421383e+06\n12         IA         2401  3.120560e+06\n13         ID          610  1.654850e+06\n14         IL        16695  1.285464e+07\n15         IN         5517  6.612123e+06\n16         KS         1992  2.906777e+06\n17         KY         3942  4.426169e+06\n18         LA         7655  4.662259e+06\n19         MA         5611  6.793477e+06\n20         MD         5422  5.982056e+06\n21         ME          849  1.330031e+06\n22         MI         5391  9.937378e+06\n23         MN         2087  5.485285e+06\n24         MO         6256  6.071690e+06\n25         MS         3326  2.988959e+06\n26         MT          597  1.031068e+06\n27         NC         8263  1.003977e+07\n28         ND          542  7.486337e+05\n29         NE         1541  1.892071e+06\n30         NH          917  1.337333e+06\n31         NJ         5149  8.867767e+06\n32         NM         1562  2.090163e+06\n33         NV         1840  2.867377e+06\n34         NY         9359  1.964638e+07\n35         OH         9643  1.161820e+07\n36         OK         3246  3.904673e+06\n37         OR         2147  4.023004e+06\n38         PA         8413  1.278514e+07\n39         RI          843  1.056257e+06\n40         SC         6567  4.891174e+06\n41         SD          518  8.553710e+05\n42         TN         7241  6.592801e+06\n43         TX        12890  2.744960e+07\n44         UT         1015  2.986861e+06\n45         VA         5650  8.360969e+06\n46         VT          452  6.246957e+05\n47         WA         3230  7.171028e+06\n48         WI         4410  5.761698e+06\n49         WV         1493  1.840854e+06\n50         WY          480  5.841197e+05",
      "text/html": "<div>\n<style scoped>\n    .dataframe tbody tr th:only-of-type {\n        vertical-align: middle;\n    }\n\n    .dataframe tbody tr th {\n        vertical-align: top;\n    }\n\n    .dataframe thead th {\n        text-align: right;\n    }\n</style>\n<table border=\"1\" class=\"dataframe\">\n  <thead>\n    <tr style=\"text-align: right;\">\n      <th></th>\n      <th>state_code</th>\n      <th>incident_id</th>\n      <th>mean</th>\n    </tr>\n  </thead>\n  <tbody>\n    <tr>\n      <th>0</th>\n      <td>AK</td>\n      <td>1288</td>\n      <td>7.384123e+05</td>\n    </tr>\n    <tr>\n      <th>1</th>\n      <td>AL</td>\n      <td>5122</td>\n      <td>4.852557e+06</td>\n    </tr>\n    <tr>\n      <th>2</th>\n      <td>AR</td>\n      <td>2650</td>\n      <td>2.978453e+06</td>\n    </tr>\n    <tr>\n      <th>3</th>\n      <td>AZ</td>\n      <td>2177</td>\n      <td>6.833720e+06</td>\n    </tr>\n    <tr>\n      <th>4</th>\n      <td>CA</td>\n      <td>15171</td>\n      <td>3.889404e+07</td>\n    </tr>\n    <tr>\n      <th>5</th>\n      <td>CO</td>\n      <td>2965</td>\n      <td>5.446646e+06</td>\n    </tr>\n    <tr>\n      <th>6</th>\n      <td>CT</td>\n      <td>2903</td>\n      <td>3.586596e+06</td>\n    </tr>\n    <tr>\n      <th>7</th>\n      <td>DC</td>\n      <td>3015</td>\n      <td>6.745143e+05</td>\n    </tr>\n    <tr>\n      <th>8</th>\n      <td>DE</td>\n      <td>1576</td>\n      <td>9.408867e+05</td>\n    </tr>\n    <tr>\n      <th>9</th>\n      <td>FL</td>\n      <td>14197</td>\n      <td>2.022281e+07</td>\n    </tr>\n    <tr>\n      <th>10</th>\n      <td>GA</td>\n      <td>8501</td>\n      <td>1.018254e+07</td>\n    </tr>\n    <tr>\n      <th>11</th>\n      <td>HI</td>\n      <td>270</td>\n      <td>1.421383e+06</td>\n    </tr>\n    <tr>\n      <th>12</th>\n      <td>IA</td>\n      <td>2401</td>\n      <td>3.120560e+06</td>\n    </tr>\n    <tr>\n      <th>13</th>\n      <td>ID</td>\n      <td>610</td>\n      <td>1.654850e+06</td>\n    </tr>\n    <tr>\n      <th>14</th>\n      <td>IL</td>\n      <td>16695</td>\n      <td>1.285464e+07</td>\n    </tr>\n    <tr>\n      <th>15</th>\n      <td>IN</td>\n      <td>5517</td>\n      <td>6.612123e+06</td>\n    </tr>\n    <tr>\n      <th>16</th>\n      <td>KS</td>\n      <td>1992</td>\n      <td>2.906777e+06</td>\n    </tr>\n    <tr>\n      <th>17</th>\n      <td>KY</td>\n      <td>3942</td>\n      <td>4.426169e+06</td>\n    </tr>\n    <tr>\n      <th>18</th>\n      <td>LA</td>\n      <td>7655</td>\n      <td>4.662259e+06</td>\n    </tr>\n    <tr>\n      <th>19</th>\n      <td>MA</td>\n      <td>5611</td>\n      <td>6.793477e+06</td>\n    </tr>\n    <tr>\n      <th>20</th>\n      <td>MD</td>\n      <td>5422</td>\n      <td>5.982056e+06</td>\n    </tr>\n    <tr>\n      <th>21</th>\n      <td>ME</td>\n      <td>849</td>\n      <td>1.330031e+06</td>\n    </tr>\n    <tr>\n      <th>22</th>\n      <td>MI</td>\n      <td>5391</td>\n      <td>9.937378e+06</td>\n    </tr>\n    <tr>\n      <th>23</th>\n      <td>MN</td>\n      <td>2087</td>\n      <td>5.485285e+06</td>\n    </tr>\n    <tr>\n      <th>24</th>\n      <td>MO</td>\n      <td>6256</td>\n      <td>6.071690e+06</td>\n    </tr>\n    <tr>\n      <th>25</th>\n      <td>MS</td>\n      <td>3326</td>\n      <td>2.988959e+06</td>\n    </tr>\n    <tr>\n      <th>26</th>\n      <td>MT</td>\n      <td>597</td>\n      <td>1.031068e+06</td>\n    </tr>\n    <tr>\n      <th>27</th>\n      <td>NC</td>\n      <td>8263</td>\n      <td>1.003977e+07</td>\n    </tr>\n    <tr>\n      <th>28</th>\n      <td>ND</td>\n      <td>542</td>\n      <td>7.486337e+05</td>\n    </tr>\n    <tr>\n      <th>29</th>\n      <td>NE</td>\n      <td>1541</td>\n      <td>1.892071e+06</td>\n    </tr>\n    <tr>\n      <th>30</th>\n      <td>NH</td>\n      <td>917</td>\n      <td>1.337333e+06</td>\n    </tr>\n    <tr>\n      <th>31</th>\n      <td>NJ</td>\n      <td>5149</td>\n      <td>8.867767e+06</td>\n    </tr>\n    <tr>\n      <th>32</th>\n      <td>NM</td>\n      <td>1562</td>\n      <td>2.090163e+06</td>\n    </tr>\n    <tr>\n      <th>33</th>\n      <td>NV</td>\n      <td>1840</td>\n      <td>2.867377e+06</td>\n    </tr>\n    <tr>\n      <th>34</th>\n      <td>NY</td>\n      <td>9359</td>\n      <td>1.964638e+07</td>\n    </tr>\n    <tr>\n      <th>35</th>\n      <td>OH</td>\n      <td>9643</td>\n      <td>1.161820e+07</td>\n    </tr>\n    <tr>\n      <th>36</th>\n      <td>OK</td>\n      <td>3246</td>\n      <td>3.904673e+06</td>\n    </tr>\n    <tr>\n      <th>37</th>\n      <td>OR</td>\n      <td>2147</td>\n      <td>4.023004e+06</td>\n    </tr>\n    <tr>\n      <th>38</th>\n      <td>PA</td>\n      <td>8413</td>\n      <td>1.278514e+07</td>\n    </tr>\n    <tr>\n      <th>39</th>\n      <td>RI</td>\n      <td>843</td>\n      <td>1.056257e+06</td>\n    </tr>\n    <tr>\n      <th>40</th>\n      <td>SC</td>\n      <td>6567</td>\n      <td>4.891174e+06</td>\n    </tr>\n    <tr>\n      <th>41</th>\n      <td>SD</td>\n      <td>518</td>\n      <td>8.553710e+05</td>\n    </tr>\n    <tr>\n      <th>42</th>\n      <td>TN</td>\n      <td>7241</td>\n      <td>6.592801e+06</td>\n    </tr>\n    <tr>\n      <th>43</th>\n      <td>TX</td>\n      <td>12890</td>\n      <td>2.744960e+07</td>\n    </tr>\n    <tr>\n      <th>44</th>\n      <td>UT</td>\n      <td>1015</td>\n      <td>2.986861e+06</td>\n    </tr>\n    <tr>\n      <th>45</th>\n      <td>VA</td>\n      <td>5650</td>\n      <td>8.360969e+06</td>\n    </tr>\n    <tr>\n      <th>46</th>\n      <td>VT</td>\n      <td>452</td>\n      <td>6.246957e+05</td>\n    </tr>\n    <tr>\n      <th>47</th>\n      <td>WA</td>\n      <td>3230</td>\n      <td>7.171028e+06</td>\n    </tr>\n    <tr>\n      <th>48</th>\n      <td>WI</td>\n      <td>4410</td>\n      <td>5.761698e+06</td>\n    </tr>\n    <tr>\n      <th>49</th>\n      <td>WV</td>\n      <td>1493</td>\n      <td>1.840854e+06</td>\n    </tr>\n    <tr>\n      <th>50</th>\n      <td>WY</td>\n      <td>480</td>\n      <td>5.841197e+05</td>\n    </tr>\n  </tbody>\n</table>\n</div>"
     },
     "metadata": {}
    }
   ]
  },
  {
   "cell_type": "code",
   "metadata": {
    "tags": [],
    "cell_id": "00021-064cbfce-a2a1-4473-83c6-a2d33c6dc0b2",
    "deepnote_to_be_reexecuted": false,
    "source_hash": "64bf5a86",
    "execution_start": 1622029991362,
    "execution_millis": 2,
    "deepnote_cell_type": "code"
   },
   "source": "agg['incident_rate']=agg.apply(incident_rate,axis=1)\n",
   "execution_count": 16,
   "outputs": []
  },
  {
   "cell_type": "code",
   "metadata": {
    "tags": [],
    "cell_id": "00022-fbc24d28-c775-4804-8da7-092db104e471",
    "deepnote_to_be_reexecuted": false,
    "source_hash": "ae13f47e",
    "execution_start": 1622029991372,
    "execution_millis": 1029,
    "deepnote_cell_type": "code"
   },
   "source": "agg.sort_values('incident_rate').plot.barh(x='state_code',y='incident_rate',figsize=(5,10))\n",
   "execution_count": 17,
   "outputs": [
    {
     "output_type": "execute_result",
     "execution_count": 17,
     "data": {
      "text/plain": "<AxesSubplot:ylabel='state_code'>"
     },
     "metadata": {}
    },
    {
     "data": {
      "text/plain": "<Figure size 360x720 with 1 Axes>",
      "image/png": "[encoded data removed]"
     },
     "metadata": {
      "needs_background": "light",
      "image/png": {
       "width": 332,
       "height": 575
      }
     },
     "output_type": "display_data"
    }
   ]
  },
  {
   "cell_type": "markdown",
   "source": "DC seems to be an outlier due to its limited space. Many more people go into DC to work than live there, which inflates per population rates. This effect can be seen in the per capita gdp of DC as well. Will remove DC data for mapping.  \nUsing plotly for choropleth\n\n",
   "metadata": {
    "tags": [],
    "cell_id": "00023-768ed022-f82d-469b-a939-fd64d1bdcbb1",
    "deepnote_cell_type": "markdown"
   }
  },
  {
   "cell_type": "code",
   "metadata": {
    "tags": [],
    "cell_id": "00024-ab47b391-29ce-4cd7-8b12-a5f272235e37",
    "deepnote_to_be_reexecuted": false,
    "source_hash": "46e3cabf",
    "execution_start": 1622029992407,
    "execution_millis": 247,
    "deepnote_cell_type": "code"
   },
   "source": "\n\nfig = go.Figure(data=go.Choropleth(\n    locations=agg['state_code'], # Spatial coordinates\n    z = agg['incident_rate'].astype(float), # Data to be color-coded\n    locationmode = 'USA-states', # set of locations match entries in `locations`\n    colorscale = 'Reds',\n    colorbar_title = \"# Incidents\",\n))\n\nfig.update_layout(\n    title_text = 'Total Gun Violence Incidents 2014-2017 by State',\n    geo_scope='usa', # limite map scope to USA\n)\n\nfig.show()\n",
   "execution_count": 18,
   "outputs": [
    {
     "data": {
      "text/html": "<html>\n<head><meta charset=\"utf-8\" /></head>\n<body>\n    <div>            <script src=\"https://cdnjs.cloudflare.com/ajax/libs/mathjax/2.7.5/MathJax.js?config=TeX-AMS-MML_SVG\"></script><script type=\"text/javascript\">if (window.MathJax) {MathJax.Hub.Config({SVG: {font: \"STIX-Web\"}});}</script>                <script type=\"text/javascript\">window.PlotlyConfig = {MathJaxConfig: 'local'};</script>\n        <script src=\"https://cdn.plot.ly/plotly-latest.min.js\"></script>                <div id=\"bd3d6a76-0761-48c4-be7f-21e182f4e71c\" class=\"plotly-graph-div\" style=\"height:525px; width:100%;\"></div>            <script type=\"text/javascript\">                                    window.PLOTLYENV=window.PLOTLYENV || {};                                    if (document.getElementById(\"bd3d6a76-0761-48c4-be7f-21e182f4e71c\")) {                    Plotly.newPlot(                        \"bd3d6a76-0761-48c4-be7f-21e182f4e71c\",                        [{\"colorbar\": {\"title\": {\"text\": \"# Incidents\"}}, \"colorscale\": [[0.0, \"rgb(255,245,240)\"], [0.125, \"rgb(254,224,210)\"], [0.25, \"rgb(252,187,161)\"], [0.375, \"rgb(252,146,114)\"], [0.5, \"rgb(251,106,74)\"], [0.625, \"rgb(239,59,44)\"], [0.75, \"rgb(203,24,29)\"], [0.875, \"rgb(165,15,21)\"], [1.0, \"rgb(103,0,13)\"]], \"locationmode\": \"USA-states\", \"locations\": [\"AK\", \"AL\", \"AR\", \"AZ\", \"CA\", \"CO\", \"CT\", \"DC\", \"DE\", \"FL\", \"GA\", \"HI\", \"IA\", \"ID\", \"IL\", \"IN\", \"KS\", \"KY\", \"LA\", \"MA\", \"MD\", \"ME\", \"MI\", \"MN\", \"MO\", \"MS\", \"MT\", \"NC\", \"ND\", \"NE\", \"NH\", \"NJ\", \"NM\", \"NV\", \"NY\", \"OH\", \"OK\", \"OR\", \"PA\", \"RI\", \"SC\", \"SD\", \"TN\", \"TX\", \"UT\", \"VA\", \"VT\", \"WA\", \"WI\", \"WV\", \"WY\"], \"type\": \"choropleth\", \"z\": [174.4282891627397, 105.55259835175558, 88.972372455586, 31.856732406520784, 39.00597155687948, 54.43716772749274, 80.94026396619189, 446.98827749150865, 167.50157652710564, 70.2029045419504, 83.4860593863056, 18.995583878518318, 76.94131000618371, 36.861339524964094, 129.87523860701654, 83.4376450933311, 68.52951665819987, 89.06121749982886, 164.19080422822242, 82.59393127682475, 90.63773391623215, 63.83311462492594, 54.2497226129468, 38.04724822866998, 103.03556906646908, 111.27620017537879, 57.901146481495076, 82.30265217466224, 72.39856075579468, 81.4451322659787, 68.56932630574592, 58.0642229323346, 74.73101380131597, 64.17015320624078, 47.63727222840685, 82.99909478224637, 83.13116814401344, 53.36808017093694, 65.80296591245241, 79.81012196842246, 134.2622354563386, 60.55851788288357, 109.83192121224347, 46.958790497964635, 33.982167676162106, 67.57589939634987, 72.35523217438679, 45.042358642877915, 76.53994109259348, 81.1036616700727, 82.1749424632738]}],                        {\"geo\": {\"scope\": \"usa\"}, \"template\": {\"data\": {\"bar\": [{\"error_x\": {\"color\": \"#2a3f5f\"}, \"error_y\": {\"color\": \"#2a3f5f\"}, \"marker\": {\"line\": {\"color\": \"#E5ECF6\", \"width\": 0.5}}, \"type\": \"bar\"}], \"barpolar\": [{\"marker\": {\"line\": {\"color\": \"#E5ECF6\", \"width\": 0.5}}, \"type\": \"barpolar\"}], \"carpet\": [{\"aaxis\": {\"endlinecolor\": \"#2a3f5f\", \"gridcolor\": \"white\", \"linecolor\": \"white\", \"minorgridcolor\": \"white\", \"startlinecolor\": \"#2a3f5f\"}, \"baxis\": {\"endlinecolor\": \"#2a3f5f\", \"gridcolor\": \"white\", \"linecolor\": \"white\", \"minorgridcolor\": \"white\", \"startlinecolor\": \"#2a3f5f\"}, \"type\": \"carpet\"}], \"choropleth\": [{\"colorbar\": {\"outlinewidth\": 0, \"ticks\": \"\"}, \"type\": \"choropleth\"}], \"contour\": [{\"colorbar\": {\"outlinewidth\": 0, \"ticks\": \"\"}, \"colorscale\": [[0.0, \"#0d0887\"], [0.1111111111111111, \"#46039f\"], [0.2222222222222222, \"#7201a8\"], [0.3333333333333333, \"#9c179e\"], [0.4444444444444444, \"#bd3786\"], [0.5555555555555556, \"#d8576b\"], [0.6666666666666666, \"#ed7953\"], [0.7777777777777778, \"#fb9f3a\"], [0.8888888888888888, \"#fdca26\"], [1.0, \"#f0f921\"]], \"type\": \"contour\"}], \"contourcarpet\": [{\"colorbar\": {\"outlinewidth\": 0, \"ticks\": \"\"}, \"type\": \"contourcarpet\"}], \"heatmap\": [{\"colorbar\": {\"outlinewidth\": 0, \"ticks\": \"\"}, \"colorscale\": [[0.0, \"#0d0887\"], [0.1111111111111111, \"#46039f\"], [0.2222222222222222, \"#7201a8\"], [0.3333333333333333, \"#9c179e\"], [0.4444444444444444, \"#bd3786\"], [0.5555555555555556, \"#d8576b\"], [0.6666666666666666, \"#ed7953\"], [0.7777777777777778, \"#fb9f3a\"], [0.8888888888888888, \"#fdca26\"], [1.0, \"#f0f921\"]], \"type\": \"heatmap\"}], \"heatmapgl\": [{\"colorbar\": {\"outlinewidth\": 0, \"ticks\": \"\"}, \"colorscale\": [[0.0, \"#0d0887\"], [0.1111111111111111, \"#46039f\"], [0.2222222222222222, \"#7201a8\"], [0.3333333333333333, \"#9c179e\"], [0.4444444444444444, \"#bd3786\"], [0.5555555555555556, \"#d8576b\"], [0.6666666666666666, \"#ed7953\"], [0.7777777777777778, \"#fb9f3a\"], [0.8888888888888888, \"#fdca26\"], [1.0, \"#f0f921\"]], \"type\": \"heatmapgl\"}], \"histogram\": [{\"marker\": {\"colorbar\": {\"outlinewidth\": 0, \"ticks\": \"\"}}, \"type\": \"histogram\"}], \"histogram2d\": [{\"colorbar\": {\"outlinewidth\": 0, \"ticks\": \"\"}, \"colorscale\": [[0.0, \"#0d0887\"], [0.1111111111111111, \"#46039f\"], [0.2222222222222222, \"#7201a8\"], [0.3333333333333333, \"#9c179e\"], [0.4444444444444444, \"#bd3786\"], [0.5555555555555556, \"#d8576b\"], [0.6666666666666666, \"#ed7953\"], [0.7777777777777778, \"#fb9f3a\"], [0.8888888888888888, \"#fdca26\"], [1.0, \"#f0f921\"]], \"type\": \"histogram2d\"}], \"histogram2dcontour\": [{\"colorbar\": {\"outlinewidth\": 0, \"ticks\": \"\"}, \"colorscale\": [[0.0, \"#0d0887\"], [0.1111111111111111, \"#46039f\"], [0.2222222222222222, \"#7201a8\"], [0.3333333333333333, \"#9c179e\"], [0.4444444444444444, \"#bd3786\"], [0.5555555555555556, \"#d8576b\"], [0.6666666666666666, \"#ed7953\"], [0.7777777777777778, \"#fb9f3a\"], [0.8888888888888888, \"#fdca26\"], [1.0, \"#f0f921\"]], \"type\": \"histogram2dcontour\"}], \"mesh3d\": [{\"colorbar\": {\"outlinewidth\": 0, \"ticks\": \"\"}, \"type\": \"mesh3d\"}], \"parcoords\": [{\"line\": {\"colorbar\": {\"outlinewidth\": 0, \"ticks\": \"\"}}, \"type\": \"parcoords\"}], \"pie\": [{\"automargin\": true, \"type\": \"pie\"}], \"scatter\": [{\"marker\": {\"colorbar\": {\"outlinewidth\": 0, \"ticks\": \"\"}}, \"type\": \"scatter\"}], \"scatter3d\": [{\"line\": {\"colorbar\": {\"outlinewidth\": 0, \"ticks\": \"\"}}, \"marker\": {\"colorbar\": {\"outlinewidth\": 0, \"ticks\": \"\"}}, \"type\": \"scatter3d\"}], \"scattercarpet\": [{\"marker\": {\"colorbar\": {\"outlinewidth\": 0, \"ticks\": \"\"}}, \"type\": \"scattercarpet\"}], \"scattergeo\": [{\"marker\": {\"colorbar\": {\"outlinewidth\": 0, \"ticks\": \"\"}}, \"type\": \"scattergeo\"}], \"scattergl\": [{\"marker\": {\"colorbar\": {\"outlinewidth\": 0, \"ticks\": \"\"}}, \"type\": \"scattergl\"}], \"scattermapbox\": [{\"marker\": {\"colorbar\": {\"outlinewidth\": 0, \"ticks\": \"\"}}, \"type\": \"scattermapbox\"}], \"scatterpolar\": [{\"marker\": {\"colorbar\": {\"outlinewidth\": 0, \"ticks\": \"\"}}, \"type\": \"scatterpolar\"}], \"scatterpolargl\": [{\"marker\": {\"colorbar\": {\"outlinewidth\": 0, \"ticks\": \"\"}}, \"type\": \"scatterpolargl\"}], \"scatterternary\": [{\"marker\": {\"colorbar\": {\"outlinewidth\": 0, \"ticks\": \"\"}}, \"type\": \"scatterternary\"}], \"surface\": [{\"colorbar\": {\"outlinewidth\": 0, \"ticks\": \"\"}, \"colorscale\": [[0.0, \"#0d0887\"], [0.1111111111111111, \"#46039f\"], [0.2222222222222222, \"#7201a8\"], [0.3333333333333333, \"#9c179e\"], [0.4444444444444444, \"#bd3786\"], [0.5555555555555556, \"#d8576b\"], [0.6666666666666666, \"#ed7953\"], [0.7777777777777778, \"#fb9f3a\"], [0.8888888888888888, \"#fdca26\"], [1.0, \"#f0f921\"]], \"type\": \"surface\"}], \"table\": [{\"cells\": {\"fill\": {\"color\": \"#EBF0F8\"}, \"line\": {\"color\": \"white\"}}, \"header\": {\"fill\": {\"color\": \"#C8D4E3\"}, \"line\": {\"color\": \"white\"}}, \"type\": \"table\"}]}, \"layout\": {\"annotationdefaults\": {\"arrowcolor\": \"#2a3f5f\", \"arrowhead\": 0, \"arrowwidth\": 1}, \"autotypenumbers\": \"strict\", \"coloraxis\": {\"colorbar\": {\"outlinewidth\": 0, \"ticks\": \"\"}}, \"colorscale\": {\"diverging\": [[0, \"#8e0152\"], [0.1, \"#c51b7d\"], [0.2, \"#de77ae\"], [0.3, \"#f1b6da\"], [0.4, \"#fde0ef\"], [0.5, \"#f7f7f7\"], [0.6, \"#e6f5d0\"], [0.7, \"#b8e186\"], [0.8, \"#7fbc41\"], [0.9, \"#4d9221\"], [1, \"#276419\"]], \"sequential\": [[0.0, \"#0d0887\"], [0.1111111111111111, \"#46039f\"], [0.2222222222222222, \"#7201a8\"], [0.3333333333333333, \"#9c179e\"], [0.4444444444444444, \"#bd3786\"], [0.5555555555555556, \"#d8576b\"], [0.6666666666666666, \"#ed7953\"], [0.7777777777777778, \"#fb9f3a\"], [0.8888888888888888, \"#fdca26\"], [1.0, \"#f0f921\"]], \"sequentialminus\": [[0.0, \"#0d0887\"], [0.1111111111111111, \"#46039f\"], [0.2222222222222222, \"#7201a8\"], [0.3333333333333333, \"#9c179e\"], [0.4444444444444444, \"#bd3786\"], [0.5555555555555556, \"#d8576b\"], [0.6666666666666666, \"#ed7953\"], [0.7777777777777778, \"#fb9f3a\"], [0.8888888888888888, \"#fdca26\"], [1.0, \"#f0f921\"]]}, \"colorway\": [\"#636efa\", \"#EF553B\", \"#00cc96\", \"#ab63fa\", \"#FFA15A\", \"#19d3f3\", \"#FF6692\", \"#B6E880\", \"#FF97FF\", \"#FECB52\"], \"font\": {\"color\": \"#2a3f5f\"}, \"geo\": {\"bgcolor\": \"white\", \"lakecolor\": \"white\", \"landcolor\": \"#E5ECF6\", \"showlakes\": true, \"showland\": true, \"subunitcolor\": \"white\"}, \"hoverlabel\": {\"align\": \"left\"}, \"hovermode\": \"closest\", \"mapbox\": {\"style\": \"light\"}, \"paper_bgcolor\": \"white\", \"plot_bgcolor\": \"#E5ECF6\", \"polar\": {\"angularaxis\": {\"gridcolor\": \"white\", \"linecolor\": \"white\", \"ticks\": \"\"}, \"bgcolor\": \"#E5ECF6\", \"radialaxis\": {\"gridcolor\": \"white\", \"linecolor\": \"white\", \"ticks\": \"\"}}, \"scene\": {\"xaxis\": {\"backgroundcolor\": \"#E5ECF6\", \"gridcolor\": \"white\", \"gridwidth\": 2, \"linecolor\": \"white\", \"showbackground\": true, \"ticks\": \"\", \"zerolinecolor\": \"white\"}, \"yaxis\": {\"backgroundcolor\": \"#E5ECF6\", \"gridcolor\": \"white\", \"gridwidth\": 2, \"linecolor\": \"white\", \"showbackground\": true, \"ticks\": \"\", \"zerolinecolor\": \"white\"}, \"zaxis\": {\"backgroundcolor\": \"#E5ECF6\", \"gridcolor\": \"white\", \"gridwidth\": 2, \"linecolor\": \"white\", \"showbackground\": true, \"ticks\": \"\", \"zerolinecolor\": \"white\"}}, \"shapedefaults\": {\"line\": {\"color\": \"#2a3f5f\"}}, \"ternary\": {\"aaxis\": {\"gridcolor\": \"white\", \"linecolor\": \"white\", \"ticks\": \"\"}, \"baxis\": {\"gridcolor\": \"white\", \"linecolor\": \"white\", \"ticks\": \"\"}, \"bgcolor\": \"#E5ECF6\", \"caxis\": {\"gridcolor\": \"white\", \"linecolor\": \"white\", \"ticks\": \"\"}}, \"title\": {\"x\": 0.05}, \"xaxis\": {\"automargin\": true, \"gridcolor\": \"white\", \"linecolor\": \"white\", \"ticks\": \"\", \"title\": {\"standoff\": 15}, \"zerolinecolor\": \"white\", \"zerolinewidth\": 2}, \"yaxis\": {\"automargin\": true, \"gridcolor\": \"white\", \"linecolor\": \"white\", \"ticks\": \"\", \"title\": {\"standoff\": 15}, \"zerolinecolor\": \"white\", \"zerolinewidth\": 2}}}, \"title\": {\"text\": \"Total Gun Violence Incidents 2014-2017 by State\"}},                        {\"responsive\": true}                    ).then(function(){\n                            \nvar gd = document.getElementById('bd3d6a76-0761-48c4-be7f-21e182f4e71c');\nvar x = new MutationObserver(function (mutations, observer) {{\n        var display = window.getComputedStyle(gd).display;\n        if (!display || display === 'none') {{\n            console.log([gd, 'removed!']);\n            Plotly.purge(gd);\n            observer.disconnect();\n        }}\n}});\n\n// Listen for the removal of the full notebook cells\nvar notebookContainer = gd.closest('#notebook-container');\nif (notebookContainer) {{\n    x.observe(notebookContainer, {childList: true});\n}}\n\n// Listen for the clearing of the current output cell\nvar outputEl = gd.closest('.output');\nif (outputEl) {{\n    x.observe(outputEl, {childList: true});\n}}\n\n                        })                };                            </script>        </div>\n</body>\n</html>"
     },
     "metadata": {},
     "output_type": "display_data"
    }
   ]
  },
  {
   "cell_type": "code",
   "metadata": {
    "tags": [],
    "cell_id": "00025-2271f0fc-4f39-45a8-8838-e30106653311",
    "deepnote_to_be_reexecuted": false,
    "source_hash": "ac881b4f",
    "execution_start": 1622029992662,
    "execution_millis": 10,
    "deepnote_cell_type": "code"
   },
   "source": "#Exclude DC due to not being plotted and throwing off y axis\nagg=agg[agg.state_code!='DC']\n\nfig = go.Figure(data=go.Choropleth(\n    locations=agg['state_code'], # Spatial coordinates\n    z = agg['incident_rate'].astype(float), # Data to be color-coded\n    locationmode = 'USA-states', # set of locations match entries in `locations`\n    colorscale = 'Reds',\n    colorbar_title = \"# Incidents per 100,000 People\",\n))\n\nfig.update_layout(\n    title_text = 'Total Gun Violence Incidents 2014-2017 by State',\n    geo_scope='usa', # limite map scope to USA\n)\n\nfig.show()",
   "execution_count": 19,
   "outputs": [
    {
     "data": {
      "text/html": "<html>\n<head><meta charset=\"utf-8\" /></head>\n<body>\n    <div>            <script src=\"https://cdnjs.cloudflare.com/ajax/libs/mathjax/2.7.5/MathJax.js?config=TeX-AMS-MML_SVG\"></script><script type=\"text/javascript\">if (window.MathJax) {MathJax.Hub.Config({SVG: {font: \"STIX-Web\"}});}</script>                <script type=\"text/javascript\">window.PlotlyConfig = {MathJaxConfig: 'local'};</script>\n        <script src=\"https://cdn.plot.ly/plotly-latest.min.js\"></script>                <div id=\"63cc453b-80bb-4c51-bbe4-94f9380d024b\" class=\"plotly-graph-div\" style=\"height:525px; width:100%;\"></div>            <script type=\"text/javascript\">                                    window.PLOTLYENV=window.PLOTLYENV || {};                                    if (document.getElementById(\"63cc453b-80bb-4c51-bbe4-94f9380d024b\")) {                    Plotly.newPlot(                        \"63cc453b-80bb-4c51-bbe4-94f9380d024b\",                        [{\"colorbar\": {\"title\": {\"text\": \"# Incidents per 100,000 People\"}}, \"colorscale\": [[0.0, \"rgb(255,245,240)\"], [0.125, \"rgb(254,224,210)\"], [0.25, \"rgb(252,187,161)\"], [0.375, \"rgb(252,146,114)\"], [0.5, \"rgb(251,106,74)\"], [0.625, \"rgb(239,59,44)\"], [0.75, \"rgb(203,24,29)\"], [0.875, \"rgb(165,15,21)\"], [1.0, \"rgb(103,0,13)\"]], \"locationmode\": \"USA-states\", \"locations\": [\"AK\", \"AL\", \"AR\", \"AZ\", \"CA\", \"CO\", \"CT\", \"DE\", \"FL\", \"GA\", \"HI\", \"IA\", \"ID\", \"IL\", \"IN\", \"KS\", \"KY\", \"LA\", \"MA\", \"MD\", \"ME\", \"MI\", \"MN\", \"MO\", \"MS\", \"MT\", \"NC\", \"ND\", \"NE\", \"NH\", \"NJ\", \"NM\", \"NV\", \"NY\", \"OH\", \"OK\", \"OR\", \"PA\", \"RI\", \"SC\", \"SD\", \"TN\", \"TX\", \"UT\", \"VA\", \"VT\", \"WA\", \"WI\", \"WV\", \"WY\"], \"type\": \"choropleth\", \"z\": [174.4282891627397, 105.55259835175558, 88.972372455586, 31.856732406520784, 39.00597155687948, 54.43716772749274, 80.94026396619189, 167.50157652710564, 70.2029045419504, 83.4860593863056, 18.995583878518318, 76.94131000618371, 36.861339524964094, 129.87523860701654, 83.4376450933311, 68.52951665819987, 89.06121749982886, 164.19080422822242, 82.59393127682475, 90.63773391623215, 63.83311462492594, 54.2497226129468, 38.04724822866998, 103.03556906646908, 111.27620017537879, 57.901146481495076, 82.30265217466224, 72.39856075579468, 81.4451322659787, 68.56932630574592, 58.0642229323346, 74.73101380131597, 64.17015320624078, 47.63727222840685, 82.99909478224637, 83.13116814401344, 53.36808017093694, 65.80296591245241, 79.81012196842246, 134.2622354563386, 60.55851788288357, 109.83192121224347, 46.958790497964635, 33.982167676162106, 67.57589939634987, 72.35523217438679, 45.042358642877915, 76.53994109259348, 81.1036616700727, 82.1749424632738]}],                        {\"geo\": {\"scope\": \"usa\"}, \"template\": {\"data\": {\"bar\": [{\"error_x\": {\"color\": \"#2a3f5f\"}, \"error_y\": {\"color\": \"#2a3f5f\"}, \"marker\": {\"line\": {\"color\": \"#E5ECF6\", \"width\": 0.5}}, \"type\": \"bar\"}], \"barpolar\": [{\"marker\": {\"line\": {\"color\": \"#E5ECF6\", \"width\": 0.5}}, \"type\": \"barpolar\"}], \"carpet\": [{\"aaxis\": {\"endlinecolor\": \"#2a3f5f\", \"gridcolor\": \"white\", \"linecolor\": \"white\", \"minorgridcolor\": \"white\", \"startlinecolor\": \"#2a3f5f\"}, \"baxis\": {\"endlinecolor\": \"#2a3f5f\", \"gridcolor\": \"white\", \"linecolor\": \"white\", \"minorgridcolor\": \"white\", \"startlinecolor\": \"#2a3f5f\"}, \"type\": \"carpet\"}], \"choropleth\": [{\"colorbar\": {\"outlinewidth\": 0, \"ticks\": \"\"}, \"type\": \"choropleth\"}], \"contour\": [{\"colorbar\": {\"outlinewidth\": 0, \"ticks\": \"\"}, \"colorscale\": [[0.0, \"#0d0887\"], [0.1111111111111111, \"#46039f\"], [0.2222222222222222, \"#7201a8\"], [0.3333333333333333, \"#9c179e\"], [0.4444444444444444, \"#bd3786\"], [0.5555555555555556, \"#d8576b\"], [0.6666666666666666, \"#ed7953\"], [0.7777777777777778, \"#fb9f3a\"], [0.8888888888888888, \"#fdca26\"], [1.0, \"#f0f921\"]], \"type\": \"contour\"}], \"contourcarpet\": [{\"colorbar\": {\"outlinewidth\": 0, \"ticks\": \"\"}, \"type\": \"contourcarpet\"}], \"heatmap\": [{\"colorbar\": {\"outlinewidth\": 0, \"ticks\": \"\"}, \"colorscale\": [[0.0, \"#0d0887\"], [0.1111111111111111, \"#46039f\"], [0.2222222222222222, \"#7201a8\"], [0.3333333333333333, \"#9c179e\"], [0.4444444444444444, \"#bd3786\"], [0.5555555555555556, \"#d8576b\"], [0.6666666666666666, \"#ed7953\"], [0.7777777777777778, \"#fb9f3a\"], [0.8888888888888888, \"#fdca26\"], [1.0, \"#f0f921\"]], \"type\": \"heatmap\"}], \"heatmapgl\": [{\"colorbar\": {\"outlinewidth\": 0, \"ticks\": \"\"}, \"colorscale\": [[0.0, \"#0d0887\"], [0.1111111111111111, \"#46039f\"], [0.2222222222222222, \"#7201a8\"], [0.3333333333333333, \"#9c179e\"], [0.4444444444444444, \"#bd3786\"], [0.5555555555555556, \"#d8576b\"], [0.6666666666666666, \"#ed7953\"], [0.7777777777777778, \"#fb9f3a\"], [0.8888888888888888, \"#fdca26\"], [1.0, \"#f0f921\"]], \"type\": \"heatmapgl\"}], \"histogram\": [{\"marker\": {\"colorbar\": {\"outlinewidth\": 0, \"ticks\": \"\"}}, \"type\": \"histogram\"}], \"histogram2d\": [{\"colorbar\": {\"outlinewidth\": 0, \"ticks\": \"\"}, \"colorscale\": [[0.0, \"#0d0887\"], [0.1111111111111111, \"#46039f\"], [0.2222222222222222, \"#7201a8\"], [0.3333333333333333, \"#9c179e\"], [0.4444444444444444, \"#bd3786\"], [0.5555555555555556, \"#d8576b\"], [0.6666666666666666, \"#ed7953\"], [0.7777777777777778, \"#fb9f3a\"], [0.8888888888888888, \"#fdca26\"], [1.0, \"#f0f921\"]], \"type\": \"histogram2d\"}], \"histogram2dcontour\": [{\"colorbar\": {\"outlinewidth\": 0, \"ticks\": \"\"}, \"colorscale\": [[0.0, \"#0d0887\"], [0.1111111111111111, \"#46039f\"], [0.2222222222222222, \"#7201a8\"], [0.3333333333333333, \"#9c179e\"], [0.4444444444444444, \"#bd3786\"], [0.5555555555555556, \"#d8576b\"], [0.6666666666666666, \"#ed7953\"], [0.7777777777777778, \"#fb9f3a\"], [0.8888888888888888, \"#fdca26\"], [1.0, \"#f0f921\"]], \"type\": \"histogram2dcontour\"}], \"mesh3d\": [{\"colorbar\": {\"outlinewidth\": 0, \"ticks\": \"\"}, \"type\": \"mesh3d\"}], \"parcoords\": [{\"line\": {\"colorbar\": {\"outlinewidth\": 0, \"ticks\": \"\"}}, \"type\": \"parcoords\"}], \"pie\": [{\"automargin\": true, \"type\": \"pie\"}], \"scatter\": [{\"marker\": {\"colorbar\": {\"outlinewidth\": 0, \"ticks\": \"\"}}, \"type\": \"scatter\"}], \"scatter3d\": [{\"line\": {\"colorbar\": {\"outlinewidth\": 0, \"ticks\": \"\"}}, \"marker\": {\"colorbar\": {\"outlinewidth\": 0, \"ticks\": \"\"}}, \"type\": \"scatter3d\"}], \"scattercarpet\": [{\"marker\": {\"colorbar\": {\"outlinewidth\": 0, \"ticks\": \"\"}}, \"type\": \"scattercarpet\"}], \"scattergeo\": [{\"marker\": {\"colorbar\": {\"outlinewidth\": 0, \"ticks\": \"\"}}, \"type\": \"scattergeo\"}], \"scattergl\": [{\"marker\": {\"colorbar\": {\"outlinewidth\": 0, \"ticks\": \"\"}}, \"type\": \"scattergl\"}], \"scattermapbox\": [{\"marker\": {\"colorbar\": {\"outlinewidth\": 0, \"ticks\": \"\"}}, \"type\": \"scattermapbox\"}], \"scatterpolar\": [{\"marker\": {\"colorbar\": {\"outlinewidth\": 0, \"ticks\": \"\"}}, \"type\": \"scatterpolar\"}], \"scatterpolargl\": [{\"marker\": {\"colorbar\": {\"outlinewidth\": 0, \"ticks\": \"\"}}, \"type\": \"scatterpolargl\"}], \"scatterternary\": [{\"marker\": {\"colorbar\": {\"outlinewidth\": 0, \"ticks\": \"\"}}, \"type\": \"scatterternary\"}], \"surface\": [{\"colorbar\": {\"outlinewidth\": 0, \"ticks\": \"\"}, \"colorscale\": [[0.0, \"#0d0887\"], [0.1111111111111111, \"#46039f\"], [0.2222222222222222, \"#7201a8\"], [0.3333333333333333, \"#9c179e\"], [0.4444444444444444, \"#bd3786\"], [0.5555555555555556, \"#d8576b\"], [0.6666666666666666, \"#ed7953\"], [0.7777777777777778, \"#fb9f3a\"], [0.8888888888888888, \"#fdca26\"], [1.0, \"#f0f921\"]], \"type\": \"surface\"}], \"table\": [{\"cells\": {\"fill\": {\"color\": \"#EBF0F8\"}, \"line\": {\"color\": \"white\"}}, \"header\": {\"fill\": {\"color\": \"#C8D4E3\"}, \"line\": {\"color\": \"white\"}}, \"type\": \"table\"}]}, \"layout\": {\"annotationdefaults\": {\"arrowcolor\": \"#2a3f5f\", \"arrowhead\": 0, \"arrowwidth\": 1}, \"autotypenumbers\": \"strict\", \"coloraxis\": {\"colorbar\": {\"outlinewidth\": 0, \"ticks\": \"\"}}, \"colorscale\": {\"diverging\": [[0, \"#8e0152\"], [0.1, \"#c51b7d\"], [0.2, \"#de77ae\"], [0.3, \"#f1b6da\"], [0.4, \"#fde0ef\"], [0.5, \"#f7f7f7\"], [0.6, \"#e6f5d0\"], [0.7, \"#b8e186\"], [0.8, \"#7fbc41\"], [0.9, \"#4d9221\"], [1, \"#276419\"]], \"sequential\": [[0.0, \"#0d0887\"], [0.1111111111111111, \"#46039f\"], [0.2222222222222222, \"#7201a8\"], [0.3333333333333333, \"#9c179e\"], [0.4444444444444444, \"#bd3786\"], [0.5555555555555556, \"#d8576b\"], [0.6666666666666666, \"#ed7953\"], [0.7777777777777778, \"#fb9f3a\"], [0.8888888888888888, \"#fdca26\"], [1.0, \"#f0f921\"]], \"sequentialminus\": [[0.0, \"#0d0887\"], [0.1111111111111111, \"#46039f\"], [0.2222222222222222, \"#7201a8\"], [0.3333333333333333, \"#9c179e\"], [0.4444444444444444, \"#bd3786\"], [0.5555555555555556, \"#d8576b\"], [0.6666666666666666, \"#ed7953\"], [0.7777777777777778, \"#fb9f3a\"], [0.8888888888888888, \"#fdca26\"], [1.0, \"#f0f921\"]]}, \"colorway\": [\"#636efa\", \"#EF553B\", \"#00cc96\", \"#ab63fa\", \"#FFA15A\", \"#19d3f3\", \"#FF6692\", \"#B6E880\", \"#FF97FF\", \"#FECB52\"], \"font\": {\"color\": \"#2a3f5f\"}, \"geo\": {\"bgcolor\": \"white\", \"lakecolor\": \"white\", \"landcolor\": \"#E5ECF6\", \"showlakes\": true, \"showland\": true, \"subunitcolor\": \"white\"}, \"hoverlabel\": {\"align\": \"left\"}, \"hovermode\": \"closest\", \"mapbox\": {\"style\": \"light\"}, \"paper_bgcolor\": \"white\", \"plot_bgcolor\": \"#E5ECF6\", \"polar\": {\"angularaxis\": {\"gridcolor\": \"white\", \"linecolor\": \"white\", \"ticks\": \"\"}, \"bgcolor\": \"#E5ECF6\", \"radialaxis\": {\"gridcolor\": \"white\", \"linecolor\": \"white\", \"ticks\": \"\"}}, \"scene\": {\"xaxis\": {\"backgroundcolor\": \"#E5ECF6\", \"gridcolor\": \"white\", \"gridwidth\": 2, \"linecolor\": \"white\", \"showbackground\": true, \"ticks\": \"\", \"zerolinecolor\": \"white\"}, \"yaxis\": {\"backgroundcolor\": \"#E5ECF6\", \"gridcolor\": \"white\", \"gridwidth\": 2, \"linecolor\": \"white\", \"showbackground\": true, \"ticks\": \"\", \"zerolinecolor\": \"white\"}, \"zaxis\": {\"backgroundcolor\": \"#E5ECF6\", \"gridcolor\": \"white\", \"gridwidth\": 2, \"linecolor\": \"white\", \"showbackground\": true, \"ticks\": \"\", \"zerolinecolor\": \"white\"}}, \"shapedefaults\": {\"line\": {\"color\": \"#2a3f5f\"}}, \"ternary\": {\"aaxis\": {\"gridcolor\": \"white\", \"linecolor\": \"white\", \"ticks\": \"\"}, \"baxis\": {\"gridcolor\": \"white\", \"linecolor\": \"white\", \"ticks\": \"\"}, \"bgcolor\": \"#E5ECF6\", \"caxis\": {\"gridcolor\": \"white\", \"linecolor\": \"white\", \"ticks\": \"\"}}, \"title\": {\"x\": 0.05}, \"xaxis\": {\"automargin\": true, \"gridcolor\": \"white\", \"linecolor\": \"white\", \"ticks\": \"\", \"title\": {\"standoff\": 15}, \"zerolinecolor\": \"white\", \"zerolinewidth\": 2}, \"yaxis\": {\"automargin\": true, \"gridcolor\": \"white\", \"linecolor\": \"white\", \"ticks\": \"\", \"title\": {\"standoff\": 15}, \"zerolinecolor\": \"white\", \"zerolinewidth\": 2}}}, \"title\": {\"text\": \"Total Gun Violence Incidents 2014-2017 by State\"}},                        {\"responsive\": true}                    ).then(function(){\n                            \nvar gd = document.getElementById('63cc453b-80bb-4c51-bbe4-94f9380d024b');\nvar x = new MutationObserver(function (mutations, observer) {{\n        var display = window.getComputedStyle(gd).display;\n        if (!display || display === 'none') {{\n            console.log([gd, 'removed!']);\n            Plotly.purge(gd);\n            observer.disconnect();\n        }}\n}});\n\n// Listen for the removal of the full notebook cells\nvar notebookContainer = gd.closest('#notebook-container');\nif (notebookContainer) {{\n    x.observe(notebookContainer, {childList: true});\n}}\n\n// Listen for the clearing of the current output cell\nvar outputEl = gd.closest('.output');\nif (outputEl) {{\n    x.observe(outputEl, {childList: true});\n}}\n\n                        })                };                            </script>        </div>\n</body>\n</html>"
     },
     "metadata": {},
     "output_type": "display_data"
    }
   ]
  },
  {
   "cell_type": "markdown",
   "source": "Gonna do one of these with total incidents and compare",
   "metadata": {
    "tags": [],
    "cell_id": "00027-a83d91c1-6c51-4613-ad06-d7029daf25f5",
    "deepnote_cell_type": "markdown"
   }
  },
  {
   "cell_type": "code",
   "source": "df=mdf\ndf.groupby('participant_gender').count()\n\n#contains list of participant genders, need to aggregate\n",
   "metadata": {
    "tags": [],
    "cell_id": "00028-a6a5e420-8cae-4f26-9bd2-10c36b0403ae",
    "deepnote_to_be_reexecuted": false,
    "source_hash": "4ebd51e",
    "execution_start": 1622029992680,
    "execution_millis": 554,
    "deepnote_cell_type": "code"
   },
   "outputs": [
    {
     "output_type": "execute_result",
     "execution_count": 20,
     "data": {
      "application/vnd.deepnote.dataframe.v2+json": {
       "row_count": 835,
       "column_count": 32,
       "columns": [
        {
         "name": "incident_id",
         "dtype": "int64",
         "stats": {
          "unique_count": 88,
          "nan_count": 0,
          "min": "1",
          "max": "87614",
          "histogram": [
           {
            "bin_start": 1,
            "bin_end": 8762.3,
            "count": 831
           },
           {
            "bin_start": 8762.3,
            "bin_end": 17523.6,
            "count": 2
           },
           {
            "bin_start": 17523.6,
            "bin_end": 26284.899999999998,
            "count": 0
           },
           {
            "bin_start": 26284.899999999998,
            "bin_end": 35046.2,
            "count": 0
           },
           {
            "bin_start": 35046.2,
            "bin_end": 43807.5,
            "count": 1
           },
           {
            "bin_start": 43807.5,
            "bin_end": 52568.799999999996,
            "count": 0
           },
           {
            "bin_start": 52568.799999999996,
            "bin_end": 61330.09999999999,
            "count": 0
           },
           {
            "bin_start": 61330.09999999999,
            "bin_end": 70091.4,
            "count": 0
           },
           {
            "bin_start": 70091.4,
            "bin_end": 78852.7,
            "count": 0
           },
           {
            "bin_start": 78852.7,
            "bin_end": 87614,
            "count": 1
           }
          ]
         }
        },
        {
         "name": "date",
         "dtype": "int64",
         "stats": {
          "unique_count": 88,
          "nan_count": 0,
          "min": "1",
          "max": "87614",
          "histogram": [
           {
            "bin_start": 1,
            "bin_end": 8762.3,
            "count": 831
           },
           {
            "bin_start": 8762.3,
            "bin_end": 17523.6,
            "count": 2
           },
           {
            "bin_start": 17523.6,
            "bin_end": 26284.899999999998,
            "count": 0
           },
           {
            "bin_start": 26284.899999999998,
            "bin_end": 35046.2,
            "count": 0
           },
           {
            "bin_start": 35046.2,
            "bin_end": 43807.5,
            "count": 1
           },
           {
            "bin_start": 43807.5,
            "bin_end": 52568.799999999996,
            "count": 0
           },
           {
            "bin_start": 52568.799999999996,
            "bin_end": 61330.09999999999,
            "count": 0
           },
           {
            "bin_start": 61330.09999999999,
            "bin_end": 70091.4,
            "count": 0
           },
           {
            "bin_start": 70091.4,
            "bin_end": 78852.7,
            "count": 0
           },
           {
            "bin_start": 78852.7,
            "bin_end": 87614,
            "count": 1
           }
          ]
         }
        },
        {
         "name": "state",
         "dtype": "int64",
         "stats": {
          "unique_count": 88,
          "nan_count": 0,
          "min": "1",
          "max": "87614",
          "histogram": [
           {
            "bin_start": 1,
            "bin_end": 8762.3,
            "count": 831
           },
           {
            "bin_start": 8762.3,
            "bin_end": 17523.6,
            "count": 2
           },
           {
            "bin_start": 17523.6,
            "bin_end": 26284.899999999998,
            "count": 0
           },
           {
            "bin_start": 26284.899999999998,
            "bin_end": 35046.2,
            "count": 0
           },
           {
            "bin_start": 35046.2,
            "bin_end": 43807.5,
            "count": 1
           },
           {
            "bin_start": 43807.5,
            "bin_end": 52568.799999999996,
            "count": 0
           },
           {
            "bin_start": 52568.799999999996,
            "bin_end": 61330.09999999999,
            "count": 0
           },
           {
            "bin_start": 61330.09999999999,
            "bin_end": 70091.4,
            "count": 0
           },
           {
            "bin_start": 70091.4,
            "bin_end": 78852.7,
            "count": 0
           },
           {
            "bin_start": 78852.7,
            "bin_end": 87614,
            "count": 1
           }
          ]
         }
        },
        {
         "name": "city_or_county",
         "dtype": "int64",
         "stats": {
          "unique_count": 88,
          "nan_count": 0,
          "min": "1",
          "max": "87614",
          "histogram": [
           {
            "bin_start": 1,
            "bin_end": 8762.3,
            "count": 831
           },
           {
            "bin_start": 8762.3,
            "bin_end": 17523.6,
            "count": 2
           },
           {
            "bin_start": 17523.6,
            "bin_end": 26284.899999999998,
            "count": 0
           },
           {
            "bin_start": 26284.899999999998,
            "bin_end": 35046.2,
            "count": 0
           },
           {
            "bin_start": 35046.2,
            "bin_end": 43807.5,
            "count": 1
           },
           {
            "bin_start": 43807.5,
            "bin_end": 52568.799999999996,
            "count": 0
           },
           {
            "bin_start": 52568.799999999996,
            "bin_end": 61330.09999999999,
            "count": 0
           },
           {
            "bin_start": 61330.09999999999,
            "bin_end": 70091.4,
            "count": 0
           },
           {
            "bin_start": 70091.4,
            "bin_end": 78852.7,
            "count": 0
           },
           {
            "bin_start": 78852.7,
            "bin_end": 87614,
            "count": 1
           }
          ]
         }
        },
        {
         "name": "address",
         "dtype": "int64",
         "stats": {
          "unique_count": 89,
          "nan_count": 0,
          "min": "0",
          "max": "80210",
          "histogram": [
           {
            "bin_start": 0,
            "bin_end": 8021,
            "count": 831
           },
           {
            "bin_start": 8021,
            "bin_end": 16042,
            "count": 2
           },
           {
            "bin_start": 16042,
            "bin_end": 24063,
            "count": 0
           },
           {
            "bin_start": 24063,
            "bin_end": 32084,
            "count": 0
           },
           {
            "bin_start": 32084,
            "bin_end": 40105,
            "count": 1
           },
           {
            "bin_start": 40105,
            "bin_end": 48126,
            "count": 0
           },
           {
            "bin_start": 48126,
            "bin_end": 56147,
            "count": 0
           },
           {
            "bin_start": 56147,
            "bin_end": 64168,
            "count": 0
           },
           {
            "bin_start": 64168,
            "bin_end": 72189,
            "count": 0
           },
           {
            "bin_start": 72189,
            "bin_end": 80210,
            "count": 1
           }
          ]
         }
        },
        {
         "name": "n_killed",
         "dtype": "int64",
         "stats": {
          "unique_count": 88,
          "nan_count": 0,
          "min": "1",
          "max": "87614",
          "histogram": [
           {
            "bin_start": 1,
            "bin_end": 8762.3,
            "count": 831
           },
           {
            "bin_start": 8762.3,
            "bin_end": 17523.6,
            "count": 2
           },
           {
            "bin_start": 17523.6,
            "bin_end": 26284.899999999998,
            "count": 0
           },
           {
            "bin_start": 26284.899999999998,
            "bin_end": 35046.2,
            "count": 0
           },
           {
            "bin_start": 35046.2,
            "bin_end": 43807.5,
            "count": 1
           },
           {
            "bin_start": 43807.5,
            "bin_end": 52568.799999999996,
            "count": 0
           },
           {
            "bin_start": 52568.799999999996,
            "bin_end": 61330.09999999999,
            "count": 0
           },
           {
            "bin_start": 61330.09999999999,
            "bin_end": 70091.4,
            "count": 0
           },
           {
            "bin_start": 70091.4,
            "bin_end": 78852.7,
            "count": 0
           },
           {
            "bin_start": 78852.7,
            "bin_end": 87614,
            "count": 1
           }
          ]
         }
        },
        {
         "name": "n_injured",
         "dtype": "int64",
         "stats": {
          "unique_count": 88,
          "nan_count": 0,
          "min": "1",
          "max": "87614",
          "histogram": [
           {
            "bin_start": 1,
            "bin_end": 8762.3,
            "count": 831
           },
           {
            "bin_start": 8762.3,
            "bin_end": 17523.6,
            "count": 2
           },
           {
            "bin_start": 17523.6,
            "bin_end": 26284.899999999998,
            "count": 0
           },
           {
            "bin_start": 26284.899999999998,
            "bin_end": 35046.2,
            "count": 0
           },
           {
            "bin_start": 35046.2,
            "bin_end": 43807.5,
            "count": 1
           },
           {
            "bin_start": 43807.5,
            "bin_end": 52568.799999999996,
            "count": 0
           },
           {
            "bin_start": 52568.799999999996,
            "bin_end": 61330.09999999999,
            "count": 0
           },
           {
            "bin_start": 61330.09999999999,
            "bin_end": 70091.4,
            "count": 0
           },
           {
            "bin_start": 70091.4,
            "bin_end": 78852.7,
            "count": 0
           },
           {
            "bin_start": 78852.7,
            "bin_end": 87614,
            "count": 1
           }
          ]
         }
        },
        {
         "name": "incident_url",
         "dtype": "int64",
         "stats": {
          "unique_count": 88,
          "nan_count": 0,
          "min": "1",
          "max": "87614",
          "histogram": [
           {
            "bin_start": 1,
            "bin_end": 8762.3,
            "count": 831
           },
           {
            "bin_start": 8762.3,
            "bin_end": 17523.6,
            "count": 2
           },
           {
            "bin_start": 17523.6,
            "bin_end": 26284.899999999998,
            "count": 0
           },
           {
            "bin_start": 26284.899999999998,
            "bin_end": 35046.2,
            "count": 0
           },
           {
            "bin_start": 35046.2,
            "bin_end": 43807.5,
            "count": 1
           },
           {
            "bin_start": 43807.5,
            "bin_end": 52568.799999999996,
            "count": 0
           },
           {
            "bin_start": 52568.799999999996,
            "bin_end": 61330.09999999999,
            "count": 0
           },
           {
            "bin_start": 61330.09999999999,
            "bin_end": 70091.4,
            "count": 0
           },
           {
            "bin_start": 70091.4,
            "bin_end": 78852.7,
            "count": 0
           },
           {
            "bin_start": 78852.7,
            "bin_end": 87614,
            "count": 1
           }
          ]
         }
        },
        {
         "name": "source_url",
         "dtype": "int64",
         "stats": {
          "unique_count": 91,
          "nan_count": 0,
          "min": "0",
          "max": "87435",
          "histogram": [
           {
            "bin_start": 0,
            "bin_end": 8743.5,
            "count": 831
           },
           {
            "bin_start": 8743.5,
            "bin_end": 17487,
            "count": 2
           },
           {
            "bin_start": 17487,
            "bin_end": 26230.5,
            "count": 0
           },
           {
            "bin_start": 26230.5,
            "bin_end": 34974,
            "count": 0
           },
           {
            "bin_start": 34974,
            "bin_end": 43717.5,
            "count": 1
           },
           {
            "bin_start": 43717.5,
            "bin_end": 52461,
            "count": 0
           },
           {
            "bin_start": 52461,
            "bin_end": 61204.5,
            "count": 0
           },
           {
            "bin_start": 61204.5,
            "bin_end": 69948,
            "count": 0
           },
           {
            "bin_start": 69948,
            "bin_end": 78691.5,
            "count": 0
           },
           {
            "bin_start": 78691.5,
            "bin_end": 87435,
            "count": 1
           }
          ]
         }
        },
        {
         "name": "incident_url_fields_missing",
         "dtype": "int64",
         "stats": {
          "unique_count": 88,
          "nan_count": 0,
          "min": "1",
          "max": "87614",
          "histogram": [
           {
            "bin_start": 1,
            "bin_end": 8762.3,
            "count": 831
           },
           {
            "bin_start": 8762.3,
            "bin_end": 17523.6,
            "count": 2
           },
           {
            "bin_start": 17523.6,
            "bin_end": 26284.899999999998,
            "count": 0
           },
           {
            "bin_start": 26284.899999999998,
            "bin_end": 35046.2,
            "count": 0
           },
           {
            "bin_start": 35046.2,
            "bin_end": 43807.5,
            "count": 1
           },
           {
            "bin_start": 43807.5,
            "bin_end": 52568.799999999996,
            "count": 0
           },
           {
            "bin_start": 52568.799999999996,
            "bin_end": 61330.09999999999,
            "count": 0
           },
           {
            "bin_start": 61330.09999999999,
            "bin_end": 70091.4,
            "count": 0
           },
           {
            "bin_start": 70091.4,
            "bin_end": 78852.7,
            "count": 0
           },
           {
            "bin_start": 78852.7,
            "bin_end": 87614,
            "count": 1
           }
          ]
         }
        },
        {
         "name": "congressional_district",
         "dtype": "int64",
         "stats": {
          "unique_count": 91,
          "nan_count": 0,
          "min": "0",
          "max": "84671",
          "histogram": [
           {
            "bin_start": 0,
            "bin_end": 8467.1,
            "count": 831
           },
           {
            "bin_start": 8467.1,
            "bin_end": 16934.2,
            "count": 2
           },
           {
            "bin_start": 16934.2,
            "bin_end": 25401.300000000003,
            "count": 0
           },
           {
            "bin_start": 25401.300000000003,
            "bin_end": 33868.4,
            "count": 0
           },
           {
            "bin_start": 33868.4,
            "bin_end": 42335.5,
            "count": 1
           },
           {
            "bin_start": 42335.5,
            "bin_end": 50802.600000000006,
            "count": 0
           },
           {
            "bin_start": 50802.600000000006,
            "bin_end": 59269.700000000004,
            "count": 0
           },
           {
            "bin_start": 59269.700000000004,
            "bin_end": 67736.8,
            "count": 0
           },
           {
            "bin_start": 67736.8,
            "bin_end": 76203.90000000001,
            "count": 0
           },
           {
            "bin_start": 76203.90000000001,
            "bin_end": 84671,
            "count": 1
           }
          ]
         }
        },
        {
         "name": "gun_stolen",
         "dtype": "int64",
         "stats": {
          "unique_count": 67,
          "nan_count": 0,
          "min": "0",
          "max": "51050",
          "histogram": [
           {
            "bin_start": 0,
            "bin_end": 5105,
            "count": 831
           },
           {
            "bin_start": 5105,
            "bin_end": 10210,
            "count": 2
           },
           {
            "bin_start": 10210,
            "bin_end": 15315,
            "count": 0
           },
           {
            "bin_start": 15315,
            "bin_end": 20420,
            "count": 0
           },
           {
            "bin_start": 20420,
            "bin_end": 25525,
            "count": 1
           },
           {
            "bin_start": 25525,
            "bin_end": 30630,
            "count": 0
           },
           {
            "bin_start": 30630,
            "bin_end": 35735,
            "count": 0
           },
           {
            "bin_start": 35735,
            "bin_end": 40840,
            "count": 0
           },
           {
            "bin_start": 40840,
            "bin_end": 45945,
            "count": 0
           },
           {
            "bin_start": 45945,
            "bin_end": 51050,
            "count": 1
           }
          ]
         }
        },
        {
         "name": "gun_type",
         "dtype": "int64",
         "stats": {
          "unique_count": 68,
          "nan_count": 0,
          "min": "0",
          "max": "51060",
          "histogram": [
           {
            "bin_start": 0,
            "bin_end": 5106,
            "count": 831
           },
           {
            "bin_start": 5106,
            "bin_end": 10212,
            "count": 2
           },
           {
            "bin_start": 10212,
            "bin_end": 15318,
            "count": 0
           },
           {
            "bin_start": 15318,
            "bin_end": 20424,
            "count": 0
           },
           {
            "bin_start": 20424,
            "bin_end": 25530,
            "count": 1
           },
           {
            "bin_start": 25530,
            "bin_end": 30636,
            "count": 0
           },
           {
            "bin_start": 30636,
            "bin_end": 35742,
            "count": 0
           },
           {
            "bin_start": 35742,
            "bin_end": 40848,
            "count": 0
           },
           {
            "bin_start": 40848,
            "bin_end": 45954,
            "count": 0
           },
           {
            "bin_start": 45954,
            "bin_end": 51060,
            "count": 1
           }
          ]
         }
        },
        {
         "name": "incident_characteristics",
         "dtype": "int64",
         "stats": {
          "unique_count": 90,
          "nan_count": 0,
          "min": "0",
          "max": "87505",
          "histogram": [
           {
            "bin_start": 0,
            "bin_end": 8750.5,
            "count": 831
           },
           {
            "bin_start": 8750.5,
            "bin_end": 17501,
            "count": 2
           },
           {
            "bin_start": 17501,
            "bin_end": 26251.5,
            "count": 0
           },
           {
            "bin_start": 26251.5,
            "bin_end": 35002,
            "count": 0
           },
           {
            "bin_start": 35002,
            "bin_end": 43752.5,
            "count": 1
           },
           {
            "bin_start": 43752.5,
            "bin_end": 52503,
            "count": 0
           },
           {
            "bin_start": 52503,
            "bin_end": 61253.5,
            "count": 0
           },
           {
            "bin_start": 61253.5,
            "bin_end": 70004,
            "count": 0
           },
           {
            "bin_start": 70004,
            "bin_end": 78754.5,
            "count": 0
           },
           {
            "bin_start": 78754.5,
            "bin_end": 87505,
            "count": 1
           }
          ]
         }
        },
        {
         "name": "latitude",
         "dtype": "int64",
         "stats": {
          "unique_count": 91,
          "nan_count": 0,
          "min": "0",
          "max": "85474",
          "histogram": [
           {
            "bin_start": 0,
            "bin_end": 8547.4,
            "count": 831
           },
           {
            "bin_start": 8547.4,
            "bin_end": 17094.8,
            "count": 2
           },
           {
            "bin_start": 17094.8,
            "bin_end": 25642.199999999997,
            "count": 0
           },
           {
            "bin_start": 25642.199999999997,
            "bin_end": 34189.6,
            "count": 0
           },
           {
            "bin_start": 34189.6,
            "bin_end": 42737,
            "count": 1
           },
           {
            "bin_start": 42737,
            "bin_end": 51284.399999999994,
            "count": 0
           },
           {
            "bin_start": 51284.399999999994,
            "bin_end": 59831.799999999996,
            "count": 0
           },
           {
            "bin_start": 59831.799999999996,
            "bin_end": 68379.2,
            "count": 0
           },
           {
            "bin_start": 68379.2,
            "bin_end": 76926.59999999999,
            "count": 0
           },
           {
            "bin_start": 76926.59999999999,
            "bin_end": 85474,
            "count": 1
           }
          ]
         }
        },
        {
         "name": "location_description",
         "dtype": "int64",
         "stats": {
          "unique_count": 50,
          "nan_count": 0,
          "min": "0",
          "max": "14353",
          "histogram": [
           {
            "bin_start": 0,
            "bin_end": 1435.3,
            "count": 831
           },
           {
            "bin_start": 1435.3,
            "bin_end": 2870.6,
            "count": 2
           },
           {
            "bin_start": 2870.6,
            "bin_end": 4305.9,
            "count": 0
           },
           {
            "bin_start": 4305.9,
            "bin_end": 5741.2,
            "count": 0
           },
           {
            "bin_start": 5741.2,
            "bin_end": 7176.5,
            "count": 0
           },
           {
            "bin_start": 7176.5,
            "bin_end": 8611.8,
            "count": 1
           },
           {
            "bin_start": 8611.8,
            "bin_end": 10047.1,
            "count": 0
           },
           {
            "bin_start": 10047.1,
            "bin_end": 11482.4,
            "count": 0
           },
           {
            "bin_start": 11482.4,
            "bin_end": 12917.699999999999,
            "count": 0
           },
           {
            "bin_start": 12917.699999999999,
            "bin_end": 14353,
            "count": 1
           }
          ]
         }
        },
        {
         "name": "longitude",
         "dtype": "int64",
         "stats": {
          "unique_count": 91,
          "nan_count": 0,
          "min": "0",
          "max": "85474",
          "histogram": [
           {
            "bin_start": 0,
            "bin_end": 8547.4,
            "count": 831
           },
           {
            "bin_start": 8547.4,
            "bin_end": 17094.8,
            "count": 2
           },
           {
            "bin_start": 17094.8,
            "bin_end": 25642.199999999997,
            "count": 0
           },
           {
            "bin_start": 25642.199999999997,
            "bin_end": 34189.6,
            "count": 0
           },
           {
            "bin_start": 34189.6,
            "bin_end": 42737,
            "count": 1
           },
           {
            "bin_start": 42737,
            "bin_end": 51284.399999999994,
            "count": 0
           },
           {
            "bin_start": 51284.399999999994,
            "bin_end": 59831.799999999996,
            "count": 0
           },
           {
            "bin_start": 59831.799999999996,
            "bin_end": 68379.2,
            "count": 0
           },
           {
            "bin_start": 68379.2,
            "bin_end": 76926.59999999999,
            "count": 0
           },
           {
            "bin_start": 76926.59999999999,
            "bin_end": 85474,
            "count": 1
           }
          ]
         }
        },
        {
         "name": "n_guns_involved",
         "dtype": "int64",
         "stats": {
          "unique_count": 68,
          "nan_count": 0,
          "min": "0",
          "max": "51060",
          "histogram": [
           {
            "bin_start": 0,
            "bin_end": 5106,
            "count": 831
           },
           {
            "bin_start": 5106,
            "bin_end": 10212,
            "count": 2
           },
           {
            "bin_start": 10212,
            "bin_end": 15318,
            "count": 0
           },
           {
            "bin_start": 15318,
            "bin_end": 20424,
            "count": 0
           },
           {
            "bin_start": 20424,
            "bin_end": 25530,
            "count": 1
           },
           {
            "bin_start": 25530,
            "bin_end": 30636,
            "count": 0
           },
           {
            "bin_start": 30636,
            "bin_end": 35742,
            "count": 0
           },
           {
            "bin_start": 35742,
            "bin_end": 40848,
            "count": 0
           },
           {
            "bin_start": 40848,
            "bin_end": 45954,
            "count": 0
           },
           {
            "bin_start": 45954,
            "bin_end": 51060,
            "count": 1
           }
          ]
         }
        },
        {
         "name": "notes",
         "dtype": "int64",
         "stats": {
          "unique_count": 85,
          "nan_count": 0,
          "min": "0",
          "max": "56418",
          "histogram": [
           {
            "bin_start": 0,
            "bin_end": 5641.8,
            "count": 831
           },
           {
            "bin_start": 5641.8,
            "bin_end": 11283.6,
            "count": 2
           },
           {
            "bin_start": 11283.6,
            "bin_end": 16925.4,
            "count": 0
           },
           {
            "bin_start": 16925.4,
            "bin_end": 22567.2,
            "count": 0
           },
           {
            "bin_start": 22567.2,
            "bin_end": 28209,
            "count": 0
           },
           {
            "bin_start": 28209,
            "bin_end": 33850.8,
            "count": 1
           },
           {
            "bin_start": 33850.8,
            "bin_end": 39492.6,
            "count": 0
           },
           {
            "bin_start": 39492.6,
            "bin_end": 45134.4,
            "count": 0
           },
           {
            "bin_start": 45134.4,
            "bin_end": 50776.200000000004,
            "count": 0
           },
           {
            "bin_start": 50776.200000000004,
            "bin_end": 56418,
            "count": 1
           }
          ]
         }
        },
        {
         "name": "participant_age",
         "dtype": "int64",
         "stats": {
          "unique_count": 85,
          "nan_count": 0,
          "min": "0",
          "max": "60365",
          "histogram": [
           {
            "bin_start": 0,
            "bin_end": 6036.5,
            "count": 831
           },
           {
            "bin_start": 6036.5,
            "bin_end": 12073,
            "count": 2
           },
           {
            "bin_start": 12073,
            "bin_end": 18109.5,
            "count": 0
           },
           {
            "bin_start": 18109.5,
            "bin_end": 24146,
            "count": 0
           },
           {
            "bin_start": 24146,
            "bin_end": 30182.5,
            "count": 0
           },
           {
            "bin_start": 30182.5,
            "bin_end": 36219,
            "count": 1
           },
           {
            "bin_start": 36219,
            "bin_end": 42255.5,
            "count": 0
           },
           {
            "bin_start": 42255.5,
            "bin_end": 48292,
            "count": 0
           },
           {
            "bin_start": 48292,
            "bin_end": 54328.5,
            "count": 0
           },
           {
            "bin_start": 54328.5,
            "bin_end": 60365,
            "count": 1
           }
          ]
         }
        },
        {
         "name": "participant_age_group",
         "dtype": "int64",
         "stats": {
          "unique_count": 87,
          "nan_count": 0,
          "min": "0",
          "max": "82595",
          "histogram": [
           {
            "bin_start": 0,
            "bin_end": 8259.5,
            "count": 831
           },
           {
            "bin_start": 8259.5,
            "bin_end": 16519,
            "count": 2
           },
           {
            "bin_start": 16519,
            "bin_end": 24778.5,
            "count": 0
           },
           {
            "bin_start": 24778.5,
            "bin_end": 33038,
            "count": 0
           },
           {
            "bin_start": 33038,
            "bin_end": 41297.5,
            "count": 1
           },
           {
            "bin_start": 41297.5,
            "bin_end": 49557,
            "count": 0
           },
           {
            "bin_start": 49557,
            "bin_end": 57816.5,
            "count": 0
           },
           {
            "bin_start": 57816.5,
            "bin_end": 66076,
            "count": 0
           },
           {
            "bin_start": 66076,
            "bin_end": 74335.5,
            "count": 0
           },
           {
            "bin_start": 74335.5,
            "bin_end": 82595,
            "count": 1
           }
          ]
         }
        },
        {
         "name": "participant_name",
         "dtype": "int64",
         "stats": {
          "unique_count": 82,
          "nan_count": 0,
          "min": "0",
          "max": "44580",
          "histogram": [
           {
            "bin_start": 0,
            "bin_end": 4458,
            "count": 831
           },
           {
            "bin_start": 4458,
            "bin_end": 8916,
            "count": 2
           },
           {
            "bin_start": 8916,
            "bin_end": 13374,
            "count": 0
           },
           {
            "bin_start": 13374,
            "bin_end": 17832,
            "count": 0
           },
           {
            "bin_start": 17832,
            "bin_end": 22290,
            "count": 0
           },
           {
            "bin_start": 22290,
            "bin_end": 26748,
            "count": 1
           },
           {
            "bin_start": 26748,
            "bin_end": 31206,
            "count": 0
           },
           {
            "bin_start": 31206,
            "bin_end": 35664,
            "count": 0
           },
           {
            "bin_start": 35664,
            "bin_end": 40122,
            "count": 0
           },
           {
            "bin_start": 40122,
            "bin_end": 44580,
            "count": 1
           }
          ]
         }
        },
        {
         "name": "participant_relationship",
         "dtype": "int64",
         "stats": {
          "unique_count": 42,
          "nan_count": 0,
          "min": "0",
          "max": "4601",
          "histogram": [
           {
            "bin_start": 0,
            "bin_end": 460.1,
            "count": 829
           },
           {
            "bin_start": 460.1,
            "bin_end": 920.2,
            "count": 2
           },
           {
            "bin_start": 920.2,
            "bin_end": 1380.3000000000002,
            "count": 1
           },
           {
            "bin_start": 1380.3000000000002,
            "bin_end": 1840.4,
            "count": 1
           },
           {
            "bin_start": 1840.4,
            "bin_end": 2300.5,
            "count": 0
           },
           {
            "bin_start": 2300.5,
            "bin_end": 2760.6000000000004,
            "count": 0
           },
           {
            "bin_start": 2760.6000000000004,
            "bin_end": 3220.7000000000003,
            "count": 1
           },
           {
            "bin_start": 3220.7000000000003,
            "bin_end": 3680.8,
            "count": 0
           },
           {
            "bin_start": 3680.8,
            "bin_end": 4140.900000000001,
            "count": 0
           },
           {
            "bin_start": 4140.900000000001,
            "bin_end": 4601,
            "count": 1
           }
          ]
         }
        },
        {
         "name": "participant_status",
         "dtype": "int64",
         "stats": {
          "unique_count": 90,
          "nan_count": 0,
          "min": "0",
          "max": "87041",
          "histogram": [
           {
            "bin_start": 0,
            "bin_end": 8704.1,
            "count": 831
           },
           {
            "bin_start": 8704.1,
            "bin_end": 17408.2,
            "count": 2
           },
           {
            "bin_start": 17408.2,
            "bin_end": 26112.300000000003,
            "count": 0
           },
           {
            "bin_start": 26112.300000000003,
            "bin_end": 34816.4,
            "count": 0
           },
           {
            "bin_start": 34816.4,
            "bin_end": 43520.5,
            "count": 1
           },
           {
            "bin_start": 43520.5,
            "bin_end": 52224.600000000006,
            "count": 0
           },
           {
            "bin_start": 52224.600000000006,
            "bin_end": 60928.700000000004,
            "count": 0
           },
           {
            "bin_start": 60928.700000000004,
            "bin_end": 69632.8,
            "count": 0
           },
           {
            "bin_start": 69632.8,
            "bin_end": 78336.90000000001,
            "count": 0
           },
           {
            "bin_start": 78336.90000000001,
            "bin_end": 87041,
            "count": 1
           }
          ]
         }
        },
        {
         "name": "participant_type",
         "dtype": "int64",
         "stats": {
          "unique_count": 88,
          "nan_count": 0,
          "min": "1",
          "max": "87614",
          "histogram": [
           {
            "bin_start": 1,
            "bin_end": 8762.3,
            "count": 831
           },
           {
            "bin_start": 8762.3,
            "bin_end": 17523.6,
            "count": 2
           },
           {
            "bin_start": 17523.6,
            "bin_end": 26284.899999999998,
            "count": 0
           },
           {
            "bin_start": 26284.899999999998,
            "bin_end": 35046.2,
            "count": 0
           },
           {
            "bin_start": 35046.2,
            "bin_end": 43807.5,
            "count": 1
           },
           {
            "bin_start": 43807.5,
            "bin_end": 52568.799999999996,
            "count": 0
           },
           {
            "bin_start": 52568.799999999996,
            "bin_end": 61330.09999999999,
            "count": 0
           },
           {
            "bin_start": 61330.09999999999,
            "bin_end": 70091.4,
            "count": 0
           },
           {
            "bin_start": 70091.4,
            "bin_end": 78852.7,
            "count": 0
           },
           {
            "bin_start": 78852.7,
            "bin_end": 87614,
            "count": 1
           }
          ]
         }
        },
        {
         "name": "sources",
         "dtype": "int64",
         "stats": {
          "unique_count": 89,
          "nan_count": 0,
          "min": "1",
          "max": "87492",
          "histogram": [
           {
            "bin_start": 1,
            "bin_end": 8750.1,
            "count": 831
           },
           {
            "bin_start": 8750.1,
            "bin_end": 17499.2,
            "count": 2
           },
           {
            "bin_start": 17499.2,
            "bin_end": 26248.300000000003,
            "count": 0
           },
           {
            "bin_start": 26248.300000000003,
            "bin_end": 34997.4,
            "count": 0
           },
           {
            "bin_start": 34997.4,
            "bin_end": 43746.5,
            "count": 1
           },
           {
            "bin_start": 43746.5,
            "bin_end": 52495.600000000006,
            "count": 0
           },
           {
            "bin_start": 52495.600000000006,
            "bin_end": 61244.700000000004,
            "count": 0
           },
           {
            "bin_start": 61244.700000000004,
            "bin_end": 69993.8,
            "count": 0
           },
           {
            "bin_start": 69993.8,
            "bin_end": 78742.90000000001,
            "count": 0
           },
           {
            "bin_start": 78742.90000000001,
            "bin_end": 87492,
            "count": 1
           }
          ]
         }
        },
        {
         "name": "state_house_district",
         "dtype": "int64",
         "stats": {
          "unique_count": 89,
          "nan_count": 0,
          "min": "0",
          "max": "74124",
          "histogram": [
           {
            "bin_start": 0,
            "bin_end": 7412.4,
            "count": 831
           },
           {
            "bin_start": 7412.4,
            "bin_end": 14824.8,
            "count": 2
           },
           {
            "bin_start": 14824.8,
            "bin_end": 22237.199999999997,
            "count": 0
           },
           {
            "bin_start": 22237.199999999997,
            "bin_end": 29649.6,
            "count": 0
           },
           {
            "bin_start": 29649.6,
            "bin_end": 37062,
            "count": 1
           },
           {
            "bin_start": 37062,
            "bin_end": 44474.399999999994,
            "count": 0
           },
           {
            "bin_start": 44474.399999999994,
            "bin_end": 51886.799999999996,
            "count": 0
           },
           {
            "bin_start": 51886.799999999996,
            "bin_end": 59299.2,
            "count": 0
           },
           {
            "bin_start": 59299.2,
            "bin_end": 66711.59999999999,
            "count": 0
           },
           {
            "bin_start": 66711.59999999999,
            "bin_end": 74124,
            "count": 1
           }
          ]
         }
        },
        {
         "name": "state_senate_district",
         "dtype": "int64",
         "stats": {
          "unique_count": 90,
          "nan_count": 0,
          "min": "0",
          "max": "76594",
          "histogram": [
           {
            "bin_start": 0,
            "bin_end": 7659.4,
            "count": 831
           },
           {
            "bin_start": 7659.4,
            "bin_end": 15318.8,
            "count": 2
           },
           {
            "bin_start": 15318.8,
            "bin_end": 22978.199999999997,
            "count": 0
           },
           {
            "bin_start": 22978.199999999997,
            "bin_end": 30637.6,
            "count": 0
           },
           {
            "bin_start": 30637.6,
            "bin_end": 38297,
            "count": 1
           },
           {
            "bin_start": 38297,
            "bin_end": 45956.399999999994,
            "count": 0
           },
           {
            "bin_start": 45956.399999999994,
            "bin_end": 53615.799999999996,
            "count": 0
           },
           {
            "bin_start": 53615.799999999996,
            "bin_end": 61275.2,
            "count": 0
           },
           {
            "bin_start": 61275.2,
            "bin_end": 68934.59999999999,
            "count": 0
           },
           {
            "bin_start": 68934.59999999999,
            "bin_end": 76594,
            "count": 1
           }
          ]
         }
        },
        {
         "name": "dotw",
         "dtype": "int64",
         "stats": {
          "unique_count": 88,
          "nan_count": 0,
          "min": "1",
          "max": "87614",
          "histogram": [
           {
            "bin_start": 1,
            "bin_end": 8762.3,
            "count": 831
           },
           {
            "bin_start": 8762.3,
            "bin_end": 17523.6,
            "count": 2
           },
           {
            "bin_start": 17523.6,
            "bin_end": 26284.899999999998,
            "count": 0
           },
           {
            "bin_start": 26284.899999999998,
            "bin_end": 35046.2,
            "count": 0
           },
           {
            "bin_start": 35046.2,
            "bin_end": 43807.5,
            "count": 1
           },
           {
            "bin_start": 43807.5,
            "bin_end": 52568.799999999996,
            "count": 0
           },
           {
            "bin_start": 52568.799999999996,
            "bin_end": 61330.09999999999,
            "count": 0
           },
           {
            "bin_start": 61330.09999999999,
            "bin_end": 70091.4,
            "count": 0
           },
           {
            "bin_start": 70091.4,
            "bin_end": 78852.7,
            "count": 0
           },
           {
            "bin_start": 78852.7,
            "bin_end": 87614,
            "count": 1
           }
          ]
         }
        },
        {
         "name": "year",
         "dtype": "int64",
         "stats": {
          "unique_count": 88,
          "nan_count": 0,
          "min": "1",
          "max": "87614",
          "histogram": [
           {
            "bin_start": 1,
            "bin_end": 8762.3,
            "count": 831
           },
           {
            "bin_start": 8762.3,
            "bin_end": 17523.6,
            "count": 2
           },
           {
            "bin_start": 17523.6,
            "bin_end": 26284.899999999998,
            "count": 0
           },
           {
            "bin_start": 26284.899999999998,
            "bin_end": 35046.2,
            "count": 0
           },
           {
            "bin_start": 35046.2,
            "bin_end": 43807.5,
            "count": 1
           },
           {
            "bin_start": 43807.5,
            "bin_end": 52568.799999999996,
            "count": 0
           },
           {
            "bin_start": 52568.799999999996,
            "bin_end": 61330.09999999999,
            "count": 0
           },
           {
            "bin_start": 61330.09999999999,
            "bin_end": 70091.4,
            "count": 0
           },
           {
            "bin_start": 70091.4,
            "bin_end": 78852.7,
            "count": 0
           },
           {
            "bin_start": 78852.7,
            "bin_end": 87614,
            "count": 1
           }
          ]
         }
        },
        {
         "name": "m/d",
         "dtype": "int64",
         "stats": {
          "unique_count": 88,
          "nan_count": 0,
          "min": "1",
          "max": "87614",
          "histogram": [
           {
            "bin_start": 1,
            "bin_end": 8762.3,
            "count": 831
           },
           {
            "bin_start": 8762.3,
            "bin_end": 17523.6,
            "count": 2
           },
           {
            "bin_start": 17523.6,
            "bin_end": 26284.899999999998,
            "count": 0
           },
           {
            "bin_start": 26284.899999999998,
            "bin_end": 35046.2,
            "count": 0
           },
           {
            "bin_start": 35046.2,
            "bin_end": 43807.5,
            "count": 1
           },
           {
            "bin_start": 43807.5,
            "bin_end": 52568.799999999996,
            "count": 0
           },
           {
            "bin_start": 52568.799999999996,
            "bin_end": 61330.09999999999,
            "count": 0
           },
           {
            "bin_start": 61330.09999999999,
            "bin_end": 70091.4,
            "count": 0
           },
           {
            "bin_start": 70091.4,
            "bin_end": 78852.7,
            "count": 0
           },
           {
            "bin_start": 78852.7,
            "bin_end": 87614,
            "count": 1
           }
          ]
         }
        },
        {
         "name": "state_code",
         "dtype": "int64",
         "stats": {
          "unique_count": 88,
          "nan_count": 0,
          "min": "1",
          "max": "87614",
          "histogram": [
           {
            "bin_start": 1,
            "bin_end": 8762.3,
            "count": 831
           },
           {
            "bin_start": 8762.3,
            "bin_end": 17523.6,
            "count": 2
           },
           {
            "bin_start": 17523.6,
            "bin_end": 26284.899999999998,
            "count": 0
           },
           {
            "bin_start": 26284.899999999998,
            "bin_end": 35046.2,
            "count": 0
           },
           {
            "bin_start": 35046.2,
            "bin_end": 43807.5,
            "count": 1
           },
           {
            "bin_start": 43807.5,
            "bin_end": 52568.799999999996,
            "count": 0
           },
           {
            "bin_start": 52568.799999999996,
            "bin_end": 61330.09999999999,
            "count": 0
           },
           {
            "bin_start": 61330.09999999999,
            "bin_end": 70091.4,
            "count": 0
           },
           {
            "bin_start": 70091.4,
            "bin_end": 78852.7,
            "count": 0
           },
           {
            "bin_start": 78852.7,
            "bin_end": 87614,
            "count": 1
           }
          ]
         }
        },
        {
         "name": "_deepnote_index_column",
         "dtype": "object"
        }
       ],
       "rows_top": [
        {
         "incident_id": 7312,
         "date": 7312,
         "state": 7312,
         "city_or_county": 7312,
         "address": 6719,
         "n_killed": 7312,
         "n_injured": 7312,
         "incident_url": 7312,
         "source_url": 7300,
         "incident_url_fields_missing": 7312,
         "congressional_district": 7049,
         "gun_stolen": 3973,
         "gun_type": 3975,
         "incident_characteristics": 7304,
         "latitude": 7126,
         "location_description": 1194,
         "longitude": 7126,
         "n_guns_involved": 3975,
         "notes": 4931,
         "participant_age": 4737,
         "participant_age_group": 6905,
         "participant_name": 2958,
         "participant_relationship": 142,
         "participant_status": 7285,
         "participant_type": 7312,
         "sources": 7303,
         "state_house_district": 6324,
         "state_senate_district": 6507,
         "dotw": 7312,
         "year": 7312,
         "m/d": 7312,
         "state_code": 7312,
         "_deepnote_index_column": "0::Female"
        },
        {
         "incident_id": 875,
         "date": 875,
         "state": 875,
         "city_or_county": 875,
         "address": 819,
         "n_killed": 875,
         "n_injured": 875,
         "incident_url": 875,
         "source_url": 874,
         "incident_url_fields_missing": 875,
         "congressional_district": 842,
         "gun_stolen": 498,
         "gun_type": 498,
         "incident_characteristics": 875,
         "latitude": 848,
         "location_description": 153,
         "longitude": 848,
         "n_guns_involved": 498,
         "notes": 617,
         "participant_age": 680,
         "participant_age_group": 833,
         "participant_name": 537,
         "participant_relationship": 133,
         "participant_status": 871,
         "participant_type": 875,
         "sources": 875,
         "state_house_district": 768,
         "state_senate_district": 790,
         "dotw": 875,
         "year": 875,
         "m/d": 875,
         "state_code": 875,
         "_deepnote_index_column": "0::Female||1::Female"
        },
        {
         "incident_id": 99,
         "date": 99,
         "state": 99,
         "city_or_county": 99,
         "address": 93,
         "n_killed": 99,
         "n_injured": 99,
         "incident_url": 99,
         "source_url": 99,
         "incident_url_fields_missing": 99,
         "congressional_district": 98,
         "gun_stolen": 56,
         "gun_type": 56,
         "incident_characteristics": 99,
         "latitude": 98,
         "location_description": 22,
         "longitude": 98,
         "n_guns_involved": 56,
         "notes": 65,
         "participant_age": 66,
         "participant_age_group": 96,
         "participant_name": 59,
         "participant_relationship": 13,
         "participant_status": 99,
         "participant_type": 99,
         "sources": 99,
         "state_house_district": 82,
         "state_senate_district": 88,
         "dotw": 99,
         "year": 99,
         "m/d": 99,
         "state_code": 99,
         "_deepnote_index_column": "0::Female||1::Female||2::Female"
        },
        {
         "incident_id": 12,
         "date": 12,
         "state": 12,
         "city_or_county": 12,
         "address": 11,
         "n_killed": 12,
         "n_injured": 12,
         "incident_url": 12,
         "source_url": 12,
         "incident_url_fields_missing": 12,
         "congressional_district": 11,
         "gun_stolen": 6,
         "gun_type": 6,
         "incident_characteristics": 12,
         "latitude": 12,
         "location_description": 3,
         "longitude": 12,
         "n_guns_involved": 6,
         "notes": 8,
         "participant_age": 9,
         "participant_age_group": 12,
         "participant_name": 6,
         "participant_relationship": 0,
         "participant_status": 12,
         "participant_type": 12,
         "sources": 12,
         "state_house_district": 8,
         "state_senate_district": 8,
         "dotw": 12,
         "year": 12,
         "m/d": 12,
         "state_code": 12,
         "_deepnote_index_column": "0::Female||1::Female||2::Female||3::Female"
        },
        {
         "incident_id": 3,
         "date": 3,
         "state": 3,
         "city_or_county": 3,
         "address": 2,
         "n_killed": 3,
         "n_injured": 3,
         "incident_url": 3,
         "source_url": 3,
         "incident_url_fields_missing": 3,
         "congressional_district": 2,
         "gun_stolen": 1,
         "gun_type": 1,
         "incident_characteristics": 3,
         "latitude": 3,
         "location_description": 1,
         "longitude": 3,
         "n_guns_involved": 1,
         "notes": 3,
         "participant_age": 3,
         "participant_age_group": 3,
         "participant_name": 3,
         "participant_relationship": 2,
         "participant_status": 3,
         "participant_type": 3,
         "sources": 3,
         "state_house_district": 2,
         "state_senate_district": 2,
         "dotw": 3,
         "year": 3,
         "m/d": 3,
         "state_code": 3,
         "_deepnote_index_column": "0::Female||1::Female||2::Female||3::Female||4::Female"
        },
        {
         "incident_id": 1,
         "date": 1,
         "state": 1,
         "city_or_county": 1,
         "address": 1,
         "n_killed": 1,
         "n_injured": 1,
         "incident_url": 1,
         "source_url": 1,
         "incident_url_fields_missing": 1,
         "congressional_district": 1,
         "gun_stolen": 1,
         "gun_type": 1,
         "incident_characteristics": 1,
         "latitude": 1,
         "location_description": 1,
         "longitude": 1,
         "n_guns_involved": 1,
         "notes": 1,
         "participant_age": 1,
         "participant_age_group": 1,
         "participant_name": 1,
         "participant_relationship": 0,
         "participant_status": 1,
         "participant_type": 1,
         "sources": 1,
         "state_house_district": 1,
         "state_senate_district": 1,
         "dotw": 1,
         "year": 1,
         "m/d": 1,
         "state_code": 1,
         "_deepnote_index_column": "0::Female||1::Female||2::Female||3::Female||4::Female||5::Female||6::Female||7::Female||8::Female||9::Female||10::Male||11::Male||12::Male||13::Male||14::Male||15::Male||16::Male||17::Male||18::Male||19::Male||20::Male||21::Male||22::Male||23::Male||24::Male||25::Male"
        },
        {
         "incident_id": 4,
         "date": 4,
         "state": 4,
         "city_or_county": 4,
         "address": 4,
         "n_killed": 4,
         "n_injured": 4,
         "incident_url": 4,
         "source_url": 4,
         "incident_url_fields_missing": 4,
         "congressional_district": 4,
         "gun_stolen": 2,
         "gun_type": 2,
         "incident_characteristics": 4,
         "latitude": 4,
         "location_description": 1,
         "longitude": 4,
         "n_guns_involved": 2,
         "notes": 4,
         "participant_age": 4,
         "participant_age_group": 4,
         "participant_name": 4,
         "participant_relationship": 1,
         "participant_status": 4,
         "participant_type": 4,
         "sources": 4,
         "state_house_district": 3,
         "state_senate_district": 4,
         "dotw": 4,
         "year": 4,
         "m/d": 4,
         "state_code": 4,
         "_deepnote_index_column": "0::Female||1::Female||2::Female||3::Female||4::Female||5::Male"
        },
        {
         "incident_id": 1,
         "date": 1,
         "state": 1,
         "city_or_county": 1,
         "address": 1,
         "n_killed": 1,
         "n_injured": 1,
         "incident_url": 1,
         "source_url": 1,
         "incident_url_fields_missing": 1,
         "congressional_district": 1,
         "gun_stolen": 0,
         "gun_type": 0,
         "incident_characteristics": 1,
         "latitude": 1,
         "location_description": 0,
         "longitude": 1,
         "n_guns_involved": 0,
         "notes": 1,
         "participant_age": 1,
         "participant_age_group": 1,
         "participant_name": 1,
         "participant_relationship": 0,
         "participant_status": 1,
         "participant_type": 1,
         "sources": 1,
         "state_house_district": 1,
         "state_senate_district": 1,
         "dotw": 1,
         "year": 1,
         "m/d": 1,
         "state_code": 1,
         "_deepnote_index_column": "0::Female||1::Female||2::Female||3::Female||4::Female||5::Male||6::Female||7::Male"
        },
        {
         "incident_id": 1,
         "date": 1,
         "state": 1,
         "city_or_county": 1,
         "address": 1,
         "n_killed": 1,
         "n_injured": 1,
         "incident_url": 1,
         "source_url": 1,
         "incident_url_fields_missing": 1,
         "congressional_district": 1,
         "gun_stolen": 1,
         "gun_type": 1,
         "incident_characteristics": 1,
         "latitude": 1,
         "location_description": 1,
         "longitude": 1,
         "n_guns_involved": 1,
         "notes": 1,
         "participant_age": 1,
         "participant_age_group": 1,
         "participant_name": 1,
         "participant_relationship": 0,
         "participant_status": 1,
         "participant_type": 1,
         "sources": 1,
         "state_house_district": 1,
         "state_senate_district": 1,
         "dotw": 1,
         "year": 1,
         "m/d": 1,
         "state_code": 1,
         "_deepnote_index_column": "0::Female||1::Female||2::Female||3::Female||4::Female||5::Male||6::Female||7::Male||8::Female||9::Female||10::Female||11::Male||12::Male||13::Female||14::Female||15::Female||16::Male||17::Female||18::Male||19::Female||20::Male||21::Female||22::Female||23::Male||24::Female||25::Male||26::Male||27::Male||28::Female||29::Male||30::Male||31::Female||32::Male||33::Female||34::Male||35::Male||36::Female||37::Male||38::Male||39::Female||41::Female||46::Male"
        },
        {
         "incident_id": 2,
         "date": 2,
         "state": 2,
         "city_or_county": 2,
         "address": 2,
         "n_killed": 2,
         "n_injured": 2,
         "incident_url": 2,
         "source_url": 2,
         "incident_url_fields_missing": 2,
         "congressional_district": 2,
         "gun_stolen": 1,
         "gun_type": 1,
         "incident_characteristics": 2,
         "latitude": 2,
         "location_description": 1,
         "longitude": 2,
         "n_guns_involved": 1,
         "notes": 2,
         "participant_age": 2,
         "participant_age_group": 2,
         "participant_name": 2,
         "participant_relationship": 0,
         "participant_status": 2,
         "participant_type": 2,
         "sources": 2,
         "state_house_district": 2,
         "state_senate_district": 2,
         "dotw": 2,
         "year": 2,
         "m/d": 2,
         "state_code": 2,
         "_deepnote_index_column": "0::Female||1::Female||2::Female||3::Female||4::Female||5::Male||6::Male"
        },
        {
         "incident_id": 1,
         "date": 1,
         "state": 1,
         "city_or_county": 1,
         "address": 1,
         "n_killed": 1,
         "n_injured": 1,
         "incident_url": 1,
         "source_url": 1,
         "incident_url_fields_missing": 1,
         "congressional_district": 1,
         "gun_stolen": 0,
         "gun_type": 0,
         "incident_characteristics": 1,
         "latitude": 1,
         "location_description": 0,
         "longitude": 1,
         "n_guns_involved": 0,
         "notes": 1,
         "participant_age": 1,
         "participant_age_group": 1,
         "participant_name": 1,
         "participant_relationship": 0,
         "participant_status": 1,
         "participant_type": 1,
         "sources": 1,
         "state_house_district": 1,
         "state_senate_district": 1,
         "dotw": 1,
         "year": 1,
         "m/d": 1,
         "state_code": 1,
         "_deepnote_index_column": "0::Female||1::Female||2::Female||3::Female||4::Female||5::Male||6::Male||15::Male||16::Male"
        },
        {
         "incident_id": 1,
         "date": 1,
         "state": 1,
         "city_or_county": 1,
         "address": 1,
         "n_killed": 1,
         "n_injured": 1,
         "incident_url": 1,
         "source_url": 1,
         "incident_url_fields_missing": 1,
         "congressional_district": 1,
         "gun_stolen": 0,
         "gun_type": 0,
         "incident_characteristics": 1,
         "latitude": 1,
         "location_description": 0,
         "longitude": 1,
         "n_guns_involved": 0,
         "notes": 1,
         "participant_age": 1,
         "participant_age_group": 1,
         "participant_name": 1,
         "participant_relationship": 0,
         "participant_status": 1,
         "participant_type": 1,
         "sources": 1,
         "state_house_district": 1,
         "state_senate_district": 1,
         "dotw": 1,
         "year": 1,
         "m/d": 1,
         "state_code": 1,
         "_deepnote_index_column": "0::Female||1::Female||2::Female||3::Female||4::Female||5::Male||6::Male||7::Male"
        },
        {
         "incident_id": 19,
         "date": 19,
         "state": 19,
         "city_or_county": 19,
         "address": 19,
         "n_killed": 19,
         "n_injured": 19,
         "incident_url": 19,
         "source_url": 19,
         "incident_url_fields_missing": 19,
         "congressional_district": 19,
         "gun_stolen": 6,
         "gun_type": 6,
         "incident_characteristics": 19,
         "latitude": 19,
         "location_description": 3,
         "longitude": 19,
         "n_guns_involved": 6,
         "notes": 13,
         "participant_age": 18,
         "participant_age_group": 19,
         "participant_name": 16,
         "participant_relationship": 2,
         "participant_status": 19,
         "participant_type": 19,
         "sources": 19,
         "state_house_district": 16,
         "state_senate_district": 19,
         "dotw": 19,
         "year": 19,
         "m/d": 19,
         "state_code": 19,
         "_deepnote_index_column": "0::Female||1::Female||2::Female||3::Female||4::Male"
        },
        {
         "incident_id": 1,
         "date": 1,
         "state": 1,
         "city_or_county": 1,
         "address": 1,
         "n_killed": 1,
         "n_injured": 1,
         "incident_url": 1,
         "source_url": 1,
         "incident_url_fields_missing": 1,
         "congressional_district": 1,
         "gun_stolen": 1,
         "gun_type": 1,
         "incident_characteristics": 1,
         "latitude": 1,
         "location_description": 0,
         "longitude": 1,
         "n_guns_involved": 1,
         "notes": 1,
         "participant_age": 1,
         "participant_age_group": 1,
         "participant_name": 1,
         "participant_relationship": 1,
         "participant_status": 1,
         "participant_type": 1,
         "sources": 1,
         "state_house_district": 1,
         "state_senate_district": 1,
         "dotw": 1,
         "year": 1,
         "m/d": 1,
         "state_code": 1,
         "_deepnote_index_column": "0::Female||1::Female||2::Female||3::Female||4::Male||5::Female||6::Male||7::Male"
        },
        {
         "incident_id": 1,
         "date": 1,
         "state": 1,
         "city_or_county": 1,
         "address": 1,
         "n_killed": 1,
         "n_injured": 1,
         "incident_url": 1,
         "source_url": 1,
         "incident_url_fields_missing": 1,
         "congressional_district": 1,
         "gun_stolen": 1,
         "gun_type": 1,
         "incident_characteristics": 1,
         "latitude": 1,
         "location_description": 1,
         "longitude": 1,
         "n_guns_involved": 1,
         "notes": 1,
         "participant_age": 1,
         "participant_age_group": 1,
         "participant_name": 1,
         "participant_relationship": 0,
         "participant_status": 1,
         "participant_type": 1,
         "sources": 1,
         "state_house_district": 1,
         "state_senate_district": 1,
         "dotw": 1,
         "year": 1,
         "m/d": 1,
         "state_code": 1,
         "_deepnote_index_column": "0::Female||1::Female||2::Female||3::Female||4::Male||5::Female||6::Male||8::Female||9::Male||10::Male"
        }
       ],
       "rows_bottom": [
        {
         "incident_id": 4,
         "date": 4,
         "state": 4,
         "city_or_county": 4,
         "address": 3,
         "n_killed": 4,
         "n_injured": 4,
         "incident_url": 4,
         "source_url": 4,
         "incident_url_fields_missing": 4,
         "congressional_district": 4,
         "gun_stolen": 1,
         "gun_type": 1,
         "incident_characteristics": 4,
         "latitude": 4,
         "location_description": 1,
         "longitude": 4,
         "n_guns_involved": 1,
         "notes": 2,
         "participant_age": 2,
         "participant_age_group": 3,
         "participant_name": 3,
         "participant_relationship": 0,
         "participant_status": 4,
         "participant_type": 4,
         "sources": 4,
         "state_house_district": 3,
         "state_senate_district": 3,
         "dotw": 4,
         "year": 4,
         "m/d": 4,
         "state_code": 4,
         "_deepnote_index_column": "5::Male||6::Male"
        },
        {
         "incident_id": 2,
         "date": 2,
         "state": 2,
         "city_or_county": 2,
         "address": 1,
         "n_killed": 2,
         "n_injured": 2,
         "incident_url": 2,
         "source_url": 2,
         "incident_url_fields_missing": 2,
         "congressional_district": 2,
         "gun_stolen": 0,
         "gun_type": 0,
         "incident_characteristics": 2,
         "latitude": 2,
         "location_description": 0,
         "longitude": 2,
         "n_guns_involved": 0,
         "notes": 1,
         "participant_age": 1,
         "participant_age_group": 1,
         "participant_name": 1,
         "participant_relationship": 0,
         "participant_status": 2,
         "participant_type": 2,
         "sources": 2,
         "state_house_district": 2,
         "state_senate_district": 2,
         "dotw": 2,
         "year": 2,
         "m/d": 2,
         "state_code": 2,
         "_deepnote_index_column": "5::Male||6::Male||7::Male"
        },
        {
         "incident_id": 1,
         "date": 1,
         "state": 1,
         "city_or_county": 1,
         "address": 1,
         "n_killed": 1,
         "n_injured": 1,
         "incident_url": 1,
         "source_url": 1,
         "incident_url_fields_missing": 1,
         "congressional_district": 1,
         "gun_stolen": 0,
         "gun_type": 0,
         "incident_characteristics": 1,
         "latitude": 1,
         "location_description": 0,
         "longitude": 1,
         "n_guns_involved": 0,
         "notes": 0,
         "participant_age": 1,
         "participant_age_group": 1,
         "participant_name": 1,
         "participant_relationship": 0,
         "participant_status": 1,
         "participant_type": 1,
         "sources": 1,
         "state_house_district": 1,
         "state_senate_district": 1,
         "dotw": 1,
         "year": 1,
         "m/d": 1,
         "state_code": 1,
         "_deepnote_index_column": "5:Female"
        },
        {
         "incident_id": 1,
         "date": 1,
         "state": 1,
         "city_or_county": 1,
         "address": 1,
         "n_killed": 1,
         "n_injured": 1,
         "incident_url": 1,
         "source_url": 1,
         "incident_url_fields_missing": 1,
         "congressional_district": 1,
         "gun_stolen": 1,
         "gun_type": 1,
         "incident_characteristics": 1,
         "latitude": 1,
         "location_description": 0,
         "longitude": 1,
         "n_guns_involved": 1,
         "notes": 1,
         "participant_age": 1,
         "participant_age_group": 1,
         "participant_name": 1,
         "participant_relationship": 0,
         "participant_status": 1,
         "participant_type": 1,
         "sources": 1,
         "state_house_district": 1,
         "state_senate_district": 1,
         "dotw": 1,
         "year": 1,
         "m/d": 1,
         "state_code": 1,
         "_deepnote_index_column": "5:Male|6:Female|7:Male|8:Female|9:Female"
        },
        {
         "incident_id": 1,
         "date": 1,
         "state": 1,
         "city_or_county": 1,
         "address": 1,
         "n_killed": 1,
         "n_injured": 1,
         "incident_url": 1,
         "source_url": 1,
         "incident_url_fields_missing": 1,
         "congressional_district": 1,
         "gun_stolen": 0,
         "gun_type": 0,
         "incident_characteristics": 1,
         "latitude": 1,
         "location_description": 0,
         "longitude": 1,
         "n_guns_involved": 0,
         "notes": 1,
         "participant_age": 1,
         "participant_age_group": 1,
         "participant_name": 1,
         "participant_relationship": 0,
         "participant_status": 1,
         "participant_type": 1,
         "sources": 1,
         "state_house_district": 1,
         "state_senate_district": 1,
         "dotw": 1,
         "year": 1,
         "m/d": 1,
         "state_code": 1,
         "_deepnote_index_column": "5:Male|6:Male|7:Male"
        },
        {
         "incident_id": 2,
         "date": 2,
         "state": 2,
         "city_or_county": 2,
         "address": 2,
         "n_killed": 2,
         "n_injured": 2,
         "incident_url": 2,
         "source_url": 2,
         "incident_url_fields_missing": 2,
         "congressional_district": 2,
         "gun_stolen": 0,
         "gun_type": 0,
         "incident_characteristics": 2,
         "latitude": 2,
         "location_description": 0,
         "longitude": 2,
         "n_guns_involved": 0,
         "notes": 1,
         "participant_age": 1,
         "participant_age_group": 2,
         "participant_name": 2,
         "participant_relationship": 0,
         "participant_status": 2,
         "participant_type": 2,
         "sources": 2,
         "state_house_district": 2,
         "state_senate_district": 2,
         "dotw": 2,
         "year": 2,
         "m/d": 2,
         "state_code": 2,
         "_deepnote_index_column": "6::Male"
        },
        {
         "incident_id": 8,
         "date": 8,
         "state": 8,
         "city_or_county": 8,
         "address": 8,
         "n_killed": 8,
         "n_injured": 8,
         "incident_url": 8,
         "source_url": 8,
         "incident_url_fields_missing": 8,
         "congressional_district": 8,
         "gun_stolen": 4,
         "gun_type": 4,
         "incident_characteristics": 8,
         "latitude": 8,
         "location_description": 1,
         "longitude": 8,
         "n_guns_involved": 4,
         "notes": 4,
         "participant_age": 4,
         "participant_age_group": 8,
         "participant_name": 4,
         "participant_relationship": 1,
         "participant_status": 8,
         "participant_type": 8,
         "sources": 8,
         "state_house_district": 6,
         "state_senate_district": 7,
         "dotw": 8,
         "year": 8,
         "m/d": 8,
         "state_code": 8,
         "_deepnote_index_column": "6::Male||7::Male"
        },
        {
         "incident_id": 1,
         "date": 1,
         "state": 1,
         "city_or_county": 1,
         "address": 1,
         "n_killed": 1,
         "n_injured": 1,
         "incident_url": 1,
         "source_url": 1,
         "incident_url_fields_missing": 1,
         "congressional_district": 1,
         "gun_stolen": 0,
         "gun_type": 0,
         "incident_characteristics": 1,
         "latitude": 1,
         "location_description": 0,
         "longitude": 1,
         "n_guns_involved": 0,
         "notes": 1,
         "participant_age": 0,
         "participant_age_group": 1,
         "participant_name": 0,
         "participant_relationship": 0,
         "participant_status": 1,
         "participant_type": 1,
         "sources": 1,
         "state_house_district": 1,
         "state_senate_district": 1,
         "dotw": 1,
         "year": 1,
         "m/d": 1,
         "state_code": 1,
         "_deepnote_index_column": "6::Male||7::Male||8::Male||9::Male||10::Male"
        },
        {
         "incident_id": 1,
         "date": 1,
         "state": 1,
         "city_or_county": 1,
         "address": 1,
         "n_killed": 1,
         "n_injured": 1,
         "incident_url": 1,
         "source_url": 1,
         "incident_url_fields_missing": 1,
         "congressional_district": 1,
         "gun_stolen": 1,
         "gun_type": 1,
         "incident_characteristics": 1,
         "latitude": 1,
         "location_description": 1,
         "longitude": 1,
         "n_guns_involved": 1,
         "notes": 1,
         "participant_age": 1,
         "participant_age_group": 1,
         "participant_name": 1,
         "participant_relationship": 0,
         "participant_status": 1,
         "participant_type": 1,
         "sources": 1,
         "state_house_district": 1,
         "state_senate_district": 1,
         "dotw": 1,
         "year": 1,
         "m/d": 1,
         "state_code": 1,
         "_deepnote_index_column": "6::Male||7::Male||8::Male||9::Male||10::Male||11::Male||12::Male||13::Male"
        },
        {
         "incident_id": 3,
         "date": 3,
         "state": 3,
         "city_or_county": 3,
         "address": 3,
         "n_killed": 3,
         "n_injured": 3,
         "incident_url": 3,
         "source_url": 3,
         "incident_url_fields_missing": 3,
         "congressional_district": 3,
         "gun_stolen": 3,
         "gun_type": 3,
         "incident_characteristics": 3,
         "latitude": 3,
         "location_description": 0,
         "longitude": 3,
         "n_guns_involved": 3,
         "notes": 3,
         "participant_age": 2,
         "participant_age_group": 3,
         "participant_name": 2,
         "participant_relationship": 1,
         "participant_status": 3,
         "participant_type": 3,
         "sources": 3,
         "state_house_district": 3,
         "state_senate_district": 3,
         "dotw": 3,
         "year": 3,
         "m/d": 3,
         "state_code": 3,
         "_deepnote_index_column": "7::Male"
        },
        {
         "incident_id": 1,
         "date": 1,
         "state": 1,
         "city_or_county": 1,
         "address": 1,
         "n_killed": 1,
         "n_injured": 1,
         "incident_url": 1,
         "source_url": 1,
         "incident_url_fields_missing": 1,
         "congressional_district": 1,
         "gun_stolen": 0,
         "gun_type": 0,
         "incident_characteristics": 1,
         "latitude": 1,
         "location_description": 0,
         "longitude": 1,
         "n_guns_involved": 0,
         "notes": 0,
         "participant_age": 0,
         "participant_age_group": 1,
         "participant_name": 0,
         "participant_relationship": 0,
         "participant_status": 1,
         "participant_type": 1,
         "sources": 1,
         "state_house_district": 1,
         "state_senate_district": 1,
         "dotw": 1,
         "year": 1,
         "m/d": 1,
         "state_code": 1,
         "_deepnote_index_column": "7::Male||8::Male"
        },
        {
         "incident_id": 1,
         "date": 1,
         "state": 1,
         "city_or_county": 1,
         "address": 1,
         "n_killed": 1,
         "n_injured": 1,
         "incident_url": 1,
         "source_url": 1,
         "incident_url_fields_missing": 1,
         "congressional_district": 1,
         "gun_stolen": 0,
         "gun_type": 0,
         "incident_characteristics": 1,
         "latitude": 1,
         "location_description": 0,
         "longitude": 1,
         "n_guns_involved": 0,
         "notes": 0,
         "participant_age": 0,
         "participant_age_group": 1,
         "participant_name": 0,
         "participant_relationship": 0,
         "participant_status": 1,
         "participant_type": 1,
         "sources": 1,
         "state_house_district": 0,
         "state_senate_district": 0,
         "dotw": 1,
         "year": 1,
         "m/d": 1,
         "state_code": 1,
         "_deepnote_index_column": "7::Male||8::Male||9::Male||10::Male||11::Male"
        },
        {
         "incident_id": 1,
         "date": 1,
         "state": 1,
         "city_or_county": 1,
         "address": 0,
         "n_killed": 1,
         "n_injured": 1,
         "incident_url": 1,
         "source_url": 1,
         "incident_url_fields_missing": 1,
         "congressional_district": 1,
         "gun_stolen": 1,
         "gun_type": 1,
         "incident_characteristics": 1,
         "latitude": 1,
         "location_description": 0,
         "longitude": 1,
         "n_guns_involved": 1,
         "notes": 0,
         "participant_age": 1,
         "participant_age_group": 1,
         "participant_name": 1,
         "participant_relationship": 0,
         "participant_status": 1,
         "participant_type": 1,
         "sources": 1,
         "state_house_district": 0,
         "state_senate_district": 0,
         "dotw": 1,
         "year": 1,
         "m/d": 1,
         "state_code": 1,
         "_deepnote_index_column": "8::Female||13::Male||15::Female"
        },
        {
         "incident_id": 2,
         "date": 2,
         "state": 2,
         "city_or_county": 2,
         "address": 2,
         "n_killed": 2,
         "n_injured": 2,
         "incident_url": 2,
         "source_url": 2,
         "incident_url_fields_missing": 2,
         "congressional_district": 2,
         "gun_stolen": 1,
         "gun_type": 1,
         "incident_characteristics": 2,
         "latitude": 2,
         "location_description": 1,
         "longitude": 2,
         "n_guns_involved": 1,
         "notes": 1,
         "participant_age": 2,
         "participant_age_group": 2,
         "participant_name": 2,
         "participant_relationship": 0,
         "participant_status": 2,
         "participant_type": 2,
         "sources": 2,
         "state_house_district": 2,
         "state_senate_district": 2,
         "dotw": 2,
         "year": 2,
         "m/d": 2,
         "state_code": 2,
         "_deepnote_index_column": "8::Male"
        },
        {
         "incident_id": 1,
         "date": 1,
         "state": 1,
         "city_or_county": 1,
         "address": 1,
         "n_killed": 1,
         "n_injured": 1,
         "incident_url": 1,
         "source_url": 1,
         "incident_url_fields_missing": 1,
         "congressional_district": 1,
         "gun_stolen": 0,
         "gun_type": 0,
         "incident_characteristics": 1,
         "latitude": 1,
         "location_description": 0,
         "longitude": 1,
         "n_guns_involved": 0,
         "notes": 1,
         "participant_age": 1,
         "participant_age_group": 1,
         "participant_name": 1,
         "participant_relationship": 0,
         "participant_status": 1,
         "participant_type": 1,
         "sources": 1,
         "state_house_district": 1,
         "state_senate_district": 1,
         "dotw": 1,
         "year": 1,
         "m/d": 1,
         "state_code": 1,
         "_deepnote_index_column": "8::Male||9::Male||10::Male"
        },
        {
         "incident_id": 1,
         "date": 1,
         "state": 1,
         "city_or_county": 1,
         "address": 1,
         "n_killed": 1,
         "n_injured": 1,
         "incident_url": 1,
         "source_url": 1,
         "incident_url_fields_missing": 1,
         "congressional_district": 1,
         "gun_stolen": 1,
         "gun_type": 1,
         "incident_characteristics": 1,
         "latitude": 1,
         "location_description": 0,
         "longitude": 1,
         "n_guns_involved": 1,
         "notes": 0,
         "participant_age": 0,
         "participant_age_group": 1,
         "participant_name": 0,
         "participant_relationship": 1,
         "participant_status": 1,
         "participant_type": 1,
         "sources": 1,
         "state_house_district": 1,
         "state_senate_district": 1,
         "dotw": 1,
         "year": 1,
         "m/d": 1,
         "state_code": 1,
         "_deepnote_index_column": "8::Male||9::Male||10::Male||11::Male"
        }
       ]
      },
      "text/plain": "                                                    incident_id  date  state  \\\nparticipant_gender                                                             \n0::Female                                                  7312  7312   7312   \n0::Female||1::Female                                        875   875    875   \n0::Female||1::Female||2::Female                              99    99     99   \n0::Female||1::Female||2::Female||3::Female                   12    12     12   \n0::Female||1::Female||2::Female||3::Female||4::...            3     3      3   \n...                                                         ...   ...    ...   \n7::Male||8::Male||9::Male||10::Male||11::Male                 1     1      1   \n8::Female||13::Male||15::Female                               1     1      1   \n8::Male                                                       2     2      2   \n8::Male||9::Male||10::Male                                    1     1      1   \n8::Male||9::Male||10::Male||11::Male                          1     1      1   \n\n                                                    city_or_county  address  \\\nparticipant_gender                                                            \n0::Female                                                     7312     6719   \n0::Female||1::Female                                           875      819   \n0::Female||1::Female||2::Female                                 99       93   \n0::Female||1::Female||2::Female||3::Female                      12       11   \n0::Female||1::Female||2::Female||3::Female||4::...               3        2   \n...                                                            ...      ...   \n7::Male||8::Male||9::Male||10::Male||11::Male                    1        1   \n8::Female||13::Male||15::Female                                  1        0   \n8::Male                                                          2        2   \n8::Male||9::Male||10::Male                                       1        1   \n8::Male||9::Male||10::Male||11::Male                             1        1   \n\n                                                    n_killed  n_injured  \\\nparticipant_gender                                                        \n0::Female                                               7312       7312   \n0::Female||1::Female                                     875        875   \n0::Female||1::Female||2::Female                           99         99   \n0::Female||1::Female||2::Female||3::Female                12         12   \n0::Female||1::Female||2::Female||3::Female||4::...         3          3   \n...                                                      ...        ...   \n7::Male||8::Male||9::Male||10::Male||11::Male              1          1   \n8::Female||13::Male||15::Female                            1          1   \n8::Male                                                    2          2   \n8::Male||9::Male||10::Male                                 1          1   \n8::Male||9::Male||10::Male||11::Male                       1          1   \n\n                                                    incident_url  source_url  \\\nparticipant_gender                                                             \n0::Female                                                   7312        7300   \n0::Female||1::Female                                         875         874   \n0::Female||1::Female||2::Female                               99          99   \n0::Female||1::Female||2::Female||3::Female                    12          12   \n0::Female||1::Female||2::Female||3::Female||4::...             3           3   \n...                                                          ...         ...   \n7::Male||8::Male||9::Male||10::Male||11::Male                  1           1   \n8::Female||13::Male||15::Female                                1           1   \n8::Male                                                        2           2   \n8::Male||9::Male||10::Male                                     1           1   \n8::Male||9::Male||10::Male||11::Male                           1           1   \n\n                                                    incident_url_fields_missing  \\\nparticipant_gender                                                                \n0::Female                                                                  7312   \n0::Female||1::Female                                                        875   \n0::Female||1::Female||2::Female                                              99   \n0::Female||1::Female||2::Female||3::Female                                   12   \n0::Female||1::Female||2::Female||3::Female||4::...                            3   \n...                                                                         ...   \n7::Male||8::Male||9::Male||10::Male||11::Male                                 1   \n8::Female||13::Male||15::Female                                               1   \n8::Male                                                                       2   \n8::Male||9::Male||10::Male                                                    1   \n8::Male||9::Male||10::Male||11::Male                                          1   \n\n                                                    ...  \\\nparticipant_gender                                  ...   \n0::Female                                           ...   \n0::Female||1::Female                                ...   \n0::Female||1::Female||2::Female                     ...   \n0::Female||1::Female||2::Female||3::Female          ...   \n0::Female||1::Female||2::Female||3::Female||4::...  ...   \n...                                                 ...   \n7::Male||8::Male||9::Male||10::Male||11::Male       ...   \n8::Female||13::Male||15::Female                     ...   \n8::Male                                             ...   \n8::Male||9::Male||10::Male                          ...   \n8::Male||9::Male||10::Male||11::Male                ...   \n\n                                                    participant_relationship  \\\nparticipant_gender                                                             \n0::Female                                                                142   \n0::Female||1::Female                                                     133   \n0::Female||1::Female||2::Female                                           13   \n0::Female||1::Female||2::Female||3::Female                                 0   \n0::Female||1::Female||2::Female||3::Female||4::...                         2   \n...                                                                      ...   \n7::Male||8::Male||9::Male||10::Male||11::Male                              0   \n8::Female||13::Male||15::Female                                            0   \n8::Male                                                                    0   \n8::Male||9::Male||10::Male                                                 0   \n8::Male||9::Male||10::Male||11::Male                                       1   \n\n                                                    participant_status  \\\nparticipant_gender                                                       \n0::Female                                                         7285   \n0::Female||1::Female                                               871   \n0::Female||1::Female||2::Female                                     99   \n0::Female||1::Female||2::Female||3::Female                          12   \n0::Female||1::Female||2::Female||3::Female||4::...                   3   \n...                                                                ...   \n7::Male||8::Male||9::Male||10::Male||11::Male                        1   \n8::Female||13::Male||15::Female                                      1   \n8::Male                                                              2   \n8::Male||9::Male||10::Male                                           1   \n8::Male||9::Male||10::Male||11::Male                                 1   \n\n                                                    participant_type  sources  \\\nparticipant_gender                                                              \n0::Female                                                       7312     7303   \n0::Female||1::Female                                             875      875   \n0::Female||1::Female||2::Female                                   99       99   \n0::Female||1::Female||2::Female||3::Female                        12       12   \n0::Female||1::Female||2::Female||3::Female||4::...                 3        3   \n...                                                              ...      ...   \n7::Male||8::Male||9::Male||10::Male||11::Male                      1        1   \n8::Female||13::Male||15::Female                                    1        1   \n8::Male                                                            2        2   \n8::Male||9::Male||10::Male                                         1        1   \n8::Male||9::Male||10::Male||11::Male                               1        1   \n\n                                                    state_house_district  \\\nparticipant_gender                                                         \n0::Female                                                           6324   \n0::Female||1::Female                                                 768   \n0::Female||1::Female||2::Female                                       82   \n0::Female||1::Female||2::Female||3::Female                             8   \n0::Female||1::Female||2::Female||3::Female||4::...                     2   \n...                                                                  ...   \n7::Male||8::Male||9::Male||10::Male||11::Male                          0   \n8::Female||13::Male||15::Female                                        0   \n8::Male                                                                2   \n8::Male||9::Male||10::Male                                             1   \n8::Male||9::Male||10::Male||11::Male                                   1   \n\n                                                    state_senate_district  \\\nparticipant_gender                                                          \n0::Female                                                            6507   \n0::Female||1::Female                                                  790   \n0::Female||1::Female||2::Female                                        88   \n0::Female||1::Female||2::Female||3::Female                              8   \n0::Female||1::Female||2::Female||3::Female||4::...                      2   \n...                                                                   ...   \n7::Male||8::Male||9::Male||10::Male||11::Male                           0   \n8::Female||13::Male||15::Female                                         0   \n8::Male                                                                 2   \n8::Male||9::Male||10::Male                                              1   \n8::Male||9::Male||10::Male||11::Male                                    1   \n\n                                                    dotw  year   m/d  \\\nparticipant_gender                                                     \n0::Female                                           7312  7312  7312   \n0::Female||1::Female                                 875   875   875   \n0::Female||1::Female||2::Female                       99    99    99   \n0::Female||1::Female||2::Female||3::Female            12    12    12   \n0::Female||1::Female||2::Female||3::Female||4::...     3     3     3   \n...                                                  ...   ...   ...   \n7::Male||8::Male||9::Male||10::Male||11::Male          1     1     1   \n8::Female||13::Male||15::Female                        1     1     1   \n8::Male                                                2     2     2   \n8::Male||9::Male||10::Male                             1     1     1   \n8::Male||9::Male||10::Male||11::Male                   1     1     1   \n\n                                                    state_code  \nparticipant_gender                                              \n0::Female                                                 7312  \n0::Female||1::Female                                       875  \n0::Female||1::Female||2::Female                             99  \n0::Female||1::Female||2::Female||3::Female                  12  \n0::Female||1::Female||2::Female||3::Female||4::...           3  \n...                                                        ...  \n7::Male||8::Male||9::Male||10::Male||11::Male                1  \n8::Female||13::Male||15::Female                              1  \n8::Male                                                      2  \n8::Male||9::Male||10::Male                                   1  \n8::Male||9::Male||10::Male||11::Male                         1  \n\n[835 rows x 32 columns]",
      "text/html": "<div>\n<style scoped>\n    .dataframe tbody tr th:only-of-type {\n        vertical-align: middle;\n    }\n\n    .dataframe tbody tr th {\n        vertical-align: top;\n    }\n\n    .dataframe thead th {\n        text-align: right;\n    }\n</style>\n<table border=\"1\" class=\"dataframe\">\n  <thead>\n    <tr style=\"text-align: right;\">\n      <th></th>\n      <th>incident_id</th>\n      <th>date</th>\n      <th>state</th>\n      <th>city_or_county</th>\n      <th>address</th>\n      <th>n_killed</th>\n      <th>n_injured</th>\n      <th>incident_url</th>\n      <th>source_url</th>\n      <th>incident_url_fields_missing</th>\n      <th>...</th>\n      <th>participant_relationship</th>\n      <th>participant_status</th>\n      <th>participant_type</th>\n      <th>sources</th>\n      <th>state_house_district</th>\n      <th>state_senate_district</th>\n      <th>dotw</th>\n      <th>year</th>\n      <th>m/d</th>\n      <th>state_code</th>\n    </tr>\n    <tr>\n      <th>participant_gender</th>\n      <th></th>\n      <th></th>\n      <th></th>\n      <th></th>\n      <th></th>\n      <th></th>\n      <th></th>\n      <th></th>\n      <th></th>\n      <th></th>\n      <th></th>\n      <th></th>\n      <th></th>\n      <th></th>\n      <th></th>\n      <th></th>\n      <th></th>\n      <th></th>\n      <th></th>\n      <th></th>\n      <th></th>\n    </tr>\n  </thead>\n  <tbody>\n    <tr>\n      <th>0::Female</th>\n      <td>7312</td>\n      <td>7312</td>\n      <td>7312</td>\n      <td>7312</td>\n      <td>6719</td>\n      <td>7312</td>\n      <td>7312</td>\n      <td>7312</td>\n      <td>7300</td>\n      <td>7312</td>\n      <td>...</td>\n      <td>142</td>\n      <td>7285</td>\n      <td>7312</td>\n      <td>7303</td>\n      <td>6324</td>\n      <td>6507</td>\n      <td>7312</td>\n      <td>7312</td>\n      <td>7312</td>\n      <td>7312</td>\n    </tr>\n    <tr>\n      <th>0::Female||1::Female</th>\n      <td>875</td>\n      <td>875</td>\n      <td>875</td>\n      <td>875</td>\n      <td>819</td>\n      <td>875</td>\n      <td>875</td>\n      <td>875</td>\n      <td>874</td>\n      <td>875</td>\n      <td>...</td>\n      <td>133</td>\n      <td>871</td>\n      <td>875</td>\n      <td>875</td>\n      <td>768</td>\n      <td>790</td>\n      <td>875</td>\n      <td>875</td>\n      <td>875</td>\n      <td>875</td>\n    </tr>\n    <tr>\n      <th>0::Female||1::Female||2::Female</th>\n      <td>99</td>\n      <td>99</td>\n      <td>99</td>\n      <td>99</td>\n      <td>93</td>\n      <td>99</td>\n      <td>99</td>\n      <td>99</td>\n      <td>99</td>\n      <td>99</td>\n      <td>...</td>\n      <td>13</td>\n      <td>99</td>\n      <td>99</td>\n      <td>99</td>\n      <td>82</td>\n      <td>88</td>\n      <td>99</td>\n      <td>99</td>\n      <td>99</td>\n      <td>99</td>\n    </tr>\n    <tr>\n      <th>0::Female||1::Female||2::Female||3::Female</th>\n      <td>12</td>\n      <td>12</td>\n      <td>12</td>\n      <td>12</td>\n      <td>11</td>\n      <td>12</td>\n      <td>12</td>\n      <td>12</td>\n      <td>12</td>\n      <td>12</td>\n      <td>...</td>\n      <td>0</td>\n      <td>12</td>\n      <td>12</td>\n      <td>12</td>\n      <td>8</td>\n      <td>8</td>\n      <td>12</td>\n      <td>12</td>\n      <td>12</td>\n      <td>12</td>\n    </tr>\n    <tr>\n      <th>0::Female||1::Female||2::Female||3::Female||4::Female</th>\n      <td>3</td>\n      <td>3</td>\n      <td>3</td>\n      <td>3</td>\n      <td>2</td>\n      <td>3</td>\n      <td>3</td>\n      <td>3</td>\n      <td>3</td>\n      <td>3</td>\n      <td>...</td>\n      <td>2</td>\n      <td>3</td>\n      <td>3</td>\n      <td>3</td>\n      <td>2</td>\n      <td>2</td>\n      <td>3</td>\n      <td>3</td>\n      <td>3</td>\n      <td>3</td>\n    </tr>\n    <tr>\n      <th>...</th>\n      <td>...</td>\n      <td>...</td>\n      <td>...</td>\n      <td>...</td>\n      <td>...</td>\n      <td>...</td>\n      <td>...</td>\n      <td>...</td>\n      <td>...</td>\n      <td>...</td>\n      <td>...</td>\n      <td>...</td>\n      <td>...</td>\n      <td>...</td>\n      <td>...</td>\n      <td>...</td>\n      <td>...</td>\n      <td>...</td>\n      <td>...</td>\n      <td>...</td>\n      <td>...</td>\n    </tr>\n    <tr>\n      <th>7::Male||8::Male||9::Male||10::Male||11::Male</th>\n      <td>1</td>\n      <td>1</td>\n      <td>1</td>\n      <td>1</td>\n      <td>1</td>\n      <td>1</td>\n      <td>1</td>\n      <td>1</td>\n      <td>1</td>\n      <td>1</td>\n      <td>...</td>\n      <td>0</td>\n      <td>1</td>\n      <td>1</td>\n      <td>1</td>\n      <td>0</td>\n      <td>0</td>\n      <td>1</td>\n      <td>1</td>\n      <td>1</td>\n      <td>1</td>\n    </tr>\n    <tr>\n      <th>8::Female||13::Male||15::Female</th>\n      <td>1</td>\n      <td>1</td>\n      <td>1</td>\n      <td>1</td>\n      <td>0</td>\n      <td>1</td>\n      <td>1</td>\n      <td>1</td>\n      <td>1</td>\n      <td>1</td>\n      <td>...</td>\n      <td>0</td>\n      <td>1</td>\n      <td>1</td>\n      <td>1</td>\n      <td>0</td>\n      <td>0</td>\n      <td>1</td>\n      <td>1</td>\n      <td>1</td>\n      <td>1</td>\n    </tr>\n    <tr>\n      <th>8::Male</th>\n      <td>2</td>\n      <td>2</td>\n      <td>2</td>\n      <td>2</td>\n      <td>2</td>\n      <td>2</td>\n      <td>2</td>\n      <td>2</td>\n      <td>2</td>\n      <td>2</td>\n      <td>...</td>\n      <td>0</td>\n      <td>2</td>\n      <td>2</td>\n      <td>2</td>\n      <td>2</td>\n      <td>2</td>\n      <td>2</td>\n      <td>2</td>\n      <td>2</td>\n      <td>2</td>\n    </tr>\n    <tr>\n      <th>8::Male||9::Male||10::Male</th>\n      <td>1</td>\n      <td>1</td>\n      <td>1</td>\n      <td>1</td>\n      <td>1</td>\n      <td>1</td>\n      <td>1</td>\n      <td>1</td>\n      <td>1</td>\n      <td>1</td>\n      <td>...</td>\n      <td>0</td>\n      <td>1</td>\n      <td>1</td>\n      <td>1</td>\n      <td>1</td>\n      <td>1</td>\n      <td>1</td>\n      <td>1</td>\n      <td>1</td>\n      <td>1</td>\n    </tr>\n    <tr>\n      <th>8::Male||9::Male||10::Male||11::Male</th>\n      <td>1</td>\n      <td>1</td>\n      <td>1</td>\n      <td>1</td>\n      <td>1</td>\n      <td>1</td>\n      <td>1</td>\n      <td>1</td>\n      <td>1</td>\n      <td>1</td>\n      <td>...</td>\n      <td>1</td>\n      <td>1</td>\n      <td>1</td>\n      <td>1</td>\n      <td>1</td>\n      <td>1</td>\n      <td>1</td>\n      <td>1</td>\n      <td>1</td>\n      <td>1</td>\n    </tr>\n  </tbody>\n</table>\n<p>835 rows × 32 columns</p>\n</div>"
     },
     "metadata": {}
    }
   ],
   "execution_count": 20
  },
  {
   "cell_type": "code",
   "metadata": {
    "tags": [],
    "cell_id": "00028-88f7df71-63e6-42f5-9af2-07e12b4224ba",
    "deepnote_to_be_reexecuted": false,
    "source_hash": "5296ead0",
    "execution_start": 1622029993263,
    "execution_millis": 478,
    "deepnote_cell_type": "code"
   },
   "source": "df=df.dropna(subset=['participant_gender'])\n#need to drop nans for apply to work\ndef count_male(string):\n    t=string.count('Male')\n    return t\n\ndef count_female(string):\n    t=string.count('Female')\n    return t\n\n\ndf['male_participants']=df['participant_gender'].apply(count_male)\ndf['female_participants']=df['participant_gender'].apply(count_female)\n#I think this is throwing the error because its a string function, \n#but I'll just suppress those in the final version since nothing too funky is actually happening and it seems to work fine\nnum_female=df['female_participants'].sum()\nnum_male=df['male_participants'].sum()\nplt.pie([num_male,num_female],labels=['Male','Female'])",
   "execution_count": 21,
   "outputs": [
    {
     "name": "stderr",
     "text": "/shared-libs/python3.7/py-core/lib/python3.7/site-packages/ipykernel_launcher.py:12: SettingWithCopyWarning:\n\n\nA value is trying to be set on a copy of a slice from a DataFrame.\nTry using .loc[row_indexer,col_indexer] = value instead\n\nSee the caveats in the documentation: https://pandas.pydata.org/pandas-docs/stable/user_guide/indexing.html#returning-a-view-versus-a-copy\n\n/shared-libs/python3.7/py-core/lib/python3.7/site-packages/ipykernel_launcher.py:13: SettingWithCopyWarning:\n\n\nA value is trying to be set on a copy of a slice from a DataFrame.\nTry using .loc[row_indexer,col_indexer] = value instead\n\nSee the caveats in the documentation: https://pandas.pydata.org/pandas-docs/stable/user_guide/indexing.html#returning-a-view-versus-a-copy\n\n",
     "output_type": "stream"
    },
    {
     "output_type": "execute_result",
     "execution_count": 21,
     "data": {
      "text/plain": "([<matplotlib.patches.Wedge at 0x7f56f4eac150>,\n  <matplotlib.patches.Wedge at 0x7f56f4eac390>],\n [Text(-1.019817466479084, 0.41227701253427024, 'Male'),\n  Text(1.0198174761291234, -0.4122769886637199, 'Female')])"
     },
     "metadata": {}
    },
    {
     "data": {
      "text/plain": "<Figure size 432x288 with 1 Axes>",
      "image/png": "[encoded data removed]"
     },
     "metadata": {
      "image/png": {
       "width": 251,
       "height": 231
      }
     },
     "output_type": "display_data"
    }
   ]
  },
  {
   "cell_type": "markdown",
   "source": "Massive difference, research why?",
   "metadata": {
    "tags": [],
    "cell_id": "00029-f8a8f975-1b9d-4307-ab5c-16bed426c039",
    "deepnote_cell_type": "markdown"
   }
  },
  {
   "cell_type": "code",
   "source": "df=mdf\ndf.groupby('participant_age').count()\n#super weird inconsistent formatting",
   "metadata": {
    "tags": [],
    "cell_id": "00031-d4d2f373-9767-46f4-9dbf-03c39ac9ad32",
    "deepnote_to_be_reexecuted": false,
    "source_hash": "5cd250ea",
    "execution_start": 1622029993742,
    "execution_millis": 660,
    "deepnote_cell_type": "code"
   },
   "outputs": [
    {
     "output_type": "execute_result",
     "execution_count": 22,
     "data": {
      "application/vnd.deepnote.dataframe.v2+json": {
       "row_count": 18076,
       "column_count": 32,
       "columns": [
        {
         "name": "incident_id",
         "dtype": "int64",
         "stats": {
          "unique_count": 205,
          "nan_count": 0,
          "min": "1",
          "max": "3609",
          "histogram": [
           {
            "bin_start": 1,
            "bin_end": 361.8,
            "count": 18023
           },
           {
            "bin_start": 361.8,
            "bin_end": 722.6,
            "count": 22
           },
           {
            "bin_start": 722.6,
            "bin_end": 1083.4,
            "count": 5
           },
           {
            "bin_start": 1083.4,
            "bin_end": 1444.2,
            "count": 4
           },
           {
            "bin_start": 1444.2,
            "bin_end": 1805,
            "count": 4
           },
           {
            "bin_start": 1805,
            "bin_end": 2165.8,
            "count": 4
           },
           {
            "bin_start": 2165.8,
            "bin_end": 2526.6,
            "count": 3
           },
           {
            "bin_start": 2526.6,
            "bin_end": 2887.4,
            "count": 1
           },
           {
            "bin_start": 2887.4,
            "bin_end": 3248.2000000000003,
            "count": 2
           },
           {
            "bin_start": 3248.2000000000003,
            "bin_end": 3609,
            "count": 8
           }
          ]
         }
        },
        {
         "name": "date",
         "dtype": "int64",
         "stats": {
          "unique_count": 205,
          "nan_count": 0,
          "min": "1",
          "max": "3609",
          "histogram": [
           {
            "bin_start": 1,
            "bin_end": 361.8,
            "count": 18023
           },
           {
            "bin_start": 361.8,
            "bin_end": 722.6,
            "count": 22
           },
           {
            "bin_start": 722.6,
            "bin_end": 1083.4,
            "count": 5
           },
           {
            "bin_start": 1083.4,
            "bin_end": 1444.2,
            "count": 4
           },
           {
            "bin_start": 1444.2,
            "bin_end": 1805,
            "count": 4
           },
           {
            "bin_start": 1805,
            "bin_end": 2165.8,
            "count": 4
           },
           {
            "bin_start": 2165.8,
            "bin_end": 2526.6,
            "count": 3
           },
           {
            "bin_start": 2526.6,
            "bin_end": 2887.4,
            "count": 1
           },
           {
            "bin_start": 2887.4,
            "bin_end": 3248.2000000000003,
            "count": 2
           },
           {
            "bin_start": 3248.2000000000003,
            "bin_end": 3609,
            "count": 8
           }
          ]
         }
        },
        {
         "name": "state",
         "dtype": "int64",
         "stats": {
          "unique_count": 205,
          "nan_count": 0,
          "min": "1",
          "max": "3609",
          "histogram": [
           {
            "bin_start": 1,
            "bin_end": 361.8,
            "count": 18023
           },
           {
            "bin_start": 361.8,
            "bin_end": 722.6,
            "count": 22
           },
           {
            "bin_start": 722.6,
            "bin_end": 1083.4,
            "count": 5
           },
           {
            "bin_start": 1083.4,
            "bin_end": 1444.2,
            "count": 4
           },
           {
            "bin_start": 1444.2,
            "bin_end": 1805,
            "count": 4
           },
           {
            "bin_start": 1805,
            "bin_end": 2165.8,
            "count": 4
           },
           {
            "bin_start": 2165.8,
            "bin_end": 2526.6,
            "count": 3
           },
           {
            "bin_start": 2526.6,
            "bin_end": 2887.4,
            "count": 1
           },
           {
            "bin_start": 2887.4,
            "bin_end": 3248.2000000000003,
            "count": 2
           },
           {
            "bin_start": 3248.2000000000003,
            "bin_end": 3609,
            "count": 8
           }
          ]
         }
        },
        {
         "name": "city_or_county",
         "dtype": "int64",
         "stats": {
          "unique_count": 205,
          "nan_count": 0,
          "min": "1",
          "max": "3609",
          "histogram": [
           {
            "bin_start": 1,
            "bin_end": 361.8,
            "count": 18023
           },
           {
            "bin_start": 361.8,
            "bin_end": 722.6,
            "count": 22
           },
           {
            "bin_start": 722.6,
            "bin_end": 1083.4,
            "count": 5
           },
           {
            "bin_start": 1083.4,
            "bin_end": 1444.2,
            "count": 4
           },
           {
            "bin_start": 1444.2,
            "bin_end": 1805,
            "count": 4
           },
           {
            "bin_start": 1805,
            "bin_end": 2165.8,
            "count": 4
           },
           {
            "bin_start": 2165.8,
            "bin_end": 2526.6,
            "count": 3
           },
           {
            "bin_start": 2526.6,
            "bin_end": 2887.4,
            "count": 1
           },
           {
            "bin_start": 2887.4,
            "bin_end": 3248.2000000000003,
            "count": 2
           },
           {
            "bin_start": 3248.2000000000003,
            "bin_end": 3609,
            "count": 8
           }
          ]
         }
        },
        {
         "name": "address",
         "dtype": "int64",
         "stats": {
          "unique_count": 198,
          "nan_count": 0,
          "min": "0",
          "max": "3349",
          "histogram": [
           {
            "bin_start": 0,
            "bin_end": 334.9,
            "count": 18024
           },
           {
            "bin_start": 334.9,
            "bin_end": 669.8,
            "count": 21
           },
           {
            "bin_start": 669.8,
            "bin_end": 1004.6999999999999,
            "count": 6
           },
           {
            "bin_start": 1004.6999999999999,
            "bin_end": 1339.6,
            "count": 5
           },
           {
            "bin_start": 1339.6,
            "bin_end": 1674.5,
            "count": 3
           },
           {
            "bin_start": 1674.5,
            "bin_end": 2009.3999999999999,
            "count": 3
           },
           {
            "bin_start": 2009.3999999999999,
            "bin_end": 2344.2999999999997,
            "count": 3
           },
           {
            "bin_start": 2344.2999999999997,
            "bin_end": 2679.2,
            "count": 2
           },
           {
            "bin_start": 2679.2,
            "bin_end": 3014.1,
            "count": 1
           },
           {
            "bin_start": 3014.1,
            "bin_end": 3349,
            "count": 8
           }
          ]
         }
        },
        {
         "name": "n_killed",
         "dtype": "int64"
        },
        {
         "name": "n_injured",
         "dtype": "int64"
        },
        {
         "name": "incident_url",
         "dtype": "int64"
        },
        {
         "name": "source_url",
         "dtype": "int64"
        },
        {
         "name": "incident_url_fields_missing",
         "dtype": "int64"
        },
        {
         "name": "congressional_district",
         "dtype": "int64"
        },
        {
         "name": "gun_stolen",
         "dtype": "int64"
        },
        {
         "name": "gun_type",
         "dtype": "int64"
        },
        {
         "name": "incident_characteristics",
         "dtype": "int64"
        },
        {
         "name": "latitude",
         "dtype": "int64"
        },
        {
         "name": "location_description",
         "dtype": "int64"
        },
        {
         "name": "longitude",
         "dtype": "int64"
        },
        {
         "name": "n_guns_involved",
         "dtype": "int64"
        },
        {
         "name": "notes",
         "dtype": "int64"
        },
        {
         "name": "participant_age_group",
         "dtype": "int64"
        },
        {
         "name": "participant_gender",
         "dtype": "int64"
        },
        {
         "name": "participant_name",
         "dtype": "int64"
        },
        {
         "name": "participant_relationship",
         "dtype": "int64"
        },
        {
         "name": "participant_status",
         "dtype": "int64"
        },
        {
         "name": "participant_type",
         "dtype": "int64"
        },
        {
         "name": "sources",
         "dtype": "int64"
        },
        {
         "name": "state_house_district",
         "dtype": "int64"
        },
        {
         "name": "state_senate_district",
         "dtype": "int64"
        },
        {
         "name": "dotw",
         "dtype": "int64"
        },
        {
         "name": "year",
         "dtype": "int64"
        },
        {
         "name": "m/d",
         "dtype": "int64"
        },
        {
         "name": "state_code",
         "dtype": "int64"
        },
        {
         "name": "_deepnote_index_column",
         "dtype": "object"
        }
       ],
       "rows_top": [
        {
         "incident_id": 1,
         "date": 1,
         "state": 1,
         "city_or_county": 1,
         "address": 1,
         "n_killed": 1,
         "n_injured": 1,
         "incident_url": 1,
         "source_url": 1,
         "incident_url_fields_missing": 1,
         "congressional_district": 1,
         "gun_stolen": 0,
         "gun_type": 0,
         "incident_characteristics": 1,
         "latitude": 1,
         "location_description": 0,
         "longitude": 1,
         "n_guns_involved": 0,
         "notes": 0,
         "participant_age_group": 1,
         "participant_gender": 1,
         "participant_name": 0,
         "participant_relationship": 0,
         "participant_status": 1,
         "participant_type": 1,
         "sources": 1,
         "state_house_district": 1,
         "state_senate_district": 1,
         "dotw": 1,
         "year": 1,
         "m/d": 1,
         "state_code": 1,
         "_deepnote_index_column": "0:1"
        },
        {
         "incident_id": 2,
         "date": 2,
         "state": 2,
         "city_or_county": 2,
         "address": 1,
         "n_killed": 2,
         "n_injured": 2,
         "incident_url": 2,
         "source_url": 2,
         "incident_url_fields_missing": 2,
         "congressional_district": 2,
         "gun_stolen": 0,
         "gun_type": 0,
         "incident_characteristics": 2,
         "latitude": 2,
         "location_description": 0,
         "longitude": 2,
         "n_guns_involved": 0,
         "notes": 1,
         "participant_age_group": 2,
         "participant_gender": 2,
         "participant_name": 0,
         "participant_relationship": 0,
         "participant_status": 2,
         "participant_type": 2,
         "sources": 2,
         "state_house_district": 2,
         "state_senate_district": 2,
         "dotw": 2,
         "year": 2,
         "m/d": 2,
         "state_code": 2,
         "_deepnote_index_column": "0:10"
        },
        {
         "incident_id": 1,
         "date": 1,
         "state": 1,
         "city_or_county": 1,
         "address": 1,
         "n_killed": 1,
         "n_injured": 1,
         "incident_url": 1,
         "source_url": 1,
         "incident_url_fields_missing": 1,
         "congressional_district": 1,
         "gun_stolen": 0,
         "gun_type": 0,
         "incident_characteristics": 1,
         "latitude": 1,
         "location_description": 0,
         "longitude": 1,
         "n_guns_involved": 0,
         "notes": 0,
         "participant_age_group": 1,
         "participant_gender": 1,
         "participant_name": 1,
         "participant_relationship": 0,
         "participant_status": 1,
         "participant_type": 1,
         "sources": 1,
         "state_house_district": 1,
         "state_senate_district": 1,
         "dotw": 1,
         "year": 1,
         "m/d": 1,
         "state_code": 1,
         "_deepnote_index_column": "0:11"
        },
        {
         "incident_id": 1,
         "date": 1,
         "state": 1,
         "city_or_county": 1,
         "address": 1,
         "n_killed": 1,
         "n_injured": 1,
         "incident_url": 1,
         "source_url": 1,
         "incident_url_fields_missing": 1,
         "congressional_district": 1,
         "gun_stolen": 0,
         "gun_type": 0,
         "incident_characteristics": 1,
         "latitude": 1,
         "location_description": 0,
         "longitude": 1,
         "n_guns_involved": 0,
         "notes": 1,
         "participant_age_group": 1,
         "participant_gender": 0,
         "participant_name": 0,
         "participant_relationship": 0,
         "participant_status": 1,
         "participant_type": 1,
         "sources": 1,
         "state_house_district": 1,
         "state_senate_district": 1,
         "dotw": 1,
         "year": 1,
         "m/d": 1,
         "state_code": 1,
         "_deepnote_index_column": "0:11|1:12"
        },
        {
         "incident_id": 1,
         "date": 1,
         "state": 1,
         "city_or_county": 1,
         "address": 1,
         "n_killed": 1,
         "n_injured": 1,
         "incident_url": 1,
         "source_url": 1,
         "incident_url_fields_missing": 1,
         "congressional_district": 1,
         "gun_stolen": 1,
         "gun_type": 1,
         "incident_characteristics": 1,
         "latitude": 1,
         "location_description": 0,
         "longitude": 1,
         "n_guns_involved": 1,
         "notes": 1,
         "participant_age_group": 1,
         "participant_gender": 1,
         "participant_name": 1,
         "participant_relationship": 1,
         "participant_status": 1,
         "participant_type": 1,
         "sources": 1,
         "state_house_district": 1,
         "state_senate_district": 1,
         "dotw": 1,
         "year": 1,
         "m/d": 1,
         "state_code": 1,
         "_deepnote_index_column": "0:11|1:15"
        },
        {
         "incident_id": 1,
         "date": 1,
         "state": 1,
         "city_or_county": 1,
         "address": 1,
         "n_killed": 1,
         "n_injured": 1,
         "incident_url": 1,
         "source_url": 1,
         "incident_url_fields_missing": 1,
         "congressional_district": 1,
         "gun_stolen": 0,
         "gun_type": 0,
         "incident_characteristics": 1,
         "latitude": 1,
         "location_description": 0,
         "longitude": 1,
         "n_guns_involved": 0,
         "notes": 0,
         "participant_age_group": 1,
         "participant_gender": 1,
         "participant_name": 1,
         "participant_relationship": 0,
         "participant_status": 1,
         "participant_type": 1,
         "sources": 1,
         "state_house_district": 0,
         "state_senate_district": 1,
         "dotw": 1,
         "year": 1,
         "m/d": 1,
         "state_code": 1,
         "_deepnote_index_column": "0:11|1:31"
        },
        {
         "incident_id": 1,
         "date": 1,
         "state": 1,
         "city_or_county": 1,
         "address": 1,
         "n_killed": 1,
         "n_injured": 1,
         "incident_url": 1,
         "source_url": 1,
         "incident_url_fields_missing": 1,
         "congressional_district": 1,
         "gun_stolen": 0,
         "gun_type": 0,
         "incident_characteristics": 1,
         "latitude": 1,
         "location_description": 0,
         "longitude": 1,
         "n_guns_involved": 0,
         "notes": 0,
         "participant_age_group": 1,
         "participant_gender": 1,
         "participant_name": 0,
         "participant_relationship": 0,
         "participant_status": 1,
         "participant_type": 1,
         "sources": 1,
         "state_house_district": 0,
         "state_senate_district": 0,
         "dotw": 1,
         "year": 1,
         "m/d": 1,
         "state_code": 1,
         "_deepnote_index_column": "0:11|2:13|3:17"
        },
        {
         "incident_id": 1,
         "date": 1,
         "state": 1,
         "city_or_county": 1,
         "address": 1,
         "n_killed": 1,
         "n_injured": 1,
         "incident_url": 1,
         "source_url": 1,
         "incident_url_fields_missing": 1,
         "congressional_district": 1,
         "gun_stolen": 0,
         "gun_type": 0,
         "incident_characteristics": 1,
         "latitude": 1,
         "location_description": 0,
         "longitude": 1,
         "n_guns_involved": 0,
         "notes": 0,
         "participant_age_group": 1,
         "participant_gender": 1,
         "participant_name": 0,
         "participant_relationship": 0,
         "participant_status": 1,
         "participant_type": 1,
         "sources": 1,
         "state_house_district": 0,
         "state_senate_district": 0,
         "dotw": 1,
         "year": 1,
         "m/d": 1,
         "state_code": 1,
         "_deepnote_index_column": "0:12"
        },
        {
         "incident_id": 1,
         "date": 1,
         "state": 1,
         "city_or_county": 1,
         "address": 0,
         "n_killed": 1,
         "n_injured": 1,
         "incident_url": 1,
         "source_url": 1,
         "incident_url_fields_missing": 1,
         "congressional_district": 1,
         "gun_stolen": 0,
         "gun_type": 0,
         "incident_characteristics": 1,
         "latitude": 1,
         "location_description": 0,
         "longitude": 1,
         "n_guns_involved": 0,
         "notes": 1,
         "participant_age_group": 1,
         "participant_gender": 1,
         "participant_name": 0,
         "participant_relationship": 0,
         "participant_status": 1,
         "participant_type": 1,
         "sources": 1,
         "state_house_district": 1,
         "state_senate_district": 1,
         "dotw": 1,
         "year": 1,
         "m/d": 1,
         "state_code": 1,
         "_deepnote_index_column": "0:12|1:12"
        },
        {
         "incident_id": 1,
         "date": 1,
         "state": 1,
         "city_or_county": 1,
         "address": 1,
         "n_killed": 1,
         "n_injured": 1,
         "incident_url": 1,
         "source_url": 1,
         "incident_url_fields_missing": 1,
         "congressional_district": 1,
         "gun_stolen": 0,
         "gun_type": 0,
         "incident_characteristics": 1,
         "latitude": 1,
         "location_description": 0,
         "longitude": 1,
         "n_guns_involved": 0,
         "notes": 1,
         "participant_age_group": 1,
         "participant_gender": 1,
         "participant_name": 0,
         "participant_relationship": 0,
         "participant_status": 1,
         "participant_type": 1,
         "sources": 1,
         "state_house_district": 1,
         "state_senate_district": 1,
         "dotw": 1,
         "year": 1,
         "m/d": 1,
         "state_code": 1,
         "_deepnote_index_column": "0:12|1:14"
        },
        {
         "incident_id": 1,
         "date": 1,
         "state": 1,
         "city_or_county": 1,
         "address": 1,
         "n_killed": 1,
         "n_injured": 1,
         "incident_url": 1,
         "source_url": 1,
         "incident_url_fields_missing": 1,
         "congressional_district": 1,
         "gun_stolen": 0,
         "gun_type": 0,
         "incident_characteristics": 1,
         "latitude": 1,
         "location_description": 0,
         "longitude": 1,
         "n_guns_involved": 0,
         "notes": 0,
         "participant_age_group": 1,
         "participant_gender": 0,
         "participant_name": 0,
         "participant_relationship": 0,
         "participant_status": 1,
         "participant_type": 1,
         "sources": 1,
         "state_house_district": 1,
         "state_senate_district": 1,
         "dotw": 1,
         "year": 1,
         "m/d": 1,
         "state_code": 1,
         "_deepnote_index_column": "0:12|1:14|2:14|3:17"
        },
        {
         "incident_id": 1,
         "date": 1,
         "state": 1,
         "city_or_county": 1,
         "address": 1,
         "n_killed": 1,
         "n_injured": 1,
         "incident_url": 1,
         "source_url": 1,
         "incident_url_fields_missing": 1,
         "congressional_district": 1,
         "gun_stolen": 0,
         "gun_type": 0,
         "incident_characteristics": 1,
         "latitude": 1,
         "location_description": 0,
         "longitude": 1,
         "n_guns_involved": 0,
         "notes": 0,
         "participant_age_group": 1,
         "participant_gender": 1,
         "participant_name": 0,
         "participant_relationship": 0,
         "participant_status": 1,
         "participant_type": 1,
         "sources": 1,
         "state_house_district": 1,
         "state_senate_district": 1,
         "dotw": 1,
         "year": 1,
         "m/d": 1,
         "state_code": 1,
         "_deepnote_index_column": "0:12|1:14|2:17|3:14|4:20"
        },
        {
         "incident_id": 3,
         "date": 3,
         "state": 3,
         "city_or_county": 3,
         "address": 3,
         "n_killed": 3,
         "n_injured": 3,
         "incident_url": 3,
         "source_url": 3,
         "incident_url_fields_missing": 3,
         "congressional_district": 3,
         "gun_stolen": 1,
         "gun_type": 1,
         "incident_characteristics": 3,
         "latitude": 3,
         "location_description": 0,
         "longitude": 3,
         "n_guns_involved": 1,
         "notes": 2,
         "participant_age_group": 3,
         "participant_gender": 3,
         "participant_name": 1,
         "participant_relationship": 0,
         "participant_status": 3,
         "participant_type": 3,
         "sources": 3,
         "state_house_district": 3,
         "state_senate_district": 3,
         "dotw": 3,
         "year": 3,
         "m/d": 3,
         "state_code": 3,
         "_deepnote_index_column": "0:13"
        },
        {
         "incident_id": 1,
         "date": 1,
         "state": 1,
         "city_or_county": 1,
         "address": 1,
         "n_killed": 1,
         "n_injured": 1,
         "incident_url": 1,
         "source_url": 1,
         "incident_url_fields_missing": 1,
         "congressional_district": 1,
         "gun_stolen": 0,
         "gun_type": 0,
         "incident_characteristics": 1,
         "latitude": 1,
         "location_description": 0,
         "longitude": 1,
         "n_guns_involved": 0,
         "notes": 1,
         "participant_age_group": 1,
         "participant_gender": 1,
         "participant_name": 0,
         "participant_relationship": 0,
         "participant_status": 1,
         "participant_type": 1,
         "sources": 1,
         "state_house_district": 1,
         "state_senate_district": 1,
         "dotw": 1,
         "year": 1,
         "m/d": 1,
         "state_code": 1,
         "_deepnote_index_column": "0:13|1:13|2:15"
        },
        {
         "incident_id": 3,
         "date": 3,
         "state": 3,
         "city_or_county": 3,
         "address": 3,
         "n_killed": 3,
         "n_injured": 3,
         "incident_url": 3,
         "source_url": 3,
         "incident_url_fields_missing": 3,
         "congressional_district": 3,
         "gun_stolen": 1,
         "gun_type": 1,
         "incident_characteristics": 3,
         "latitude": 3,
         "location_description": 0,
         "longitude": 3,
         "n_guns_involved": 1,
         "notes": 1,
         "participant_age_group": 3,
         "participant_gender": 3,
         "participant_name": 0,
         "participant_relationship": 0,
         "participant_status": 3,
         "participant_type": 3,
         "sources": 3,
         "state_house_district": 3,
         "state_senate_district": 3,
         "dotw": 3,
         "year": 3,
         "m/d": 3,
         "state_code": 3,
         "_deepnote_index_column": "0:13|1:14"
        }
       ],
       "rows_bottom": [
        {
         "incident_id": 2,
         "date": 2,
         "state": 2,
         "city_or_county": 2,
         "address": 2,
         "n_killed": 2,
         "n_injured": 2,
         "incident_url": 2,
         "source_url": 2,
         "incident_url_fields_missing": 2,
         "congressional_district": 2,
         "gun_stolen": 1,
         "gun_type": 1,
         "incident_characteristics": 2,
         "latitude": 2,
         "location_description": 1,
         "longitude": 2,
         "n_guns_involved": 1,
         "notes": 2,
         "participant_age_group": 2,
         "participant_gender": 2,
         "participant_name": 2,
         "participant_relationship": 0,
         "participant_status": 2,
         "participant_type": 2,
         "sources": 2,
         "state_house_district": 1,
         "state_senate_district": 1,
         "dotw": 2,
         "year": 2,
         "m/d": 2,
         "state_code": 2,
         "_deepnote_index_column": "6::29"
        },
        {
         "incident_id": 1,
         "date": 1,
         "state": 1,
         "city_or_county": 1,
         "address": 0,
         "n_killed": 1,
         "n_injured": 1,
         "incident_url": 1,
         "source_url": 1,
         "incident_url_fields_missing": 1,
         "congressional_district": 1,
         "gun_stolen": 0,
         "gun_type": 0,
         "incident_characteristics": 1,
         "latitude": 1,
         "location_description": 1,
         "longitude": 1,
         "n_guns_involved": 0,
         "notes": 1,
         "participant_age_group": 1,
         "participant_gender": 1,
         "participant_name": 1,
         "participant_relationship": 0,
         "participant_status": 1,
         "participant_type": 1,
         "sources": 1,
         "state_house_district": 1,
         "state_senate_district": 1,
         "dotw": 1,
         "year": 1,
         "m/d": 1,
         "state_code": 1,
         "_deepnote_index_column": "6::30"
        },
        {
         "incident_id": 1,
         "date": 1,
         "state": 1,
         "city_or_county": 1,
         "address": 1,
         "n_killed": 1,
         "n_injured": 1,
         "incident_url": 1,
         "source_url": 1,
         "incident_url_fields_missing": 1,
         "congressional_district": 1,
         "gun_stolen": 1,
         "gun_type": 1,
         "incident_characteristics": 1,
         "latitude": 1,
         "location_description": 0,
         "longitude": 1,
         "n_guns_involved": 1,
         "notes": 1,
         "participant_age_group": 1,
         "participant_gender": 1,
         "participant_name": 1,
         "participant_relationship": 1,
         "participant_status": 1,
         "participant_type": 1,
         "sources": 1,
         "state_house_district": 1,
         "state_senate_district": 1,
         "dotw": 1,
         "year": 1,
         "m/d": 1,
         "state_code": 1,
         "_deepnote_index_column": "6::38"
        },
        {
         "incident_id": 1,
         "date": 1,
         "state": 1,
         "city_or_county": 1,
         "address": 1,
         "n_killed": 1,
         "n_injured": 1,
         "incident_url": 1,
         "source_url": 1,
         "incident_url_fields_missing": 1,
         "congressional_district": 1,
         "gun_stolen": 1,
         "gun_type": 1,
         "incident_characteristics": 1,
         "latitude": 1,
         "location_description": 1,
         "longitude": 1,
         "n_guns_involved": 1,
         "notes": 1,
         "participant_age_group": 1,
         "participant_gender": 1,
         "participant_name": 1,
         "participant_relationship": 0,
         "participant_status": 1,
         "participant_type": 1,
         "sources": 1,
         "state_house_district": 1,
         "state_senate_district": 1,
         "dotw": 1,
         "year": 1,
         "m/d": 1,
         "state_code": 1,
         "_deepnote_index_column": "6::42"
        },
        {
         "incident_id": 1,
         "date": 1,
         "state": 1,
         "city_or_county": 1,
         "address": 1,
         "n_killed": 1,
         "n_injured": 1,
         "incident_url": 1,
         "source_url": 1,
         "incident_url_fields_missing": 1,
         "congressional_district": 1,
         "gun_stolen": 0,
         "gun_type": 0,
         "incident_characteristics": 1,
         "latitude": 1,
         "location_description": 0,
         "longitude": 1,
         "n_guns_involved": 0,
         "notes": 1,
         "participant_age_group": 1,
         "participant_gender": 1,
         "participant_name": 0,
         "participant_relationship": 0,
         "participant_status": 1,
         "participant_type": 1,
         "sources": 1,
         "state_house_district": 1,
         "state_senate_district": 1,
         "dotw": 1,
         "year": 1,
         "m/d": 1,
         "state_code": 1,
         "_deepnote_index_column": "6::7"
        },
        {
         "incident_id": 1,
         "date": 1,
         "state": 1,
         "city_or_county": 1,
         "address": 1,
         "n_killed": 1,
         "n_injured": 1,
         "incident_url": 1,
         "source_url": 1,
         "incident_url_fields_missing": 1,
         "congressional_district": 1,
         "gun_stolen": 0,
         "gun_type": 0,
         "incident_characteristics": 1,
         "latitude": 1,
         "location_description": 0,
         "longitude": 1,
         "n_guns_involved": 0,
         "notes": 1,
         "participant_age_group": 1,
         "participant_gender": 1,
         "participant_name": 1,
         "participant_relationship": 0,
         "participant_status": 1,
         "participant_type": 1,
         "sources": 1,
         "state_house_district": 1,
         "state_senate_district": 1,
         "dotw": 1,
         "year": 1,
         "m/d": 1,
         "state_code": 1,
         "_deepnote_index_column": "7:25|8:24"
        },
        {
         "incident_id": 1,
         "date": 1,
         "state": 1,
         "city_or_county": 1,
         "address": 1,
         "n_killed": 1,
         "n_injured": 1,
         "incident_url": 1,
         "source_url": 1,
         "incident_url_fields_missing": 1,
         "congressional_district": 1,
         "gun_stolen": 1,
         "gun_type": 1,
         "incident_characteristics": 1,
         "latitude": 1,
         "location_description": 0,
         "longitude": 1,
         "n_guns_involved": 1,
         "notes": 1,
         "participant_age_group": 1,
         "participant_gender": 1,
         "participant_name": 1,
         "participant_relationship": 0,
         "participant_status": 1,
         "participant_type": 1,
         "sources": 1,
         "state_house_district": 1,
         "state_senate_district": 1,
         "dotw": 1,
         "year": 1,
         "m/d": 1,
         "state_code": 1,
         "_deepnote_index_column": "7::18"
        },
        {
         "incident_id": 1,
         "date": 1,
         "state": 1,
         "city_or_county": 1,
         "address": 1,
         "n_killed": 1,
         "n_injured": 1,
         "incident_url": 1,
         "source_url": 1,
         "incident_url_fields_missing": 1,
         "congressional_district": 1,
         "gun_stolen": 1,
         "gun_type": 1,
         "incident_characteristics": 1,
         "latitude": 1,
         "location_description": 1,
         "longitude": 1,
         "n_guns_involved": 1,
         "notes": 1,
         "participant_age_group": 1,
         "participant_gender": 1,
         "participant_name": 1,
         "participant_relationship": 0,
         "participant_status": 1,
         "participant_type": 1,
         "sources": 1,
         "state_house_district": 1,
         "state_senate_district": 1,
         "dotw": 1,
         "year": 1,
         "m/d": 1,
         "state_code": 1,
         "_deepnote_index_column": "7::18||8::18"
        },
        {
         "incident_id": 1,
         "date": 1,
         "state": 1,
         "city_or_county": 1,
         "address": 1,
         "n_killed": 1,
         "n_injured": 1,
         "incident_url": 1,
         "source_url": 1,
         "incident_url_fields_missing": 1,
         "congressional_district": 1,
         "gun_stolen": 1,
         "gun_type": 1,
         "incident_characteristics": 1,
         "latitude": 1,
         "location_description": 0,
         "longitude": 1,
         "n_guns_involved": 1,
         "notes": 1,
         "participant_age_group": 1,
         "participant_gender": 1,
         "participant_name": 1,
         "participant_relationship": 0,
         "participant_status": 1,
         "participant_type": 1,
         "sources": 1,
         "state_house_district": 1,
         "state_senate_district": 1,
         "dotw": 1,
         "year": 1,
         "m/d": 1,
         "state_code": 1,
         "_deepnote_index_column": "7::21"
        },
        {
         "incident_id": 1,
         "date": 1,
         "state": 1,
         "city_or_county": 1,
         "address": 1,
         "n_killed": 1,
         "n_injured": 1,
         "incident_url": 1,
         "source_url": 1,
         "incident_url_fields_missing": 1,
         "congressional_district": 1,
         "gun_stolen": 1,
         "gun_type": 1,
         "incident_characteristics": 1,
         "latitude": 1,
         "location_description": 1,
         "longitude": 1,
         "n_guns_involved": 1,
         "notes": 1,
         "participant_age_group": 1,
         "participant_gender": 1,
         "participant_name": 1,
         "participant_relationship": 0,
         "participant_status": 1,
         "participant_type": 1,
         "sources": 1,
         "state_house_district": 1,
         "state_senate_district": 1,
         "dotw": 1,
         "year": 1,
         "m/d": 1,
         "state_code": 1,
         "_deepnote_index_column": "7::22||8::28||9::28||10::26"
        },
        {
         "incident_id": 1,
         "date": 1,
         "state": 1,
         "city_or_county": 1,
         "address": 0,
         "n_killed": 1,
         "n_injured": 1,
         "incident_url": 1,
         "source_url": 1,
         "incident_url_fields_missing": 1,
         "congressional_district": 1,
         "gun_stolen": 0,
         "gun_type": 0,
         "incident_characteristics": 1,
         "latitude": 1,
         "location_description": 0,
         "longitude": 1,
         "n_guns_involved": 0,
         "notes": 1,
         "participant_age_group": 1,
         "participant_gender": 1,
         "participant_name": 1,
         "participant_relationship": 0,
         "participant_status": 1,
         "participant_type": 1,
         "sources": 1,
         "state_house_district": 0,
         "state_senate_district": 0,
         "dotw": 1,
         "year": 1,
         "m/d": 1,
         "state_code": 1,
         "_deepnote_index_column": "7::27"
        },
        {
         "incident_id": 1,
         "date": 1,
         "state": 1,
         "city_or_county": 1,
         "address": 1,
         "n_killed": 1,
         "n_injured": 1,
         "incident_url": 1,
         "source_url": 1,
         "incident_url_fields_missing": 1,
         "congressional_district": 1,
         "gun_stolen": 1,
         "gun_type": 1,
         "incident_characteristics": 1,
         "latitude": 1,
         "location_description": 1,
         "longitude": 1,
         "n_guns_involved": 1,
         "notes": 1,
         "participant_age_group": 1,
         "participant_gender": 1,
         "participant_name": 1,
         "participant_relationship": 0,
         "participant_status": 1,
         "participant_type": 1,
         "sources": 1,
         "state_house_district": 1,
         "state_senate_district": 1,
         "dotw": 1,
         "year": 1,
         "m/d": 1,
         "state_code": 1,
         "_deepnote_index_column": "8::18"
        },
        {
         "incident_id": 1,
         "date": 1,
         "state": 1,
         "city_or_county": 1,
         "address": 1,
         "n_killed": 1,
         "n_injured": 1,
         "incident_url": 1,
         "source_url": 1,
         "incident_url_fields_missing": 1,
         "congressional_district": 1,
         "gun_stolen": 0,
         "gun_type": 0,
         "incident_characteristics": 1,
         "latitude": 1,
         "location_description": 0,
         "longitude": 1,
         "n_guns_involved": 0,
         "notes": 0,
         "participant_age_group": 1,
         "participant_gender": 1,
         "participant_name": 1,
         "participant_relationship": 0,
         "participant_status": 1,
         "participant_type": 1,
         "sources": 1,
         "state_house_district": 1,
         "state_senate_district": 1,
         "dotw": 1,
         "year": 1,
         "m/d": 1,
         "state_code": 1,
         "_deepnote_index_column": "8::22"
        },
        {
         "incident_id": 1,
         "date": 1,
         "state": 1,
         "city_or_county": 1,
         "address": 1,
         "n_killed": 1,
         "n_injured": 1,
         "incident_url": 1,
         "source_url": 1,
         "incident_url_fields_missing": 1,
         "congressional_district": 1,
         "gun_stolen": 0,
         "gun_type": 0,
         "incident_characteristics": 1,
         "latitude": 1,
         "location_description": 0,
         "longitude": 1,
         "n_guns_involved": 0,
         "notes": 1,
         "participant_age_group": 1,
         "participant_gender": 1,
         "participant_name": 1,
         "participant_relationship": 0,
         "participant_status": 1,
         "participant_type": 1,
         "sources": 1,
         "state_house_district": 1,
         "state_senate_district": 1,
         "dotw": 1,
         "year": 1,
         "m/d": 1,
         "state_code": 1,
         "_deepnote_index_column": "8::27"
        },
        {
         "incident_id": 1,
         "date": 1,
         "state": 1,
         "city_or_county": 1,
         "address": 1,
         "n_killed": 1,
         "n_injured": 1,
         "incident_url": 1,
         "source_url": 1,
         "incident_url_fields_missing": 1,
         "congressional_district": 1,
         "gun_stolen": 1,
         "gun_type": 1,
         "incident_characteristics": 1,
         "latitude": 1,
         "location_description": 1,
         "longitude": 1,
         "n_guns_involved": 1,
         "notes": 1,
         "participant_age_group": 1,
         "participant_gender": 1,
         "participant_name": 1,
         "participant_relationship": 0,
         "participant_status": 1,
         "participant_type": 1,
         "sources": 1,
         "state_house_district": 1,
         "state_senate_district": 1,
         "dotw": 1,
         "year": 1,
         "m/d": 1,
         "state_code": 1,
         "_deepnote_index_column": "9::20||10::20"
        },
        {
         "incident_id": 1,
         "date": 1,
         "state": 1,
         "city_or_county": 1,
         "address": 0,
         "n_killed": 1,
         "n_injured": 1,
         "incident_url": 1,
         "source_url": 1,
         "incident_url_fields_missing": 1,
         "congressional_district": 1,
         "gun_stolen": 1,
         "gun_type": 1,
         "incident_characteristics": 1,
         "latitude": 1,
         "location_description": 0,
         "longitude": 1,
         "n_guns_involved": 1,
         "notes": 1,
         "participant_age_group": 1,
         "participant_gender": 1,
         "participant_name": 1,
         "participant_relationship": 0,
         "participant_status": 1,
         "participant_type": 1,
         "sources": 1,
         "state_house_district": 1,
         "state_senate_district": 1,
         "dotw": 1,
         "year": 1,
         "m/d": 1,
         "state_code": 1,
         "_deepnote_index_column": "9::28"
        }
       ]
      },
      "text/plain": "                 incident_id  date  state  city_or_county  address  n_killed  \\\nparticipant_age                                                                \n0:1                        1     1      1               1        1         1   \n0:10                       2     2      2               2        1         2   \n0:11                       1     1      1               1        1         1   \n0:11|1:12                  1     1      1               1        1         1   \n0:11|1:15                  1     1      1               1        1         1   \n...                      ...   ...    ...             ...      ...       ...   \n8::18                      1     1      1               1        1         1   \n8::22                      1     1      1               1        1         1   \n8::27                      1     1      1               1        1         1   \n9::20||10::20              1     1      1               1        1         1   \n9::28                      1     1      1               1        0         1   \n\n                 n_injured  incident_url  source_url  \\\nparticipant_age                                        \n0:1                      1             1           1   \n0:10                     2             2           2   \n0:11                     1             1           1   \n0:11|1:12                1             1           1   \n0:11|1:15                1             1           1   \n...                    ...           ...         ...   \n8::18                    1             1           1   \n8::22                    1             1           1   \n8::27                    1             1           1   \n9::20||10::20            1             1           1   \n9::28                    1             1           1   \n\n                 incident_url_fields_missing  ...  participant_relationship  \\\nparticipant_age                               ...                             \n0:1                                        1  ...                         0   \n0:10                                       2  ...                         0   \n0:11                                       1  ...                         0   \n0:11|1:12                                  1  ...                         0   \n0:11|1:15                                  1  ...                         1   \n...                                      ...  ...                       ...   \n8::18                                      1  ...                         0   \n8::22                                      1  ...                         0   \n8::27                                      1  ...                         0   \n9::20||10::20                              1  ...                         0   \n9::28                                      1  ...                         0   \n\n                 participant_status  participant_type  sources  \\\nparticipant_age                                                  \n0:1                               1                 1        1   \n0:10                              2                 2        2   \n0:11                              1                 1        1   \n0:11|1:12                         1                 1        1   \n0:11|1:15                         1                 1        1   \n...                             ...               ...      ...   \n8::18                             1                 1        1   \n8::22                             1                 1        1   \n8::27                             1                 1        1   \n9::20||10::20                     1                 1        1   \n9::28                             1                 1        1   \n\n                 state_house_district  state_senate_district  dotw  year  m/d  \\\nparticipant_age                                                                 \n0:1                                 1                      1     1     1    1   \n0:10                                2                      2     2     2    2   \n0:11                                1                      1     1     1    1   \n0:11|1:12                           1                      1     1     1    1   \n0:11|1:15                           1                      1     1     1    1   \n...                               ...                    ...   ...   ...  ...   \n8::18                               1                      1     1     1    1   \n8::22                               1                      1     1     1    1   \n8::27                               1                      1     1     1    1   \n9::20||10::20                       1                      1     1     1    1   \n9::28                               1                      1     1     1    1   \n\n                 state_code  \nparticipant_age              \n0:1                       1  \n0:10                      2  \n0:11                      1  \n0:11|1:12                 1  \n0:11|1:15                 1  \n...                     ...  \n8::18                     1  \n8::22                     1  \n8::27                     1  \n9::20||10::20             1  \n9::28                     1  \n\n[18076 rows x 32 columns]",
      "text/html": "<div>\n<style scoped>\n    .dataframe tbody tr th:only-of-type {\n        vertical-align: middle;\n    }\n\n    .dataframe tbody tr th {\n        vertical-align: top;\n    }\n\n    .dataframe thead th {\n        text-align: right;\n    }\n</style>\n<table border=\"1\" class=\"dataframe\">\n  <thead>\n    <tr style=\"text-align: right;\">\n      <th></th>\n      <th>incident_id</th>\n      <th>date</th>\n      <th>state</th>\n      <th>city_or_county</th>\n      <th>address</th>\n      <th>n_killed</th>\n      <th>n_injured</th>\n      <th>incident_url</th>\n      <th>source_url</th>\n      <th>incident_url_fields_missing</th>\n      <th>...</th>\n      <th>participant_relationship</th>\n      <th>participant_status</th>\n      <th>participant_type</th>\n      <th>sources</th>\n      <th>state_house_district</th>\n      <th>state_senate_district</th>\n      <th>dotw</th>\n      <th>year</th>\n      <th>m/d</th>\n      <th>state_code</th>\n    </tr>\n    <tr>\n      <th>participant_age</th>\n      <th></th>\n      <th></th>\n      <th></th>\n      <th></th>\n      <th></th>\n      <th></th>\n      <th></th>\n      <th></th>\n      <th></th>\n      <th></th>\n      <th></th>\n      <th></th>\n      <th></th>\n      <th></th>\n      <th></th>\n      <th></th>\n      <th></th>\n      <th></th>\n      <th></th>\n      <th></th>\n      <th></th>\n    </tr>\n  </thead>\n  <tbody>\n    <tr>\n      <th>0:1</th>\n      <td>1</td>\n      <td>1</td>\n      <td>1</td>\n      <td>1</td>\n      <td>1</td>\n      <td>1</td>\n      <td>1</td>\n      <td>1</td>\n      <td>1</td>\n      <td>1</td>\n      <td>...</td>\n      <td>0</td>\n      <td>1</td>\n      <td>1</td>\n      <td>1</td>\n      <td>1</td>\n      <td>1</td>\n      <td>1</td>\n      <td>1</td>\n      <td>1</td>\n      <td>1</td>\n    </tr>\n    <tr>\n      <th>0:10</th>\n      <td>2</td>\n      <td>2</td>\n      <td>2</td>\n      <td>2</td>\n      <td>1</td>\n      <td>2</td>\n      <td>2</td>\n      <td>2</td>\n      <td>2</td>\n      <td>2</td>\n      <td>...</td>\n      <td>0</td>\n      <td>2</td>\n      <td>2</td>\n      <td>2</td>\n      <td>2</td>\n      <td>2</td>\n      <td>2</td>\n      <td>2</td>\n      <td>2</td>\n      <td>2</td>\n    </tr>\n    <tr>\n      <th>0:11</th>\n      <td>1</td>\n      <td>1</td>\n      <td>1</td>\n      <td>1</td>\n      <td>1</td>\n      <td>1</td>\n      <td>1</td>\n      <td>1</td>\n      <td>1</td>\n      <td>1</td>\n      <td>...</td>\n      <td>0</td>\n      <td>1</td>\n      <td>1</td>\n      <td>1</td>\n      <td>1</td>\n      <td>1</td>\n      <td>1</td>\n      <td>1</td>\n      <td>1</td>\n      <td>1</td>\n    </tr>\n    <tr>\n      <th>0:11|1:12</th>\n      <td>1</td>\n      <td>1</td>\n      <td>1</td>\n      <td>1</td>\n      <td>1</td>\n      <td>1</td>\n      <td>1</td>\n      <td>1</td>\n      <td>1</td>\n      <td>1</td>\n      <td>...</td>\n      <td>0</td>\n      <td>1</td>\n      <td>1</td>\n      <td>1</td>\n      <td>1</td>\n      <td>1</td>\n      <td>1</td>\n      <td>1</td>\n      <td>1</td>\n      <td>1</td>\n    </tr>\n    <tr>\n      <th>0:11|1:15</th>\n      <td>1</td>\n      <td>1</td>\n      <td>1</td>\n      <td>1</td>\n      <td>1</td>\n      <td>1</td>\n      <td>1</td>\n      <td>1</td>\n      <td>1</td>\n      <td>1</td>\n      <td>...</td>\n      <td>1</td>\n      <td>1</td>\n      <td>1</td>\n      <td>1</td>\n      <td>1</td>\n      <td>1</td>\n      <td>1</td>\n      <td>1</td>\n      <td>1</td>\n      <td>1</td>\n    </tr>\n    <tr>\n      <th>...</th>\n      <td>...</td>\n      <td>...</td>\n      <td>...</td>\n      <td>...</td>\n      <td>...</td>\n      <td>...</td>\n      <td>...</td>\n      <td>...</td>\n      <td>...</td>\n      <td>...</td>\n      <td>...</td>\n      <td>...</td>\n      <td>...</td>\n      <td>...</td>\n      <td>...</td>\n      <td>...</td>\n      <td>...</td>\n      <td>...</td>\n      <td>...</td>\n      <td>...</td>\n      <td>...</td>\n    </tr>\n    <tr>\n      <th>8::18</th>\n      <td>1</td>\n      <td>1</td>\n      <td>1</td>\n      <td>1</td>\n      <td>1</td>\n      <td>1</td>\n      <td>1</td>\n      <td>1</td>\n      <td>1</td>\n      <td>1</td>\n      <td>...</td>\n      <td>0</td>\n      <td>1</td>\n      <td>1</td>\n      <td>1</td>\n      <td>1</td>\n      <td>1</td>\n      <td>1</td>\n      <td>1</td>\n      <td>1</td>\n      <td>1</td>\n    </tr>\n    <tr>\n      <th>8::22</th>\n      <td>1</td>\n      <td>1</td>\n      <td>1</td>\n      <td>1</td>\n      <td>1</td>\n      <td>1</td>\n      <td>1</td>\n      <td>1</td>\n      <td>1</td>\n      <td>1</td>\n      <td>...</td>\n      <td>0</td>\n      <td>1</td>\n      <td>1</td>\n      <td>1</td>\n      <td>1</td>\n      <td>1</td>\n      <td>1</td>\n      <td>1</td>\n      <td>1</td>\n      <td>1</td>\n    </tr>\n    <tr>\n      <th>8::27</th>\n      <td>1</td>\n      <td>1</td>\n      <td>1</td>\n      <td>1</td>\n      <td>1</td>\n      <td>1</td>\n      <td>1</td>\n      <td>1</td>\n      <td>1</td>\n      <td>1</td>\n      <td>...</td>\n      <td>0</td>\n      <td>1</td>\n      <td>1</td>\n      <td>1</td>\n      <td>1</td>\n      <td>1</td>\n      <td>1</td>\n      <td>1</td>\n      <td>1</td>\n      <td>1</td>\n    </tr>\n    <tr>\n      <th>9::20||10::20</th>\n      <td>1</td>\n      <td>1</td>\n      <td>1</td>\n      <td>1</td>\n      <td>1</td>\n      <td>1</td>\n      <td>1</td>\n      <td>1</td>\n      <td>1</td>\n      <td>1</td>\n      <td>...</td>\n      <td>0</td>\n      <td>1</td>\n      <td>1</td>\n      <td>1</td>\n      <td>1</td>\n      <td>1</td>\n      <td>1</td>\n      <td>1</td>\n      <td>1</td>\n      <td>1</td>\n    </tr>\n    <tr>\n      <th>9::28</th>\n      <td>1</td>\n      <td>1</td>\n      <td>1</td>\n      <td>1</td>\n      <td>0</td>\n      <td>1</td>\n      <td>1</td>\n      <td>1</td>\n      <td>1</td>\n      <td>1</td>\n      <td>...</td>\n      <td>0</td>\n      <td>1</td>\n      <td>1</td>\n      <td>1</td>\n      <td>1</td>\n      <td>1</td>\n      <td>1</td>\n      <td>1</td>\n      <td>1</td>\n      <td>1</td>\n    </tr>\n  </tbody>\n</table>\n<p>18076 rows × 32 columns</p>\n</div>"
     },
     "metadata": {}
    }
   ],
   "execution_count": 22
  },
  {
   "cell_type": "markdown",
   "source": "I think I'll stick to mostly time trends, as I would have to do a good amount of annoying stripping to get usable data just for a single histogram most likely saying that younger people are more likely to participate in gun violence.",
   "metadata": {
    "tags": [],
    "cell_id": "00032-8e219c31-f397-47c2-a0a8-4570a54a23a9",
    "deepnote_cell_type": "markdown"
   }
  },
  {
   "cell_type": "code",
   "source": "!jupyter nbconvert --to html Messy-GunViolenceStats.ipynb",
   "metadata": {
    "tags": [],
    "cell_id": "00033-cbfefc85-dac5-4401-8ad8-a2aa93a9b7cc",
    "deepnote_to_be_reexecuted": false,
    "source_hash": "dd983516",
    "execution_start": 1622029994399,
    "execution_millis": 3212,
    "deepnote_cell_type": "code"
   },
   "outputs": [
    {
     "name": "stdout",
     "text": "[NbConvertApp] Converting notebook Messy-GunViolenceStats.ipynb to html\n[NbConvertApp] Writing 851451 bytes to Messy-GunViolenceStats.html\n",
     "output_type": "stream"
    }
   ],
   "execution_count": 23
  },
  {
   "cell_type": "markdown",
   "source": "<a style='text-decoration:none;line-height:16px;display:flex;color:#5B5B62;padding:10px;justify-content:end;' href='https://deepnote.com?utm_source=created-in-deepnote-cell&projectId=8fad058d-ad55-449d-a4e6-d77086f48415' target=\"_blank\">\n<img alt='Created in deepnote.com' style='display:inline;max-height:16px;margin:0px;margin-right:7.5px;' src='data:image/svg+xml;base64,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' > </img>\nCreated in <span style='font-weight:600;margin-left:4px;'>Deepnote</span></a>",
   "metadata": {
    "tags": [],
    "created_in_deepnote_cell": true,
    "deepnote_cell_type": "markdown"
   }
  }
 ],
 "nbformat": 4,
 "nbformat_minor": 2,
 "metadata": {
  "orig_nbformat": 2,
  "deepnote": {
   "is_reactive": false
  },
  "deepnote_notebook_id": "980b6896-79d7-45cf-8045-af0566f67cbd",
  "deepnote_execution_queue": []
 }
}